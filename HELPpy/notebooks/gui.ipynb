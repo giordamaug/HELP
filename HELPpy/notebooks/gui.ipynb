{
  "cells": [
    {
      "cell_type": "markdown",
      "metadata": {
        "id": "lavaILXgTTl0"
      },
      "source": [
        "<a target=\"_blank\" href=\"https://colab.research.google.com/github/giordamaug/HELP/blob/main/HELPpy/notebooks/gui.ipynb\">\n",
        "  <img src=\"https://colab.research.google.com/assets/colab-badge.svg\" alt=\"Open In Colab\"/>\n",
        "</a>\n",
        "<a target=\"_blank\" href=\"https://www.kaggle.com/notebooks/welcome?src=https://github.com/giordamaug/HELP/blob/main/HELPpy/notebooks/gui.ipynb\">\n",
        "  <img src=\"https://kaggle.com/static/images/open-in-kaggle.svg\" alt=\"Open In Colab\"/>\n",
        "</a>"
      ]
    },
    {
      "cell_type": "markdown",
      "metadata": {
        "id": "joeFb6T-TTl3"
      },
      "source": [
        "### 1. Install HELP from GitHub\n",
        "Skip this cell if you already have installed HELP."
      ]
    },
    {
      "cell_type": "code",
      "execution_count": null,
      "metadata": {
        "colab": {
          "base_uri": "https://localhost:8080/",
          "height": 1000
        },
        "id": "tuF0S73STTl4",
        "outputId": "e6d33ca9-a106-46fe-df06-3f8c3075441f"
      },
      "outputs": [],
      "source": [
        "!pip install git+https://github.com/giordamaug/HELP.git"
      ]
    },
    {
      "cell_type": "markdown",
      "metadata": {
        "id": "EFrBvM5ErPN4"
      },
      "source": [
        "### 2. Download the input files\n",
        "For a chosen tissue (here `Kidney`), download from GitHub the label file (here `Kidney_HELP.csv`, computed as in Example 1) and the attribute files (here BIO `Kidney_BIO.csv`, CCcfs `Kidney_CCcfs_1.csv`, ..., `Kidney_CCcfs_5.csv`, and N2V `Kidney_EmbN2V_128.csv`).  \n",
        "\n",
        "Skip this step if you already have these input files locally."
      ]
    },
    {
      "cell_type": "code",
      "execution_count": null,
      "metadata": {
        "colab": {
          "base_uri": "https://localhost:8080/"
        },
        "id": "1wbcOjf7TTl5",
        "outputId": "350746d3-7293-4f67-cc3a-7295acbfa022"
      },
      "outputs": [],
      "source": [
        "tissue='Kidney'\n",
        "!wget https://raw.githubusercontent.com/giordamaug/HELP/main/data/{tissue}_HELP.csv\n",
        "!wget https://raw.githubusercontent.com/giordamaug/HELP/main/data/{tissue}_BIO.csv\n",
        "for i in range(5):\n",
        "  !wget https://raw.githubusercontent.com/giordamaug/HELP/main/data/{tissue}_CCcfs_{i}.csv\n",
        "!wget https://raw.githubusercontent.com/giordamaug/HELP/main/data/{tissue}_EmbN2V_128.csv"
      ]
    },
    {
      "cell_type": "code",
      "execution_count": 52,
      "metadata": {},
      "outputs": [],
      "source": [
        "import ipywidgets as wid\n",
        "from typing import List\n",
        "import matplotlib.pyplot as plt\n",
        "from HELPpy.models.labelling import labelling\n",
        "from HELPpy.utility.selection import select_cell_lines, delrows_with_nan_percentage\n",
        "from HELPpy.preprocess.loaders import feature_assemble\n",
        "import pandas as pd\n",
        "import numpy as np\n",
        "import os, glob\n",
        "from ipyfilechooser import FileChooser\n",
        "from IPython.display import HTML as html_print\n",
        "from IPython.display import display\n",
        "from HELPpy.visualization.plot import svenn_intesect\n",
        "\n",
        "def cstr(s, color='black'):\n",
        "    return \"<text style=color:{}>{}</text>\".format(color, s)\n",
        "\n",
        "def print_color(t):\n",
        "    display(html_print(' '.join([cstr(ti, color=ci) for ti,ci in t])))\n",
        "    \n",
        "def pipeline(path: str=os.getcwd(), savepath: str=os.getcwd(), filename: str='', modelname:str='', rows: int=5, minlines=10, percent = 100.0, line_group='OncotreeLineage', line_col='ModelID', verbose=False):\n",
        "    \"\"\"\n",
        "    Generate an interactive widget for labeling cell lines based on specified criteria.\n",
        "\n",
        "    Parameters\n",
        "    ----------\n",
        "    path : str\n",
        "        path for input file loading.\n",
        "    filename : str\n",
        "        name of CRISPR effect input file.\n",
        "    modelname : str\n",
        "        name of Model input file.\n",
        "    rows : int, optional\n",
        "        The number of rows to display in the widget for selecting tissues (default is 5).\n",
        "    minlines : int, optional\n",
        "        Minimum number of cell lines for tissue/lineage to be considered (default is 1).\n",
        "    line_group : str, optional\n",
        "        The column in 'df_map' to use for tissue selection (default is 'OncotreeLineage').\n",
        "    line_col : str, optional\n",
        "        The column in 'df_map' to use for line selection (default is 'ModelID').\n",
        "\n",
        "    Returns\n",
        "    -------\n",
        "    ipywidgets.ValueWidget\n",
        "        Widget containing the labeled cell lines.\n",
        "    \"\"\"\n",
        "    tabs = wid.Tab()\n",
        "    df_map = None\n",
        "    df = None\n",
        "    df_orig = None\n",
        "    val = wid.ValueWidget()\n",
        "    val.value = None, df, df_orig, df_map \n",
        "    tissue_list = []\n",
        "    selector_list = []\n",
        "    layout_visible = wid.Layout(visibility = 'visible')\n",
        "    # NaN percentage widget\n",
        "    nanrem_set = wid.SelectionSlider(\n",
        "        options=range(0, 101),\n",
        "        value=int(percent),\n",
        "        description='Nan %:',\n",
        "        disabled=False,\n",
        "        continuous_update=False,\n",
        "        orientation='horizontal',\n",
        "        readout=True,\n",
        "        tooltip='set percentage of nan allowed in genes',\n",
        "    )\n",
        "    def nanrem_set_changed(b):\n",
        "        try:\n",
        "            df = delrows_with_nan_percentage(val.value[2], perc=float(nanrem_set.value))\n",
        "            df_orig = val.value[2]\n",
        "            val.value = val.value[0], df, val.value[2], val.value[3]\n",
        "            with out3:\n",
        "                out3.clear_output()\n",
        "                print_color(((f'Removed {len(df_orig)-len(df)}/{len(df_orig)} rows (with at least {nanrem_set.value}% NaN)', 'green'),))\n",
        "        except:\n",
        "            pass \n",
        "    nanrem_set.observe(nanrem_set_changed, names='value')\n",
        "    # Min lines widget\n",
        "    minline_set = wid.SelectionSlider(\n",
        "        options=range(1, 100),\n",
        "        value=minlines,\n",
        "        description='Min lines:',\n",
        "        disabled=False,\n",
        "        continuous_update=False,\n",
        "        orientation='horizontal',\n",
        "        readout=True,\n",
        "        tooltip='set minimum number of lines for the tissue',\n",
        "    )\n",
        "    def minline_set_changed(b):\n",
        "        df = val.value[1]\n",
        "        df_map = val.value[3]\n",
        "        try:\n",
        "            tissue_list = [tissue for tissue in np.unique(df_map[selselector.value].dropna().values) if len(np.intersect1d(df.columns, df_map[df_map[selselector.value] == tissue][line_col].values)) >= minline_set.value]\n",
        "            seltissue.options = ['__all__'] +  tissue_list\n",
        "            seltissue.value=['__all__']\n",
        "        except:\n",
        "            pass\n",
        "    minline_set.observe(minline_set_changed, names='value')\n",
        "    # Model column Selector widget\n",
        "    selselector = wid.Dropdown(\n",
        "        options=['__all__'] + selector_list,\n",
        "        value='__all__',\n",
        "        description='Selector:',\n",
        "        tooltip = 'select the group type of lines',\n",
        "        disabled=False,\n",
        "    )\n",
        "    def selselector_changed(b):\n",
        "        df = val.value[1]\n",
        "        df_map = val.value[3]\n",
        "        if selselector.value != ():\n",
        "            tissue_list = [tissue for tissue in np.unique(df_map[selselector.value].dropna().values) if len(np.intersect1d(df.columns, df_map[df_map[selselector.value] == tissue][line_col].values)) >= minline_set.value]\n",
        "            seltissue.description = selselector.value\n",
        "            seltissue.options = ['__all__'] +  tissue_list\n",
        "            seltissue.value=['__all__']\n",
        "            with out1:\n",
        "                out1.clear_output()\n",
        "                display(selselector.value)\n",
        "    selselector.observe(selselector_changed, names='value')\n",
        "    # Tissue/Disease selection widget\n",
        "    seltissue = wid.SelectMultiple(\n",
        "        options=['__all__'] + tissue_list if tissue_list != [] else [],\n",
        "        value=['__all__'] if tissue_list != [] else [],\n",
        "        rows=rows,\n",
        "        description=line_group if line_group in selselector.options else '',\n",
        "        tooltip = 'select lines by the chosen group',\n",
        "        disabled=False\n",
        "    )\n",
        "    def seltissue_changed(b):\n",
        "        if seltissue.value != ():\n",
        "            if seltissue.value == ('__all__',):\n",
        "                fc3._filename.value = f\"PanTissue.csv\"\n",
        "            else:\n",
        "                fc3._filename.value = f\"{'_'.join([str(s).replace(' ','-').replace('/','-') for s in seltissue.value if str(s) != '__all__'])}.csv\"\n",
        "            fc3._apply_selection()\n",
        "            with out1:\n",
        "                out1.clear_output()\n",
        "                display(seltissue.value)\n",
        "    seltissue.observe(seltissue_changed, names='value')\n",
        "    # Save file chooser\n",
        "    fc3 = FileChooser(savepath, title='Choose file', filter='*.csv')\n",
        "    def fc3_change_title(fc3):\n",
        "        fc3._label.value = fc3._LBL_TEMPLATE.format(f'Saving on {fc3.selected}', 'orange')\n",
        "    fc3.register_callback(fc3_change_title)\n",
        "    # Save button widget\n",
        "    saveto_but = wid.Button(description=\"Save ...\", button_style='primary')\n",
        "    def on_savebutton_clicked(b):\n",
        "        try:\n",
        "            #fc3._label.value = fc3._LBL_TEMPLATE.format(f'{fc3.selected}', 'orange')\n",
        "            labeldf = val.value[0]\n",
        "            if labeldf is not None and len(labeldf)>0:\n",
        "                val.value[0].to_csv(fc3.selected, index=True)\n",
        "                fc3._label.value = fc3._LBL_TEMPLATE.format(f'Saved on {fc3.selected}', 'green')\n",
        "            else:\n",
        "                fc3._label.value = fc3._LBL_TEMPLATE.format(f'Problem saving {fc3.selected} (empty file)!', 'red')\n",
        "        except:\n",
        "            fc3._label.value = fc3._LBL_TEMPLATE.format(f'Problem saving {fc3.selected}!', 'red')\n",
        "    saveto_but.on_click(on_savebutton_clicked)\n",
        "    save_textbox = wid.Text(\n",
        "        value=\"\",\n",
        "        description='',\n",
        "    )\n",
        "    save_textbox.layout = layout_visible\n",
        "    # Class labelling selection widget\n",
        "    mode_buttons = wid.RadioButtons(\n",
        "        options=[\"E|NE\", \"E|aE|sNE\", \"E|(aE|sNE)\"],\n",
        "        value='E|NE',\n",
        "        description='',\n",
        "        tooltips=['2 classes (one division)', '3 classes (one division)', '3 classes (two-times subdivision)'],\n",
        "    )\n",
        "    # Mode labelling (mode of mode) widget\n",
        "    selmode_button = wid.Checkbox(\n",
        "        value=False,\n",
        "        description='Nested',\n",
        "        disabled=False,\n",
        "        indent=False\n",
        "    )\n",
        "    # Labelling button widget\n",
        "    button = wid.Button(description=\"Apply ...\", button_style='primary')\n",
        "    def on_button_clicked(b):\n",
        "        df = val.value[1]\n",
        "        df_map = val.value[3]\n",
        "        with out1:\n",
        "            out1.clear_output()\n",
        "            print_color(((f'Labelling {len(df)} genes of {seltissue.value} ...', 'orange'),))\n",
        "        with out2:\n",
        "            out2.clear_output()\n",
        "            if seltissue.value == ('__all__',):\n",
        "                selector = [x for x in seltissue.options if x != '__all__']\n",
        "            else:\n",
        "                selector = [x for x in seltissue.value if x != '__all__']\n",
        "            #display(selector)\n",
        "            cell_lines = select_cell_lines(df, df_map, selector, line_group=line_group, line_col=line_col, \n",
        "                                            nested = selmode_button.value, verbose=verbose)\n",
        "            if mode_buttons.value == \"E|(aE|sNE)\":\n",
        "                mode = 'two-by-two' \n",
        "                nclasses = 3\n",
        "                labelnames = {0: 'E', 1: 'aE', 2: 'sNE'}\n",
        "            else:\n",
        "                mode = 'flat-multi' \n",
        "                if mode_buttons.value == \"E|NE\":\n",
        "                    nclasses = 2\n",
        "                    labelnames = {0: 'E', 1: 'NE'}\n",
        "                else:\n",
        "                    nclasses = 3\n",
        "                    labelnames = {0: 'E', 1: 'aE', 2: 'sNE'}\n",
        "            val.value = labelling(df, columns=cell_lines, mode=mode, n_classes=nclasses, labelnames=labelnames, verbose=verbose), df, val.value[2], val.value[3]\n",
        "        with out1:\n",
        "            out1.clear_output()\n",
        "            print_color(((f'DONE', 'green'),))\n",
        "    button.on_click(on_button_clicked)\n",
        "    # Output widgets\n",
        "    out1 = wid.Output()\n",
        "    out2 = wid.Output()\n",
        "    out3 = wid.Output()\n",
        "    out6 = wid.Output()\n",
        "\n",
        "    # Input FileChooser widgets\n",
        "    if filename != '':\n",
        "        fc1 = FileChooser(path, title='Choose CRISPR effect file', filter='*.csv', filename=filename, select_default=True)\n",
        "        try:\n",
        "            tabs.disabled = True\n",
        "            df_orig = pd.read_csv(fc1.selected).rename(columns={'Unnamed: 0': 'gene'}).rename(columns=lambda x: x.split(' ')[0]).set_index('gene').T\n",
        "            tabs.disabled = False\n",
        "            df = delrows_with_nan_percentage(df_orig, perc=float(nanrem_set.value))\n",
        "            val.value = val.value[0],df, df_orig, val.value[3]\n",
        "            with out3:\n",
        "                out3.clear_output()\n",
        "                print_color(((f'Removed {len(df_orig)-len(df)}/{len(df_orig)} rows (with at least {nanrem_set.value}% NaN)', 'green'),))\n",
        "            try:\n",
        "                if len(np.unique(df_map[line_group].dropna().values)) > 0:\n",
        "                    seltissue.options = ['__all__'] + [tissue for tissue in np.unique(df_map[line_group].dropna().values) if len(np.intersect1d(df.columns, df_map[df_map[line_group] == tissue][line_col].values)) >= 1]\n",
        "                    seltissue.value=['__all__']\n",
        "            except:\n",
        "                pass\n",
        "            fc1._label.value = fc1._LBL_TEMPLATE.format(f'{fc1.selected}', 'green')\n",
        "        except:\n",
        "            fc1._label.value = fc1._LBL_TEMPLATE.format(f'Problem loading {fc1.selected} file ...', 'red') \n",
        "    else:\n",
        "        fc1 = FileChooser(path, title='Choose CRISPR effect file', filter='*.csv')\n",
        "    def fc1_change_title(fc1):\n",
        "        #global df_map, df, df_orig\n",
        "        try:\n",
        "            df_orig = pd.read_csv(fc1.selected).rename(columns={'Unnamed: 0': 'gene'}).rename(columns=lambda x: x.split(' ')[0]).set_index('gene').T\n",
        "            df = delrows_with_nan_percentage(df_orig, perc=float(nanrem_set.value))\n",
        "            val.value = val.value[0],df ,df_orig, val.value[3]\n",
        "            with out3:\n",
        "                out3.clear_output()\n",
        "                print_color(((f'Removed {len(df_orig)-len(df)}/{len(df_orig)} rows (with at least {nanrem_set.value}% NaN)', 'green'),))\n",
        "            try:\n",
        "                if len(np.unique(df_map[line_group].dropna().values)) > 0:\n",
        "                    seltissue.options = ['__all__'] + [tissue for tissue in np.unique(df_map[line_group].dropna().values) if len(np.intersect1d(df.columns, df_map[df_map[line_group] == tissue][line_col].values)) >= 1]\n",
        "                    seltissue.value=['__all__']\n",
        "            except:\n",
        "                pass \n",
        "            fc1._label.value = fc1._LBL_TEMPLATE.format(f'{fc1.selected}', 'green')\n",
        "        except:\n",
        "            fc1._label.value = fc1._LBL_TEMPLATE.format(f'Problem loading {fc1.selected} file ...', 'red') \n",
        "\n",
        "    fc1.register_callback(fc1_change_title)\n",
        "    if modelname != '':\n",
        "        fc2 = FileChooser(path, title='Choose Model file', filter='*.csv', filename=modelname, select_default=True)\n",
        "        try:\n",
        "            df_map = pd.read_csv(fc2.selected)\n",
        "            df = val.value[1]\n",
        "            val.value = val.value[0], val.value[1] ,val.value[2], df_map\n",
        "            try:\n",
        "                selselector.options = list(df_map.columns)\n",
        "                selselector.value = line_group if line_group in selselector.options else selselector.options[0]\n",
        "                if len(np.unique(df_map[selselector.value].dropna().values)) > 0:\n",
        "                    seltissue.options = ['__all__'] + [tissue for tissue in np.unique(df_map[selselector.value].dropna().values) if len(np.intersect1d(df.columns, df_map[df_map[selselector.value] == tissue][line_col].values)) >= 1]\n",
        "                    seltissue.value=['__all__']\n",
        "            except:\n",
        "                fc2._label.value = fc2._LBL_TEMPLATE.format(f'Problem reading {fc2.selected} file ...', 'red') \n",
        "            fc2._label.value = fc2._LBL_TEMPLATE.format(f'{fc2.selected}', 'green')\n",
        "        except:\n",
        "            fc2._label.value = fc2._LBL_TEMPLATE.format(f'Problem loading {fc2.selected} file ...', 'red') \n",
        "    else:\n",
        "        fc2 = FileChooser(path, title='Choose Model file', filter='*.csv')\n",
        "    def fc2_change_title(fc2):\n",
        "        #global df_map, df\n",
        "        try:\n",
        "            df_map = pd.read_csv(fc2.selected)\n",
        "            df = val.value[1]\n",
        "            val.value = val.value[0], val.value[1] ,val.value[2], df_map\n",
        "            try:\n",
        "                selselector.options = list(df_map.columns)\n",
        "                selselector.value = line_group if line_group in selselector.options else selselector.options[0]\n",
        "                if len(np.unique(df_map[selselector.value].dropna().values)) > 0:\n",
        "                    seltissue.options = ['__all__'] + [tissue for tissue in np.unique(df_map[selselector.value].dropna().values) if len(np.intersect1d(df.columns, df_map[df_map[selselector.value] == tissue][line_col].values)) >= 1]\n",
        "                    seltissue.value=['__all__']\n",
        "            except:\n",
        "                fc2._label.value = fc2._LBL_TEMPLATE.format(f'Problem reading {fc2.selected} file ...', 'red') \n",
        "            fc2._label.value = fc2._LBL_TEMPLATE.format(f'{fc2.selected}', 'green')\n",
        "        except:\n",
        "            fc2._label.value = fc2._LBL_TEMPLATE.format(f'Problem loading {fc2.selected} file ...', 'red') \n",
        "    fc2.register_callback(fc2_change_title)\n",
        "\n",
        "    files = wid.SelectMultiple(\n",
        "        description='Files',\n",
        "        options=glob.glob('{}/*'.format(savepath))\n",
        "    )\n",
        "    setbut = wid.Button(description=\"Intersect ...\", button_style='primary')\n",
        "    def on_setbut_clicked(b):\n",
        "        csEGs = []\n",
        "        for f in files.value:\n",
        "            dfl = pd.read_csv(f, index_col=0)\n",
        "            csEGs += [dfl[dfl['label'] == 'E'].index.values]\n",
        "            df_common = pd.read_csv(os.path.join(savepath,'PanTissue.csv'), index_col=0)\n",
        "            cEG = df_common[df_common['label']=='E'].index.values\n",
        "            EGs = [set(np.setdiff1d(eg, cEG)) for eg in csEGs]\n",
        "        with out6:\n",
        "            out6.clear_output()\n",
        "            svenn_intesect(EGs, labels=[x.split('/')[-1].split('.')[0] for x in files.value], ylabel='EGs', figsize=(10,4))\n",
        "    setbut.on_click(on_setbut_clicked)\n",
        "\n",
        "    Vb1 = wid.VBox([nanrem_set, setbut, out3], layout=wid.Layout(overflow='auto'))\n",
        "    Vb2 = wid.VBox([fc1, fc2])\n",
        "    Vb3 = wid.VBox([minline_set, selselector, wid.HBox([seltissue, selmode_button], layout=wid.Layout(overflow='auto'))], layout=wid.Layout(overflow='auto'))\n",
        "    Vb4 = wid.VBox([wid.VBox([mode_buttons, wid.HBox([button, out1], layout=wid.Layout(overflow='auto'))]),  out2], layout=wid.Layout(overflow='auto'))\n",
        "    Vb5 = wid.VBox([wid.HBox([fc3, saveto_but])], layout=wid.Layout(overflow='auto'))\n",
        "    Vb6 = wid.VBox([wid.HBox([files, setbut]), out6])\n",
        "    tabs.children = [Vb2, Vb1, Vb3 ,Vb4, Vb5, Vb6]\n",
        "    tabs.set_title(1, 'NaN removal')\n",
        "    tabs.set_title(0, 'File input')\n",
        "    tabs.set_title(2, 'Line filtering')\n",
        "    tabs.set_title(3, 'Labelling')\n",
        "    tabs.set_title(4, 'Saving')\n",
        "    tabs.set_title(5, 'Interset')\n",
        "    display(tabs)\n",
        "    return val"
      ]
    },
    {
      "cell_type": "markdown",
      "metadata": {},
      "source": [
        "Observe that the CCcfs file has been subdivided into 5 separate files for storage limitations on GitHub. "
      ]
    },
    {
      "cell_type": "markdown",
      "metadata": {},
      "source": [
        "### 3. Load the input files\n",
        "Load the CRISPR data and show the content."
      ]
    },
    {
      "cell_type": "code",
      "execution_count": 53,
      "metadata": {},
      "outputs": [
        {
          "data": {
            "application/vnd.jupyter.widget-view+json": {
              "model_id": "368d471aab894313872d35f48b6e8749",
              "version_major": 2,
              "version_minor": 0
            },
            "text/plain": [
              "Tab(children=(VBox(children=(FileChooser(path='/Users/maurizio/HELP/data', filename='CRISPRGeneEffect.csv', ti…"
            ]
          },
          "metadata": {},
          "output_type": "display_data"
        },
        {
          "data": {
            "image/png": "[encoded data removed]",
            "text/plain": [
              "<Figure size 1000x400 with 3 Axes>"
            ]
          },
          "metadata": {},
          "output_type": "display_data"
        }
      ],
      "source": [
        "w = pipeline(path='../../data', \n",
        "             savepath='../../newdata', \n",
        "             filename='CRISPRGeneEffect.csv', \n",
        "             modelname='Model.csv')"
      ]
    },
    {
      "cell_type": "code",
      "execution_count": 5,
      "metadata": {},
      "outputs": [
        {
          "data": {
            "application/vnd.jupyter.widget-view+json": {
              "model_id": "94627950a48e4853bc081b956e4e9098",
              "version_major": 2,
              "version_minor": 0
            },
            "text/plain": [
              "SelectMultiple(description='Dataset(s)', options=('/tmp/com.apple.launchd.7dk0T7eEoF', '/tmp/com.apple.launchd…"
            ]
          },
          "metadata": {},
          "output_type": "display_data"
        }
      ],
      "source": [
        "import glob\n",
        "import ipywidgets as wid\n",
        "path = wid.Text(\n",
        "    description='String:',\n",
        "    value='/tmp')\n",
        "options = glob.glob('{}/*'.format(path.value))\n",
        "\n",
        "files = wid.SelectMultiple(\n",
        "    description='Dataset(s)',\n",
        "    options=options)\n",
        "\n",
        "display(files)\n"
      ]
    },
    {
      "cell_type": "code",
      "execution_count": 6,
      "metadata": {},
      "outputs": [
        {
          "data": {
            "text/plain": [
              "('/tmp/drivefs_ipc.501_shell', '/tmp/drivefs_ipc.501', '/tmp/powerlog')"
            ]
          },
          "execution_count": 6,
          "metadata": {},
          "output_type": "execute_result"
        }
      ],
      "source": [
        "files.value"
      ]
    }
  ],
  "metadata": {
    "colab": {
      "provenance": []
    },
    "kaggle": {
      "accelerator": "none",
      "dataSources": [
        {
          "datasetId": 4375833,
          "sourceId": 7595933,
          "sourceType": "datasetVersion"
        }
      ],
      "dockerImageVersionId": 30646,
      "isGpuEnabled": false,
      "isInternetEnabled": true,
      "language": "python",
      "sourceType": "notebook"
    },
    "kernelspec": {
      "display_name": "Python 3 (ipykernel)",
      "language": "python",
      "name": "python3"
    },
    "language_info": {
      "codemirror_mode": {
        "name": "ipython",
        "version": 3
      },
      "file_extension": ".py",
      "mimetype": "text/x-python",
      "name": "python",
      "nbconvert_exporter": "python",
      "pygments_lexer": "ipython3",
      "version": "3.10.13"
    }
  },
  "nbformat": 4,
  "nbformat_minor": 0
}
