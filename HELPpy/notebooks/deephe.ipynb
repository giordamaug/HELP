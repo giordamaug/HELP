{
 "cells": [
  {
   "cell_type": "code",
   "execution_count": 4,
   "metadata": {},
   "outputs": [],
   "source": [
    "import numpy as np\n",
    "import pandas as pd\n",
    "import pickle, os\n",
    "import ipywidgets\n",
    "def prepareData(tissue, labelfile):\n",
    "    work_dir = \"/Users/maurizio/HELP/data4rev/DeepHE\"\n",
    "    label_name=\"label\"\n",
    "    # load embedding\n",
    "    n2v = pd.read_csv(f\"/Users/maurizio/HELP/data/{tissue}_EmbN2V_128.csv\", index_col=0)\n",
    "    # load labels\n",
    "    print(f\"Loading {labelfile}\")\n",
    "    lab = pd.read_csv(labelfile, index_col=0).replace({'aE': 'NE', 'sNE':'NE'})\n",
    "    # load sequence features\n",
    "    seq = pd.read_csv(f\"{work_dir}/nodes_seq_feat.csv\", index_col=0)\n",
    "    seq.index = seq.index.map(str)\n",
    "    seq = seq.dropna(axis='columns', how='all')\n",
    "    seq = seq.fillna(seq.mean())\n",
    "    seq_idx_common_NE = np.intersect1d(lab[lab[label_name]=='NE'].index.values, seq.index.values)\n",
    "    seq_idx_common_E = np.intersect1d(lab[lab[label_name]=='E'].index.values, seq.index.values)\n",
    "    n2v_idx_common_NE = np.intersect1d(lab[lab[label_name]=='NE'].index.values, n2v.index.values)\n",
    "    n2v_idx_common_E = np.intersect1d(lab[lab[label_name]=='E'].index.values, n2v.index.values)\n",
    "    seqn2v_idx_common_NE = np.intersect1d(np.intersect1d(lab[lab[label_name]=='NE'].index.values, n2v.index.values), seq.index.values)\n",
    "    seqn2v_idx_common_E = np.intersect1d(np.intersect1d(lab[lab[label_name]=='E'].index.values, n2v.index.values), seq.index.values)\n",
    "    print(f'{len(seq_idx_common_NE)+len(seq_idx_common_E)} common genes over {max(len(seq),len(lab))}')\n",
    "    # filter only E genes in files (and add label column)\n",
    "    n2v_E = pd.concat([n2v.loc[n2v_idx_common_E], \n",
    "                       pd.DataFrame({\"label\" : [1] * len(n2v_idx_common_E)}).set_index(n2v_idx_common_E)], axis=1)\n",
    "    seq_E = pd.concat([seq.loc[seq_idx_common_E], \n",
    "                       pd.DataFrame({\"label\" : [1] * len(seq_idx_common_E)}).set_index(seq_idx_common_E)], axis=1)\n",
    "    # filter only NE genes in files (and add label column)\n",
    "    n2v_NE = pd.concat([n2v.loc[n2v_idx_common_NE], \n",
    "                        pd.DataFrame({\"label\" : [0] * len(n2v_idx_common_NE)}).set_index(n2v_idx_common_NE)], axis=1)\n",
    "    seq_NE = pd.concat([seq.loc[seq_idx_common_NE], \n",
    "                        pd.DataFrame({\"label\" : [0] * len(seq_idx_common_NE)}).set_index(seq_idx_common_NE)], axis=1)\n",
    "    # save files in pickle\n",
    "    with open(os.path.join(work_dir,\"ess_seqFeature.pickle\"), \"wb\") as handle:\n",
    "       pickle.dump(seq_E.to_numpy(), handle)\n",
    "    with open(os.path.join(work_dir,\"ess_embedFeature.pickle\"), \"wb\") as handle:\n",
    "       pickle.dump(n2v_E.to_numpy(), handle)\n",
    "    with open(os.path.join(work_dir,\"ness_seqFeature.pickle\"), \"wb\") as handle:\n",
    "       pickle.dump(seq_NE.to_numpy(), handle)\n",
    "    with open(os.path.join(work_dir,\"ness_embedFeature.pickle\"), \"wb\") as handle:\n",
    "       pickle.dump(n2v_NE.to_numpy(), handle)\n",
    "    # save seq+n2v files in pickle\n",
    "    seqn2v_E = pd.concat([n2v.loc[seqn2v_idx_common_E], seq.loc[seqn2v_idx_common_E], \n",
    "                          pd.DataFrame({\"label\" : [1] * len(seqn2v_idx_common_E)}).set_index(seqn2v_idx_common_E)], axis=1)\n",
    "    seqn2v_NE = pd.concat([n2v.loc[seqn2v_idx_common_NE], seq.loc[seqn2v_idx_common_NE],\n",
    "                           pd.DataFrame({\"label\" : [0] * len(seqn2v_idx_common_NE)}).set_index(seqn2v_idx_common_NE)], axis=1)\n",
    "    with open(os.path.join(work_dir,\"ess_seqFeature_embedF.pickle\"), \"wb\") as handle:\n",
    "       pickle.dump(seqn2v_E.to_numpy(), handle)\n",
    "    with open(os.path.join(work_dir,\"ness_seqFeature_embedF.pickle\"), \"wb\") as handle:\n",
    "       pickle.dump(seqn2v_NE.to_numpy(), handle)"
   ]
  },
  {
   "cell_type": "code",
   "execution_count": 7,
   "metadata": {},
   "outputs": [
    {
     "name": "stdout",
     "output_type": "stream",
     "text": [
      "/Users/maurizio/HELP/data4rev/DeepHE\n",
      "Loading ../../data/Lung_HELP.csv\n",
      "17236 common genes over 18608\n"
     ]
    },
    {
     "data": {
      "application/vnd.jupyter.widget-view+json": {
       "model_id": "3cd04dfefad14130bd858f58dcbc9737",
       "version_major": 2,
       "version_minor": 0
      },
      "text/plain": [
       "interactive(children=(Dropdown(description='embedtype', options=('seq', 'embed', 'seq+embed'), value='seq'), I…"
      ]
     },
     "metadata": {},
     "output_type": "display_data"
    }
   ],
   "source": [
    "%cd /Users/maurizio/HELP/data4rev/DeepHE\n",
    "tissue = 'Lung'\n",
    "labelfile = f\"../../data/{tissue}_HELP.csv\"\n",
    "prepareData(tissue, labelfile)\n",
    "import os\n",
    "def myrun(embedtype = \"seq\", repeat=10):\n",
    "    dm = {\"seq\" : 0, \"embed\": 1, \"seq+embed\": 2, \"bio\" : 3, \"bio+embed\": 4, \"seq+bio+embed\": 5}\n",
    "    filename = f\"Experiment_{os.path.basename(labelfile).split('.')[0]}_{embedtype}\"\n",
    "    precision = 3\n",
    "    command = f'main.py --expName {filename} --fold 2 --embedF {dm[embedtype]} --data_dir . --repeat {repeat} --result_dir results'\n",
    "    print(command)\n",
    "    %run {command}\n",
    "    with open(os.path.join(\"results\", filename + '.txt'), \"r\") as file:\n",
    "        m = [f\"{round(float(f.strip().split(' ')[1].split('±')[0]),precision)}±{round(float(f.strip().split(' ')[1].split('±')[1]),precision)}\" for f in file.readlines()[-17:21]]\n",
    "        print(\" & \".join([m[index] for index in [0,5,6,2,3,7]]))\n",
    "\n",
    "from ipywidgets import interact_manual, IntSlider\n",
    "run_iteract = interact_manual.options(manual_name=\"Run...\")\n",
    "run_iteract(myrun, embedtype = [\"seq\", \"embed\", \"seq+embed\"], repeat=IntSlider(value=10, description='repeat', max=10, min=1));"
   ]
  },
  {
   "cell_type": "code",
   "execution_count": 3,
   "metadata": {},
   "outputs": [],
   "source": [
    "from keras.utils import to_categorical\n"
   ]
  }
 ],
 "metadata": {
  "kernelspec": {
   "display_name": "base",
   "language": "python",
   "name": "python3"
  },
  "language_info": {
   "codemirror_mode": {
    "name": "ipython",
    "version": 3
   },
   "file_extension": ".py",
   "mimetype": "text/x-python",
   "name": "python",
   "nbconvert_exporter": "python",
   "pygments_lexer": "ipython3",
   "version": "3.10.13"
  }
 },
 "nbformat": 4,
 "nbformat_minor": 2
}
