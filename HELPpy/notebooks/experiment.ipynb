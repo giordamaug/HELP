{
 "cells": [
  {
   "cell_type": "markdown",
   "metadata": {},
   "source": [
    "<a target=\"_blank\" href=\"https://colab.research.google.com/github/giordamaug/HELP/blob/main/HELPpy/notebooks/experiment.ipynb\">\n",
    "  <img src=\"https://colab.research.google.com/assets/colab-badge.svg\" alt=\"Open In Colab\"/>\n",
    "</a>\n",
    "<a target=\"_blank\" href=\"https://www.kaggle.com/notebooks/welcome?src=https://github.com/giordamaug/HELP/blob/main/HELPpy/notebooks/experiment.ipynb\">\n",
    "  <img src=\"https://kaggle.com/static/images/open-in-kaggle.svg\" alt=\"Open In Colab\"/>\n",
    "</a>"
   ]
  },
  {
   "cell_type": "markdown",
   "metadata": {},
   "source": [
    "### 1. Install HELP from GitHub\n",
    "Skip this cell if you already have installed HELP."
   ]
  },
  {
   "cell_type": "code",
   "execution_count": null,
   "metadata": {},
   "outputs": [],
   "source": [
    "!pip install git+https://github.com/giordamaug/HELP.git"
   ]
  },
  {
   "cell_type": "markdown",
   "metadata": {},
   "source": [
    "### 2. Download the input files\n",
    "For a chosen tissue (here `Kidney`), download from GitHub the label file (here `Kidney_HELP.csv`, computed as in Example 1) and the attribute files (here BIO `Kidney_BIO.csv`, CCcfs `Kidney_CCcfs_1.csv`, ..., `Kidney_CCcfs_5.csv`, and N2V `Kidney_EmbN2V_128.csv`). \n",
    "Skip this step if you already have these input files locally."
   ]
  },
  {
   "cell_type": "code",
   "execution_count": null,
   "metadata": {},
   "outputs": [],
   "source": [
    "tissue='Kidney'\n",
    "!wget https://raw.githubusercontent.com/giordamaug/HELP/main/data/{tissue}_HELP.csv\n",
    "!wget https://raw.githubusercontent.com/giordamaug/HELP/main/data/{tissue}_BIO.csv\n",
    "for i in range(5):\n",
    "  !wget https://raw.githubusercontent.com/giordamaug/HELP/main/data/{tissue}_CCcfs_{i}.csv\n",
    "!wget https://raw.githubusercontent.com/giordamaug/HELP/main/data/{tissue}_EmbN2V_128.csv\n",
    "#!wget https://raw.githubusercontent.com/giordamaug/HELP/main/data/{tissue}_CCBeder.csv"
   ]
  },
  {
   "cell_type": "markdown",
   "metadata": {},
   "source": [
    "Other attribute files (CCBeder) are shown but commented to help the user experiment with different data."
   ]
  },
  {
   "cell_type": "markdown",
   "metadata": {},
   "source": [
    "### 3. Download the script for the experiments and show the man page\n",
    "Download the batch script for EG prediction used for the experiments and show its manual page:"
   ]
  },
  {
   "cell_type": "code",
   "execution_count": 1,
   "metadata": {},
   "outputs": [
    {
     "name": "stdout",
     "output_type": "stream",
     "text": [
      "usage: EG_prediction.py [-h] -i <inputfile> [<inputfile> ...]\n",
      "                        [-c <chunks> [<chunks> ...]]\n",
      "                        [-X <excludelabels> [<excludelabels> ...]]\n",
      "                        [-L <labelname>] -l <labelfile> [-A <aliases>]\n",
      "                        [-b <seed>] [-r <repeat>] [-f <folds>] [-j <jobs>]\n",
      "                        [-B] [-v <voters>] [-ba] [-fx] [-n <normalize>]\n",
      "                        [-o <outfile>] [-s <scorefile>] [-p <predfile>]\n",
      "\n",
      "PLOS COMPBIO\n",
      "\n",
      "options:\n",
      "  -h, --help            show this help message and exit\n",
      "  -i <inputfile> [<inputfile> ...], --inputfile <inputfile> [<inputfile> ...]\n",
      "                        input attribute filename list\n",
      "  -c <chunks> [<chunks> ...], --chunks <chunks> [<chunks> ...]\n",
      "                        no of chunks for attribute filename list\n",
      "  -X <excludelabels> [<excludelabels> ...], --excludelabels <excludelabels> [<excludelabels> ...]\n",
      "                        labels to exclude (default NaN, values any list)\n",
      "  -L <labelname>, --labelname <labelname>\n",
      "                        label name (default label)\n",
      "  -l <labelfile>, --labelfile <labelfile>\n",
      "                        label filename\n",
      "  -A <aliases>, --aliases <aliases>\n",
      "                        the dictionary for label renaming (es: {\"oldlabel1\":\n",
      "                        \"newlabel1\", ..., \"oldlabelN\": \"newlabelN\"})\n",
      "  -b <seed>, --seed <seed>\n",
      "                        random seed (default: 1)\n",
      "  -r <repeat>, --repeat <repeat>\n",
      "                        n. of iteration (default: 10)\n",
      "  -f <folds>, --folds <folds>\n",
      "                        n. of cv folds (default: 5)\n",
      "  -j <jobs>, --jobs <jobs>\n",
      "                        n. of parallel jobs (default: -1)\n",
      "  -B, --batch           enable batch mode (no output)\n",
      "  -v <voters>, --voters <voters>\n",
      "                        n. of voter predictors (default: 1 - one classifier)\n",
      "  -ba, --balanced       enable balancing in classifier (default disabled)\n",
      "  -fx, --fixna          enable fixing NaN (default disabled)\n",
      "  -n <normalize>, --normalize <normalize>\n",
      "                        normalization mode (default None)\n",
      "  -o <outfile>, --outfile <outfile>\n",
      "                        output file for performance measures sumup\n",
      "  -s <scorefile>, --scorefile <scorefile>\n",
      "                        output file reporting all measurements\n",
      "  -p <predfile>, --predfile <predfile>\n",
      "                        output file reporting predictions\n"
     ]
    }
   ],
   "source": [
    "!wget https://raw.githubusercontent.com/giordamaug/HELP/main/HELPpy/notebooks/EG_prediction.py\n",
    "!python EG_prediction.py -h"
   ]
  },
  {
   "cell_type": "markdown",
   "metadata": {},
   "source": [
    "### 4. Run the E vs NE experiments\n",
    "This cell's code reproduces the results for Kidney reported in Table 3 (A) of the HELP paper. "
   ]
  },
  {
   "cell_type": "code",
   "execution_count": 2,
   "metadata": {},
   "outputs": [
    {
     "name": "stdout",
     "output_type": "stream",
     "text": [
      "METHOD: LGBM\tVOTERS: 10\tBALANCE: yes\n",
      "PROBL: E vs NE\n",
      "INPUT: Kidney_BIO.csv Kidney_CCcfs.csv Kidney_EmbN2V_128.csv\n",
      "LABEL: Kidney_HELP.csv DISTRIB: E : 1242, NE: 15994\n",
      "+-------------+----------------------------------+\n",
      "|             | measure                          |\n",
      "|-------------+----------------------------------|\n",
      "| ROC-AUC     | 0.9571±0.0056                    |\n",
      "| Accuracy    | 0.8989±0.0035                    |\n",
      "| BA          | 0.8903±0.0093                    |\n",
      "| Sensitivity | 0.8802±0.0197                    |\n",
      "| Specificity | 0.9004±0.0040                    |\n",
      "| MCC         | 0.5566±0.0119                    |\n",
      "| CM          | [[10932, 1488], [15931, 144009]] |\n",
      "+-------------+----------------------------------+\n"
     ]
    }
   ],
   "source": [
    "datapath = \"../../data\"\n",
    "tissue = \"Kidney\"                               # or 'Lung'\n",
    "labelfile = f\"{tissue}_HELP.csv\"                # label filename\n",
    "aliases = \"-A \\\"{'aE': 'NE', 'sNE':'NE'}\\\"\"     # dictionary for renaming labels before prediction: es. {'oldlabel': 'newlabel'}\n",
    "excludeflags = \"\"                               # label to remove (none for E vs NE problem)\n",
    "njobs = \"-1\"                                    # parallelism level: -1 = all cpus, 1 = sequential\n",
    "nchunks = \"-c 1 5 1\"                            # no. of chunks for each input attribute file: es. 1 5 (Bio is one chunk, CCcfs split in 5 chunks)\n",
    "voters = \"-v 10\"                                 # no. of voters on classifier ensemble\n",
    "repeats = \"-r 10\"                               # no. of iterations for experiments \n",
    "!python EG_prediction.py -i {datapath}/{tissue}_BIO.csv \\\n",
    "                            {datapath}/{tissue}_CCcfs.csv \\\n",
    "                            {datapath}/{tissue}_EmbN2V_128.csv \\\n",
    "                            {nchunks} \\\n",
    "                            -l {datapath}/{labelfile} \\\n",
    "                            {aliases} {excludeflags}  \\\n",
    "                            {voters} {repeats} \\\n",
    "                            -n std -ba \\\n",
    "                            -j -1 -B"
   ]
  },
  {
   "cell_type": "markdown",
   "metadata": {},
   "source": [
    "### 5. Run the E vs sNE experiments\n",
    "This cell's code reproduces the results for Kidney reported in Table 4 (A) of the HELP paper, removing the `aE` flags (`excludeflags = \"-X aE\"`). "
   ]
  },
  {
   "cell_type": "code",
   "execution_count": 24,
   "metadata": {},
   "outputs": [
    {
     "name": "stdout",
     "output_type": "stream",
     "text": [
      "METHOD: LGBM\tVOTERS: 8\tBALANCE: yes\n",
      "PROBL: E vs sNE\n",
      "INPUT: Kidney_BIO.csv Kidney_CCcfs.csv Kidney_EmbN2V_128.csv\n",
      "LABEL: Kidney_HELP.csv DISTRIB: E : 1242, sNE: 12886\n",
      "+-------------+---------------------------------+\n",
      "|             | measure                         |\n",
      "|-------------+---------------------------------|\n",
      "| ROC-AUC     | 0.9724±0.0039                   |\n",
      "| Accuracy    | 0.9221±0.0044                   |\n",
      "| BA          | 0.9129±0.0085                   |\n",
      "| Sensitivity | 0.9018±0.0186                   |\n",
      "| Specificity | 0.9241±0.0053                   |\n",
      "| MCC         | 0.6579±0.0135                   |\n",
      "| CM          | [[11200, 1220], [9779, 119081]] |\n",
      "+-------------+---------------------------------+\n"
     ]
    }
   ],
   "source": [
    "datapath = \"../../data\"\n",
    "tissue = \"Kidney\"                               # or 'Lung'\n",
    "labelfile = f\"{tissue}_HELP.csv\"                # label filename\n",
    "aliases = \"\"                                    # dictionary for renaming labels before prediction: es. {'oldlabel': 'newlabel'}\n",
    "excludeflags = \"-X aE\"                          # label to remove: es. -X aE (for E vs sNE problem)\n",
    "njobs = \"-1\"                                    # parallelism level: -1 = all cpus, 1 = sequential\n",
    "nchunks = \"-c 1 5 1\"                            # no. of chunks for each input attribute file: es. 1 5 (Bio is one chunk, CCcfs split in 5 chunks)\n",
    "voters = \"-v 8\"                                 # no. of voters on classifier ensemble\n",
    "repeats = \"-r 10\"                               # no. of iterations for experiments \n",
    "!python EG_prediction.py -i {datapath}/{tissue}_BIO.csv \\\n",
    "                            {datapath}/{tissue}_CCcfs.csv \\\n",
    "                            {datapath}/{tissue}_EmbN2V_128.csv \\\n",
    "                            {nchunks} \\\n",
    "                            -l {datapath}/{labelfile} \\\n",
    "                            {aliases} {excludeflags}  \\\n",
    "                            -n std -ba \\\n",
    "                            {voters} {repeats} \\\n",
    "                            -j {njobs} -B"
   ]
  },
  {
   "cell_type": "markdown",
   "metadata": {},
   "source": [
    "Please be aware that this will take a while in sequential execution. "
   ]
  }
 ],
 "metadata": {
  "kernelspec": {
   "display_name": "Python 3 (ipykernel)",
   "language": "python",
   "name": "python3"
  },
  "language_info": {
   "codemirror_mode": {
    "name": "ipython",
    "version": 3
   },
   "file_extension": ".py",
   "mimetype": "text/x-python",
   "name": "python",
   "nbconvert_exporter": "python",
   "pygments_lexer": "ipython3",
   "version": "3.8.3"
  }
 },
 "nbformat": 4,
 "nbformat_minor": 4
}
