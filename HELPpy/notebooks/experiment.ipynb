{
 "cells": [
  {
   "cell_type": "markdown",
   "metadata": {},
   "source": [
    "<a target=\"_blank\" href=\"https://colab.research.google.com/github/giordamaug/HELP/blob/main/HELPpy/notebooks/experiment.ipynb\">\n",
    "  <img src=\"https://colab.research.google.com/assets/colab-badge.svg\" alt=\"Open In Colab\"/>\n",
    "</a>\n",
    "<a target=\"_blank\" href=\"https://www.kaggle.com/notebooks/welcome?src=https://github.com/giordamaug/HELP/blob/main/HELPpy/notebooks/experiment.ipynb\">\n",
    "  <img src=\"https://kaggle.com/static/images/open-in-kaggle.svg\" alt=\"Open In Colab\"/>\n",
    "</a>"
   ]
  },
  {
   "cell_type": "markdown",
   "metadata": {},
   "source": [
    "### 1. Install HELP from GitHub\n",
    "Skip this cell if you already have installed HELP."
   ]
  },
  {
   "cell_type": "code",
   "execution_count": null,
   "metadata": {},
   "outputs": [],
   "source": [
    "!pip install git+https://github.com/giordamaug/HELP.git"
   ]
  },
  {
   "cell_type": "markdown",
   "metadata": {},
   "source": [
    "### 2. Download the input files\n",
    "For a chosen tissue (here `Kidney`), download from GitHub the label file (here `Kidney_HELP.csv`, computed as in Example 1) and the attribute files (here BIO `Kidney_BIO.csv`, CCcfs `Kidney_CCcfs_1.csv`, ..., `Kidney_CCcfs_5.csv`, and N2V `Kidney_EmbN2V_128.csv`). \n",
    "Skip this step if you already have these input files locally."
   ]
  },
  {
   "cell_type": "code",
   "execution_count": null,
   "metadata": {},
   "outputs": [],
   "source": [
    "tissue='Kidney'\n",
    "!wget https://raw.githubusercontent.com/giordamaug/HELP/main/data/{tissue}_HELP.csv\n",
    "!wget https://raw.githubusercontent.com/giordamaug/HELP/main/data/{tissue}_BIO.csv\n",
    "for i in range(5):\n",
    "  !wget https://raw.githubusercontent.com/giordamaug/HELP/main/data/{tissue}_CCcfs_{i}.csv\n",
    "!wget https://raw.githubusercontent.com/giordamaug/HELP/main/data/{tissue}_EmbN2V_128.csv\n",
    "#!wget https://raw.githubusercontent.com/giordamaug/HELP/main/data/{tissue}_CCBeder.csv"
   ]
  },
  {
   "cell_type": "markdown",
   "metadata": {},
   "source": [
    "Other attribute files (CCBeder) are shown but commented to help the user experiment with different data."
   ]
  },
  {
   "cell_type": "markdown",
   "metadata": {},
   "source": [
    "### 3. Download the script for the experiments and show the man page\n",
    "Download the batch script for EG prediction used for the experiments and show its manual page:"
   ]
  },
  {
   "cell_type": "code",
   "execution_count": 1,
   "metadata": {},
   "outputs": [
    {
     "name": "stdout",
     "output_type": "stream",
     "text": [
      "usage: EG_prediction.py [-h] -i <inputfile> [<inputfile> ...]\n",
      "                        [-c <chunks> [<chunks> ...]]\n",
      "                        [-X <excludelabels> [<excludelabels> ...]]\n",
      "                        [-L <labelname>] -l <labelfile> [-A <aliases>]\n",
      "                        [-b <seed>] [-r <repeat>] [-f <folds>] [-j <jobs>]\n",
      "                        [-B] [-v <voters>] [-ba] [-fx] [-n <normalize>]\n",
      "                        [-o <outfile>] [-s <scorefile>] [-p <predfile>]\n",
      "\n",
      "PLOS COMPBIO\n",
      "\n",
      "options:\n",
      "  -h, --help            show this help message and exit\n",
      "  -i <inputfile> [<inputfile> ...], --inputfile <inputfile> [<inputfile> ...]\n",
      "                        input attribute filename list\n",
      "  -c <chunks> [<chunks> ...], --chunks <chunks> [<chunks> ...]\n",
      "                        no of chunks for attribute filename list\n",
      "  -X <excludelabels> [<excludelabels> ...], --excludelabels <excludelabels> [<excludelabels> ...]\n",
      "                        labels to exclude (default NaN, values any list)\n",
      "  -L <labelname>, --labelname <labelname>\n",
      "                        label name (default label)\n",
      "  -l <labelfile>, --labelfile <labelfile>\n",
      "                        label filename\n",
      "  -A <aliases>, --aliases <aliases>\n",
      "                        the dictionary for label renaming (es: {\"oldlabel1\":\n",
      "                        \"newlabel1\", ..., \"oldlabelN\": \"newlabelN\"})\n",
      "  -b <seed>, --seed <seed>\n",
      "                        random seed (default: 1)\n",
      "  -r <repeat>, --repeat <repeat>\n",
      "                        n. of iteration (default: 10)\n",
      "  -f <folds>, --folds <folds>\n",
      "                        n. of cv folds (default: 5)\n",
      "  -j <jobs>, --jobs <jobs>\n",
      "                        n. of parallel jobs (default: -1)\n",
      "  -B, --batch           enable batch mode (no output)\n",
      "  -v <voters>, --voters <voters>\n",
      "                        n. of voter predictors (default: 1 - one classifier)\n",
      "  -ba, --balanced       enable balancing in classifier (default disabled)\n",
      "  -fx, --fixna          enable fixing NaN (default disabled)\n",
      "  -n <normalize>, --normalize <normalize>\n",
      "                        normalization mode (default None)\n",
      "  -o <outfile>, --outfile <outfile>\n",
      "                        output file for performance measures sumup\n",
      "  -s <scorefile>, --scorefile <scorefile>\n",
      "                        output file reporting all measurements\n",
      "  -p <predfile>, --predfile <predfile>\n",
      "                        output file reporting predictions\n"
     ]
    }
   ],
   "source": [
    "!wget https://raw.githubusercontent.com/giordamaug/HELP/main/HELPpy/notebooks/EG_prediction.py\n",
    "!python EG_prediction.py -h"
   ]
  },
  {
   "cell_type": "markdown",
   "metadata": {},
   "source": [
    "### 4. Run the E vs NE experiments\n",
    "This cell's code reproduces the results for Kidney reported in Table 3 (A) of the HELP paper. "
   ]
  },
  {
   "cell_type": "code",
   "execution_count": 2,
   "metadata": {},
   "outputs": [
    {
     "name": "stdout",
     "output_type": "stream",
     "text": [
      "- replacing label aE with NE\n",
      "- replacing label sNE with NE\n",
      "- removing label []\n",
      "Majority NE 16678 minority E 1253\n",
      "[Kidney_BIO.csv] found 52532 Nan...\n",
      "[Kidney_BIO.csv] Normalization with std ...\n",
      "Loading file in chunks: 100%|█████████████████████| 5/5 [00:02<00:00,  2.03it/s]\n",
      "[Kidney_CCcfs.csv] found 6676644 Nan...\n",
      "[Kidney_CCcfs.csv] Normalization with std ...\n",
      "[Kidney_EmbN2V_128.csv] found 0 Nan...\n",
      "[Kidney_EmbN2V_128.csv] No normalization...\n",
      "17236 labeled genes over a total of 17931\n",
      "(17236, 3456) data input\n",
      "Running par on 8 cpus...\n",
      "{'E': 0, 'NE': 1}\n",
      "label\n",
      "NE       15994\n",
      "E         1242\n",
      "Name: count, dtype: int64{'E': 0, 'NE': 1}\n",
      "label\n",
      "NE       15994\n",
      "E         1242\n",
      "Name: count, dtype: int64\n",
      "{'E': 0, 'NE': 1}\n",
      "label\n",
      "NE       15994\n",
      "E         1242\n",
      "Name: count, dtype: int64\n",
      "{'E': 0, 'NE': 1}\n",
      "label\n",
      "NE       15994\n",
      "E         1242\n",
      "Name: count, dtype: int64\n",
      "\n",
      "{'E': 0, 'NE': 1}\n",
      "label\n",
      "NE       15994\n",
      "E         1242\n",
      "Name: count, dtype: int64\n",
      "{'E': 0, 'NE': 1}\n",
      "label\n",
      "NE       15994\n",
      "E         1242\n",
      "Name: count, dtype: int64\n",
      "{'E': 0, 'NE': 1}\n",
      "label\n",
      "NE       15994\n",
      "E         1242\n",
      "Name: count, dtype: int64\n",
      "{'E': 0, 'NE': 1}\n",
      "label\n",
      "NE       15994\n",
      "E         1242\n",
      "Name: count, dtype: int64\n",
      "Classification with VotingSplitClassifier...\n",
      "5-fold:   0%|                                             | 0/5 [00:00<?, ?it/s]Classification with VotingSplitClassifier...\n",
      "\n",
      "5-fold:   0%|                                             | 0/5 [00:00<?, ?it/s]\u001b[AClassification with VotingSplitClassifier...\n",
      "Classification with VotingSplitClassifier...\n",
      "Classification with VotingSplitClassifier...\n",
      "\n",
      "\n",
      "5-fold:   0%|                                             | 0/5 [00:00<?, ?it/s]\u001b[A\u001b[AClassification with VotingSplitClassifier...\n",
      "Classification with VotingSplitClassifier...\n",
      "\n",
      "\n",
      "\n",
      "5-fold:   0%|                                             | 0/5 [00:00<?, ?it/s]\u001b[A\u001b[A\u001b[AClassification with VotingSplitClassifier...\n",
      "\n",
      "\n",
      "\n",
      "\n",
      "5-fold:   0%|                                             | 0/5 [00:00<?, ?it/s]\u001b[A\u001b[A\u001b[A\u001b[A\n",
      "\n",
      "\n",
      "\n",
      "\n",
      "5-fold:   0%|                                             | 0/5 [00:00<?, ?it/s]\u001b[A\u001b[A\u001b[A\u001b[A\u001b[A\n",
      "\n",
      "\n",
      "\n",
      "\n",
      "\n",
      "5-fold:   0%|                                             | 0/5 [00:00<?, ?it/s]\u001b[A\u001b[A\u001b[A\u001b[A\u001b[A\u001b[A\n",
      "\n",
      "\n",
      "\n",
      "\n",
      "\n",
      "\n",
      "5-fold:  20%|█████▊                       | 1/5 [3:29:31<13:58:04, 12571.22s/it]\u001b[A\u001b[A\u001b[A\u001b[A\u001b[A\u001b[A\u001b[A\n",
      "\n",
      "\n",
      "\n",
      "5-fold:  20%|█████▊                       | 1/5 [3:36:29<14:25:59, 12989.81s/it]\u001b[A\u001b[A\u001b[A\u001b[A\n",
      "5-fold:  20%|█████▊                       | 1/5 [3:36:29<14:25:59, 12989.83s/it]\u001b[A\n",
      "\n",
      "\n",
      "\n",
      "\n",
      "\n",
      "5-fold:  20%|█████▊                       | 1/5 [3:36:29<14:25:59, 12989.83s/it]\u001b[A\u001b[A\u001b[A\u001b[A\u001b[A\u001b[A\n",
      "\n",
      "\n",
      "\n",
      "\n",
      "\n",
      "\n",
      "5-fold:  20%|█████▊                       | 1/5 [3:36:29<14:25:59, 12989.89s/it]\u001b[A\u001b[A\u001b[A\u001b[A\u001b[A\u001b[A\u001b[A\n",
      "\n",
      "\n",
      "\n",
      "\n",
      "5-fold:  20%|█████▊                       | 1/5 [3:36:29<14:25:59, 12989.94s/it]\u001b[A\u001b[A\u001b[A\u001b[A\u001b[A\n",
      "\n",
      "5-fold:  20%|█████▊                       | 1/5 [3:45:50<15:03:23, 13550.91s/it]\u001b[A\u001b[A\n",
      "\n",
      "\n",
      "5-fold:  20%|█████▊                       | 1/5 [3:47:04<15:08:16, 13624.09s/it]\u001b[A\u001b[A\u001b[A"
     ]
    }
   ],
   "source": [
    "tissue = \"Kidney\"                               # or 'Lung'\n",
    "labelfile = f\"{tissue}_HELP.csv\"                # label filename\n",
    "aliases = \"-A \\\"{'aE': 'NE', 'sNE':'NE'}\\\"\"     # dictionary for renaming labels before prediction: es. {'oldlabel': 'newlabel'}\n",
    "excludeflags = \"\"                               # label to remove (none for E vs NE problem)\n",
    "njobs = \"-1\"                                    # parallelism level: -1 = all cpus, 1 = sequential\n",
    "nchunks = \"-c 1 5 1\"                            # no. of chunks for each input attribute file: es. 1 5 (Bio is one chunk, CCcfs split in 5 chunks)\n",
    "voters = \"-v 3\"                                 # no. of voters on classifier ensemble\n",
    "repeats = \"-r 10\"                               # no. of iterations for experiments \n",
    "!python EG_prediction.py -i {tissue}_BIO.csv \\\n",
    "                            {tissue}_CCcfs.csv \\\n",
    "                            {tissue}_EmbN2V_128.csv \\\n",
    "                            {nchunks} \\\n",
    "                            -l {datapath}/{labelfile} \\\n",
    "                            {aliases} {excludeflags}  \\\n",
    "                            {voters} {repeats} \\\n",
    "                            -n std -ba \\\n",
    "                            -j {njobs} -B"
   ]
  },
  {
   "cell_type": "markdown",
   "metadata": {},
   "source": [
    "### 5. Run the E vs sNE experiments\n",
    "This cell's code reproduces the results for Kidney reported in Table 4 (A) of the HELP paper, removing the `aE` flags (`excludeflags = \"-X aE\"`). "
   ]
  },
  {
   "cell_type": "code",
   "execution_count": 3,
   "metadata": {},
   "outputs": [
    {
     "name": "stdout",
     "output_type": "stream",
     "text": [
      "METHOD: LGBM\tMODE: prob\tBALANCE: yes\n",
      "PROBL: E vs sNE\n",
      "INPUT: Kidney_BIO.csv Kidney_CCcfs.csv Kidney_EmbN2V_128.csv\n",
      "LABEL: Kidney_HELP.csv DISTRIB: E : 1242, sNE: 4810\n",
      "SUBSAMPLE: 1:4\n",
      "+-------------+--------------------------------+\n",
      "|             | measure                        |\n",
      "|-------------+--------------------------------|\n",
      "| ROC-AUC     | 0.9701±0.0062                  |\n",
      "| Accuracy    | 0.9354±0.0070                  |\n",
      "| BA          | 0.9020±0.0120                  |\n",
      "| Sensitivity | 0.8454±0.0231                  |\n",
      "| Specificity | 0.9587±0.0065                  |\n",
      "| MCC         | 0.8026±0.0215                  |\n",
      "| CM          | [[10500, 1920], [1988, 46112]] |\n",
      "+-------------+--------------------------------+\n"
     ]
    }
   ],
   "source": [
    "tissue = \"Kidney\"                               # or 'Lung'\n",
    "labelfile = f\"{tissue}_HELP.csv\"                # label filename\n",
    "aliases = \"\"                                    # dictionary for renaming labels before prediction: es. {'oldlabel': 'newlabel'}\n",
    "excludeflags = \"-X aE\"                          # label to remove: es. -X aE (for E vs sNE problem)\n",
    "njobs = \"-1\"                                    # parallelism level: -1 = all cpus, 1 = sequential\n",
    "nchunks = \"-c 1 5 1\"                            # no. of chunks for each input attribute file: es. 1 5 (Bio is one chunk, CCcfs split in 5 chunks)\n",
    "voters = \"-v 3\"                                 # no. of voters on classifier ensemble\n",
    "repeats = \"-r 10\"                               # no. of iterations for experiments \n",
    "!python EG_prediction.py -i {tissue}_BIO.csv \\\n",
    "                            {tissue}_CCcfs.csv \\\n",
    "                            {tissue}_EmbN2V_128.csv \\\n",
    "                            {nchunks} \\\n",
    "                            -l {datapath}/{labelfile} \\\n",
    "                            {aliases} {excludeflags}  \\\n",
    "                            -n std -ba \\ \n",
    "                            {voters} {repeats} \\\n",
    "                            -j {njobs} -B"
   ]
  },
  {
   "cell_type": "markdown",
   "metadata": {},
   "source": [
    "Please be aware that this will take a while in sequential execution. "
   ]
  }
 ],
 "metadata": {
  "kernelspec": {
   "display_name": "Python 3 (ipykernel)",
   "language": "python",
   "name": "python3"
  },
  "language_info": {
   "codemirror_mode": {
    "name": "ipython",
    "version": 3
   },
   "file_extension": ".py",
   "mimetype": "text/x-python",
   "name": "python",
   "nbconvert_exporter": "python",
   "pygments_lexer": "ipython3",
   "version": "3.10.13"
  }
 },
 "nbformat": 4,
 "nbformat_minor": 4
}
