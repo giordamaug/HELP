{
 "cells": [
  {
   "cell_type": "code",
   "execution_count": 2,
   "metadata": {},
   "outputs": [
    {
     "name": "stdout",
     "output_type": "stream",
     "text": [
      "Major label 1 15994, 2nd major label 0 1242- n. voters 13 - sorted [1 0]\n"
     ]
    },
    {
     "data": {
      "text/plain": [
       "0.9021820682756034"
      ]
     },
     "execution_count": 2,
     "metadata": {},
     "output_type": "execute_result"
    }
   ],
   "source": [
    "import os, sys\n",
    "sys.path.append(os.path.dirname(\"../models\"))\n",
    "from lightgbm import LGBMClassifier \n",
    "from sklearn.ensemble import RandomForestClassifier\n",
    "import pandas as pd\n",
    "import numpy as np\n",
    "from icarlearn.ensemble.splitvotingens import SplitVotingEnsemble, SplitVotingEnsembleLGBM\n",
    "#clf = RandomForestClassifier()\n",
    "clf = LGBMClassifier(n_estimators=200)\n",
    "svclf = SplitVotingEnsemble(clf, verbose=True)\n",
    "#svclf = SplitVotingEnsembleLGBM(verbose=True)\n",
    "#svclf = VotingEnsembleLGBM(verbose=True)\n",
    "from sklearn.datasets import load_iris\n",
    "data = load_iris()\n",
    "#X = pd.DataFrame(data.data, columns=data.feature_names)\n",
    "#Y = pd.DataFrame(data['target'], columns=['target'])\n",
    "X = pd.read_csv(\"../../data/Kidney_BIO.csv\", index_col=0)\n",
    "#Y = pd.read_csv(\"../../data/Kidney_HELP.csv\", index_col=0).replace({'sNE':0, 'aE':0, 'E':2})\n",
    "#Y = pd.read_csv(\"../../data/Kidney_HELP.csv\", index_col=0).replace({'sNE':0.0, 'aE':0.0, 'E':1.0})\n",
    "Y = pd.read_csv(\"../../data/Kidney_HELP.csv\", index_col=0).replace({'sNE':'NE', 'aE':'NE', 'E':'E'})\n",
    "#Y = pd.read_csv(\"../../data/Kidney_HELP.csv\", index_col=0).replace({'sNE':0, 'aE':0, 'E':1})\n",
    "shdgenes = np.intersect1d(X.index.values, Y.index.values)\n",
    "X = X.loc[shdgenes]\n",
    "Y = Y.loc[shdgenes]\n",
    "preds = svclf.fit(X,Y).predict(X)\n",
    "from sklearn.metrics import balanced_accuracy_score\n",
    "balanced_accuracy_score(Y, preds)"
   ]
  },
  {
   "cell_type": "code",
   "execution_count": 3,
   "metadata": {},
   "outputs": [
    {
     "name": "stdout",
     "output_type": "stream",
     "text": [
      "Classification with SplitVotingEnsemble...\n"
     ]
    },
    {
     "data": {
      "application/json": {
       "ascii": false,
       "bar_format": null,
       "colour": null,
       "elapsed": 0.010132074356079102,
       "initial": 0,
       "n": 0,
       "ncols": null,
       "nrows": null,
       "postfix": null,
       "prefix": "5-fold",
       "rate": null,
       "total": 5,
       "unit": "it",
       "unit_divisor": 1000,
       "unit_scale": false
      },
      "application/vnd.jupyter.widget-view+json": {
       "model_id": "f0661f725f8d49a4a62897e279855132",
       "version_major": 2,
       "version_minor": 0
      },
      "text/plain": [
       "5-fold:   0%|          | 0/5 [00:00<?, ?it/s]"
      ]
     },
     "metadata": {},
     "output_type": "display_data"
    },
    {
     "data": {
      "text/html": [
       "<div>\n",
       "<style scoped>\n",
       "    .dataframe tbody tr th:only-of-type {\n",
       "        vertical-align: middle;\n",
       "    }\n",
       "\n",
       "    .dataframe tbody tr th {\n",
       "        vertical-align: top;\n",
       "    }\n",
       "\n",
       "    .dataframe thead th {\n",
       "        text-align: right;\n",
       "    }\n",
       "</style>\n",
       "<table border=\"1\" class=\"dataframe\">\n",
       "  <thead>\n",
       "    <tr style=\"text-align: right;\">\n",
       "      <th></th>\n",
       "      <th>measure</th>\n",
       "    </tr>\n",
       "  </thead>\n",
       "  <tbody>\n",
       "    <tr>\n",
       "      <th>ROC-AUC</th>\n",
       "      <td>0.9126±0.0049</td>\n",
       "    </tr>\n",
       "    <tr>\n",
       "      <th>Accuracy</th>\n",
       "      <td>0.7906±0.0081</td>\n",
       "    </tr>\n",
       "    <tr>\n",
       "      <th>BA</th>\n",
       "      <td>0.8281±0.0029</td>\n",
       "    </tr>\n",
       "    <tr>\n",
       "      <th>Sensitivity</th>\n",
       "      <td>0.7842±0.0094</td>\n",
       "    </tr>\n",
       "    <tr>\n",
       "      <th>Specificity</th>\n",
       "      <td>0.8720±0.0106</td>\n",
       "    </tr>\n",
       "    <tr>\n",
       "      <th>MCC</th>\n",
       "      <td>0.3855±0.0061</td>\n",
       "    </tr>\n",
       "    <tr>\n",
       "      <th>CM</th>\n",
       "      <td>[[1083, 159], [3451, 12543]]</td>\n",
       "    </tr>\n",
       "  </tbody>\n",
       "</table>\n",
       "</div>"
      ],
      "text/plain": [
       "                                  measure\n",
       "ROC-AUC                     0.9126±0.0049\n",
       "Accuracy                    0.7906±0.0081\n",
       "BA                          0.8281±0.0029\n",
       "Sensitivity                 0.7842±0.0094\n",
       "Specificity                 0.8720±0.0106\n",
       "MCC                         0.3855±0.0061\n",
       "CM           [[1083, 159], [3451, 12543]]"
      ]
     },
     "execution_count": 3,
     "metadata": {},
     "output_type": "execute_result"
    },
    {
     "data": {
      "image/png": "[encoded data removed]",
      "text/plain": [
       "<Figure size 432x288 with 2 Axes>"
      ]
     },
     "metadata": {
      "needs_background": "light"
     },
     "output_type": "display_data"
    }
   ],
   "source": [
    "from icarlearn.validation.crossvalidate import skfold_cv\n",
    "from xgboost import XGBClassifier\n",
    "X = X.fillna(X.mean())\n",
    "clf = LGBMClassifier(n_estimators=200)\n",
    "svclf = SplitVotingEnsemble(clf)\n",
    "df_scores, scores, predictions = skfold_cv(X, Y, svclf, n_splits=5, seed=0, show_progress=True, verbose=True)\n",
    "df_scores"
   ]
  },
  {
   "cell_type": "code",
   "execution_count": 3,
   "metadata": {},
   "outputs": [
    {
     "ename": "AttributeError",
     "evalue": "'SplitVotingEnsemble' object has no attribute 'class_mapping_'",
     "output_type": "error",
     "traceback": [
      "\u001b[0;31m---------------------------------------------------------------------------\u001b[0m",
      "\u001b[0;31mAttributeError\u001b[0m                            Traceback (most recent call last)",
      "\u001b[0;32m<ipython-input-3-05d9cedf4454>\u001b[0m in \u001b[0;36m<module>\u001b[0;34m\u001b[0m\n\u001b[0;32m----> 1\u001b[0;31m \u001b[0msvclf\u001b[0m\u001b[0;34m.\u001b[0m\u001b[0mclass_mapping_\u001b[0m\u001b[0;34m\u001b[0m\u001b[0;34m\u001b[0m\u001b[0m\n\u001b[0m",
      "\u001b[0;31mAttributeError\u001b[0m: 'SplitVotingEnsemble' object has no attribute 'class_mapping_'"
     ]
    }
   ],
   "source": [
    "svclf.class_mapping_"
   ]
  },
  {
   "cell_type": "code",
   "execution_count": null,
   "metadata": {},
   "outputs": [
    {
     "data": {
      "text/html": [
       "<div>\n",
       "<style scoped>\n",
       "    .dataframe tbody tr th:only-of-type {\n",
       "        vertical-align: middle;\n",
       "    }\n",
       "\n",
       "    .dataframe tbody tr th {\n",
       "        vertical-align: top;\n",
       "    }\n",
       "\n",
       "    .dataframe thead th {\n",
       "        text-align: right;\n",
       "    }\n",
       "</style>\n",
       "<table border=\"1\" class=\"dataframe\">\n",
       "  <thead>\n",
       "    <tr style=\"text-align: right;\">\n",
       "      <th></th>\n",
       "      <th>label</th>\n",
       "      <th>prediction</th>\n",
       "      <th>probabilities</th>\n",
       "    </tr>\n",
       "    <tr>\n",
       "      <th>gene</th>\n",
       "      <th></th>\n",
       "      <th></th>\n",
       "      <th></th>\n",
       "    </tr>\n",
       "  </thead>\n",
       "  <tbody>\n",
       "    <tr>\n",
       "      <th>A1CF</th>\n",
       "      <td>0</td>\n",
       "      <td>0</td>\n",
       "      <td>0.999246</td>\n",
       "    </tr>\n",
       "    <tr>\n",
       "      <th>A2M</th>\n",
       "      <td>0</td>\n",
       "      <td>2</td>\n",
       "      <td>0.492280</td>\n",
       "    </tr>\n",
       "    <tr>\n",
       "      <th>AAGAB</th>\n",
       "      <td>0</td>\n",
       "      <td>0</td>\n",
       "      <td>0.665028</td>\n",
       "    </tr>\n",
       "    <tr>\n",
       "      <th>AARD</th>\n",
       "      <td>0</td>\n",
       "      <td>0</td>\n",
       "      <td>0.999324</td>\n",
       "    </tr>\n",
       "    <tr>\n",
       "      <th>AASDH</th>\n",
       "      <td>0</td>\n",
       "      <td>2</td>\n",
       "      <td>0.476863</td>\n",
       "    </tr>\n",
       "    <tr>\n",
       "      <th>...</th>\n",
       "      <td>...</td>\n",
       "      <td>...</td>\n",
       "      <td>...</td>\n",
       "    </tr>\n",
       "    <tr>\n",
       "      <th>ZSWIM7</th>\n",
       "      <td>0</td>\n",
       "      <td>0</td>\n",
       "      <td>0.983311</td>\n",
       "    </tr>\n",
       "    <tr>\n",
       "      <th>ZSWIM8</th>\n",
       "      <td>0</td>\n",
       "      <td>2</td>\n",
       "      <td>0.316870</td>\n",
       "    </tr>\n",
       "    <tr>\n",
       "      <th>ZXDA</th>\n",
       "      <td>0</td>\n",
       "      <td>0</td>\n",
       "      <td>0.996721</td>\n",
       "    </tr>\n",
       "    <tr>\n",
       "      <th>ZXDB</th>\n",
       "      <td>0</td>\n",
       "      <td>0</td>\n",
       "      <td>0.997809</td>\n",
       "    </tr>\n",
       "    <tr>\n",
       "      <th>ZYG11A</th>\n",
       "      <td>0</td>\n",
       "      <td>0</td>\n",
       "      <td>0.999969</td>\n",
       "    </tr>\n",
       "  </tbody>\n",
       "</table>\n",
       "<p>17236 rows × 3 columns</p>\n",
       "</div>"
      ],
      "text/plain": [
       "        label  prediction  probabilities\n",
       "gene                                    \n",
       "A1CF        0           0       0.999246\n",
       "A2M         0           2       0.492280\n",
       "AAGAB       0           0       0.665028\n",
       "AARD        0           0       0.999324\n",
       "AASDH       0           2       0.476863\n",
       "...       ...         ...            ...\n",
       "ZSWIM7      0           0       0.983311\n",
       "ZSWIM8      0           2       0.316870\n",
       "ZXDA        0           0       0.996721\n",
       "ZXDB        0           0       0.997809\n",
       "ZYG11A      0           0       0.999969\n",
       "\n",
       "[17236 rows x 3 columns]"
      ]
     },
     "execution_count": 4,
     "metadata": {},
     "output_type": "execute_result"
    }
   ],
   "source": [
    "predictions"
   ]
  },
  {
   "cell_type": "code",
   "execution_count": null,
   "metadata": {},
   "outputs": [
    {
     "data": {
      "text/plain": [
       "{'boosting_type': 'gbdt',\n",
       " 'learning_rate': 0.1,\n",
       " 'n_estimators': 200,\n",
       " 'n_jobs': -1,\n",
       " 'n_voters': -1,\n",
       " 'random_state': 42,\n",
       " 'verbose': True,\n",
       " 'voting': 'soft'}"
      ]
     },
     "execution_count": 5,
     "metadata": {},
     "output_type": "execute_result"
    }
   ],
   "source": [
    "svclf.get_params()"
   ]
  }
 ],
 "metadata": {
  "kernelspec": {
   "display_name": "base",
   "language": "python",
   "name": "python3"
  },
  "language_info": {
   "codemirror_mode": {
    "name": "ipython",
    "version": 3
   },
   "file_extension": ".py",
   "mimetype": "text/x-python",
   "name": "python",
   "nbconvert_exporter": "python",
   "pygments_lexer": "ipython3",
   "version": "3.8.undefined"
  }
 },
 "nbformat": 4,
 "nbformat_minor": 2
}
