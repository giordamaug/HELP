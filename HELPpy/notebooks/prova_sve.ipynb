{
 "cells": [
  {
   "cell_type": "code",
   "execution_count": 4,
   "metadata": {},
   "outputs": [
    {
     "name": "stdout",
     "output_type": "stream",
     "text": [
      "Majority 0 15994, 2nd major 1 1242\n"
     ]
    },
    {
     "data": {
      "text/plain": [
       "{'clf__boosting_type': 'gbdt',\n",
       " 'clf__class_weight': None,\n",
       " 'clf__colsample_bytree': 1.0,\n",
       " 'clf__importance_type': 'split',\n",
       " 'clf__learning_rate': 0.1,\n",
       " 'clf__max_depth': -1,\n",
       " 'clf__min_child_samples': 20,\n",
       " 'clf__min_child_weight': 0.001,\n",
       " 'clf__min_split_gain': 0.0,\n",
       " 'clf__n_estimators': 200,\n",
       " 'clf__n_jobs': -1,\n",
       " 'clf__num_leaves': 31,\n",
       " 'clf__objective': None,\n",
       " 'clf__random_state': None,\n",
       " 'clf__reg_alpha': 0.0,\n",
       " 'clf__reg_lambda': 0.0,\n",
       " 'clf__silent': 'warn',\n",
       " 'clf__subsample': 1.0,\n",
       " 'clf__subsample_for_bin': 200000,\n",
       " 'clf__subsample_freq': 0,\n",
       " 'clf': LGBMClassifier(n_estimators=200),\n",
       " 'n_jobs': -1,\n",
       " 'n_voters': 10,\n",
       " 'random_state': 42,\n",
       " 'verbose': True,\n",
       " 'voting': 'soft'}"
      ]
     },
     "execution_count": 4,
     "metadata": {},
     "output_type": "execute_result"
    }
   ],
   "source": [
    "import os, sys\n",
    "sys.path.append(os.path.dirname(\"../models\"))\n",
    "from models.classifiers import SplitVotingEnsemble, SplitVotingEnsembleLGBM\n",
    "from lightgbm import LGBMClassifier \n",
    "from sklearn.ensemble import RandomForestClassifier\n",
    "import pandas as pd\n",
    "import numpy as np\n",
    "from HELPpy.models.prediction import VotingEnsembleLGBM\n",
    "#clf = RandomForestClassifier()\n",
    "clf = LGBMClassifier(n_estimators=200)\n",
    "svclf = SplitVotingEnsemble(clf, n_voters=10, verbose=True)\n",
    "#svclf = VotingEnsembleLGBM(verbose=True)\n",
    "from sklearn.datasets import load_iris\n",
    "data = load_iris()\n",
    "#X = pd.DataFrame(data.data, columns=data.feature_names)\n",
    "#Y = pd.DataFrame(data['target'], columns=['target'])\n",
    "X = pd.read_csv(\"../../data/Kidney_BIO.csv\", index_col=0)\n",
    "#Y = pd.read_csv(\"../../data/Kidney_HELP.csv\", index_col=0).replace({'sNE':'NE', 'aE':'NE', 'E':'E'})\n",
    "Y = pd.read_csv(\"../../data/Kidney_HELP.csv\", index_col=0).replace({'sNE':0, 'aE':0, 'E':1})\n",
    "shdgenes = np.intersect1d(X.index.values, Y.index.values)\n",
    "X = X.loc[shdgenes]\n",
    "Y = Y.loc[shdgenes]\n",
    "preds = svclf.fit(X,Y).predict(X)\n",
    "svclf.get_params()"
   ]
  },
  {
   "cell_type": "code",
   "execution_count": 51,
   "metadata": {},
   "outputs": [
    {
     "data": {
      "text/plain": [
       "(array([[9.99999188e-01, 8.12057013e-07]]), array([0]))"
      ]
     },
     "execution_count": 51,
     "metadata": {},
     "output_type": "execute_result"
    }
   ],
   "source": [
    "svclf.predict_proba(X.loc[['AASDH']]), svclf.predict(X.loc[['AASDH']])\n"
   ]
  },
  {
   "cell_type": "code",
   "execution_count": 11,
   "metadata": {},
   "outputs": [
    {
     "data": {
      "text/plain": [
       "0.9220957859197199"
      ]
     },
     "execution_count": 11,
     "metadata": {},
     "output_type": "execute_result"
    }
   ],
   "source": [
    "from sklearn.metrics import balanced_accuracy_score\n",
    "balanced_accuracy_score(Y, preds)"
   ]
  },
  {
   "cell_type": "code",
   "execution_count": 50,
   "metadata": {},
   "outputs": [
    {
     "name": "stdout",
     "output_type": "stream",
     "text": [
      "{0: 0, 1: 1}\n",
      "label\n",
      "0        15994\n",
      "1         1242\n",
      "Name: count, dtype: int64\n",
      "\n"
     ]
    },
    {
     "data": {
      "application/vnd.jupyter.widget-view+json": {
       "model_id": "b78b283658b5487ab3ac188a28579400",
       "version_major": 2,
       "version_minor": 0
      },
      "text/plain": [
       "5-fold:   0%|          | 0/5 [00:00<?, ?it/s]"
      ]
     },
     "metadata": {},
     "output_type": "display_data"
    },
    {
     "name": "stdout",
     "output_type": "stream",
     "text": [
      "Majority 1 12795, 2nd major 0 993\n",
      "Majority 1 12795, 2nd major 0 994\n",
      "Majority 1 12795, 2nd major 0 994\n",
      "Majority 1 12795, 2nd major 0 994\n",
      "Majority 1 12796, 2nd major 0 993\n"
     ]
    },
    {
     "data": {
      "text/html": [
       "<div>\n",
       "<style scoped>\n",
       "    .dataframe tbody tr th:only-of-type {\n",
       "        vertical-align: middle;\n",
       "    }\n",
       "\n",
       "    .dataframe tbody tr th {\n",
       "        vertical-align: top;\n",
       "    }\n",
       "\n",
       "    .dataframe thead th {\n",
       "        text-align: right;\n",
       "    }\n",
       "</style>\n",
       "<table border=\"1\" class=\"dataframe\">\n",
       "  <thead>\n",
       "    <tr style=\"text-align: right;\">\n",
       "      <th></th>\n",
       "      <th>measure</th>\n",
       "    </tr>\n",
       "  </thead>\n",
       "  <tbody>\n",
       "    <tr>\n",
       "      <th>ROC-AUC</th>\n",
       "      <td>0.8979±0.0080</td>\n",
       "    </tr>\n",
       "    <tr>\n",
       "      <th>Accuracy</th>\n",
       "      <td>0.9296±0.0007</td>\n",
       "    </tr>\n",
       "    <tr>\n",
       "      <th>BA</th>\n",
       "      <td>0.5117±0.0059</td>\n",
       "    </tr>\n",
       "    <tr>\n",
       "      <th>Sensitivity</th>\n",
       "      <td>0.0233±0.0118</td>\n",
       "    </tr>\n",
       "    <tr>\n",
       "      <th>Specificity</th>\n",
       "      <td>1.0000±0.0000</td>\n",
       "    </tr>\n",
       "    <tr>\n",
       "      <th>MCC</th>\n",
       "      <td>0.1435±0.0370</td>\n",
       "    </tr>\n",
       "    <tr>\n",
       "      <th>CM</th>\n",
       "      <td>[[15994, 0], [1213, 29]]</td>\n",
       "    </tr>\n",
       "  </tbody>\n",
       "</table>\n",
       "</div>"
      ],
      "text/plain": [
       "                              measure\n",
       "ROC-AUC                 0.8979±0.0080\n",
       "Accuracy                0.9296±0.0007\n",
       "BA                      0.5117±0.0059\n",
       "Sensitivity             0.0233±0.0118\n",
       "Specificity             1.0000±0.0000\n",
       "MCC                     0.1435±0.0370\n",
       "CM           [[15994, 0], [1213, 29]]"
      ]
     },
     "execution_count": 50,
     "metadata": {},
     "output_type": "execute_result"
    }
   ],
   "source": [
    "from HELPpy.models.prediction import k_fold_cv, VotingEnsembleLGBM\n",
    "clf = LGBMClassifier(n_estimators=200)\n",
    "svclf = SplitVotingEnsemble(clf, verbose=True)\n",
    "svclf = SplitVotingEnsembleLGBM(n_estimators=200, verbose=True)\n",
    "#svclf = VotingEnsembleLGBM(n_estimators=200, verbose=True)\n",
    "df_scores, scores, predictions = k_fold_cv(X, Y, svclf, n_splits=5, seed=0, show_progress=True, verbose=True)\n",
    "df_scores"
   ]
  },
  {
   "cell_type": "code",
   "execution_count": 46,
   "metadata": {},
   "outputs": [
    {
     "data": {
      "text/html": [
       "<div>\n",
       "<style scoped>\n",
       "    .dataframe tbody tr th:only-of-type {\n",
       "        vertical-align: middle;\n",
       "    }\n",
       "\n",
       "    .dataframe tbody tr th {\n",
       "        vertical-align: top;\n",
       "    }\n",
       "\n",
       "    .dataframe thead th {\n",
       "        text-align: right;\n",
       "    }\n",
       "</style>\n",
       "<table border=\"1\" class=\"dataframe\">\n",
       "  <thead>\n",
       "    <tr style=\"text-align: right;\">\n",
       "      <th></th>\n",
       "      <th>label</th>\n",
       "      <th>prediction</th>\n",
       "      <th>probabilities</th>\n",
       "    </tr>\n",
       "    <tr>\n",
       "      <th>gene</th>\n",
       "      <th></th>\n",
       "      <th></th>\n",
       "      <th></th>\n",
       "    </tr>\n",
       "  </thead>\n",
       "  <tbody>\n",
       "    <tr>\n",
       "      <th>A1CF</th>\n",
       "      <td>0</td>\n",
       "      <td>0</td>\n",
       "      <td>0.999246</td>\n",
       "    </tr>\n",
       "    <tr>\n",
       "      <th>A2M</th>\n",
       "      <td>0</td>\n",
       "      <td>1</td>\n",
       "      <td>0.492280</td>\n",
       "    </tr>\n",
       "    <tr>\n",
       "      <th>AAGAB</th>\n",
       "      <td>0</td>\n",
       "      <td>0</td>\n",
       "      <td>0.665028</td>\n",
       "    </tr>\n",
       "    <tr>\n",
       "      <th>AARD</th>\n",
       "      <td>0</td>\n",
       "      <td>0</td>\n",
       "      <td>0.999324</td>\n",
       "    </tr>\n",
       "    <tr>\n",
       "      <th>AASDH</th>\n",
       "      <td>0</td>\n",
       "      <td>1</td>\n",
       "      <td>0.476863</td>\n",
       "    </tr>\n",
       "    <tr>\n",
       "      <th>...</th>\n",
       "      <td>...</td>\n",
       "      <td>...</td>\n",
       "      <td>...</td>\n",
       "    </tr>\n",
       "    <tr>\n",
       "      <th>ZSWIM7</th>\n",
       "      <td>0</td>\n",
       "      <td>0</td>\n",
       "      <td>0.983311</td>\n",
       "    </tr>\n",
       "    <tr>\n",
       "      <th>ZSWIM8</th>\n",
       "      <td>0</td>\n",
       "      <td>1</td>\n",
       "      <td>0.316870</td>\n",
       "    </tr>\n",
       "    <tr>\n",
       "      <th>ZXDA</th>\n",
       "      <td>0</td>\n",
       "      <td>0</td>\n",
       "      <td>0.996721</td>\n",
       "    </tr>\n",
       "    <tr>\n",
       "      <th>ZXDB</th>\n",
       "      <td>0</td>\n",
       "      <td>0</td>\n",
       "      <td>0.997809</td>\n",
       "    </tr>\n",
       "    <tr>\n",
       "      <th>ZYG11A</th>\n",
       "      <td>0</td>\n",
       "      <td>0</td>\n",
       "      <td>0.999969</td>\n",
       "    </tr>\n",
       "  </tbody>\n",
       "</table>\n",
       "<p>17236 rows × 3 columns</p>\n",
       "</div>"
      ],
      "text/plain": [
       "        label  prediction  probabilities\n",
       "gene                                    \n",
       "A1CF        0           0       0.999246\n",
       "A2M         0           1       0.492280\n",
       "AAGAB       0           0       0.665028\n",
       "AARD        0           0       0.999324\n",
       "AASDH       0           1       0.476863\n",
       "...       ...         ...            ...\n",
       "ZSWIM7      0           0       0.983311\n",
       "ZSWIM8      0           1       0.316870\n",
       "ZXDA        0           0       0.996721\n",
       "ZXDB        0           0       0.997809\n",
       "ZYG11A      0           0       0.999969\n",
       "\n",
       "[17236 rows x 3 columns]"
      ]
     },
     "execution_count": 46,
     "metadata": {},
     "output_type": "execute_result"
    }
   ],
   "source": [
    "predictions"
   ]
  },
  {
   "cell_type": "code",
   "execution_count": 7,
   "metadata": {},
   "outputs": [
    {
     "data": {
      "text/plain": [
       "{'boosting_type': 'gbdt',\n",
       " 'learning_rate': 0.1,\n",
       " 'n_estimators': 200,\n",
       " 'n_jobs': -1,\n",
       " 'n_voters': 13,\n",
       " 'random_state': 42,\n",
       " 'verbose': True,\n",
       " 'voting': 'soft'}"
      ]
     },
     "execution_count": 7,
     "metadata": {},
     "output_type": "execute_result"
    }
   ],
   "source": [
    "svclf.get_params()"
   ]
  }
 ],
 "metadata": {
  "kernelspec": {
   "display_name": "base",
   "language": "python",
   "name": "python3"
  },
  "language_info": {
   "codemirror_mode": {
    "name": "ipython",
    "version": 3
   },
   "file_extension": ".py",
   "mimetype": "text/x-python",
   "name": "python",
   "nbconvert_exporter": "python",
   "pygments_lexer": "ipython3",
   "version": "3.10.13"
  }
 },
 "nbformat": 4,
 "nbformat_minor": 2
}
