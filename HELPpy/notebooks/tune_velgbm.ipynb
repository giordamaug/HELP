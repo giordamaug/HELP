{
 "cells": [
  {
   "cell_type": "markdown",
   "metadata": {},
   "source": [
    "# Load optuna library"
   ]
  },
  {
   "cell_type": "code",
   "execution_count": 2,
   "metadata": {},
   "outputs": [],
   "source": [
    "import numpy as np\n",
    "import pandas as pd\n",
    "import os, sys \n",
    "import optuna"
   ]
  },
  {
   "cell_type": "markdown",
   "metadata": {},
   "source": [
    "# Load the dataset and split"
   ]
  },
  {
   "cell_type": "code",
   "execution_count": 3,
   "metadata": {
    "scrolled": true
   },
   "outputs": [
    {
     "data": {
      "application/json": {
       "ascii": false,
       "bar_format": null,
       "colour": null,
       "elapsed": 0.017391204833984375,
       "initial": 0,
       "n": 0,
       "ncols": null,
       "nrows": null,
       "postfix": null,
       "prefix": "Kidney_BIO.csv",
       "rate": null,
       "total": 19293,
       "unit": "it",
       "unit_divisor": 1000,
       "unit_scale": false
      },
      "application/vnd.jupyter.widget-view+json": {
       "model_id": "c8551bb141fb4e1d960c76c907acdcfd",
       "version_major": 2,
       "version_minor": 0
      },
      "text/plain": [
       "Kidney_BIO.csv:   0%|          | 0/19293 [00:00<?, ?it/s]"
      ]
     },
     "metadata": {},
     "output_type": "display_data"
    },
    {
     "data": {
      "application/json": {
       "ascii": false,
       "bar_format": null,
       "colour": null,
       "elapsed": 0.00787806510925293,
       "initial": 0,
       "n": 0,
       "ncols": null,
       "nrows": null,
       "postfix": null,
       "prefix": "Kidney_CCcfs.csv",
       "rate": null,
       "total": 19298,
       "unit": "it",
       "unit_divisor": 1000,
       "unit_scale": false
      },
      "application/vnd.jupyter.widget-view+json": {
       "model_id": "cf2a42ef9e5d4753933891c6e28da3e0",
       "version_major": 2,
       "version_minor": 0
      },
      "text/plain": [
       "Kidney_CCcfs.csv:   0%|          | 0/19298 [00:00<?, ?it/s]"
      ]
     },
     "metadata": {},
     "output_type": "display_data"
    },
    {
     "data": {
      "application/json": {
       "ascii": false,
       "bar_format": null,
       "colour": null,
       "elapsed": 0.007503986358642578,
       "initial": 0,
       "n": 0,
       "ncols": null,
       "nrows": null,
       "postfix": null,
       "prefix": "Kidney_EmbN2V_128.csv",
       "rate": null,
       "total": 19314,
       "unit": "it",
       "unit_divisor": 1000,
       "unit_scale": false
      },
      "application/vnd.jupyter.widget-view+json": {
       "model_id": "252ba88620504fe392b7fd7f9464a872",
       "version_major": 2,
       "version_minor": 0
      },
      "text/plain": [
       "Kidney_EmbN2V_128.csv:   0%|          | 0/19314 [00:00<?, ?it/s]"
      ]
     },
     "metadata": {},
     "output_type": "display_data"
    },
    {
     "data": {
      "application/json": {
       "ascii": false,
       "bar_format": null,
       "colour": null,
       "elapsed": 0.009060144424438477,
       "initial": 0,
       "n": 0,
       "ncols": null,
       "nrows": null,
       "postfix": null,
       "prefix": "Kidney_HELP.csv",
       "rate": null,
       "total": 17829,
       "unit": "it",
       "unit_divisor": 1000,
       "unit_scale": false
      },
      "application/vnd.jupyter.widget-view+json": {
       "model_id": "b2d1efd28c104e95aac3f7025d29025f",
       "version_major": 2,
       "version_minor": 0
      },
      "text/plain": [
       "Kidney_HELP.csv:   0%|          | 0/17829 [00:00<?, ?it/s]"
      ]
     },
     "metadata": {},
     "output_type": "display_data"
    }
   ],
   "source": [
    "from HELPpy.preprocess.loaders import load_features\n",
    "from HELPpy.utility.utils import pandas_readcsv\n",
    "from sklearn.model_selection import train_test_split\n",
    "path = '../../data'\n",
    "tissue = 'Kidney'\n",
    "attributes = load_features([os.path.join(path, f'{tissue}_BIO.csv'), \n",
    "                            os.path.join(path, f'{tissue}_CCcfs.csv'),\n",
    "                            os.path.join(path, f'{tissue}_EmbN2V_128.csv')\n",
    "                           ], \n",
    "                            fixnans=[True, True, False], normalizes=['std', 'std', None], verbose=False, show_progress=True)\n",
    "labelnme = f'{tissue}_HELP.csv'\n",
    "label = pandas_readcsv(os.path.join(path,labelnme), descr=f'{labelnme}', index_col=0).replace({'E': 1, 'aE':0, 'sNE': 0})\n",
    "idx_common = np.intersect1d(attributes.index.values, label.index.values)\n",
    "attributes = attributes.loc[idx_common]\n",
    "label = label.loc[idx_common]\n",
    "X_train, X_test, y_train, y_test = train_test_split(attributes, label, shuffle=False)\n",
    "train = pd.concat([X_train, y_train], axis=1)\n",
    "test = pd.concat([X_test, y_test], axis=1)"
   ]
  },
  {
   "cell_type": "markdown",
   "metadata": {},
   "source": [
    "# Start tuning session"
   ]
  },
  {
   "cell_type": "code",
   "execution_count": 16,
   "metadata": {},
   "outputs": [
    {
     "ename": "SyntaxError",
     "evalue": "invalid syntax (<ipython-input-16-642597212acf>, line 21)",
     "output_type": "error",
     "traceback": [
      "\u001b[0;36m  File \u001b[0;32m\"<ipython-input-16-642597212acf>\"\u001b[0;36m, line \u001b[0;32m21\u001b[0m\n\u001b[0;31m    load_if_exists=True,\u001b[0m\n\u001b[0m    ^\u001b[0m\n\u001b[0;31mSyntaxError\u001b[0m\u001b[0;31m:\u001b[0m invalid syntax\n"
     ]
    }
   ],
   "source": [
    "tissue = 'Kidney'\n",
    "from sklearn.metrics import *\n",
    "from HELPpy.models.prediction import VotingEnsembleLGBM\n",
    "def objective(trial):\n",
    "    params = {\n",
    "        'lr': trial.suggest_loguniform('lr', 1e-4, 1e-2),\n",
    "        'n_voters': trial.suggest_int('n_voters', 1, 20, 1),\n",
    "        'n_estimators': trial.suggest_int('n_estimators', 50, 200, 10),\n",
    "        'boosting_type': trial.suggest_categorical(\"boosting_type\", [\"gbdt\", \"dart\"])\n",
    "    }\n",
    "    gbm = VotingEnsembleLGBM(**params)\n",
    "    gbm.fit(X_train, y_train)\n",
    "    preds = gbm.predict(X_test)\n",
    "    ba = balanced_accuracy_score(y_test, preds)\n",
    "    mcc = matthews_corrcoef(y_test, preds)\n",
    "    return ba, mcc\n",
    "\n",
    "study = optuna.create_study(\n",
    "    study_name=f'velgbm_{tissue}',\n",
    "    direction=[\"minimize\", \"maximize\"],\n",
    "    load_if_exists=True,\n",
    "    #storage=f'sqlite:///{savepath}/gat_{name}.db'\n",
    "    )\n",
    "study.optimize(objective, n_trials=50)\n",
    "best_params = study.best_params\n",
    "print('Best Params:', best_params)\n",
    "df = study.trials_dataframe()\n",
    "df.to_csv(os.path.join(f'velgbm_{tissue}_hypersearch.csv'))\n",
    "print(df.head())\n"
   ]
  },
  {
   "cell_type": "code",
   "execution_count": 12,
   "metadata": {},
   "outputs": [
    {
     "data": {
      "text/plain": [
       "FrozenTrial(number=26, state=TrialState.COMPLETE, values=[0.888324761639347], datetime_start=datetime.datetime(2024, 5, 30, 22, 15, 8, 371116), datetime_complete=datetime.datetime(2024, 5, 30, 22, 16, 2, 200853), params={'lr': 0.0014991586485202525, 'n_voters': 20, 'n_estimators': 100, 'boosting_type': 'gbdt'}, user_attrs={}, system_attrs={}, intermediate_values={}, distributions={'lr': FloatDistribution(high=0.01, log=True, low=0.0001, step=None), 'n_voters': IntDistribution(high=20, log=False, low=1, step=1), 'n_estimators': IntDistribution(high=200, log=False, low=50, step=10), 'boosting_type': CategoricalDistribution(choices=('gbdt', 'dart'))}, trial_id=26, value=None)"
      ]
     },
     "execution_count": 12,
     "metadata": {},
     "output_type": "execute_result"
    }
   ],
   "source": [
    "pd.read_csv(f'velgbm_{tissue}_hypersearch.csv').sort_values('value', ascending=False)\n",
    "study.best_trial"
   ]
  },
  {
   "cell_type": "markdown",
   "metadata": {},
   "source": [
    "# TEst the best model"
   ]
  },
  {
   "cell_type": "code",
   "execution_count": 15,
   "metadata": {},
   "outputs": [
    {
     "name": "stdout",
     "output_type": "stream",
     "text": [
      "{0: 0, 1: 1}\n",
      "label\n",
      "0        15994\n",
      "1         1242\n",
      "dtype: int64\n",
      "Classification with VotingEnsembleLGBM...\n"
     ]
    },
    {
     "data": {
      "application/json": {
       "ascii": false,
       "bar_format": null,
       "colour": null,
       "elapsed": 0.012582063674926758,
       "initial": 0,
       "n": 0,
       "ncols": null,
       "nrows": null,
       "postfix": null,
       "prefix": "5-fold",
       "rate": null,
       "total": 5,
       "unit": "it",
       "unit_divisor": 1000,
       "unit_scale": false
      },
      "application/vnd.jupyter.widget-view+json": {
       "model_id": "fd19ff104f1a4c79bd4a763388f43734",
       "version_major": 2,
       "version_minor": 0
      },
      "text/plain": [
       "5-fold:   0%|          | 0/5 [00:00<?, ?it/s]"
      ]
     },
     "metadata": {},
     "output_type": "display_data"
    },
    {
     "data": {
      "text/html": [
       "<div>\n",
       "<style scoped>\n",
       "    .dataframe tbody tr th:only-of-type {\n",
       "        vertical-align: middle;\n",
       "    }\n",
       "\n",
       "    .dataframe tbody tr th {\n",
       "        vertical-align: top;\n",
       "    }\n",
       "\n",
       "    .dataframe thead th {\n",
       "        text-align: right;\n",
       "    }\n",
       "</style>\n",
       "<table border=\"1\" class=\"dataframe\">\n",
       "  <thead>\n",
       "    <tr style=\"text-align: right;\">\n",
       "      <th></th>\n",
       "      <th>measure</th>\n",
       "    </tr>\n",
       "  </thead>\n",
       "  <tbody>\n",
       "    <tr>\n",
       "      <th>ROC-AUC</th>\n",
       "      <td>0.9550±0.0049</td>\n",
       "    </tr>\n",
       "    <tr>\n",
       "      <th>Accuracy</th>\n",
       "      <td>0.8322±0.0038</td>\n",
       "    </tr>\n",
       "    <tr>\n",
       "      <th>BA</th>\n",
       "      <td>0.8769±0.0081</td>\n",
       "    </tr>\n",
       "    <tr>\n",
       "      <th>Sensitivity</th>\n",
       "      <td>0.8247±0.0050</td>\n",
       "    </tr>\n",
       "    <tr>\n",
       "      <th>Specificity</th>\n",
       "      <td>0.9291±0.0192</td>\n",
       "    </tr>\n",
       "    <tr>\n",
       "      <th>MCC</th>\n",
       "      <td>0.4635±0.0082</td>\n",
       "    </tr>\n",
       "    <tr>\n",
       "      <th>CM</th>\n",
       "      <td>[[13190, 2804], [88, 1154]]</td>\n",
       "    </tr>\n",
       "  </tbody>\n",
       "</table>\n",
       "</div>"
      ],
      "text/plain": [
       "                                 measure\n",
       "ROC-AUC                    0.9550±0.0049\n",
       "Accuracy                   0.8322±0.0038\n",
       "BA                         0.8769±0.0081\n",
       "Sensitivity                0.8247±0.0050\n",
       "Specificity                0.9291±0.0192\n",
       "MCC                        0.4635±0.0082\n",
       "CM           [[13190, 2804], [88, 1154]]"
      ]
     },
     "execution_count": 15,
     "metadata": {},
     "output_type": "execute_result"
    }
   ],
   "source": [
    "from HELPpy.models.prediction import VotingEnsembleLGBM, k_fold_cv\n",
    "clf = VotingEnsembleLGBM(**best_params)\n",
    "# train using create_model\n",
    "df_scores, scores, predictions = k_fold_cv(attributes, label, clf, n_splits=5, seed=0, show_progress=True, verbose=True)\n",
    "df_scores"
   ]
  }
 ],
 "metadata": {
  "kaggle": {
   "accelerator": "none",
   "dataSources": [
    {
     "datasetId": 4549240,
     "sourceId": 7775239,
     "sourceType": "datasetVersion"
    }
   ],
   "dockerImageVersionId": 30698,
   "isGpuEnabled": false,
   "isInternetEnabled": true,
   "language": "python",
   "sourceType": "notebook"
  },
  "kernelspec": {
   "display_name": "base",
   "language": "python",
   "name": "python3"
  },
  "language_info": {
   "codemirror_mode": {
    "name": "ipython",
    "version": 3
   },
   "file_extension": ".py",
   "mimetype": "text/x-python",
   "name": "python",
   "nbconvert_exporter": "python",
   "pygments_lexer": "ipython3",
   "version": "3.8.3"
  }
 },
 "nbformat": 4,
 "nbformat_minor": 4
}
