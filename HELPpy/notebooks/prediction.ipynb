{
 "cells": [
  {
   "cell_type": "markdown",
   "metadata": {
    "id": "lavaILXgTTl0"
   },
   "source": [
    "<a target=\"_blank\" href=\"https://colab.research.google.com/github/giordamaug/HELP/blob/main/HELPpy/notebooks/prediction.ipynb\">\n",
    "  <img src=\"https://colab.research.google.com/assets/colab-badge.svg\" alt=\"Open In Colab\"/>\n",
    "</a>\n",
    "<a target=\"_blank\" href=\"https://www.kaggle.com/notebooks/welcome?src=https://github.com/giordamaug/HELP/blob/main/HELPpy/notebooks/prediction.ipynb\">\n",
    "  <img src=\"https://kaggle.com/static/images/open-in-kaggle.svg\" alt=\"Open In Colab\"/>\n",
    "</a>"
   ]
  },
  {
   "cell_type": "markdown",
   "metadata": {
    "id": "joeFb6T-TTl3"
   },
   "source": [
    "# Install HELP from GitHub\n",
    "Skip this cell if you already have installed HELP."
   ]
  },
  {
   "cell_type": "code",
   "execution_count": null,
   "metadata": {
    "colab": {
     "base_uri": "https://localhost:8080/",
     "height": 1000
    },
    "id": "tuF0S73STTl4",
    "outputId": "e6d33ca9-a106-46fe-df06-3f8c3075441f"
   },
   "outputs": [],
   "source": [
    "!pip install git+https://github.com/giordamaug/HELP.git"
   ]
  },
  {
   "cell_type": "markdown",
   "metadata": {
    "id": "EFrBvM5ErPN4"
   },
   "source": [
    "# Download the input files\n",
    "In this cell we download from GitHub repository the label file and the attribute files. Skip this step if you already have these input files locally."
   ]
  },
  {
   "cell_type": "code",
   "execution_count": null,
   "metadata": {
    "colab": {
     "base_uri": "https://localhost:8080/"
    },
    "id": "1wbcOjf7TTl5",
    "outputId": "350746d3-7293-4f67-cc3a-7295acbfa022"
   },
   "outputs": [],
   "source": [
    "tissue='Kidney'\n",
    "!wget https://raw.githubusercontent.com/giordamaug/HELP/main/data/{tissue}_HELP.csv\n",
    "!wget https://raw.githubusercontent.com/giordamaug/HELP/main/data/{tissue}_BIO.csv\n",
    "for i in range(5):\n",
    "  !wget https://raw.githubusercontent.com/giordamaug/HELP/main/data/{tissue}_CCcfs_{i}.csv\n",
    "!wget https://raw.githubusercontent.com/giordamaug/HELP/main/data/{tissue}_EmbN2V_128.csv"
   ]
  },
  {
   "cell_type": "code",
   "execution_count": 1,
   "metadata": {},
   "outputs": [
    {
     "name": "stdout",
     "output_type": "stream",
     "text": [
      "/Users/maurizio/HELP/data\n"
     ]
    }
   ],
   "source": [
    "%cd ../../data"
   ]
  },
  {
   "cell_type": "markdown",
   "metadata": {
    "id": "yqSGGzfNTTl6"
   },
   "source": [
    "# Process the tissue attributes\n",
    "In this code we load tissue gene attributes by several datafiles. We apply missing values fixing and data scaling with `sklearn.preprocessing.StandardScaler` on the `BIO` and `CCcfs` attributes, while no normalization and fixing on embedding attributes (`EmbN2V_128`). The attributes are all merged in one matrix by the `feature_assemble` function as input for the prediction model building."
   ]
  },
  {
   "cell_type": "code",
   "execution_count": 3,
   "metadata": {
    "colab": {
     "base_uri": "https://localhost:8080/",
     "height": 728
    },
    "execution": {
     "iopub.execute_input": "2024-02-13T11:09:02.545717Z",
     "iopub.status.busy": "2024-02-13T11:09:02.545238Z",
     "iopub.status.idle": "2024-02-13T11:09:16.557744Z",
     "shell.execute_reply": "2024-02-13T11:09:16.556982Z",
     "shell.execute_reply.started": "2024-02-13T11:09:02.545678Z"
    },
    "id": "toAayH83TTl7",
    "outputId": "25f23ce9-ac16-4ecc-95ee-8153c74656d2"
   },
   "outputs": [
    {
     "name": "stdout",
     "output_type": "stream",
     "text": [
      "label\n",
      "NE       16678\n",
      "E         1253\n",
      "dtype: int64\n",
      "Majority NE 16678 minority E 1253\n",
      "[Kidney_BIO.csv] found 52532 Nan...\n",
      "[Kidney_BIO.csv] Normalization with std ...\n"
     ]
    },
    {
     "name": "stderr",
     "output_type": "stream",
     "text": [
      "Loading file in chunks: 100%|██████████| 5/5 [00:08<00:00,  1.77s/it]\n"
     ]
    },
    {
     "name": "stdout",
     "output_type": "stream",
     "text": [
      "[Kidney_CCcfs.csv] found 6676644 Nan...\n",
      "[Kidney_CCcfs.csv] Normalization with std ...\n",
      "[Kidney_EmbN2V_128.csv] found 0 Nan...\n",
      "[Kidney_EmbN2V_128.csv] No normalization...\n",
      "17236 labeled genes over a total of 17931\n",
      "(17236, 3456) data input\n",
      "label\n",
      "NE       15994\n",
      "E         1242\n",
      "dtype: int64\n"
     ]
    },
    {
     "data": {
      "text/html": [
       "<div>\n",
       "<style scoped>\n",
       "    .dataframe tbody tr th:only-of-type {\n",
       "        vertical-align: middle;\n",
       "    }\n",
       "\n",
       "    .dataframe tbody tr th {\n",
       "        vertical-align: top;\n",
       "    }\n",
       "\n",
       "    .dataframe thead th {\n",
       "        text-align: right;\n",
       "    }\n",
       "</style>\n",
       "<table border=\"1\" class=\"dataframe\">\n",
       "  <thead>\n",
       "    <tr style=\"text-align: right;\">\n",
       "      <th></th>\n",
       "      <th>Gene length</th>\n",
       "      <th>Transcripts count</th>\n",
       "      <th>GC content</th>\n",
       "      <th>GTEX_kidney</th>\n",
       "      <th>Gene-Disease association</th>\n",
       "      <th>OncoDB_expression</th>\n",
       "      <th>HPA_kidney</th>\n",
       "      <th>GO-MF</th>\n",
       "      <th>GO-BP</th>\n",
       "      <th>GO-CC</th>\n",
       "      <th>...</th>\n",
       "      <th>Node2Vec_119</th>\n",
       "      <th>Node2Vec_120</th>\n",
       "      <th>Node2Vec_121</th>\n",
       "      <th>Node2Vec_122</th>\n",
       "      <th>Node2Vec_123</th>\n",
       "      <th>Node2Vec_124</th>\n",
       "      <th>Node2Vec_125</th>\n",
       "      <th>Node2Vec_126</th>\n",
       "      <th>Node2Vec_127</th>\n",
       "      <th>label</th>\n",
       "    </tr>\n",
       "  </thead>\n",
       "  <tbody>\n",
       "    <tr>\n",
       "      <th>A1BG</th>\n",
       "      <td>0.003351</td>\n",
       "      <td>0.020942</td>\n",
       "      <td>0.501832</td>\n",
       "      <td>2.044542e-05</td>\n",
       "      <td>0.002950</td>\n",
       "      <td>NaN</td>\n",
       "      <td>0.000002</td>\n",
       "      <td>NaN</td>\n",
       "      <td>NaN</td>\n",
       "      <td>0.115385</td>\n",
       "      <td>...</td>\n",
       "      <td>0.120922</td>\n",
       "      <td>-0.352630</td>\n",
       "      <td>0.580697</td>\n",
       "      <td>-0.659300</td>\n",
       "      <td>-1.320486</td>\n",
       "      <td>1.019308</td>\n",
       "      <td>-0.469064</td>\n",
       "      <td>0.123211</td>\n",
       "      <td>0.557266</td>\n",
       "      <td>NE</td>\n",
       "    </tr>\n",
       "    <tr>\n",
       "      <th>A1CF</th>\n",
       "      <td>0.034865</td>\n",
       "      <td>0.047120</td>\n",
       "      <td>0.160530</td>\n",
       "      <td>1.980884e-05</td>\n",
       "      <td>NaN</td>\n",
       "      <td>0.556939</td>\n",
       "      <td>0.000232</td>\n",
       "      <td>0.069767</td>\n",
       "      <td>0.041026</td>\n",
       "      <td>0.096154</td>\n",
       "      <td>...</td>\n",
       "      <td>-1.162494</td>\n",
       "      <td>0.155702</td>\n",
       "      <td>-1.162071</td>\n",
       "      <td>0.534082</td>\n",
       "      <td>0.798872</td>\n",
       "      <td>0.149595</td>\n",
       "      <td>-0.360515</td>\n",
       "      <td>-1.060540</td>\n",
       "      <td>-0.408493</td>\n",
       "      <td>NE</td>\n",
       "    </tr>\n",
       "    <tr>\n",
       "      <th>A2M</th>\n",
       "      <td>0.019624</td>\n",
       "      <td>0.062827</td>\n",
       "      <td>0.176932</td>\n",
       "      <td>3.377232e-03</td>\n",
       "      <td>0.073746</td>\n",
       "      <td>0.584540</td>\n",
       "      <td>0.005382</td>\n",
       "      <td>0.302326</td>\n",
       "      <td>0.056410</td>\n",
       "      <td>0.076923</td>\n",
       "      <td>...</td>\n",
       "      <td>0.150766</td>\n",
       "      <td>1.492019</td>\n",
       "      <td>0.209449</td>\n",
       "      <td>-1.034729</td>\n",
       "      <td>-0.064318</td>\n",
       "      <td>0.029690</td>\n",
       "      <td>0.138344</td>\n",
       "      <td>0.806095</td>\n",
       "      <td>-0.496128</td>\n",
       "      <td>NE</td>\n",
       "    </tr>\n",
       "    <tr>\n",
       "      <th>A2ML1</th>\n",
       "      <td>0.026017</td>\n",
       "      <td>0.041885</td>\n",
       "      <td>0.299948</td>\n",
       "      <td>5.123403e-07</td>\n",
       "      <td>0.017699</td>\n",
       "      <td>NaN</td>\n",
       "      <td>0.000000</td>\n",
       "      <td>0.069767</td>\n",
       "      <td>0.005128</td>\n",
       "      <td>0.038462</td>\n",
       "      <td>...</td>\n",
       "      <td>0.191344</td>\n",
       "      <td>-0.542462</td>\n",
       "      <td>0.746510</td>\n",
       "      <td>0.082089</td>\n",
       "      <td>-1.109212</td>\n",
       "      <td>0.406936</td>\n",
       "      <td>-1.332319</td>\n",
       "      <td>-0.363864</td>\n",
       "      <td>0.443284</td>\n",
       "      <td>NE</td>\n",
       "    </tr>\n",
       "    <tr>\n",
       "      <th>A3GALT2</th>\n",
       "      <td>0.005784</td>\n",
       "      <td>0.000000</td>\n",
       "      <td>0.473739</td>\n",
       "      <td>1.421472e-06</td>\n",
       "      <td>NaN</td>\n",
       "      <td>0.663540</td>\n",
       "      <td>0.000000</td>\n",
       "      <td>0.069767</td>\n",
       "      <td>0.015385</td>\n",
       "      <td>0.057692</td>\n",
       "      <td>...</td>\n",
       "      <td>0.483003</td>\n",
       "      <td>-0.197605</td>\n",
       "      <td>0.164332</td>\n",
       "      <td>0.040729</td>\n",
       "      <td>-0.552362</td>\n",
       "      <td>0.242761</td>\n",
       "      <td>0.223486</td>\n",
       "      <td>0.017539</td>\n",
       "      <td>-0.526580</td>\n",
       "      <td>NE</td>\n",
       "    </tr>\n",
       "    <tr>\n",
       "      <th>...</th>\n",
       "      <td>...</td>\n",
       "      <td>...</td>\n",
       "      <td>...</td>\n",
       "      <td>...</td>\n",
       "      <td>...</td>\n",
       "      <td>...</td>\n",
       "      <td>...</td>\n",
       "      <td>...</td>\n",
       "      <td>...</td>\n",
       "      <td>...</td>\n",
       "      <td>...</td>\n",
       "      <td>...</td>\n",
       "      <td>...</td>\n",
       "      <td>...</td>\n",
       "      <td>...</td>\n",
       "      <td>...</td>\n",
       "      <td>...</td>\n",
       "      <td>...</td>\n",
       "      <td>...</td>\n",
       "      <td>...</td>\n",
       "      <td>...</td>\n",
       "    </tr>\n",
       "    <tr>\n",
       "      <th>ZYG11A</th>\n",
       "      <td>0.021209</td>\n",
       "      <td>0.010471</td>\n",
       "      <td>0.288257</td>\n",
       "      <td>7.073108e-06</td>\n",
       "      <td>NaN</td>\n",
       "      <td>0.634761</td>\n",
       "      <td>0.000055</td>\n",
       "      <td>NaN</td>\n",
       "      <td>NaN</td>\n",
       "      <td>0.000000</td>\n",
       "      <td>...</td>\n",
       "      <td>-0.717935</td>\n",
       "      <td>-0.072597</td>\n",
       "      <td>0.585837</td>\n",
       "      <td>0.172081</td>\n",
       "      <td>-0.278010</td>\n",
       "      <td>0.170799</td>\n",
       "      <td>0.267462</td>\n",
       "      <td>-0.211294</td>\n",
       "      <td>-0.940943</td>\n",
       "      <td>NE</td>\n",
       "    </tr>\n",
       "    <tr>\n",
       "      <th>ZYG11B</th>\n",
       "      <td>0.040775</td>\n",
       "      <td>0.005236</td>\n",
       "      <td>0.248648</td>\n",
       "      <td>7.271294e-05</td>\n",
       "      <td>NaN</td>\n",
       "      <td>0.646090</td>\n",
       "      <td>0.000238</td>\n",
       "      <td>0.000000</td>\n",
       "      <td>0.005128</td>\n",
       "      <td>0.000000</td>\n",
       "      <td>...</td>\n",
       "      <td>0.372134</td>\n",
       "      <td>0.007040</td>\n",
       "      <td>-0.278071</td>\n",
       "      <td>-1.309595</td>\n",
       "      <td>-0.352476</td>\n",
       "      <td>0.732887</td>\n",
       "      <td>0.156505</td>\n",
       "      <td>0.516706</td>\n",
       "      <td>-0.412953</td>\n",
       "      <td>NE</td>\n",
       "    </tr>\n",
       "    <tr>\n",
       "      <th>ZYX</th>\n",
       "      <td>0.003958</td>\n",
       "      <td>0.047120</td>\n",
       "      <td>0.539522</td>\n",
       "      <td>8.282866e-04</td>\n",
       "      <td>NaN</td>\n",
       "      <td>0.672638</td>\n",
       "      <td>0.000177</td>\n",
       "      <td>0.046512</td>\n",
       "      <td>0.035897</td>\n",
       "      <td>0.153846</td>\n",
       "      <td>...</td>\n",
       "      <td>-0.316321</td>\n",
       "      <td>-0.382132</td>\n",
       "      <td>0.400354</td>\n",
       "      <td>0.322564</td>\n",
       "      <td>0.400369</td>\n",
       "      <td>0.188850</td>\n",
       "      <td>0.593201</td>\n",
       "      <td>-0.093008</td>\n",
       "      <td>-0.508902</td>\n",
       "      <td>NE</td>\n",
       "    </tr>\n",
       "    <tr>\n",
       "      <th>ZZEF1</th>\n",
       "      <td>0.056017</td>\n",
       "      <td>0.052356</td>\n",
       "      <td>0.304484</td>\n",
       "      <td>9.626291e-05</td>\n",
       "      <td>NaN</td>\n",
       "      <td>NaN</td>\n",
       "      <td>0.000121</td>\n",
       "      <td>0.093023</td>\n",
       "      <td>NaN</td>\n",
       "      <td>NaN</td>\n",
       "      <td>...</td>\n",
       "      <td>-0.520060</td>\n",
       "      <td>-0.000595</td>\n",
       "      <td>-0.101278</td>\n",
       "      <td>-0.468345</td>\n",
       "      <td>0.240905</td>\n",
       "      <td>-0.124018</td>\n",
       "      <td>0.568793</td>\n",
       "      <td>-0.422793</td>\n",
       "      <td>-0.701705</td>\n",
       "      <td>NE</td>\n",
       "    </tr>\n",
       "    <tr>\n",
       "      <th>ZZZ3</th>\n",
       "      <td>0.048909</td>\n",
       "      <td>0.052356</td>\n",
       "      <td>0.176758</td>\n",
       "      <td>7.179946e-05</td>\n",
       "      <td>0.000000</td>\n",
       "      <td>NaN</td>\n",
       "      <td>0.000267</td>\n",
       "      <td>0.093023</td>\n",
       "      <td>0.051282</td>\n",
       "      <td>0.057692</td>\n",
       "      <td>...</td>\n",
       "      <td>-0.348640</td>\n",
       "      <td>-0.423926</td>\n",
       "      <td>-0.078769</td>\n",
       "      <td>0.163239</td>\n",
       "      <td>-0.302664</td>\n",
       "      <td>0.505735</td>\n",
       "      <td>0.001912</td>\n",
       "      <td>0.406448</td>\n",
       "      <td>-0.296505</td>\n",
       "      <td>NE</td>\n",
       "    </tr>\n",
       "  </tbody>\n",
       "</table>\n",
       "<p>17236 rows × 3457 columns</p>\n",
       "</div>"
      ],
      "text/plain": [
       "         Gene length  Transcripts count  GC content   GTEX_kidney  \\\n",
       "A1BG        0.003351           0.020942    0.501832  2.044542e-05   \n",
       "A1CF        0.034865           0.047120    0.160530  1.980884e-05   \n",
       "A2M         0.019624           0.062827    0.176932  3.377232e-03   \n",
       "A2ML1       0.026017           0.041885    0.299948  5.123403e-07   \n",
       "A3GALT2     0.005784           0.000000    0.473739  1.421472e-06   \n",
       "...              ...                ...         ...           ...   \n",
       "ZYG11A      0.021209           0.010471    0.288257  7.073108e-06   \n",
       "ZYG11B      0.040775           0.005236    0.248648  7.271294e-05   \n",
       "ZYX         0.003958           0.047120    0.539522  8.282866e-04   \n",
       "ZZEF1       0.056017           0.052356    0.304484  9.626291e-05   \n",
       "ZZZ3        0.048909           0.052356    0.176758  7.179946e-05   \n",
       "\n",
       "         Gene-Disease association  OncoDB_expression  HPA_kidney     GO-MF  \\\n",
       "A1BG                     0.002950                NaN    0.000002       NaN   \n",
       "A1CF                          NaN           0.556939    0.000232  0.069767   \n",
       "A2M                      0.073746           0.584540    0.005382  0.302326   \n",
       "A2ML1                    0.017699                NaN    0.000000  0.069767   \n",
       "A3GALT2                       NaN           0.663540    0.000000  0.069767   \n",
       "...                           ...                ...         ...       ...   \n",
       "ZYG11A                        NaN           0.634761    0.000055       NaN   \n",
       "ZYG11B                        NaN           0.646090    0.000238  0.000000   \n",
       "ZYX                           NaN           0.672638    0.000177  0.046512   \n",
       "ZZEF1                         NaN                NaN    0.000121  0.093023   \n",
       "ZZZ3                     0.000000                NaN    0.000267  0.093023   \n",
       "\n",
       "            GO-BP     GO-CC  ...  Node2Vec_119  Node2Vec_120  Node2Vec_121  \\\n",
       "A1BG          NaN  0.115385  ...      0.120922     -0.352630      0.580697   \n",
       "A1CF     0.041026  0.096154  ...     -1.162494      0.155702     -1.162071   \n",
       "A2M      0.056410  0.076923  ...      0.150766      1.492019      0.209449   \n",
       "A2ML1    0.005128  0.038462  ...      0.191344     -0.542462      0.746510   \n",
       "A3GALT2  0.015385  0.057692  ...      0.483003     -0.197605      0.164332   \n",
       "...           ...       ...  ...           ...           ...           ...   \n",
       "ZYG11A        NaN  0.000000  ...     -0.717935     -0.072597      0.585837   \n",
       "ZYG11B   0.005128  0.000000  ...      0.372134      0.007040     -0.278071   \n",
       "ZYX      0.035897  0.153846  ...     -0.316321     -0.382132      0.400354   \n",
       "ZZEF1         NaN       NaN  ...     -0.520060     -0.000595     -0.101278   \n",
       "ZZZ3     0.051282  0.057692  ...     -0.348640     -0.423926     -0.078769   \n",
       "\n",
       "         Node2Vec_122  Node2Vec_123  Node2Vec_124  Node2Vec_125  Node2Vec_126  \\\n",
       "A1BG        -0.659300     -1.320486      1.019308     -0.469064      0.123211   \n",
       "A1CF         0.534082      0.798872      0.149595     -0.360515     -1.060540   \n",
       "A2M         -1.034729     -0.064318      0.029690      0.138344      0.806095   \n",
       "A2ML1        0.082089     -1.109212      0.406936     -1.332319     -0.363864   \n",
       "A3GALT2      0.040729     -0.552362      0.242761      0.223486      0.017539   \n",
       "...               ...           ...           ...           ...           ...   \n",
       "ZYG11A       0.172081     -0.278010      0.170799      0.267462     -0.211294   \n",
       "ZYG11B      -1.309595     -0.352476      0.732887      0.156505      0.516706   \n",
       "ZYX          0.322564      0.400369      0.188850      0.593201     -0.093008   \n",
       "ZZEF1       -0.468345      0.240905     -0.124018      0.568793     -0.422793   \n",
       "ZZZ3         0.163239     -0.302664      0.505735      0.001912      0.406448   \n",
       "\n",
       "         Node2Vec_127  label  \n",
       "A1BG         0.557266     NE  \n",
       "A1CF        -0.408493     NE  \n",
       "A2M         -0.496128     NE  \n",
       "A2ML1        0.443284     NE  \n",
       "A3GALT2     -0.526580     NE  \n",
       "...               ...    ...  \n",
       "ZYG11A      -0.940943     NE  \n",
       "ZYG11B      -0.412953     NE  \n",
       "ZYX         -0.508902     NE  \n",
       "ZZEF1       -0.701705     NE  \n",
       "ZZZ3        -0.296505     NE  \n",
       "\n",
       "[17236 rows x 3457 columns]"
      ]
     },
     "execution_count": 3,
     "metadata": {},
     "output_type": "execute_result"
    }
   ],
   "source": [
    "tissue='Kidney'\n",
    "import pandas as pd\n",
    "from HELPpy.preprocess.loaders import feature_assemble_df\n",
    "import os\n",
    "df_y = pd.read_csv(f\"{tissue}_HELP.csv\", index_col=0)\n",
    "df_y = df_y.replace({'aE': 'NE', 'sNE': 'NE'})    # E vs NE problem\n",
    "#df_y = df_y[df_y['label'].isin(['aE']) == False]   # E vs sNE problem\n",
    "#df_y = df_y[df_y['label'].isin(['E']) == False]    # aE vs sNE problem\n",
    "#df_y = df_y[df_y['label'].isin(['sNE']) == False]  # E vs aE problem\n",
    "print(df_y.value_counts(normalize=False))\n",
    "features = [{'fname': f'{tissue}_BIO.csv', 'fixna' : False, 'normalize': 'std'},\n",
    "            {'fname': f'{tissue}_CCcfs.csv', 'fixna' : False, 'normalize': 'std', 'nchunks' : 5},\n",
    "            {'fname': f'{tissue}_EmbN2V_128.csv', 'fixna' : False, 'normalize': None}\n",
    "            ]\n",
    "df_X, df_y = feature_assemble_df(df_y, features=features, verbose=True)\n",
    "print(df_y.value_counts(normalize=False))\n",
    "pd.merge(df_X, df_y, left_index=True, right_index=True, how='outer')"
   ]
  },
  {
   "cell_type": "markdown",
   "metadata": {
    "id": "M6BNWY5ZTTl7"
   },
   "source": [
    "# Prediction\n",
    "We process k-fold cross validation of a LightGBM classifier (`n_splits=5`), and then we store predictions and print metrics."
   ]
  },
  {
   "cell_type": "code",
   "execution_count": 5,
   "metadata": {
    "colab": {
     "base_uri": "https://localhost:8080/",
     "height": 826
    },
    "execution": {
     "iopub.execute_input": "2024-02-13T11:10:00.204889Z",
     "iopub.status.busy": "2024-02-13T11:10:00.204465Z",
     "iopub.status.idle": "2024-02-13T11:11:26.962373Z",
     "shell.execute_reply": "2024-02-13T11:11:26.961282Z",
     "shell.execute_reply.started": "2024-02-13T11:10:00.204855Z"
    },
    "id": "uT4OjXZ7TTl7",
    "outputId": "2187611f-3476-4f56-8597-09dfde9e6b86"
   },
   "outputs": [
    {
     "name": "stdout",
     "output_type": "stream",
     "text": [
      "Majority NE 15994, minority E 1242\n",
      "{'E': 0, 'NE': 1}\n",
      "label\n",
      "NE       1600\n",
      "E        1242\n",
      "dtype: int64\n",
      "Classification with LGBM...\n"
     ]
    },
    {
     "name": "stderr",
     "output_type": "stream",
     "text": [
      "5-fold: 100%|██████████| 5/5 [00:50<00:00, 10.05s/it]\n"
     ]
    },
    {
     "name": "stdout",
     "output_type": "stream",
     "text": [
      "{'E': 0, 'NE': 1}\n",
      "label\n",
      "NE       1600\n",
      "E        1242\n",
      "dtype: int64\n",
      "Classification with LGBM...\n"
     ]
    },
    {
     "name": "stderr",
     "output_type": "stream",
     "text": [
      "5-fold: 100%|██████████| 5/5 [00:51<00:00, 10.31s/it]\n"
     ]
    },
    {
     "name": "stdout",
     "output_type": "stream",
     "text": [
      "{'E': 0, 'NE': 1}\n",
      "label\n",
      "NE       1600\n",
      "E        1242\n",
      "dtype: int64\n",
      "Classification with LGBM...\n"
     ]
    },
    {
     "name": "stderr",
     "output_type": "stream",
     "text": [
      "5-fold: 100%|██████████| 5/5 [00:52<00:00, 10.60s/it]\n"
     ]
    },
    {
     "name": "stdout",
     "output_type": "stream",
     "text": [
      "{'E': 0, 'NE': 1}\n",
      "label\n",
      "NE       1600\n",
      "E        1242\n",
      "dtype: int64\n",
      "Classification with LGBM...\n"
     ]
    },
    {
     "name": "stderr",
     "output_type": "stream",
     "text": [
      "5-fold: 100%|██████████| 5/5 [00:51<00:00, 10.29s/it]\n"
     ]
    },
    {
     "name": "stdout",
     "output_type": "stream",
     "text": [
      "{'E': 0, 'NE': 1}\n",
      "label\n",
      "NE       1599\n",
      "E        1242\n",
      "dtype: int64\n",
      "Classification with LGBM...\n"
     ]
    },
    {
     "name": "stderr",
     "output_type": "stream",
     "text": [
      "5-fold: 100%|██████████| 5/5 [00:47<00:00,  9.44s/it]\n"
     ]
    },
    {
     "name": "stdout",
     "output_type": "stream",
     "text": [
      "{'E': 0, 'NE': 1}\n",
      "label\n",
      "NE       1599\n",
      "E        1242\n",
      "dtype: int64\n",
      "Classification with LGBM...\n"
     ]
    },
    {
     "name": "stderr",
     "output_type": "stream",
     "text": [
      "5-fold: 100%|██████████| 5/5 [00:49<00:00,  9.82s/it]\n"
     ]
    },
    {
     "name": "stdout",
     "output_type": "stream",
     "text": [
      "{'E': 0, 'NE': 1}\n",
      "label\n",
      "NE       1599\n",
      "E        1242\n",
      "dtype: int64\n",
      "Classification with LGBM...\n"
     ]
    },
    {
     "name": "stderr",
     "output_type": "stream",
     "text": [
      "5-fold: 100%|██████████| 5/5 [00:52<00:00, 10.57s/it]\n"
     ]
    },
    {
     "name": "stdout",
     "output_type": "stream",
     "text": [
      "{'E': 0, 'NE': 1}\n",
      "label\n",
      "NE       1599\n",
      "E        1242\n",
      "dtype: int64\n",
      "Classification with LGBM...\n"
     ]
    },
    {
     "name": "stderr",
     "output_type": "stream",
     "text": [
      "5-fold: 100%|██████████| 5/5 [00:49<00:00,  9.89s/it]\n"
     ]
    },
    {
     "name": "stdout",
     "output_type": "stream",
     "text": [
      "{'E': 0, 'NE': 1}\n",
      "label\n",
      "NE       1599\n",
      "E        1242\n",
      "dtype: int64\n",
      "Classification with LGBM...\n"
     ]
    },
    {
     "name": "stderr",
     "output_type": "stream",
     "text": [
      "5-fold: 100%|██████████| 5/5 [00:47<00:00,  9.55s/it]\n"
     ]
    },
    {
     "name": "stdout",
     "output_type": "stream",
     "text": [
      "{'E': 0, 'NE': 1}\n",
      "label\n",
      "NE       1599\n",
      "E        1242\n",
      "dtype: int64\n",
      "Classification with LGBM...\n"
     ]
    },
    {
     "name": "stderr",
     "output_type": "stream",
     "text": [
      "5-fold: 100%|██████████| 5/5 [00:41<00:00,  8.38s/it]\n"
     ]
    },
    {
     "data": {
      "text/html": [
       "<div>\n",
       "<style scoped>\n",
       "    .dataframe tbody tr th:only-of-type {\n",
       "        vertical-align: middle;\n",
       "    }\n",
       "\n",
       "    .dataframe tbody tr th {\n",
       "        vertical-align: top;\n",
       "    }\n",
       "\n",
       "    .dataframe thead th {\n",
       "        text-align: right;\n",
       "    }\n",
       "</style>\n",
       "<table border=\"1\" class=\"dataframe\">\n",
       "  <thead>\n",
       "    <tr style=\"text-align: right;\">\n",
       "      <th></th>\n",
       "      <th>ROC-AUC</th>\n",
       "      <th>Accuracy</th>\n",
       "      <th>BA</th>\n",
       "      <th>Sensitivity</th>\n",
       "      <th>Specificity</th>\n",
       "      <th>MCC</th>\n",
       "      <th>CM</th>\n",
       "    </tr>\n",
       "  </thead>\n",
       "  <tbody>\n",
       "    <tr>\n",
       "      <th>42</th>\n",
       "      <td>0.963653</td>\n",
       "      <td>0.906707</td>\n",
       "      <td>0.905173</td>\n",
       "      <td>0.903382</td>\n",
       "      <td>0.906965</td>\n",
       "      <td>0.584557</td>\n",
       "      <td>[[1122, 120], [1488, 14506]]</td>\n",
       "    </tr>\n",
       "  </tbody>\n",
       "</table>\n",
       "</div>"
      ],
      "text/plain": [
       "     ROC-AUC  Accuracy        BA  Sensitivity  Specificity       MCC  \\\n",
       "42  0.963653  0.906707  0.905173     0.903382     0.906965  0.584557   \n",
       "\n",
       "                              CM  \n",
       "42  [[1122, 120], [1488, 14506]]  "
      ]
     },
     "execution_count": 5,
     "metadata": {},
     "output_type": "execute_result"
    }
   ],
   "source": [
    "from HELPpy.models.prediction import predict_cv_sv\n",
    "df_scores, predictions = predict_cv_sv(df_X, df_y, n_voters=10, n_splits=5, balanced=True, verbose=True)\n",
    "df_scores"
   ]
  },
  {
   "cell_type": "markdown",
   "metadata": {},
   "source": [
    "## True Positive rates of context-specific EGs"
   ]
  },
  {
   "cell_type": "code",
   "execution_count": 8,
   "metadata": {},
   "outputs": [
    {
     "name": "stdout",
     "output_type": "stream",
     "text": [
      "csEG Kidney TPR = 0.780 (46/59)\n"
     ]
    }
   ],
   "source": [
    "import numpy as np\n",
    "csEGs = pd.read_csv(\"csEG_Kidney.txt\", index_col=0, header=None).index.values\n",
    "indices = np.intersect1d(csEGs, predictions.index.values)\n",
    "predictions = predictions.loc[indices]\n",
    "num = len(predictions[predictions['label'] == predictions['prediction']])\n",
    "den = len(predictions)\n",
    "print(f\"csEG Kidney TPR = {num /den:.3f} ({num}/{den})\")"
   ]
  }
 ],
 "metadata": {
  "colab": {
   "provenance": []
  },
  "kaggle": {
   "accelerator": "none",
   "dataSources": [
    {
     "datasetId": 4375833,
     "sourceId": 7595933,
     "sourceType": "datasetVersion"
    }
   ],
   "dockerImageVersionId": 30646,
   "isGpuEnabled": false,
   "isInternetEnabled": true,
   "language": "python",
   "sourceType": "notebook"
  },
  "kernelspec": {
   "display_name": "Python 3",
   "language": "python",
   "name": "python3"
  },
  "language_info": {
   "codemirror_mode": {
    "name": "ipython",
    "version": 3
   },
   "file_extension": ".py",
   "mimetype": "text/x-python",
   "name": "python",
   "nbconvert_exporter": "python",
   "pygments_lexer": "ipython3",
   "version": "3.8.3"
  }
 },
 "nbformat": 4,
 "nbformat_minor": 4
}
