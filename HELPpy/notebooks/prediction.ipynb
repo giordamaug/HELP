{
  "cells": [
    {
      "cell_type": "markdown",
      "metadata": {
        "id": "lavaILXgTTl0"
      },
      "source": [
        "<a target=\"_blank\" href=\"https://colab.research.google.com/github/giordamaug/HELP/blob/main/HELPpy/notebooks/prediction.ipynb\">\n",
        "  <img src=\"https://colab.research.google.com/assets/colab-badge.svg\" alt=\"Open In Colab\"/>\n",
        "</a>\n",
        "<a target=\"_blank\" href=\"https://www.kaggle.com/notebooks/welcome?src=https://github.com/giordamaug/HELP/blob/main/HELPpy/notebooks/prediction.ipynb\">\n",
        "  <img src=\"https://kaggle.com/static/images/open-in-kaggle.svg\" alt=\"Open In Colab\"/>\n",
        "</a>"
      ]
    },
    {
      "cell_type": "markdown",
      "metadata": {
        "id": "joeFb6T-TTl3"
      },
      "source": [
        "### 1. Install HELP from GitHub\n",
        "Skip this cell if you already have installed HELP."
      ]
    },
    {
      "cell_type": "code",
      "execution_count": null,
      "metadata": {
        "colab": {
          "base_uri": "https://localhost:8080/",
          "height": 1000
        },
        "id": "tuF0S73STTl4",
        "outputId": "e6d33ca9-a106-46fe-df06-3f8c3075441f"
      },
      "outputs": [],
      "source": [
        "!pip install git+https://github.com/giordamaug/HELP.git"
      ]
    },
    {
      "cell_type": "markdown",
      "metadata": {
        "id": "EFrBvM5ErPN4"
      },
      "source": [
        "### 2. Download the input files\n",
        "For a chosen tissue (here `Kidney`), download from GitHub the label file (here `Kidney_HELP.csv`, computed as in Example 1) and the attribute files (here BIO `Kidney_BIO.csv`, CCcfs `Kidney_CCcfs_1.csv`, ..., `Kidney_CCcfs_5.csv`, and N2V `Kidney_EmbN2V_128.csv`).  \n",
        "\n",
        "Skip this step if you already have these input files locally."
      ]
    },
    {
      "cell_type": "code",
      "execution_count": null,
      "metadata": {
        "colab": {
          "base_uri": "https://localhost:8080/"
        },
        "id": "1wbcOjf7TTl5",
        "outputId": "350746d3-7293-4f67-cc3a-7295acbfa022"
      },
      "outputs": [],
      "source": [
        "tissue='Kidney'\n",
        "!wget https://raw.githubusercontent.com/giordamaug/HELP/main/data/{tissue}_HELP.csv\n",
        "!wget https://raw.githubusercontent.com/giordamaug/HELP/main/data/{tissue}_BIO.csv\n",
        "for i in range(5):\n",
        "  !wget https://raw.githubusercontent.com/giordamaug/HELP/main/data/{tissue}_CCcfs_{i}.csv\n",
        "!wget https://raw.githubusercontent.com/giordamaug/HELP/main/data/{tissue}_EmbN2V_128.csv"
      ]
    },
    {
      "cell_type": "markdown",
      "metadata": {},
      "source": [
        "Observe that the CCcfs file has been subdivided into 5 separate files for storage limitations on GitHub. "
      ]
    },
    {
      "cell_type": "markdown",
      "metadata": {
        "id": "yqSGGzfNTTl6"
      },
      "source": [
        "### 3. Load the input files and process the tissue attributes\n",
        "\n",
        "+ The label file (`Kidney_HELP.csv`) can be loaded via `read_csv`; its three-class labels (`E`, `aE`, `sNE`) are converted to two-class labels (`E`, `NE`); \n",
        "\n",
        "+ The tissue gene attributes are loaded and assembled via `feature_assemble_df` using the downloaded datafiles BIO, CCcfs subdivided into 5 subfiles (`'nchunks': 5`) and embedding. We do not apply missing values fixing (`'fixna': False`), while we do apply data scaling (`'normalize': 'std'`) to the BIO and CCcfs attributes.  "
      ]
    },
    {
      "cell_type": "code",
      "execution_count": 1,
      "metadata": {
        "colab": {
          "base_uri": "https://localhost:8080/",
          "height": 728
        },
        "execution": {
          "iopub.execute_input": "2024-02-13T11:09:02.545717Z",
          "iopub.status.busy": "2024-02-13T11:09:02.545238Z",
          "iopub.status.idle": "2024-02-13T11:09:16.557744Z",
          "shell.execute_reply": "2024-02-13T11:09:16.556982Z",
          "shell.execute_reply.started": "2024-02-13T11:09:02.545678Z"
        },
        "id": "toAayH83TTl7",
        "outputId": "25f23ce9-ac16-4ecc-95ee-8153c74656d2"
      },
      "outputs": [
        {
          "name": "stdout",
          "output_type": "stream",
          "text": [
            "/Users/maurizio/HELP/data\n",
            "label\n",
            "NE       16685\n",
            "E         1246\n",
            "dtype: int64\n",
            "Majority NE 16685 minority E 1246\n",
            "[Brain_BIO.csv] found 58547 Nan...\n",
            "[Brain_BIO.csv] Normalization with std ...\n",
            "[Brain_CCcfs.csv] found 6735590 Nan...\n",
            "[Brain_CCcfs.csv] Normalization with std ...\n",
            "[Brain_EmbN2V_128.csv] found 0 Nan...\n",
            "[Brain_EmbN2V_128.csv] No normalization...\n",
            "17244 labeled genes over a total of 17931\n",
            "(17244, 3458) data input\n"
          ]
        }
      ],
      "source": [
        "%cd ../../data \n",
        "tissue='Brain'\n",
        "import pandas as pd\n",
        "from HELPpy.preprocess.loaders import feature_assemble_df\n",
        "df_y = pd.read_csv(f\"Brain_HELP.csv\", index_col=0)\n",
        "df_y = df_y.replace({'aE': 'NE', 'sNE': 'NE'})\n",
        "print(df_y.value_counts(normalize=False))\n",
        "features = [{'fname': f'{tissue}_BIO.csv', 'fixna' : False, 'normalize': 'std'},\n",
        "            {'fname': f'{tissue}_CCcfs.csv', 'fixna' : False, 'normalize': 'std'},\n",
        "            {'fname': f'{tissue}_EmbN2V_128.csv', 'fixna' : False, 'normalize': None}\n",
        "            ]\n",
        "df_X, df_y = feature_assemble_df(df_y, features=features, verbose=True)"
      ]
    },
    {
      "cell_type": "markdown",
      "metadata": {},
      "source": [
        "### 4. Estimate the performance of EGs prediction \n",
        "\n",
        "Instantiate the prediction model described in the HELP paper (soft-voting ensemble `VotingSplitClassifier` of `n_voters=10` classifiers) and estimate its performance via 5-fold cross-validation (`k_fold_cv` with `n_splits=5`). Then, print the obtained average performances (`df_scores`)... "
      ]
    },
    {
      "cell_type": "code",
      "execution_count": 12,
      "metadata": {},
      "outputs": [
        {
          "name": "stdout",
          "output_type": "stream",
          "text": [
            "{'E': 0, 'NE': 1}\n",
            "label\n",
            "NE       16010\n",
            "E         1234\n",
            "dtype: int64\n",
            "Classification with VotingEnsembleLGBM...\n"
          ]
        },
        {
          "data": {
            "application/json": {
              "ascii": false,
              "bar_format": null,
              "colour": null,
              "elapsed": 0.012428045272827148,
              "initial": 0,
              "n": 0,
              "ncols": null,
              "nrows": null,
              "postfix": null,
              "prefix": "5-fold",
              "rate": null,
              "total": 5,
              "unit": "it",
              "unit_divisor": 1000,
              "unit_scale": false
            },
            "application/vnd.jupyter.widget-view+json": {
              "model_id": "9c7cd76004e3451997fd52837d58a375",
              "version_major": 2,
              "version_minor": 0
            },
            "text/plain": [
              "5-fold:   0%|          | 0/5 [00:00<?, ?it/s]"
            ]
          },
          "metadata": {},
          "output_type": "display_data"
        },
        {
          "name": "stderr",
          "output_type": "stream",
          "text": [
            "/Users/maurizio/opt/anaconda3/lib/python3.8/site-packages/joblib/externals/loky/process_executor.py:752: UserWarning: A worker stopped while some jobs were given to the executor. This can be caused by a too short worker timeout or by a memory leak.\n",
            "  warnings.warn(\n",
            "/Users/maurizio/opt/anaconda3/lib/python3.8/site-packages/joblib/externals/loky/process_executor.py:752: UserWarning: A worker stopped while some jobs were given to the executor. This can be caused by a too short worker timeout or by a memory leak.\n",
            "  warnings.warn(\n",
            "/Users/maurizio/opt/anaconda3/lib/python3.8/site-packages/joblib/externals/loky/process_executor.py:752: UserWarning: A worker stopped while some jobs were given to the executor. This can be caused by a too short worker timeout or by a memory leak.\n",
            "  warnings.warn(\n",
            "/Users/maurizio/opt/anaconda3/lib/python3.8/site-packages/joblib/externals/loky/process_executor.py:752: UserWarning: A worker stopped while some jobs were given to the executor. This can be caused by a too short worker timeout or by a memory leak.\n",
            "  warnings.warn(\n"
          ]
        },
        {
          "data": {
            "text/html": [
              "<div>\n",
              "<style scoped>\n",
              "    .dataframe tbody tr th:only-of-type {\n",
              "        vertical-align: middle;\n",
              "    }\n",
              "\n",
              "    .dataframe tbody tr th {\n",
              "        vertical-align: top;\n",
              "    }\n",
              "\n",
              "    .dataframe thead th {\n",
              "        text-align: right;\n",
              "    }\n",
              "</style>\n",
              "<table border=\"1\" class=\"dataframe\">\n",
              "  <thead>\n",
              "    <tr style=\"text-align: right;\">\n",
              "      <th></th>\n",
              "      <th>measure</th>\n",
              "    </tr>\n",
              "  </thead>\n",
              "  <tbody>\n",
              "    <tr>\n",
              "      <th>ROC-AUC</th>\n",
              "      <td>0.9540±0.0064</td>\n",
              "    </tr>\n",
              "    <tr>\n",
              "      <th>Accuracy</th>\n",
              "      <td>0.8469±0.0065</td>\n",
              "    </tr>\n",
              "    <tr>\n",
              "      <th>BA</th>\n",
              "      <td>0.8813±0.0085</td>\n",
              "    </tr>\n",
              "    <tr>\n",
              "      <th>Sensitivity</th>\n",
              "      <td>0.9214±0.0137</td>\n",
              "    </tr>\n",
              "    <tr>\n",
              "      <th>Specificity</th>\n",
              "      <td>0.8412±0.0065</td>\n",
              "    </tr>\n",
              "    <tr>\n",
              "      <th>MCC</th>\n",
              "      <td>0.4799±0.0138</td>\n",
              "    </tr>\n",
              "    <tr>\n",
              "      <th>CM</th>\n",
              "      <td>[[1137, 97], [2543, 13467]]</td>\n",
              "    </tr>\n",
              "  </tbody>\n",
              "</table>\n",
              "</div>"
            ],
            "text/plain": [
              "                                 measure\n",
              "ROC-AUC                    0.9540±0.0064\n",
              "Accuracy                   0.8469±0.0065\n",
              "BA                         0.8813±0.0085\n",
              "Sensitivity                0.9214±0.0137\n",
              "Specificity                0.8412±0.0065\n",
              "MCC                        0.4799±0.0138\n",
              "CM           [[1137, 97], [2543, 13467]]"
            ]
          },
          "execution_count": 12,
          "metadata": {},
          "output_type": "execute_result"
        }
      ],
      "source": [
        "from HELPpy.models.prediction import VotingEnsembleLGBM, k_fold_cv\n",
        "#clf = VotingEnsembleLGBM(n_voters=10, learning_rate=0.5, boosting_type='gbdt', n_jobs=-1, random_state=42)\n",
        "clf = VotingEnsembleLGBM(n_voters=17, learning_rate=0.03, n_estimators=140, boosting_type='gbdt', n_jobs=-1, random_state=42)\n",
        "df_scores, scores, predictions = k_fold_cv(df_X, df_y, clf, n_splits=5, seed=0, show_progress=True, verbose=True)\n",
        "df_scores"
      ]
    },
    {
      "cell_type": "markdown",
      "metadata": {},
      "source": [
        "... and those in each fold (`scores`)"
      ]
    },
    {
      "cell_type": "code",
      "execution_count": 11,
      "metadata": {},
      "outputs": [
        {
          "name": "stdout",
          "output_type": "stream",
          "text": [
            "\\begin{tabular}{ll}\n",
            "\\toprule\n",
            "{} &                            0 \\\\\n",
            "\\midrule\n",
            "ROC-AUC     &                     0.959359 \\\\\n",
            "Accuracy    &                     0.861169 \\\\\n",
            "Sensitivity &                     0.927877 \\\\\n",
            "Specificity &                     0.856027 \\\\\n",
            "BA          &                     0.891952 \\\\\n",
            "MCC         &                     0.505082 \\\\\n",
            "CM          &  [[1145, 89], [2305, 13705]] \\\\\n",
            "\\bottomrule\n",
            "\\end{tabular}\n",
            "\n",
            "[[ 1145    89]\n",
            " [ 2305 13705]]\n"
          ]
        }
      ],
      "source": [
        "import numpy as np\n",
        "y_pred = predictions['prediction'].values.ravel()\n",
        "y_prob = predictions['probabilities'].values.ravel()\n",
        "y_true = predictions['label'].values.ravel()\n",
        "from sklearn.metrics import *\n",
        "from imblearn.metrics import specificity_score\n",
        "\n",
        "print(pd.DataFrame({'ROC-AUC' : [roc_auc_score(y_true, 1-y_prob, average='weighted')],\n",
        "              'Accuracy' : [accuracy_score(y_true, y_pred)],\n",
        "              'Sensitivity' : [specificity_score(y_true, y_pred)],\n",
        "              'Specificity' : [recall_score(y_true, y_pred)],\n",
        "              'BA' : [balanced_accuracy_score(y_true, y_pred)],\n",
        "              'MCC' : [matthews_corrcoef(y_true, y_pred)],\n",
        "              'CM': [confusion_matrix(y_true, y_pred)]\n",
        "              }).T.to_latex())\n",
        "\n",
        "print(confusion_matrix(y_true, y_pred))"
      ]
    },
    {
      "cell_type": "code",
      "execution_count": 14,
      "metadata": {},
      "outputs": [
        {
          "data": {
            "text/html": [
              "<div>\n",
              "<style scoped>\n",
              "    .dataframe tbody tr th:only-of-type {\n",
              "        vertical-align: middle;\n",
              "    }\n",
              "\n",
              "    .dataframe tbody tr th {\n",
              "        vertical-align: top;\n",
              "    }\n",
              "\n",
              "    .dataframe thead th {\n",
              "        text-align: right;\n",
              "    }\n",
              "</style>\n",
              "<table border=\"1\" class=\"dataframe\">\n",
              "  <thead>\n",
              "    <tr style=\"text-align: right;\">\n",
              "      <th></th>\n",
              "      <th>ROC-AUC</th>\n",
              "      <th>Accuracy</th>\n",
              "      <th>BA</th>\n",
              "      <th>Sensitivity</th>\n",
              "      <th>Specificity</th>\n",
              "      <th>MCC</th>\n",
              "      <th>CM</th>\n",
              "    </tr>\n",
              "    <tr>\n",
              "      <th>index</th>\n",
              "      <th></th>\n",
              "      <th></th>\n",
              "      <th></th>\n",
              "      <th></th>\n",
              "      <th></th>\n",
              "      <th></th>\n",
              "      <th></th>\n",
              "    </tr>\n",
              "  </thead>\n",
              "  <tbody>\n",
              "    <tr>\n",
              "      <th>0</th>\n",
              "      <td>0.954782</td>\n",
              "      <td>0.892143</td>\n",
              "      <td>0.882131</td>\n",
              "      <td>0.870445</td>\n",
              "      <td>0.893816</td>\n",
              "      <td>0.536297</td>\n",
              "      <td>[[215, 32], [340, 2862]]</td>\n",
              "    </tr>\n",
              "    <tr>\n",
              "      <th>1</th>\n",
              "      <td>0.950956</td>\n",
              "      <td>0.881705</td>\n",
              "      <td>0.880246</td>\n",
              "      <td>0.878543</td>\n",
              "      <td>0.881949</td>\n",
              "      <td>0.519001</td>\n",
              "      <td>[[217, 30], [378, 2824]]</td>\n",
              "    </tr>\n",
              "    <tr>\n",
              "      <th>2</th>\n",
              "      <td>0.966275</td>\n",
              "      <td>0.896202</td>\n",
              "      <td>0.904867</td>\n",
              "      <td>0.91498</td>\n",
              "      <td>0.894753</td>\n",
              "      <td>0.564935</td>\n",
              "      <td>[[226, 21], [337, 2865]]</td>\n",
              "    </tr>\n",
              "    <tr>\n",
              "      <th>3</th>\n",
              "      <td>0.952812</td>\n",
              "      <td>0.891273</td>\n",
              "      <td>0.891003</td>\n",
              "      <td>0.890688</td>\n",
              "      <td>0.891318</td>\n",
              "      <td>0.543655</td>\n",
              "      <td>[[220, 27], [348, 2854]]</td>\n",
              "    </tr>\n",
              "    <tr>\n",
              "      <th>4</th>\n",
              "      <td>0.954659</td>\n",
              "      <td>0.896462</td>\n",
              "      <td>0.886086</td>\n",
              "      <td>0.873984</td>\n",
              "      <td>0.898189</td>\n",
              "      <td>0.546476</td>\n",
              "      <td>[[215, 31], [326, 2876]]</td>\n",
              "    </tr>\n",
              "  </tbody>\n",
              "</table>\n",
              "</div>"
            ],
            "text/plain": [
              "        ROC-AUC  Accuracy        BA Sensitivity Specificity       MCC  \\\n",
              "index                                                                   \n",
              "0      0.954782  0.892143  0.882131    0.870445    0.893816  0.536297   \n",
              "1      0.950956  0.881705  0.880246    0.878543    0.881949  0.519001   \n",
              "2      0.966275  0.896202  0.904867     0.91498    0.894753  0.564935   \n",
              "3      0.952812  0.891273  0.891003    0.890688    0.891318  0.543655   \n",
              "4      0.954659  0.896462  0.886086    0.873984    0.898189  0.546476   \n",
              "\n",
              "                             CM  \n",
              "index                            \n",
              "0      [[215, 32], [340, 2862]]  \n",
              "1      [[217, 30], [378, 2824]]  \n",
              "2      [[226, 21], [337, 2865]]  \n",
              "3      [[220, 27], [348, 2854]]  \n",
              "4      [[215, 31], [326, 2876]]  "
            ]
          },
          "execution_count": 14,
          "metadata": {},
          "output_type": "execute_result"
        }
      ],
      "source": [
        "scores"
      ]
    },
    {
      "cell_type": "markdown",
      "metadata": {},
      "source": [
        "Show labels, predictions and their probabilities (`predictions`) and save them in a csv file"
      ]
    },
    {
      "cell_type": "code",
      "execution_count": 5,
      "metadata": {},
      "outputs": [
        {
          "data": {
            "text/html": [
              "<div>\n",
              "<style scoped>\n",
              "    .dataframe tbody tr th:only-of-type {\n",
              "        vertical-align: middle;\n",
              "    }\n",
              "\n",
              "    .dataframe tbody tr th {\n",
              "        vertical-align: top;\n",
              "    }\n",
              "\n",
              "    .dataframe thead th {\n",
              "        text-align: right;\n",
              "    }\n",
              "</style>\n",
              "<table border=\"1\" class=\"dataframe\">\n",
              "  <thead>\n",
              "    <tr style=\"text-align: right;\">\n",
              "      <th></th>\n",
              "      <th>label</th>\n",
              "      <th>prediction</th>\n",
              "      <th>probabilities</th>\n",
              "    </tr>\n",
              "    <tr>\n",
              "      <th>gene</th>\n",
              "      <th></th>\n",
              "      <th></th>\n",
              "      <th></th>\n",
              "    </tr>\n",
              "  </thead>\n",
              "  <tbody>\n",
              "    <tr>\n",
              "      <th>A4GNT</th>\n",
              "      <td>1</td>\n",
              "      <td>1</td>\n",
              "      <td>0.007120</td>\n",
              "    </tr>\n",
              "    <tr>\n",
              "      <th>AAAS</th>\n",
              "      <td>1</td>\n",
              "      <td>0</td>\n",
              "      <td>0.943234</td>\n",
              "    </tr>\n",
              "    <tr>\n",
              "      <th>AASDH</th>\n",
              "      <td>1</td>\n",
              "      <td>1</td>\n",
              "      <td>0.070971</td>\n",
              "    </tr>\n",
              "    <tr>\n",
              "      <th>ABCA2</th>\n",
              "      <td>1</td>\n",
              "      <td>1</td>\n",
              "      <td>0.234408</td>\n",
              "    </tr>\n",
              "    <tr>\n",
              "      <th>ABCA3</th>\n",
              "      <td>1</td>\n",
              "      <td>1</td>\n",
              "      <td>0.016606</td>\n",
              "    </tr>\n",
              "    <tr>\n",
              "      <th>...</th>\n",
              "      <td>...</td>\n",
              "      <td>...</td>\n",
              "      <td>...</td>\n",
              "    </tr>\n",
              "    <tr>\n",
              "      <th>ZSWIM7</th>\n",
              "      <td>1</td>\n",
              "      <td>1</td>\n",
              "      <td>0.092465</td>\n",
              "    </tr>\n",
              "    <tr>\n",
              "      <th>ZSWIM8</th>\n",
              "      <td>1</td>\n",
              "      <td>1</td>\n",
              "      <td>0.293142</td>\n",
              "    </tr>\n",
              "    <tr>\n",
              "      <th>ZXDA</th>\n",
              "      <td>1</td>\n",
              "      <td>1</td>\n",
              "      <td>0.012429</td>\n",
              "    </tr>\n",
              "    <tr>\n",
              "      <th>ZXDB</th>\n",
              "      <td>1</td>\n",
              "      <td>1</td>\n",
              "      <td>0.005546</td>\n",
              "    </tr>\n",
              "    <tr>\n",
              "      <th>ZYG11A</th>\n",
              "      <td>1</td>\n",
              "      <td>1</td>\n",
              "      <td>0.025471</td>\n",
              "    </tr>\n",
              "  </tbody>\n",
              "</table>\n",
              "<p>17244 rows × 3 columns</p>\n",
              "</div>"
            ],
            "text/plain": [
              "        label  prediction  probabilities\n",
              "gene                                    \n",
              "A4GNT       1           1       0.007120\n",
              "AAAS        1           0       0.943234\n",
              "AASDH       1           1       0.070971\n",
              "ABCA2       1           1       0.234408\n",
              "ABCA3       1           1       0.016606\n",
              "...       ...         ...            ...\n",
              "ZSWIM7      1           1       0.092465\n",
              "ZSWIM8      1           1       0.293142\n",
              "ZXDA        1           1       0.012429\n",
              "ZXDB        1           1       0.005546\n",
              "ZYG11A      1           1       0.025471\n",
              "\n",
              "[17244 rows x 3 columns]"
            ]
          },
          "execution_count": 5,
          "metadata": {},
          "output_type": "execute_result"
        }
      ],
      "source": [
        "predictions"
      ]
    },
    {
      "cell_type": "code",
      "execution_count": 6,
      "metadata": {},
      "outputs": [],
      "source": [
        "import os\n",
        "savepath = \"../data4rev\"\n",
        "predictions.to_csv(os.path.join(savepath, f\"csEGs_{tissue}_EvsNE.csv\"), index=True)"
      ]
    },
    {
      "cell_type": "markdown",
      "metadata": {},
      "source": [
        "### 5. Compute TPR for ucsEGs and csEGs"
      ]
    },
    {
      "cell_type": "markdown",
      "metadata": {},
      "source": [
        "Read the result files for ucsEGs (`ucsEG_Kidney.txt`) and csEGs (`csEGs_Kidney_EvsNE.csv`) already computed for the tissue, compute the TPRs (tpr) and show their bar plot. "
      ]
    },
    {
      "cell_type": "code",
      "execution_count": 10,
      "metadata": {},
      "outputs": [
        {
          "name": "stdout",
          "output_type": "stream",
          "text": [
            "ucsEG Brain TPR = 0.683 (28/41) ucsEG Brain TPR =  0.928 (1145/1234)\n"
          ]
        },
        {
          "data": {
            "image/png": "[encoded data removed]",
            "text/plain": [
              "<Figure size 288x288 with 1 Axes>"
            ]
          },
          "metadata": {
            "needs_background": "light"
          },
          "output_type": "display_data"
        }
      ],
      "source": [
        "import seaborn as sns\n",
        "import matplotlib.pyplot as plt\n",
        "import numpy as np\n",
        "labels = []\n",
        "data = []\n",
        "tpr = []\n",
        "genes = {}\n",
        "#!wget https://raw.githubusercontent.com/giordamaug/HELP/main/data/ucsEG_{tissue}.txt\n",
        "ucsEGs = pd.read_csv(f\"ucsEG_{tissue}.txt\", index_col=0, header=None).index.values\n",
        "#!wget https://raw.githubusercontent.com/giordamaug/HELP/main/data/csEGs_{tissue}_EvsNE.csv\n",
        "#predictions = pd.read_csv(f\"csEGs_{tissue}_EvsNE.csv\", index_col=0)\n",
        "indices = np.intersect1d(ucsEGs, predictions.index.values)\n",
        "preds = predictions.loc[indices]\n",
        "num1 = len(preds[preds['label'] == preds['prediction']])\n",
        "den1 = len(preds[preds['label'] == 0])\n",
        "den2 = len(predictions[predictions['label'] == 0])\n",
        "num2 = len(predictions[(predictions['label'] == 0) & (predictions['label'] == predictions['prediction'])])\n",
        "labels += [f\"ucsEGs\\n{tissue}\", f\"csEGs\\n{tissue}\"]\n",
        "data += [float(f\"{num1 /den1:.3f}\"), float(f\"{num2 /den2:.3f}\")]\n",
        "tpr += [f\"{num1}/{den1}\", f\"{num2}/{den2}\"]\n",
        "genes[f'ucsEGs_{tissue}_y'] = preds[preds['label'] == preds['prediction']].index.values\n",
        "genes[f'ucsEGs_{tissue}_n'] = preds[preds['label'] != preds['prediction']].index.values\n",
        "genes[f'csEGs_{tissue}_y'] = predictions[(predictions['label'] == 0) & (predictions['label'] == predictions['prediction'])].index.values\n",
        "genes[f'csEGs_{tissue}_n'] = predictions[(predictions['label'] == 0) & (predictions['label'] != predictions['prediction'])].index.values\n",
        "print(f\"ucsEG {tissue} TPR = {num1 /den1:.3f} ({num1}/{den1}) ucsEG {tissue} TPR =  {num2/den2:.3f} ({num2}/{den2})\")\n",
        "\n",
        "f, ax = plt.subplots(figsize=(4, 4))\n",
        "palette = sns.color_palette(\"pastel\", n_colors=2)\n",
        "sns.barplot(y = data, x = labels, ax=ax, hue= data, palette = palette, orient='v', legend=False)\n",
        "ax.set_ylabel('TPR')\n",
        "ax.set(yticklabels=[])\n",
        "for i,l,t in zip(range(4),labels,tpr):\n",
        "    ax.text(-0.15 + (i * 1.03), 0.2, f\"({t})\", rotation='vertical')\n",
        "for i in ax.containers:\n",
        "    ax.bar_label(i,)"
      ]
    },
    {
      "cell_type": "markdown",
      "metadata": {},
      "source": [
        "This code can be used to produce Fig 5(B) of the HELP paper by executing an iteration cycle for both `kidney` and `lung` tissues.\n",
        "\n",
        "At the end, we print the list of ucs_EGs for the tissue."
      ]
    },
    {
      "cell_type": "code",
      "execution_count": 15,
      "metadata": {},
      "outputs": [
        {
          "data": {
            "text/plain": [
              "array(['ACTB', 'CDK2', 'CDK6', 'CHMP7', 'CKS1B', 'DDX11', 'EMC3',\n",
              "       'EXOSC1', 'FAM50A', 'FDXR', 'NCAPH2', 'NUP54', 'RBM48', 'RPL39',\n",
              "       'SERBP1', 'SNRPB2', 'SRSF10', 'SSB', 'TAF1D', 'TIMM9', 'TOMM20',\n",
              "       'URM1', 'USP10', 'VRK1'], dtype=object)"
            ]
          },
          "execution_count": 15,
          "metadata": {},
          "output_type": "execute_result"
        }
      ],
      "source": [
        "genes[f'ucsEGs_{tissue}_y']"
      ]
    }
  ],
  "metadata": {
    "colab": {
      "provenance": []
    },
    "kaggle": {
      "accelerator": "none",
      "dataSources": [
        {
          "datasetId": 4375833,
          "sourceId": 7595933,
          "sourceType": "datasetVersion"
        }
      ],
      "dockerImageVersionId": 30646,
      "isGpuEnabled": false,
      "isInternetEnabled": true,
      "language": "python",
      "sourceType": "notebook"
    },
    "kernelspec": {
      "display_name": "Python 3 (ipykernel)",
      "language": "python",
      "name": "python3"
    },
    "language_info": {
      "codemirror_mode": {
        "name": "ipython",
        "version": 3
      },
      "file_extension": ".py",
      "mimetype": "text/x-python",
      "name": "python",
      "nbconvert_exporter": "python",
      "pygments_lexer": "ipython3",
      "version": "3.8.3"
    }
  },
  "nbformat": 4,
  "nbformat_minor": 0
}
