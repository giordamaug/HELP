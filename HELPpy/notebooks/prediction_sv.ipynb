{
  "cells": [
    {
      "cell_type": "markdown",
      "metadata": {
        "id": "lavaILXgTTl0"
      },
      "source": [
        "<a target=\"_blank\" href=\"https://colab.research.google.com/github/giordamaug/HELP/blob/main/help/notebooks/prediction.ipynb\">\n",
        "  <img src=\"https://colab.research.google.com/assets/colab-badge.svg\" alt=\"Open In Colab\"/>\n",
        "</a>\n",
        "<a target=\"_blank\" href=\"https://www.kaggle.com/notebooks/welcome?src=https://github.com/giordamaug/HELP/blob/main/help/notebooks/prediction.ipynb\">\n",
        "  <img src=\"https://kaggle.com/static/images/open-in-kaggle.svg\" alt=\"Open In Colab\"/>\n",
        "</a>"
      ]
    },
    {
      "cell_type": "markdown",
      "metadata": {
        "id": "joeFb6T-TTl3"
      },
      "source": [
        "# Install HELP from GitHub\n",
        "Skip this cell if you already have installed HELP."
      ]
    },
    {
      "cell_type": "code",
      "execution_count": null,
      "metadata": {
        "colab": {
          "base_uri": "https://localhost:8080/",
          "height": 1000
        },
        "id": "tuF0S73STTl4",
        "outputId": "e6d33ca9-a106-46fe-df06-3f8c3075441f"
      },
      "outputs": [],
      "source": [
        "!pip install git+https://github.com/giordamaug/HELP.git"
      ]
    },
    {
      "cell_type": "markdown",
      "metadata": {
        "id": "EFrBvM5ErPN4"
      },
      "source": [
        "# Download the input files\n",
        "In this cell we download from GitHub repository the label file and the attribute files. Skip this step if you already have these input files locally."
      ]
    },
    {
      "cell_type": "code",
      "execution_count": null,
      "metadata": {
        "colab": {
          "base_uri": "https://localhost:8080/"
        },
        "id": "1wbcOjf7TTl5",
        "outputId": "350746d3-7293-4f67-cc3a-7295acbfa022"
      },
      "outputs": [],
      "source": [
        "tissue='Kidney'\n",
        "!wget https://raw.githubusercontent.com/giordamaug/HELP/main/help/datafinal/{tissue}_HELP.csv\n",
        "!wget https://raw.githubusercontent.com/giordamaug/HELP/main/help/datafinal/{tissue}_BIO.csv\n",
        "for i in range(5):\n",
        "  !wget https://raw.githubusercontent.com/giordamaug/HELP/main/help/datafinal/{tissue}_CCcfs_{i}.csv\n",
        "!wget https://raw.githubusercontent.com/giordamaug/HELP/main/help/datafinal/{tissue}_EmbN2V_128.csv"
      ]
    },
    {
      "cell_type": "code",
      "execution_count": 6,
      "metadata": {},
      "outputs": [
        {
          "name": "stdout",
          "output_type": "stream",
          "text": [
            "/Users/maurizio/HELP/data\n"
          ]
        }
      ],
      "source": [
        "%cd ../../data"
      ]
    },
    {
      "cell_type": "markdown",
      "metadata": {
        "id": "yqSGGzfNTTl6"
      },
      "source": [
        "# Process the tissue attributes\n",
        "In this code we load tissue gene attributes by several datafiles. We apply missing values fixing and data scaling with `sklearn.preprocessing.StandardScaler` on the `BIO` and `CCcfs` attributes, while no normalization and fixing on embedding attributes (`EmbN2V_128`). The attributes are all merged in one matrix by the `feature_assemble` function as input for the prediction model building."
      ]
    },
    {
      "cell_type": "code",
      "execution_count": 19,
      "metadata": {
        "colab": {
          "base_uri": "https://localhost:8080/",
          "height": 728
        },
        "execution": {
          "iopub.execute_input": "2024-02-13T11:09:02.545717Z",
          "iopub.status.busy": "2024-02-13T11:09:02.545238Z",
          "iopub.status.idle": "2024-02-13T11:09:16.557744Z",
          "shell.execute_reply": "2024-02-13T11:09:16.556982Z",
          "shell.execute_reply.started": "2024-02-13T11:09:02.545678Z"
        },
        "id": "toAayH83TTl7",
        "outputId": "25f23ce9-ac16-4ecc-95ee-8153c74656d2"
      },
      "outputs": [
        {
          "name": "stdout",
          "output_type": "stream",
          "text": [
            "[Errno 2] No such file or directory: '../../data'\n",
            "/Users/maurizio/HELP/data\n",
            "label\n",
            "NE       16696\n",
            "E         1235\n",
            "Name: count, dtype: int64\n",
            "Majority NE 16696 minority E 1235\n",
            "[Lung_BIO.csv] found 52507 Nan...\n",
            "[Lung_BIO.csv] Normalization with std ...\n"
          ]
        },
        {
          "name": "stderr",
          "output_type": "stream",
          "text": [
            "Loading file in chunks: 100%|██████████| 5/5 [00:02<00:00,  2.09it/s]\n"
          ]
        },
        {
          "name": "stdout",
          "output_type": "stream",
          "text": [
            "[Lung_CCcfs.csv] found 6749288 Nan...\n",
            "[Lung_CCcfs.csv] Normalization with std ...\n",
            "[Lung_EmbN2V_128.csv] found 0 Nan...\n",
            "[Lung_EmbN2V_128.csv] No normalization...\n",
            "17234 labeled genes over a total of 17931\n",
            "(17234, 3455) data input\n"
          ]
        }
      ],
      "source": [
        "%cd ../../data \n",
        "tissue='Lung'\n",
        "import pandas as pd\n",
        "from HELPpy.preprocess.loaders import feature_assemble_df\n",
        "import os\n",
        "df_y = pd.read_csv(f\"{tissue}_HELP.csv\", index_col=0)\n",
        "df_y = df_y.replace({'aE': 'NE', 'sNE': 'NE'})\n",
        "print(df_y.value_counts(normalize=False))\n",
        "features = [{'fname': f'{tissue}_BIO.csv', 'fixna' : False, 'normalize': 'std'},\n",
        "            {'fname': f'{tissue}_CCcfs.csv', 'fixna' : False, 'normalize': 'std', 'nchunks' : 5},\n",
        "            {'fname': f'{tissue}_EmbN2V_128.csv', 'fixna' : False, 'normalize': None}]\n",
        "df_X, df_y = feature_assemble_df(df_y, features=features, saveflag=False, verbose=True)"
      ]
    },
    {
      "cell_type": "code",
      "execution_count": 20,
      "metadata": {},
      "outputs": [
        {
          "name": "stdout",
          "output_type": "stream",
          "text": [
            "{'E': 0, 'NE': 1}\n",
            "label\n",
            "NE       16010\n",
            "E         1224\n",
            "Name: count, dtype: int64\n",
            "Classification with VotingSplitClassifier...\n"
          ]
        },
        {
          "name": "stderr",
          "output_type": "stream",
          "text": [
            "5-fold: 100%|██████████| 5/5 [01:15<00:00, 15.08s/it]\n"
          ]
        },
        {
          "data": {
            "text/html": [
              "<div>\n",
              "<style scoped>\n",
              "    .dataframe tbody tr th:only-of-type {\n",
              "        vertical-align: middle;\n",
              "    }\n",
              "\n",
              "    .dataframe tbody tr th {\n",
              "        vertical-align: top;\n",
              "    }\n",
              "\n",
              "    .dataframe thead th {\n",
              "        text-align: right;\n",
              "    }\n",
              "</style>\n",
              "<table border=\"1\" class=\"dataframe\">\n",
              "  <thead>\n",
              "    <tr style=\"text-align: right;\">\n",
              "      <th></th>\n",
              "      <th>measure</th>\n",
              "    </tr>\n",
              "  </thead>\n",
              "  <tbody>\n",
              "    <tr>\n",
              "      <th>ROC-AUC</th>\n",
              "      <td>0.9584±0.0043</td>\n",
              "    </tr>\n",
              "    <tr>\n",
              "      <th>Accuracy</th>\n",
              "      <td>0.8848±0.0025</td>\n",
              "    </tr>\n",
              "    <tr>\n",
              "      <th>BA</th>\n",
              "      <td>0.8939±0.0070</td>\n",
              "    </tr>\n",
              "    <tr>\n",
              "      <th>Sensitivity</th>\n",
              "      <td>0.9044±0.0156</td>\n",
              "    </tr>\n",
              "    <tr>\n",
              "      <th>Specificity</th>\n",
              "      <td>0.8833±0.0031</td>\n",
              "    </tr>\n",
              "    <tr>\n",
              "      <th>MCC</th>\n",
              "      <td>0.5354±0.0079</td>\n",
              "    </tr>\n",
              "    <tr>\n",
              "      <th>CM</th>\n",
              "      <td>[[1107, 117], [1868, 14142]]</td>\n",
              "    </tr>\n",
              "  </tbody>\n",
              "</table>\n",
              "</div>"
            ],
            "text/plain": [
              "                                  measure\n",
              "ROC-AUC                     0.9584±0.0043\n",
              "Accuracy                    0.8848±0.0025\n",
              "BA                          0.8939±0.0070\n",
              "Sensitivity                 0.9044±0.0156\n",
              "Specificity                 0.8833±0.0031\n",
              "MCC                         0.5354±0.0079\n",
              "CM           [[1107, 117], [1868, 14142]]"
            ]
          },
          "execution_count": 20,
          "metadata": {},
          "output_type": "execute_result"
        }
      ],
      "source": [
        "from HELPpy.models.prediction import VotingSplitClassifier, k_fold_cv\n",
        "clf = VotingSplitClassifier(n_voters=10, n_jobs=-1, random_state=-1)\n",
        "df_scores, scores, predictions = k_fold_cv(df_X, df_y, clf, n_splits=5, seed=0, verbose=True)\n",
        "df_scores"
      ]
    },
    {
      "cell_type": "code",
      "execution_count": 20,
      "metadata": {},
      "outputs": [
        {
          "data": {
            "text/html": [
              "<div>\n",
              "<style scoped>\n",
              "    .dataframe tbody tr th:only-of-type {\n",
              "        vertical-align: middle;\n",
              "    }\n",
              "\n",
              "    .dataframe tbody tr th {\n",
              "        vertical-align: top;\n",
              "    }\n",
              "\n",
              "    .dataframe thead th {\n",
              "        text-align: right;\n",
              "    }\n",
              "</style>\n",
              "<table border=\"1\" class=\"dataframe\">\n",
              "  <thead>\n",
              "    <tr style=\"text-align: right;\">\n",
              "      <th></th>\n",
              "      <th>ROC-AUC</th>\n",
              "      <th>Accuracy</th>\n",
              "      <th>BA</th>\n",
              "      <th>Sensitivity</th>\n",
              "      <th>Specificity</th>\n",
              "      <th>MCC</th>\n",
              "      <th>CM</th>\n",
              "    </tr>\n",
              "  </thead>\n",
              "  <tbody>\n",
              "    <tr>\n",
              "      <th>0</th>\n",
              "      <td>0.954258</td>\n",
              "      <td>0.878735</td>\n",
              "      <td>0.889496</td>\n",
              "      <td>0.902041</td>\n",
              "      <td>0.876952</td>\n",
              "      <td>0.522809</td>\n",
              "      <td>[[221, 24], [394, 2808]]</td>\n",
              "    </tr>\n",
              "    <tr>\n",
              "      <th>1</th>\n",
              "      <td>0.953289</td>\n",
              "      <td>0.873223</td>\n",
              "      <td>0.894068</td>\n",
              "      <td>0.918367</td>\n",
              "      <td>0.869769</td>\n",
              "      <td>0.520189</td>\n",
              "      <td>[[225, 20], [417, 2785]]</td>\n",
              "    </tr>\n",
              "    <tr>\n",
              "      <th>2</th>\n",
              "      <td>0.955901</td>\n",
              "      <td>0.884827</td>\n",
              "      <td>0.890891</td>\n",
              "      <td>0.897959</td>\n",
              "      <td>0.883823</td>\n",
              "      <td>0.532617</td>\n",
              "      <td>[[220, 25], [372, 2830]]</td>\n",
              "    </tr>\n",
              "    <tr>\n",
              "      <th>3</th>\n",
              "      <td>0.960578</td>\n",
              "      <td>0.882507</td>\n",
              "      <td>0.895296</td>\n",
              "      <td>0.910204</td>\n",
              "      <td>0.880387</td>\n",
              "      <td>0.533671</td>\n",
              "      <td>[[223, 22], [383, 2819]]</td>\n",
              "    </tr>\n",
              "    <tr>\n",
              "      <th>4</th>\n",
              "      <td>0.965238</td>\n",
              "      <td>0.880731</td>\n",
              "      <td>0.901747</td>\n",
              "      <td>0.926230</td>\n",
              "      <td>0.877264</td>\n",
              "      <td>0.536883</td>\n",
              "      <td>[[226, 18], [393, 2809]]</td>\n",
              "    </tr>\n",
              "  </tbody>\n",
              "</table>\n",
              "</div>"
            ],
            "text/plain": [
              "    ROC-AUC  Accuracy        BA  Sensitivity  Specificity       MCC  \\\n",
              "0  0.954258  0.878735  0.889496     0.902041     0.876952  0.522809   \n",
              "1  0.953289  0.873223  0.894068     0.918367     0.869769  0.520189   \n",
              "2  0.955901  0.884827  0.890891     0.897959     0.883823  0.532617   \n",
              "3  0.960578  0.882507  0.895296     0.910204     0.880387  0.533671   \n",
              "4  0.965238  0.880731  0.901747     0.926230     0.877264  0.536883   \n",
              "\n",
              "                         CM  \n",
              "0  [[221, 24], [394, 2808]]  \n",
              "1  [[225, 20], [417, 2785]]  \n",
              "2  [[220, 25], [372, 2830]]  \n",
              "3  [[223, 22], [383, 2819]]  \n",
              "4  [[226, 18], [393, 2809]]  "
            ]
          },
          "execution_count": 20,
          "metadata": {},
          "output_type": "execute_result"
        }
      ],
      "source": [
        "scores"
      ]
    },
    {
      "cell_type": "code",
      "execution_count": 21,
      "metadata": {},
      "outputs": [
        {
          "data": {
            "text/html": [
              "<div>\n",
              "<style scoped>\n",
              "    .dataframe tbody tr th:only-of-type {\n",
              "        vertical-align: middle;\n",
              "    }\n",
              "\n",
              "    .dataframe tbody tr th {\n",
              "        vertical-align: top;\n",
              "    }\n",
              "\n",
              "    .dataframe thead th {\n",
              "        text-align: right;\n",
              "    }\n",
              "</style>\n",
              "<table border=\"1\" class=\"dataframe\">\n",
              "  <thead>\n",
              "    <tr style=\"text-align: right;\">\n",
              "      <th></th>\n",
              "      <th>label</th>\n",
              "      <th>prediction</th>\n",
              "      <th>probabilities</th>\n",
              "    </tr>\n",
              "    <tr>\n",
              "      <th>gene</th>\n",
              "      <th></th>\n",
              "      <th></th>\n",
              "      <th></th>\n",
              "    </tr>\n",
              "  </thead>\n",
              "  <tbody>\n",
              "    <tr>\n",
              "      <th>A2M</th>\n",
              "      <td>1</td>\n",
              "      <td>1</td>\n",
              "      <td>0.016435</td>\n",
              "    </tr>\n",
              "    <tr>\n",
              "      <th>A2ML1</th>\n",
              "      <td>1</td>\n",
              "      <td>1</td>\n",
              "      <td>0.001649</td>\n",
              "    </tr>\n",
              "    <tr>\n",
              "      <th>AAGAB</th>\n",
              "      <td>1</td>\n",
              "      <td>1</td>\n",
              "      <td>0.230005</td>\n",
              "    </tr>\n",
              "    <tr>\n",
              "      <th>AANAT</th>\n",
              "      <td>1</td>\n",
              "      <td>1</td>\n",
              "      <td>0.002823</td>\n",
              "    </tr>\n",
              "    <tr>\n",
              "      <th>AARS2</th>\n",
              "      <td>1</td>\n",
              "      <td>0</td>\n",
              "      <td>0.529173</td>\n",
              "    </tr>\n",
              "    <tr>\n",
              "      <th>...</th>\n",
              "      <td>...</td>\n",
              "      <td>...</td>\n",
              "      <td>...</td>\n",
              "    </tr>\n",
              "    <tr>\n",
              "      <th>ZSCAN9</th>\n",
              "      <td>1</td>\n",
              "      <td>1</td>\n",
              "      <td>0.004752</td>\n",
              "    </tr>\n",
              "    <tr>\n",
              "      <th>ZSWIM6</th>\n",
              "      <td>1</td>\n",
              "      <td>1</td>\n",
              "      <td>0.007049</td>\n",
              "    </tr>\n",
              "    <tr>\n",
              "      <th>ZUP1</th>\n",
              "      <td>1</td>\n",
              "      <td>0</td>\n",
              "      <td>0.532555</td>\n",
              "    </tr>\n",
              "    <tr>\n",
              "      <th>ZYG11A</th>\n",
              "      <td>1</td>\n",
              "      <td>1</td>\n",
              "      <td>0.005995</td>\n",
              "    </tr>\n",
              "    <tr>\n",
              "      <th>ZZEF1</th>\n",
              "      <td>1</td>\n",
              "      <td>1</td>\n",
              "      <td>0.075781</td>\n",
              "    </tr>\n",
              "  </tbody>\n",
              "</table>\n",
              "<p>17234 rows × 3 columns</p>\n",
              "</div>"
            ],
            "text/plain": [
              "        label  prediction  probabilities\n",
              "gene                                    \n",
              "A2M         1           1       0.016435\n",
              "A2ML1       1           1       0.001649\n",
              "AAGAB       1           1       0.230005\n",
              "AANAT       1           1       0.002823\n",
              "AARS2       1           0       0.529173\n",
              "...       ...         ...            ...\n",
              "ZSCAN9      1           1       0.004752\n",
              "ZSWIM6      1           1       0.007049\n",
              "ZUP1        1           0       0.532555\n",
              "ZYG11A      1           1       0.005995\n",
              "ZZEF1       1           1       0.075781\n",
              "\n",
              "[17234 rows x 3 columns]"
            ]
          },
          "execution_count": 21,
          "metadata": {},
          "output_type": "execute_result"
        }
      ],
      "source": [
        "predictions"
      ]
    },
    {
      "cell_type": "code",
      "execution_count": 21,
      "metadata": {},
      "outputs": [],
      "source": [
        "predictions.to_csv(f\"csEGs_{tissue}_spl_EvsNE.csv\", index=True)"
      ]
    },
    {
      "cell_type": "markdown",
      "metadata": {},
      "source": [
        "## Compute TPR for ucsEGs and csEGs"
      ]
    },
    {
      "cell_type": "code",
      "execution_count": 32,
      "metadata": {},
      "outputs": [
        {
          "name": "stdout",
          "output_type": "stream",
          "text": [
            "ucsEG Kidney TPR = 0.780 (46/59) ucsEG Kidney TPR =  0.897 (1114/1242)\n",
            "ucsEG Lung TPR = 0.714 (20/28) ucsEG Lung TPR =  0.904 (1107/1224)\n"
          ]
        },
        {
          "name": "stderr",
          "output_type": "stream",
          "text": [
            "/var/folders/gl/gkr8rrn52y9cvb9jc59pvjyw0000gn/T/ipykernel_14958/2539520865.py:22: FutureWarning: \n",
            "\n",
            "Passing `palette` without assigning `hue` is deprecated and will be removed in v0.14.0. Assign the `y` variable to `hue` and set `legend=False` for the same effect.\n",
            "\n",
            "  sns.barplot(x = data, y = labels, ax=ax, palette = sns.color_palette(\"pastel\"))\n",
            "/var/folders/gl/gkr8rrn52y9cvb9jc59pvjyw0000gn/T/ipykernel_14958/2539520865.py:22: UserWarning: The palette list has more values (10) than needed (4), which may not be intended.\n",
            "  sns.barplot(x = data, y = labels, ax=ax, palette = sns.color_palette(\"pastel\"))\n"
          ]
        },
        {
          "data": {
            "image/png": "[encoded data removed]",
            "text/plain": [
              "<Figure size 600x400 with 1 Axes>"
            ]
          },
          "metadata": {},
          "output_type": "display_data"
        }
      ],
      "source": [
        "import seaborn as sns\n",
        "import matplotlib.pyplot as plt\n",
        "import numpy as np\n",
        "labels = []\n",
        "data = []\n",
        "tpr = []\n",
        "for tissue in ['Kidney', 'Lung']:\n",
        "    ucsEGs = pd.read_csv(f\"ucsEG_{tissue}.txt\", index_col=0, header=None).index.values\n",
        "    predictions = pd.read_csv(f\"csEGs_{tissue}_spl_EvsNE.csv\", index_col=0)\n",
        "    indices = np.intersect1d(ucsEGs, predictions.index.values)\n",
        "    preds = predictions.loc[indices]\n",
        "    num1 = len(preds[preds['label'] == preds['prediction']])\n",
        "    den1 = len(preds[preds['label'] == 0])\n",
        "    den2 = len(predictions[predictions['label'] == 0])\n",
        "    num2 = len(predictions[(predictions['label'] == 0) & (predictions['label'] == predictions['prediction'])])\n",
        "    labels += [f\"ucsEGs of {tissue}\", f\"csEGs of {tissue}\"]\n",
        "    data += [float(f\"{num1 /den1:.3f}\"), float(f\"{num2 /den2:.3f}\")]\n",
        "    tpr += [f\"{num1}/{den1}\", f\"{num2}/{den2}\"]\n",
        "    print(f\"ucsEG {tissue} TPR = {num1 /den1:.3f} ({num1}/{den1}) ucsEG {tissue} TPR =  {num2/den2:.3f} ({num2}/{den2})\")\n",
        "\n",
        "f, ax = plt.subplots(figsize=(6, 4))\n",
        "sns.barplot(x = data, y = labels, ax=ax, palette = sns.color_palette(\"pastel\"))\n",
        "ax.set_xlim(0,1)\n",
        "ax.set_xlabel('TPR')\n",
        "ax.set_ylabel('EGs')\n",
        "ax.set(yticklabels=[])\n",
        "for i,l,t in zip(range(4),labels,tpr):\n",
        "    ax.text(0.1, i * 1.0 -0.1, l)\n",
        "    ax.text(0.1, (i * 1.0 -0.1) + 0.3, f\"({t})\")\n",
        "for i in ax.containers:\n",
        "    ax.bar_label(i,)"
      ]
    },
    {
      "cell_type": "code",
      "execution_count": null,
      "metadata": {},
      "outputs": [],
      "source": [
        "import seaborn as sns\n",
        "import matplotlib.pyplot as plt\n",
        "labels = ['csEGs of kidney', 'csEGs of lung', 'cEGs (kidney)', 'cEGs (lung)']\n",
        "tpr = ['46/59', '19/28', '1057/1158', '1060/1158']\n",
        "data = [0.780, 0.679, 0.913, 0.915]\n",
        "f, ax = plt.subplots(figsize=(6, 4))\n",
        "sns.barplot(x = data, y = labels, ax=ax, palette = sns.color_palette(\"pastel\"))\n",
        "ax.set_xlim(0,1)\n",
        "ax.set_xlabel('TPR')\n",
        "ax.set_ylabel('csEGs of tissue (model) / CEG (model)')\n",
        "ax.set(yticklabels=[])\n",
        "for i,l,t in zip(range(4),labels,tpr):\n",
        "    ax.text(0.3, i * 1.0, l)\n",
        "    ax.text(0.3, (i * 1.0) + 0.3, f\"({t})\")\n",
        "for i in ax.containers:\n",
        "    ax.bar_label(i,)"
      ]
    }
  ],
  "metadata": {
    "colab": {
      "provenance": []
    },
    "kaggle": {
      "accelerator": "none",
      "dataSources": [
        {
          "datasetId": 4375833,
          "sourceId": 7595933,
          "sourceType": "datasetVersion"
        }
      ],
      "dockerImageVersionId": 30646,
      "isGpuEnabled": false,
      "isInternetEnabled": true,
      "language": "python",
      "sourceType": "notebook"
    },
    "kernelspec": {
      "display_name": "Python 3 (ipykernel)",
      "language": "python",
      "name": "python3"
    },
    "language_info": {
      "codemirror_mode": {
        "name": "ipython",
        "version": 3
      },
      "file_extension": ".py",
      "mimetype": "text/x-python",
      "name": "python",
      "nbconvert_exporter": "python",
      "pygments_lexer": "ipython3",
      "version": "3.10.13"
    }
  },
  "nbformat": 4,
  "nbformat_minor": 0
}
