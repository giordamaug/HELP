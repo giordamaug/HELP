{
 "cells": [
  {
   "cell_type": "markdown",
   "metadata": {},
   "source": [
    "# let's install pycaret !\n"
   ]
  },
  {
   "cell_type": "code",
   "execution_count": 1,
   "metadata": {},
   "outputs": [
    {
     "data": {
      "text/plain": [
       "'3.2.0'"
      ]
     },
     "execution_count": 1,
     "metadata": {},
     "output_type": "execute_result"
    }
   ],
   "source": [
    "# Install PyCaret\n",
    "#!pip install pycaret\n",
    "#!pip install --upgrade pycaret #if you have installed beta version in past, run the below code to upgrade\n",
    "import os, sys\n",
    "path = '/Users/maurizio/opt/anaconda3'\n",
    "sys.path.append(f'{path}/lib/python3.10/site-packages')\n",
    "sys.path.append(f'{path}/lib')\n",
    "\n",
    "import numpy as np\n",
    "import pandas as pd\n",
    "import os, sys\n",
    "from IPython.display import display\n",
    "\n",
    "from pycaret.utils import version\n",
    "\n",
    "# PyCaret version\n",
    "version()"
   ]
  },
  {
   "cell_type": "code",
   "execution_count": 2,
   "metadata": {},
   "outputs": [],
   "source": [
    "from pycaret.classification import *"
   ]
  },
  {
   "cell_type": "code",
   "execution_count": 2,
   "metadata": {},
   "outputs": [],
   "source": [
    "from sklearn.preprocessing import MinMaxScaler, StandardScaler\n",
    "from typing import List\n",
    "def load_features(filenames: List[str] = [], fixnans= [], normalizes=[], colname: str=\"label\", \n",
    "                  verbose: bool = False, show_progress: bool = False) -> pd.DataFrame:\n",
    "    \"\"\"\n",
    "    Load and assemble features and labels for machine learning tasks.\n",
    "\n",
    "    :param List[str] features: List of feature filepaths\n",
    "    :param str colname: Name of the column in the label file to be used as the target variable. Default is \"label\".\n",
    "    :param int seed: Random seed for reproducibility. Default is 1.\n",
    "    :param bool verbose: Whether to print verbose messages during processing. Default is False.\n",
    "    :param bool show_progress: Whether to print progress bar while loading file. Default is False.\n",
    "\n",
    "    :returns: Tuple containing the assembled features (X) and labels (Y) DataFrames.\n",
    "    :rtype: Tuple[pd.DataFrame, pd.DataFrame]\n",
    "        \n",
    "    :example:\n",
    "\n",
    "    .. code-block:: python\n",
    "\n",
    "        colname = \"target_column\"\n",
    "        seed = 1\n",
    "        verbose = False\n",
    "\n",
    "        df_label = pd.read_csv(\"label_file.csv2, index_col=0)\n",
    "        X, Y = load_features(['path/to/feature_file1.csv', 'path/to/feature_file2.csv'], fix_na=True, colname, seed, verbose)\n",
    "    \"\"\"\n",
    "\n",
    "    # Common indices among labels and features\n",
    "    x = pd.DataFrame()\n",
    "\n",
    "    # Process each feature file\n",
    "    for f,fixna,norm in zip(filenames, fixnans, normalizes):\n",
    "        feat_df = pd.read_csv(f, index_col=0)\n",
    "        feat_df.index = feat_df.index.map(str)\n",
    "        fname = os.path.basename(f).rsplit('.', 1)[0]\n",
    "\n",
    "        # Handle missing values if required\n",
    "        if verbose:\n",
    "            cntnan = feat_df.isna().sum().sum()\n",
    "            print(f\"[{fname}] found {cntnan} Nan...\")\n",
    "        if fixna:\n",
    "            if verbose:\n",
    "                print(f\"[{fname}] Fixing NaNs with mean ...\")\n",
    "            feat_df = feat_df.fillna(feat_df.mean())\n",
    "\n",
    "        # Normalize features\n",
    "        if norm == 'std':\n",
    "            scaler = MinMaxScaler()\n",
    "            if verbose:\n",
    "                print(f\"[{fname}] Normalization with {norm} ...\")\n",
    "            feat_df = pd.DataFrame(scaler.fit_transform(feat_df), index=feat_df.index, columns=feat_df.columns)\n",
    "        elif norm == 'max':\n",
    "            scaler = StandardScaler()\n",
    "            if verbose:\n",
    "                print(f\"[{fname}] Normalization with {norm}...\")\n",
    "            feat_df = pd.DataFrame(scaler.fit_transform(feat_df), index=feat_df.index, columns=feat_df.columns)\n",
    "        else:\n",
    "            if verbose:\n",
    "                print(f\"[{fname}] No normalization...\")\n",
    "\n",
    "        # merge features features\n",
    "        x = pd.merge(x, feat_df, left_index=True, right_index=True, how='outer')\n",
    "\n",
    "    # Return the assembled features (X) and labels (Y)\n",
    "    return x"
   ]
  },
  {
   "cell_type": "markdown",
   "metadata": {},
   "source": [
    "# Load the dataset and split"
   ]
  },
  {
   "cell_type": "code",
   "execution_count": 3,
   "metadata": {},
   "outputs": [
    {
     "name": "stdout",
     "output_type": "stream",
     "text": [
      "[Kidney_BIO] found 52532 Nan...\n",
      "[Kidney_BIO] Fixing NaNs with mean ...\n",
      "[Kidney_BIO] Normalization with std ...\n",
      "[Kidney_CCcfs] found 6682710 Nan...\n",
      "[Kidney_CCcfs] Fixing NaNs with mean ...\n",
      "[Kidney_CCcfs] Normalization with std ...\n",
      "[Kidney_EmbN2V_128] found 0 Nan...\n",
      "[Kidney_EmbN2V_128] No normalization...\n"
     ]
    }
   ],
   "source": [
    "from sklearn.model_selection import train_test_split\n",
    "path = '../../data/'\n",
    "attributes = load_features([os.path.join(path, 'Kidney_BIO.csv'), \n",
    "                            os.path.join(path, 'Kidney_CCcfs.csv'),\n",
    "                            os.path.join(path, 'Kidney_EmbN2V_128.csv')\n",
    "                            ], \n",
    "                            fixnans=[True, True, False], normalizes=['std', 'std', None], verbose=True)\n",
    "label = pd.read_csv(os.path.join(path,'Kidney_HELP.csv'), index_col=0).replace({'aE':'NE', 'sNE': 'NE'})\n",
    "idx_common = np.intersect1d(attributes.index.values, label.index.values)\n",
    "attributes = attributes.loc[idx_common]\n",
    "label = label.loc[idx_common]\n",
    "X_train, X_test, y_train, y_test = train_test_split(attributes, label, shuffle=False)\n",
    "train = pd.concat([X_train, y_train], axis=1)\n",
    "test = pd.concat([X_test, y_test], axis=1)"
   ]
  },
  {
   "cell_type": "markdown",
   "metadata": {},
   "source": [
    "# Feature elimination"
   ]
  },
  {
   "cell_type": "code",
   "execution_count": 4,
   "metadata": {},
   "outputs": [
    {
     "ename": "KeyboardInterrupt",
     "evalue": "",
     "output_type": "error",
     "traceback": [
      "\u001b[0;31m---------------------------------------------------------------------------\u001b[0m",
      "\u001b[0;31mKeyboardInterrupt\u001b[0m                         Traceback (most recent call last)",
      "\u001b[0;32m<ipython-input-4-4b9eeb393bb2>\u001b[0m in \u001b[0;36m<module>\u001b[0;34m\u001b[0m\n\u001b[1;32m     15\u001b[0m     \u001b[0mn_jobs\u001b[0m\u001b[0;34m=\u001b[0m\u001b[0;36m2\u001b[0m\u001b[0;34m,\u001b[0m\u001b[0;34m\u001b[0m\u001b[0;34m\u001b[0m\u001b[0m\n\u001b[1;32m     16\u001b[0m )\n\u001b[0;32m---> 17\u001b[0;31m \u001b[0mrfecv\u001b[0m\u001b[0;34m.\u001b[0m\u001b[0mfit\u001b[0m\u001b[0;34m(\u001b[0m\u001b[0mattributes\u001b[0m\u001b[0;34m,\u001b[0m \u001b[0mlabel\u001b[0m\u001b[0;34m)\u001b[0m\u001b[0;34m\u001b[0m\u001b[0;34m\u001b[0m\u001b[0m\n\u001b[0m\u001b[1;32m     18\u001b[0m \u001b[0;34m\u001b[0m\u001b[0m\n\u001b[1;32m     19\u001b[0m \u001b[0mprint\u001b[0m\u001b[0;34m(\u001b[0m\u001b[0;34mf\"Optimal number of features: {rfecv.n_features_}\"\u001b[0m\u001b[0;34m)\u001b[0m\u001b[0;34m\u001b[0m\u001b[0;34m\u001b[0m\u001b[0m\n",
      "\u001b[0;32m~/opt/anaconda3/lib/python3.8/site-packages/sklearn/feature_selection/_rfe.py\u001b[0m in \u001b[0;36mfit\u001b[0;34m(self, X, y, groups)\u001b[0m\n\u001b[1;32m    708\u001b[0m             \u001b[0mfunc\u001b[0m \u001b[0;34m=\u001b[0m \u001b[0mdelayed\u001b[0m\u001b[0;34m(\u001b[0m\u001b[0m_rfe_single_fit\u001b[0m\u001b[0;34m)\u001b[0m\u001b[0;34m\u001b[0m\u001b[0;34m\u001b[0m\u001b[0m\n\u001b[1;32m    709\u001b[0m \u001b[0;34m\u001b[0m\u001b[0m\n\u001b[0;32m--> 710\u001b[0;31m         scores = parallel(\n\u001b[0m\u001b[1;32m    711\u001b[0m             \u001b[0mfunc\u001b[0m\u001b[0;34m(\u001b[0m\u001b[0mrfe\u001b[0m\u001b[0;34m,\u001b[0m \u001b[0mself\u001b[0m\u001b[0;34m.\u001b[0m\u001b[0mestimator\u001b[0m\u001b[0;34m,\u001b[0m \u001b[0mX\u001b[0m\u001b[0;34m,\u001b[0m \u001b[0my\u001b[0m\u001b[0;34m,\u001b[0m \u001b[0mtrain\u001b[0m\u001b[0;34m,\u001b[0m \u001b[0mtest\u001b[0m\u001b[0;34m,\u001b[0m \u001b[0mscorer\u001b[0m\u001b[0;34m)\u001b[0m\u001b[0;34m\u001b[0m\u001b[0;34m\u001b[0m\u001b[0m\n\u001b[1;32m    712\u001b[0m             \u001b[0;32mfor\u001b[0m \u001b[0mtrain\u001b[0m\u001b[0;34m,\u001b[0m \u001b[0mtest\u001b[0m \u001b[0;32min\u001b[0m \u001b[0mcv\u001b[0m\u001b[0;34m.\u001b[0m\u001b[0msplit\u001b[0m\u001b[0;34m(\u001b[0m\u001b[0mX\u001b[0m\u001b[0;34m,\u001b[0m \u001b[0my\u001b[0m\u001b[0;34m,\u001b[0m \u001b[0mgroups\u001b[0m\u001b[0;34m)\u001b[0m\u001b[0;34m\u001b[0m\u001b[0;34m\u001b[0m\u001b[0m\n",
      "\u001b[0;32m~/opt/anaconda3/lib/python3.8/site-packages/joblib/parallel.py\u001b[0m in \u001b[0;36m__call__\u001b[0;34m(self, iterable)\u001b[0m\n\u001b[1;32m   1942\u001b[0m         \u001b[0mnext\u001b[0m\u001b[0;34m(\u001b[0m\u001b[0moutput\u001b[0m\u001b[0;34m)\u001b[0m\u001b[0;34m\u001b[0m\u001b[0;34m\u001b[0m\u001b[0m\n\u001b[1;32m   1943\u001b[0m \u001b[0;34m\u001b[0m\u001b[0m\n\u001b[0;32m-> 1944\u001b[0;31m         \u001b[0;32mreturn\u001b[0m \u001b[0moutput\u001b[0m \u001b[0;32mif\u001b[0m \u001b[0mself\u001b[0m\u001b[0;34m.\u001b[0m\u001b[0mreturn_generator\u001b[0m \u001b[0;32melse\u001b[0m \u001b[0mlist\u001b[0m\u001b[0;34m(\u001b[0m\u001b[0moutput\u001b[0m\u001b[0;34m)\u001b[0m\u001b[0;34m\u001b[0m\u001b[0;34m\u001b[0m\u001b[0m\n\u001b[0m\u001b[1;32m   1945\u001b[0m \u001b[0;34m\u001b[0m\u001b[0m\n\u001b[1;32m   1946\u001b[0m     \u001b[0;32mdef\u001b[0m \u001b[0m__repr__\u001b[0m\u001b[0;34m(\u001b[0m\u001b[0mself\u001b[0m\u001b[0;34m)\u001b[0m\u001b[0;34m:\u001b[0m\u001b[0;34m\u001b[0m\u001b[0;34m\u001b[0m\u001b[0m\n",
      "\u001b[0;32m~/opt/anaconda3/lib/python3.8/site-packages/joblib/parallel.py\u001b[0m in \u001b[0;36m_get_outputs\u001b[0;34m(self, iterator, pre_dispatch)\u001b[0m\n\u001b[1;32m   1585\u001b[0m \u001b[0;34m\u001b[0m\u001b[0m\n\u001b[1;32m   1586\u001b[0m             \u001b[0;32mwith\u001b[0m \u001b[0mself\u001b[0m\u001b[0;34m.\u001b[0m\u001b[0m_backend\u001b[0m\u001b[0;34m.\u001b[0m\u001b[0mretrieval_context\u001b[0m\u001b[0;34m(\u001b[0m\u001b[0;34m)\u001b[0m\u001b[0;34m:\u001b[0m\u001b[0;34m\u001b[0m\u001b[0;34m\u001b[0m\u001b[0m\n\u001b[0;32m-> 1587\u001b[0;31m                 \u001b[0;32myield\u001b[0m \u001b[0;32mfrom\u001b[0m \u001b[0mself\u001b[0m\u001b[0;34m.\u001b[0m\u001b[0m_retrieve\u001b[0m\u001b[0;34m(\u001b[0m\u001b[0;34m)\u001b[0m\u001b[0;34m\u001b[0m\u001b[0;34m\u001b[0m\u001b[0m\n\u001b[0m\u001b[1;32m   1588\u001b[0m \u001b[0;34m\u001b[0m\u001b[0m\n\u001b[1;32m   1589\u001b[0m         \u001b[0;32mexcept\u001b[0m \u001b[0mGeneratorExit\u001b[0m\u001b[0;34m:\u001b[0m\u001b[0;34m\u001b[0m\u001b[0;34m\u001b[0m\u001b[0m\n",
      "\u001b[0;32m~/opt/anaconda3/lib/python3.8/site-packages/joblib/parallel.py\u001b[0m in \u001b[0;36m_retrieve\u001b[0;34m(self)\u001b[0m\n\u001b[1;32m   1697\u001b[0m                 (self._jobs[0].get_status(\n\u001b[1;32m   1698\u001b[0m                     timeout=self.timeout) == TASK_PENDING)):\n\u001b[0;32m-> 1699\u001b[0;31m                 \u001b[0mtime\u001b[0m\u001b[0;34m.\u001b[0m\u001b[0msleep\u001b[0m\u001b[0;34m(\u001b[0m\u001b[0;36m0.01\u001b[0m\u001b[0;34m)\u001b[0m\u001b[0;34m\u001b[0m\u001b[0;34m\u001b[0m\u001b[0m\n\u001b[0m\u001b[1;32m   1700\u001b[0m                 \u001b[0;32mcontinue\u001b[0m\u001b[0;34m\u001b[0m\u001b[0;34m\u001b[0m\u001b[0m\n\u001b[1;32m   1701\u001b[0m \u001b[0;34m\u001b[0m\u001b[0m\n",
      "\u001b[0;31mKeyboardInterrupt\u001b[0m: "
     ]
    }
   ],
   "source": [
    "from sklearn.feature_selection import RFECV\n",
    "from sklearn.linear_model import LogisticRegression\n",
    "from sklearn.model_selection import StratifiedKFold\n",
    "\n",
    "min_features_to_select = 1  # Minimum number of features to consider\n",
    "clf = LogisticRegression()\n",
    "cv = StratifiedKFold(5)\n",
    "\n",
    "rfecv = RFECV(\n",
    "    estimator=clf,\n",
    "    step=1,\n",
    "    cv=cv,\n",
    "    scoring=\"accuracy\",\n",
    "    min_features_to_select=min_features_to_select,\n",
    "    n_jobs=2,\n",
    ")\n",
    "rfecv.fit(attributes, label)\n",
    "\n",
    "print(f\"Optimal number of features: {rfecv.n_features_}\")"
   ]
  },
  {
   "cell_type": "markdown",
   "metadata": {},
   "source": [
    "# Start tuning session"
   ]
  },
  {
   "cell_type": "code",
   "execution_count": 34,
   "metadata": {},
   "outputs": [
    {
     "data": {
      "text/html": [
       "<style type=\"text/css\">\n",
       "#T_7082b_row9_col1 {\n",
       "  background-color: lightgreen;\n",
       "}\n",
       "</style>\n",
       "<table id=\"T_7082b_\">\n",
       "  <thead>\n",
       "    <tr>\n",
       "      <th class=\"blank level0\" >&nbsp;</th>\n",
       "      <th class=\"col_heading level0 col0\" >Description</th>\n",
       "      <th class=\"col_heading level0 col1\" >Value</th>\n",
       "    </tr>\n",
       "  </thead>\n",
       "  <tbody>\n",
       "    <tr>\n",
       "      <th id=\"T_7082b_level0_row0\" class=\"row_heading level0 row0\" >0</th>\n",
       "      <td id=\"T_7082b_row0_col0\" class=\"data row0 col0\" >Session id</td>\n",
       "      <td id=\"T_7082b_row0_col1\" class=\"data row0 col1\" >444</td>\n",
       "    </tr>\n",
       "    <tr>\n",
       "      <th id=\"T_7082b_level0_row1\" class=\"row_heading level0 row1\" >1</th>\n",
       "      <td id=\"T_7082b_row1_col0\" class=\"data row1 col0\" >Target</td>\n",
       "      <td id=\"T_7082b_row1_col1\" class=\"data row1 col1\" >label</td>\n",
       "    </tr>\n",
       "    <tr>\n",
       "      <th id=\"T_7082b_level0_row2\" class=\"row_heading level0 row2\" >2</th>\n",
       "      <td id=\"T_7082b_row2_col0\" class=\"data row2 col0\" >Target type</td>\n",
       "      <td id=\"T_7082b_row2_col1\" class=\"data row2 col1\" >Binary</td>\n",
       "    </tr>\n",
       "    <tr>\n",
       "      <th id=\"T_7082b_level0_row3\" class=\"row_heading level0 row3\" >3</th>\n",
       "      <td id=\"T_7082b_row3_col0\" class=\"data row3 col0\" >Target mapping</td>\n",
       "      <td id=\"T_7082b_row3_col1\" class=\"data row3 col1\" >E: 0, NE: 1</td>\n",
       "    </tr>\n",
       "    <tr>\n",
       "      <th id=\"T_7082b_level0_row4\" class=\"row_heading level0 row4\" >4</th>\n",
       "      <td id=\"T_7082b_row4_col0\" class=\"data row4 col0\" >Original data shape</td>\n",
       "      <td id=\"T_7082b_row4_col1\" class=\"data row4 col1\" >(12927, 3460)</td>\n",
       "    </tr>\n",
       "    <tr>\n",
       "      <th id=\"T_7082b_level0_row5\" class=\"row_heading level0 row5\" >5</th>\n",
       "      <td id=\"T_7082b_row5_col0\" class=\"data row5 col0\" >Transformed data shape</td>\n",
       "      <td id=\"T_7082b_row5_col1\" class=\"data row5 col1\" >(12927, 3460)</td>\n",
       "    </tr>\n",
       "    <tr>\n",
       "      <th id=\"T_7082b_level0_row6\" class=\"row_heading level0 row6\" >6</th>\n",
       "      <td id=\"T_7082b_row6_col0\" class=\"data row6 col0\" >Transformed train set shape</td>\n",
       "      <td id=\"T_7082b_row6_col1\" class=\"data row6 col1\" >(9048, 3460)</td>\n",
       "    </tr>\n",
       "    <tr>\n",
       "      <th id=\"T_7082b_level0_row7\" class=\"row_heading level0 row7\" >7</th>\n",
       "      <td id=\"T_7082b_row7_col0\" class=\"data row7 col0\" >Transformed test set shape</td>\n",
       "      <td id=\"T_7082b_row7_col1\" class=\"data row7 col1\" >(3879, 3460)</td>\n",
       "    </tr>\n",
       "    <tr>\n",
       "      <th id=\"T_7082b_level0_row8\" class=\"row_heading level0 row8\" >8</th>\n",
       "      <td id=\"T_7082b_row8_col0\" class=\"data row8 col0\" >Numeric features</td>\n",
       "      <td id=\"T_7082b_row8_col1\" class=\"data row8 col1\" >3459</td>\n",
       "    </tr>\n",
       "    <tr>\n",
       "      <th id=\"T_7082b_level0_row9\" class=\"row_heading level0 row9\" >9</th>\n",
       "      <td id=\"T_7082b_row9_col0\" class=\"data row9 col0\" >Preprocess</td>\n",
       "      <td id=\"T_7082b_row9_col1\" class=\"data row9 col1\" >True</td>\n",
       "    </tr>\n",
       "    <tr>\n",
       "      <th id=\"T_7082b_level0_row10\" class=\"row_heading level0 row10\" >10</th>\n",
       "      <td id=\"T_7082b_row10_col0\" class=\"data row10 col0\" >Imputation type</td>\n",
       "      <td id=\"T_7082b_row10_col1\" class=\"data row10 col1\" >simple</td>\n",
       "    </tr>\n",
       "    <tr>\n",
       "      <th id=\"T_7082b_level0_row11\" class=\"row_heading level0 row11\" >11</th>\n",
       "      <td id=\"T_7082b_row11_col0\" class=\"data row11 col0\" >Numeric imputation</td>\n",
       "      <td id=\"T_7082b_row11_col1\" class=\"data row11 col1\" >mean</td>\n",
       "    </tr>\n",
       "    <tr>\n",
       "      <th id=\"T_7082b_level0_row12\" class=\"row_heading level0 row12\" >12</th>\n",
       "      <td id=\"T_7082b_row12_col0\" class=\"data row12 col0\" >Categorical imputation</td>\n",
       "      <td id=\"T_7082b_row12_col1\" class=\"data row12 col1\" >mode</td>\n",
       "    </tr>\n",
       "    <tr>\n",
       "      <th id=\"T_7082b_level0_row13\" class=\"row_heading level0 row13\" >13</th>\n",
       "      <td id=\"T_7082b_row13_col0\" class=\"data row13 col0\" >Fold Generator</td>\n",
       "      <td id=\"T_7082b_row13_col1\" class=\"data row13 col1\" >StratifiedKFold</td>\n",
       "    </tr>\n",
       "    <tr>\n",
       "      <th id=\"T_7082b_level0_row14\" class=\"row_heading level0 row14\" >14</th>\n",
       "      <td id=\"T_7082b_row14_col0\" class=\"data row14 col0\" >Fold Number</td>\n",
       "      <td id=\"T_7082b_row14_col1\" class=\"data row14 col1\" >5</td>\n",
       "    </tr>\n",
       "    <tr>\n",
       "      <th id=\"T_7082b_level0_row15\" class=\"row_heading level0 row15\" >15</th>\n",
       "      <td id=\"T_7082b_row15_col0\" class=\"data row15 col0\" >CPU Jobs</td>\n",
       "      <td id=\"T_7082b_row15_col1\" class=\"data row15 col1\" >-1</td>\n",
       "    </tr>\n",
       "    <tr>\n",
       "      <th id=\"T_7082b_level0_row16\" class=\"row_heading level0 row16\" >16</th>\n",
       "      <td id=\"T_7082b_row16_col0\" class=\"data row16 col0\" >Use GPU</td>\n",
       "      <td id=\"T_7082b_row16_col1\" class=\"data row16 col1\" >False</td>\n",
       "    </tr>\n",
       "    <tr>\n",
       "      <th id=\"T_7082b_level0_row17\" class=\"row_heading level0 row17\" >17</th>\n",
       "      <td id=\"T_7082b_row17_col0\" class=\"data row17 col0\" >Log Experiment</td>\n",
       "      <td id=\"T_7082b_row17_col1\" class=\"data row17 col1\" >False</td>\n",
       "    </tr>\n",
       "    <tr>\n",
       "      <th id=\"T_7082b_level0_row18\" class=\"row_heading level0 row18\" >18</th>\n",
       "      <td id=\"T_7082b_row18_col0\" class=\"data row18 col0\" >Experiment Name</td>\n",
       "      <td id=\"T_7082b_row18_col1\" class=\"data row18 col1\" >clf-default-name</td>\n",
       "    </tr>\n",
       "    <tr>\n",
       "      <th id=\"T_7082b_level0_row19\" class=\"row_heading level0 row19\" >19</th>\n",
       "      <td id=\"T_7082b_row19_col0\" class=\"data row19 col0\" >USI</td>\n",
       "      <td id=\"T_7082b_row19_col1\" class=\"data row19 col1\" >da19</td>\n",
       "    </tr>\n",
       "  </tbody>\n",
       "</table>\n"
      ],
      "text/plain": [
       "<pandas.io.formats.style.Styler at 0x7f820b5b9250>"
      ]
     },
     "metadata": {},
     "output_type": "display_data"
    }
   ],
   "source": [
    "clf1 = setup(data = train, \n",
    "             target = 'label',\n",
    "             numeric_imputation = 'mean',\n",
    "             categorical_features = [], session_id = 444,\n",
    "             fold_strategy = \"stratifiedkfold\", fold=5,\n",
    "             #ignore_features = ['Name','Ticket','Cabin'],\n",
    "             verbose = True)"
   ]
  },
  {
   "cell_type": "markdown",
   "metadata": {},
   "source": [
    "# Adjuts metrics"
   ]
  },
  {
   "cell_type": "code",
   "execution_count": 35,
   "metadata": {},
   "outputs": [
    {
     "data": {
      "text/html": [
       "<div>\n",
       "<style scoped>\n",
       "    .dataframe tbody tr th:only-of-type {\n",
       "        vertical-align: middle;\n",
       "    }\n",
       "\n",
       "    .dataframe tbody tr th {\n",
       "        vertical-align: top;\n",
       "    }\n",
       "\n",
       "    .dataframe thead th {\n",
       "        text-align: right;\n",
       "    }\n",
       "</style>\n",
       "<table border=\"1\" class=\"dataframe\">\n",
       "  <thead>\n",
       "    <tr style=\"text-align: right;\">\n",
       "      <th></th>\n",
       "      <th>Name</th>\n",
       "      <th>Display Name</th>\n",
       "      <th>Score Function</th>\n",
       "      <th>Scorer</th>\n",
       "      <th>Target</th>\n",
       "      <th>Args</th>\n",
       "      <th>Greater is Better</th>\n",
       "      <th>Multiclass</th>\n",
       "      <th>Custom</th>\n",
       "    </tr>\n",
       "    <tr>\n",
       "      <th>ID</th>\n",
       "      <th></th>\n",
       "      <th></th>\n",
       "      <th></th>\n",
       "      <th></th>\n",
       "      <th></th>\n",
       "      <th></th>\n",
       "      <th></th>\n",
       "      <th></th>\n",
       "      <th></th>\n",
       "    </tr>\n",
       "  </thead>\n",
       "  <tbody>\n",
       "    <tr>\n",
       "      <th>acc</th>\n",
       "      <td>Accuracy</td>\n",
       "      <td>Accuracy</td>\n",
       "      <td>&lt;function accuracy_score at 0x7f8209a22700&gt;</td>\n",
       "      <td>accuracy</td>\n",
       "      <td>pred</td>\n",
       "      <td>{}</td>\n",
       "      <td>True</td>\n",
       "      <td>True</td>\n",
       "      <td>False</td>\n",
       "    </tr>\n",
       "    <tr>\n",
       "      <th>auc</th>\n",
       "      <td>AUC</td>\n",
       "      <td>AUC</td>\n",
       "      <td>&lt;pycaret.internal.metrics.BinaryMulticlassScor...</td>\n",
       "      <td>make_scorer(roc_auc_score, needs_proba=True, e...</td>\n",
       "      <td>pred_proba</td>\n",
       "      <td>{'average': 'weighted', 'multi_class': 'ovr'}</td>\n",
       "      <td>True</td>\n",
       "      <td>True</td>\n",
       "      <td>False</td>\n",
       "    </tr>\n",
       "    <tr>\n",
       "      <th>recall</th>\n",
       "      <td>Recall</td>\n",
       "      <td>Recall</td>\n",
       "      <td>&lt;pycaret.internal.metrics.BinaryMulticlassScor...</td>\n",
       "      <td>make_scorer(recall_score, average=weighted)</td>\n",
       "      <td>pred</td>\n",
       "      <td>{'average': 'weighted'}</td>\n",
       "      <td>True</td>\n",
       "      <td>True</td>\n",
       "      <td>False</td>\n",
       "    </tr>\n",
       "    <tr>\n",
       "      <th>mcc</th>\n",
       "      <td>MCC</td>\n",
       "      <td>MCC</td>\n",
       "      <td>&lt;function matthews_corrcoef at 0x7f8209a229d0&gt;</td>\n",
       "      <td>make_scorer(matthews_corrcoef)</td>\n",
       "      <td>pred</td>\n",
       "      <td>{}</td>\n",
       "      <td>True</td>\n",
       "      <td>True</td>\n",
       "      <td>False</td>\n",
       "    </tr>\n",
       "    <tr>\n",
       "      <th>Sensitivity</th>\n",
       "      <td>Sensitivity</td>\n",
       "      <td>Sensitivity</td>\n",
       "      <td>&lt;pycaret.internal.metrics.EncodedDecodedLabels...</td>\n",
       "      <td>make_scorer(specificity_score)</td>\n",
       "      <td>pred</td>\n",
       "      <td>{}</td>\n",
       "      <td>True</td>\n",
       "      <td>True</td>\n",
       "      <td>True</td>\n",
       "    </tr>\n",
       "    <tr>\n",
       "      <th>Specificity</th>\n",
       "      <td>Specificity</td>\n",
       "      <td>Specificity</td>\n",
       "      <td>&lt;pycaret.internal.metrics.EncodedDecodedLabels...</td>\n",
       "      <td>make_scorer(recall_score)</td>\n",
       "      <td>pred</td>\n",
       "      <td>{}</td>\n",
       "      <td>True</td>\n",
       "      <td>True</td>\n",
       "      <td>True</td>\n",
       "    </tr>\n",
       "    <tr>\n",
       "      <th>Balanced Accuracy</th>\n",
       "      <td>BA</td>\n",
       "      <td>BA</td>\n",
       "      <td>&lt;pycaret.internal.metrics.EncodedDecodedLabels...</td>\n",
       "      <td>make_scorer(balanced_accuracy_score)</td>\n",
       "      <td>pred</td>\n",
       "      <td>{}</td>\n",
       "      <td>True</td>\n",
       "      <td>True</td>\n",
       "      <td>True</td>\n",
       "    </tr>\n",
       "  </tbody>\n",
       "</table>\n",
       "</div>"
      ],
      "text/plain": [
       "                          Name Display Name  \\\n",
       "ID                                            \n",
       "acc                   Accuracy     Accuracy   \n",
       "auc                        AUC          AUC   \n",
       "recall                  Recall       Recall   \n",
       "mcc                        MCC          MCC   \n",
       "Sensitivity        Sensitivity  Sensitivity   \n",
       "Specificity        Specificity  Specificity   \n",
       "Balanced Accuracy           BA           BA   \n",
       "\n",
       "                                                      Score Function  \\\n",
       "ID                                                                     \n",
       "acc                      <function accuracy_score at 0x7f8209a22700>   \n",
       "auc                <pycaret.internal.metrics.BinaryMulticlassScor...   \n",
       "recall             <pycaret.internal.metrics.BinaryMulticlassScor...   \n",
       "mcc                   <function matthews_corrcoef at 0x7f8209a229d0>   \n",
       "Sensitivity        <pycaret.internal.metrics.EncodedDecodedLabels...   \n",
       "Specificity        <pycaret.internal.metrics.EncodedDecodedLabels...   \n",
       "Balanced Accuracy  <pycaret.internal.metrics.EncodedDecodedLabels...   \n",
       "\n",
       "                                                              Scorer  \\\n",
       "ID                                                                     \n",
       "acc                                                         accuracy   \n",
       "auc                make_scorer(roc_auc_score, needs_proba=True, e...   \n",
       "recall                   make_scorer(recall_score, average=weighted)   \n",
       "mcc                                   make_scorer(matthews_corrcoef)   \n",
       "Sensitivity                           make_scorer(specificity_score)   \n",
       "Specificity                                make_scorer(recall_score)   \n",
       "Balanced Accuracy               make_scorer(balanced_accuracy_score)   \n",
       "\n",
       "                       Target                                           Args  \\\n",
       "ID                                                                             \n",
       "acc                      pred                                             {}   \n",
       "auc                pred_proba  {'average': 'weighted', 'multi_class': 'ovr'}   \n",
       "recall                   pred                        {'average': 'weighted'}   \n",
       "mcc                      pred                                             {}   \n",
       "Sensitivity              pred                                             {}   \n",
       "Specificity              pred                                             {}   \n",
       "Balanced Accuracy        pred                                             {}   \n",
       "\n",
       "                   Greater is Better  Multiclass  Custom  \n",
       "ID                                                        \n",
       "acc                             True        True   False  \n",
       "auc                             True        True   False  \n",
       "recall                          True        True   False  \n",
       "mcc                             True        True   False  \n",
       "Sensitivity                     True        True    True  \n",
       "Specificity                     True        True    True  \n",
       "Balanced Accuracy               True        True    True  "
      ]
     },
     "execution_count": 35,
     "metadata": {},
     "output_type": "execute_result"
    }
   ],
   "source": [
    "from sklearn.metrics import *\n",
    "from imblearn.metrics import specificity_score\n",
    "try: \n",
    "    [remove_metric(m) for m in ['Precision', 'F1', 'Kappa']]  # remove unused metrics\n",
    "    add_metric('Sensitivity', 'Sensitivity', specificity_score, greater_is_better = True)\n",
    "    add_metric('Specificity', 'Specificity', recall_score, greater_is_better = True)\n",
    "    add_metric('Balanced Accuracy', 'BA', balanced_accuracy_score, greater_is_better = True)\n",
    "    #add_metric('ROC-AUC', 'ROC-AUC', roc_auc_score, greater_is_better = True, multiclass=False)\n",
    "except: \n",
    "    pass\n",
    "get_metrics()"
   ]
  },
  {
   "cell_type": "markdown",
   "metadata": {},
   "source": [
    "# Define our model"
   ]
  },
  {
   "cell_type": "code",
   "execution_count": 30,
   "metadata": {},
   "outputs": [
    {
     "data": {
      "text/html": [
       "<div>\n",
       "<style scoped>\n",
       "    .dataframe tbody tr th:only-of-type {\n",
       "        vertical-align: middle;\n",
       "    }\n",
       "\n",
       "    .dataframe tbody tr th {\n",
       "        vertical-align: top;\n",
       "    }\n",
       "\n",
       "    .dataframe thead th {\n",
       "        text-align: right;\n",
       "    }\n",
       "</style>\n",
       "<table border=\"1\" class=\"dataframe\">\n",
       "  <thead>\n",
       "    <tr style=\"text-align: right;\">\n",
       "      <th></th>\n",
       "      <th></th>\n",
       "      <th></th>\n",
       "    </tr>\n",
       "    <tr>\n",
       "      <th></th>\n",
       "      <th></th>\n",
       "      <th></th>\n",
       "    </tr>\n",
       "  </thead>\n",
       "  <tbody>\n",
       "    <tr>\n",
       "      <th>Initiated</th>\n",
       "      <td>. . . . . . . . . . . . . . . . . .</td>\n",
       "      <td>17:26:04</td>\n",
       "    </tr>\n",
       "    <tr>\n",
       "      <th>Status</th>\n",
       "      <td>. . . . . . . . . . . . . . . . . .</td>\n",
       "      <td>Fitting 5 Folds</td>\n",
       "    </tr>\n",
       "    <tr>\n",
       "      <th>Estimator</th>\n",
       "      <td>. . . . . . . . . . . . . . . . . .</td>\n",
       "      <td>VotingEnsembleLGBM</td>\n",
       "    </tr>\n",
       "  </tbody>\n",
       "</table>\n",
       "</div>"
      ],
      "text/plain": [
       "                                                                  \n",
       "                                                                  \n",
       "Initiated  . . . . . . . . . . . . . . . . . .            17:26:04\n",
       "Status     . . . . . . . . . . . . . . . . . .     Fitting 5 Folds\n",
       "Estimator  . . . . . . . . . . . . . . . . . .  VotingEnsembleLGBM"
      ]
     },
     "metadata": {},
     "output_type": "display_data"
    },
    {
     "data": {
      "text/html": [],
      "text/plain": [
       "<IPython.core.display.HTML object>"
      ]
     },
     "metadata": {},
     "output_type": "display_data"
    },
    {
     "data": {
      "text/html": [],
      "text/plain": [
       "<IPython.core.display.HTML object>"
      ]
     },
     "metadata": {},
     "output_type": "display_data"
    },
    {
     "ename": "KeyboardInterrupt",
     "evalue": "",
     "output_type": "error",
     "traceback": [
      "\u001b[0;31m---------------------------------------------------------------------------\u001b[0m",
      "\u001b[0;31mKeyboardInterrupt\u001b[0m                         Traceback (most recent call last)",
      "\u001b[0;32m<ipython-input-30-c3279c6552d4>\u001b[0m in \u001b[0;36m<module>\u001b[0;34m\u001b[0m\n\u001b[1;32m      1\u001b[0m \u001b[0;32mfrom\u001b[0m \u001b[0mHELPpy\u001b[0m\u001b[0;34m.\u001b[0m\u001b[0mmodels\u001b[0m\u001b[0;34m.\u001b[0m\u001b[0mprediction\u001b[0m \u001b[0;32mimport\u001b[0m \u001b[0mVotingEnsembleLGBM\u001b[0m\u001b[0;34m\u001b[0m\u001b[0;34m\u001b[0m\u001b[0m\n\u001b[0;32m----> 2\u001b[0;31m \u001b[0mveLGBM\u001b[0m \u001b[0;34m=\u001b[0m \u001b[0mcreate_model\u001b[0m\u001b[0;34m(\u001b[0m\u001b[0mVotingEnsembleLGBM\u001b[0m\u001b[0;34m(\u001b[0m\u001b[0;34m)\u001b[0m\u001b[0;34m)\u001b[0m\u001b[0;34m\u001b[0m\u001b[0;34m\u001b[0m\u001b[0m\n\u001b[0m",
      "\u001b[0;32m~/opt/anaconda3/lib/python3.8/site-packages/pycaret/utils/generic.py\u001b[0m in \u001b[0;36mwrapper\u001b[0;34m(*args, **kwargs)\u001b[0m\n\u001b[1;32m    963\u001b[0m                 \u001b[0;32mif\u001b[0m \u001b[0mglobals_d\u001b[0m\u001b[0;34m[\u001b[0m\u001b[0mname\u001b[0m\u001b[0;34m]\u001b[0m \u001b[0;32mis\u001b[0m \u001b[0;32mNone\u001b[0m\u001b[0;34m:\u001b[0m\u001b[0;34m\u001b[0m\u001b[0;34m\u001b[0m\u001b[0m\n\u001b[1;32m    964\u001b[0m                     \u001b[0;32mraise\u001b[0m \u001b[0mValueError\u001b[0m\u001b[0;34m(\u001b[0m\u001b[0mmessage\u001b[0m\u001b[0;34m)\u001b[0m\u001b[0;34m\u001b[0m\u001b[0;34m\u001b[0m\u001b[0m\n\u001b[0;32m--> 965\u001b[0;31m             \u001b[0;32mreturn\u001b[0m \u001b[0mfunc\u001b[0m\u001b[0;34m(\u001b[0m\u001b[0;34m*\u001b[0m\u001b[0margs\u001b[0m\u001b[0;34m,\u001b[0m \u001b[0;34m**\u001b[0m\u001b[0mkwargs\u001b[0m\u001b[0;34m)\u001b[0m\u001b[0;34m\u001b[0m\u001b[0;34m\u001b[0m\u001b[0m\n\u001b[0m\u001b[1;32m    966\u001b[0m \u001b[0;34m\u001b[0m\u001b[0m\n\u001b[1;32m    967\u001b[0m         \u001b[0;32mreturn\u001b[0m \u001b[0mwrapper\u001b[0m\u001b[0;34m\u001b[0m\u001b[0;34m\u001b[0m\u001b[0m\n",
      "\u001b[0;32m~/opt/anaconda3/lib/python3.8/site-packages/pycaret/classification/functional.py\u001b[0m in \u001b[0;36mcreate_model\u001b[0;34m(estimator, fold, round, cross_validation, fit_kwargs, groups, probability_threshold, experiment_custom_tags, engine, verbose, return_train_score, **kwargs)\u001b[0m\n\u001b[1;32m    999\u001b[0m     \"\"\"\n\u001b[1;32m   1000\u001b[0m \u001b[0;34m\u001b[0m\u001b[0m\n\u001b[0;32m-> 1001\u001b[0;31m     return _CURRENT_EXPERIMENT.create_model(\n\u001b[0m\u001b[1;32m   1002\u001b[0m         \u001b[0mestimator\u001b[0m\u001b[0;34m=\u001b[0m\u001b[0mestimator\u001b[0m\u001b[0;34m,\u001b[0m\u001b[0;34m\u001b[0m\u001b[0;34m\u001b[0m\u001b[0m\n\u001b[1;32m   1003\u001b[0m         \u001b[0mfold\u001b[0m\u001b[0;34m=\u001b[0m\u001b[0mfold\u001b[0m\u001b[0;34m,\u001b[0m\u001b[0;34m\u001b[0m\u001b[0;34m\u001b[0m\u001b[0m\n",
      "\u001b[0;32m~/opt/anaconda3/lib/python3.8/site-packages/pycaret/classification/oop.py\u001b[0m in \u001b[0;36mcreate_model\u001b[0;34m(self, estimator, fold, round, cross_validation, fit_kwargs, groups, experiment_custom_tags, probability_threshold, engine, verbose, return_train_score, **kwargs)\u001b[0m\n\u001b[1;32m   1342\u001b[0m \u001b[0;34m\u001b[0m\u001b[0m\n\u001b[1;32m   1343\u001b[0m         \u001b[0;32mtry\u001b[0m\u001b[0;34m:\u001b[0m\u001b[0;34m\u001b[0m\u001b[0;34m\u001b[0m\u001b[0m\n\u001b[0;32m-> 1344\u001b[0;31m             return_values = super().create_model(\n\u001b[0m\u001b[1;32m   1345\u001b[0m                 \u001b[0mestimator\u001b[0m\u001b[0;34m=\u001b[0m\u001b[0mestimator\u001b[0m\u001b[0;34m,\u001b[0m\u001b[0;34m\u001b[0m\u001b[0;34m\u001b[0m\u001b[0m\n\u001b[1;32m   1346\u001b[0m                 \u001b[0mfold\u001b[0m\u001b[0;34m=\u001b[0m\u001b[0mfold\u001b[0m\u001b[0;34m,\u001b[0m\u001b[0;34m\u001b[0m\u001b[0;34m\u001b[0m\u001b[0m\n",
      "\u001b[0;32m~/opt/anaconda3/lib/python3.8/site-packages/pycaret/internal/pycaret_experiment/supervised_experiment.py\u001b[0m in \u001b[0;36mcreate_model\u001b[0;34m(self, estimator, fold, round, cross_validation, predict, fit_kwargs, groups, refit, probability_threshold, experiment_custom_tags, verbose, return_train_score, **kwargs)\u001b[0m\n\u001b[1;32m   1764\u001b[0m             \u001b[0;32mfor\u001b[0m \u001b[0mx\u001b[0m \u001b[0;32min\u001b[0m \u001b[0mkwargs\u001b[0m\u001b[0;34m\u001b[0m\u001b[0;34m\u001b[0m\u001b[0m\n\u001b[1;32m   1765\u001b[0m         )\n\u001b[0;32m-> 1766\u001b[0;31m         return self._create_model(\n\u001b[0m\u001b[1;32m   1767\u001b[0m             \u001b[0mestimator\u001b[0m\u001b[0;34m=\u001b[0m\u001b[0mestimator\u001b[0m\u001b[0;34m,\u001b[0m\u001b[0;34m\u001b[0m\u001b[0;34m\u001b[0m\u001b[0m\n\u001b[1;32m   1768\u001b[0m             \u001b[0mfold\u001b[0m\u001b[0;34m=\u001b[0m\u001b[0mfold\u001b[0m\u001b[0;34m,\u001b[0m\u001b[0;34m\u001b[0m\u001b[0;34m\u001b[0m\u001b[0m\n",
      "\u001b[0;32m~/opt/anaconda3/lib/python3.8/site-packages/pycaret/internal/pycaret_experiment/supervised_experiment.py\u001b[0m in \u001b[0;36m_create_model\u001b[0;34m(self, estimator, fold, round, cross_validation, predict, fit_kwargs, groups, refit, probability_threshold, experiment_custom_tags, verbose, system, add_to_model_list, X_train_data, y_train_data, metrics, display, model_only, return_train_score, error_score, **kwargs)\u001b[0m\n\u001b[1;32m   1531\u001b[0m             \u001b[0;32mreturn\u001b[0m \u001b[0mmodel\u001b[0m\u001b[0;34m\u001b[0m\u001b[0;34m\u001b[0m\u001b[0m\n\u001b[1;32m   1532\u001b[0m \u001b[0;34m\u001b[0m\u001b[0m\n\u001b[0;32m-> 1533\u001b[0;31m         model, model_fit_time, model_results, _ = self._create_model_with_cv(\n\u001b[0m\u001b[1;32m   1534\u001b[0m             \u001b[0mmodel\u001b[0m\u001b[0;34m=\u001b[0m\u001b[0mmodel\u001b[0m\u001b[0;34m,\u001b[0m\u001b[0;34m\u001b[0m\u001b[0;34m\u001b[0m\u001b[0m\n\u001b[1;32m   1535\u001b[0m             \u001b[0mdata_X\u001b[0m\u001b[0;34m=\u001b[0m\u001b[0mdata_X\u001b[0m\u001b[0;34m,\u001b[0m\u001b[0;34m\u001b[0m\u001b[0;34m\u001b[0m\u001b[0m\n",
      "\u001b[0;32m~/opt/anaconda3/lib/python3.8/site-packages/pycaret/internal/pycaret_experiment/supervised_experiment.py\u001b[0m in \u001b[0;36m_create_model_with_cv\u001b[0;34m(self, model, data_X, data_y, fit_kwargs, round, cv, groups, metrics, refit, system, display, error_score, return_train_score)\u001b[0m\n\u001b[1;32m   1124\u001b[0m                 \u001b[0mmodel_fit_start\u001b[0m \u001b[0;34m=\u001b[0m \u001b[0mtime\u001b[0m\u001b[0;34m.\u001b[0m\u001b[0mtime\u001b[0m\u001b[0;34m(\u001b[0m\u001b[0;34m)\u001b[0m\u001b[0;34m\u001b[0m\u001b[0;34m\u001b[0m\u001b[0m\n\u001b[1;32m   1125\u001b[0m                 \u001b[0;32mwith\u001b[0m \u001b[0mredirect_output\u001b[0m\u001b[0;34m(\u001b[0m\u001b[0mself\u001b[0m\u001b[0;34m.\u001b[0m\u001b[0mlogger\u001b[0m\u001b[0;34m)\u001b[0m\u001b[0;34m:\u001b[0m\u001b[0;34m\u001b[0m\u001b[0;34m\u001b[0m\u001b[0m\n\u001b[0;32m-> 1126\u001b[0;31m                     scores = cross_validate(\n\u001b[0m\u001b[1;32m   1127\u001b[0m                         \u001b[0mpipeline_with_model\u001b[0m\u001b[0;34m,\u001b[0m\u001b[0;34m\u001b[0m\u001b[0;34m\u001b[0m\u001b[0m\n\u001b[1;32m   1128\u001b[0m                         \u001b[0mdata_X\u001b[0m\u001b[0;34m,\u001b[0m\u001b[0;34m\u001b[0m\u001b[0;34m\u001b[0m\u001b[0m\n",
      "\u001b[0;32m~/opt/anaconda3/lib/python3.8/site-packages/sklearn/model_selection/_validation.py\u001b[0m in \u001b[0;36mcross_validate\u001b[0;34m(estimator, X, y, groups, scoring, cv, n_jobs, verbose, fit_params, pre_dispatch, return_train_score, return_estimator, error_score)\u001b[0m\n\u001b[1;32m    265\u001b[0m     \u001b[0;31m# independent, and that it is pickle-able.\u001b[0m\u001b[0;34m\u001b[0m\u001b[0;34m\u001b[0m\u001b[0;34m\u001b[0m\u001b[0m\n\u001b[1;32m    266\u001b[0m     \u001b[0mparallel\u001b[0m \u001b[0;34m=\u001b[0m \u001b[0mParallel\u001b[0m\u001b[0;34m(\u001b[0m\u001b[0mn_jobs\u001b[0m\u001b[0;34m=\u001b[0m\u001b[0mn_jobs\u001b[0m\u001b[0;34m,\u001b[0m \u001b[0mverbose\u001b[0m\u001b[0;34m=\u001b[0m\u001b[0mverbose\u001b[0m\u001b[0;34m,\u001b[0m \u001b[0mpre_dispatch\u001b[0m\u001b[0;34m=\u001b[0m\u001b[0mpre_dispatch\u001b[0m\u001b[0;34m)\u001b[0m\u001b[0;34m\u001b[0m\u001b[0;34m\u001b[0m\u001b[0m\n\u001b[0;32m--> 267\u001b[0;31m     results = parallel(\n\u001b[0m\u001b[1;32m    268\u001b[0m         delayed(_fit_and_score)(\n\u001b[1;32m    269\u001b[0m             \u001b[0mclone\u001b[0m\u001b[0;34m(\u001b[0m\u001b[0mestimator\u001b[0m\u001b[0;34m)\u001b[0m\u001b[0;34m,\u001b[0m\u001b[0;34m\u001b[0m\u001b[0;34m\u001b[0m\u001b[0m\n",
      "\u001b[0;32m~/opt/anaconda3/lib/python3.8/site-packages/joblib/parallel.py\u001b[0m in \u001b[0;36m__call__\u001b[0;34m(self, iterable)\u001b[0m\n\u001b[1;32m   1942\u001b[0m         \u001b[0mnext\u001b[0m\u001b[0;34m(\u001b[0m\u001b[0moutput\u001b[0m\u001b[0;34m)\u001b[0m\u001b[0;34m\u001b[0m\u001b[0;34m\u001b[0m\u001b[0m\n\u001b[1;32m   1943\u001b[0m \u001b[0;34m\u001b[0m\u001b[0m\n\u001b[0;32m-> 1944\u001b[0;31m         \u001b[0;32mreturn\u001b[0m \u001b[0moutput\u001b[0m \u001b[0;32mif\u001b[0m \u001b[0mself\u001b[0m\u001b[0;34m.\u001b[0m\u001b[0mreturn_generator\u001b[0m \u001b[0;32melse\u001b[0m \u001b[0mlist\u001b[0m\u001b[0;34m(\u001b[0m\u001b[0moutput\u001b[0m\u001b[0;34m)\u001b[0m\u001b[0;34m\u001b[0m\u001b[0;34m\u001b[0m\u001b[0m\n\u001b[0m\u001b[1;32m   1945\u001b[0m \u001b[0;34m\u001b[0m\u001b[0m\n\u001b[1;32m   1946\u001b[0m     \u001b[0;32mdef\u001b[0m \u001b[0m__repr__\u001b[0m\u001b[0;34m(\u001b[0m\u001b[0mself\u001b[0m\u001b[0;34m)\u001b[0m\u001b[0;34m:\u001b[0m\u001b[0;34m\u001b[0m\u001b[0;34m\u001b[0m\u001b[0m\n",
      "\u001b[0;32m~/opt/anaconda3/lib/python3.8/site-packages/joblib/parallel.py\u001b[0m in \u001b[0;36m_get_outputs\u001b[0;34m(self, iterator, pre_dispatch)\u001b[0m\n\u001b[1;32m   1585\u001b[0m \u001b[0;34m\u001b[0m\u001b[0m\n\u001b[1;32m   1586\u001b[0m             \u001b[0;32mwith\u001b[0m \u001b[0mself\u001b[0m\u001b[0;34m.\u001b[0m\u001b[0m_backend\u001b[0m\u001b[0;34m.\u001b[0m\u001b[0mretrieval_context\u001b[0m\u001b[0;34m(\u001b[0m\u001b[0;34m)\u001b[0m\u001b[0;34m:\u001b[0m\u001b[0;34m\u001b[0m\u001b[0;34m\u001b[0m\u001b[0m\n\u001b[0;32m-> 1587\u001b[0;31m                 \u001b[0;32myield\u001b[0m \u001b[0;32mfrom\u001b[0m \u001b[0mself\u001b[0m\u001b[0;34m.\u001b[0m\u001b[0m_retrieve\u001b[0m\u001b[0;34m(\u001b[0m\u001b[0;34m)\u001b[0m\u001b[0;34m\u001b[0m\u001b[0;34m\u001b[0m\u001b[0m\n\u001b[0m\u001b[1;32m   1588\u001b[0m \u001b[0;34m\u001b[0m\u001b[0m\n\u001b[1;32m   1589\u001b[0m         \u001b[0;32mexcept\u001b[0m \u001b[0mGeneratorExit\u001b[0m\u001b[0;34m:\u001b[0m\u001b[0;34m\u001b[0m\u001b[0;34m\u001b[0m\u001b[0m\n",
      "\u001b[0;32m~/opt/anaconda3/lib/python3.8/site-packages/joblib/parallel.py\u001b[0m in \u001b[0;36m_retrieve\u001b[0;34m(self)\u001b[0m\n\u001b[1;32m   1697\u001b[0m                 (self._jobs[0].get_status(\n\u001b[1;32m   1698\u001b[0m                     timeout=self.timeout) == TASK_PENDING)):\n\u001b[0;32m-> 1699\u001b[0;31m                 \u001b[0mtime\u001b[0m\u001b[0;34m.\u001b[0m\u001b[0msleep\u001b[0m\u001b[0;34m(\u001b[0m\u001b[0;36m0.01\u001b[0m\u001b[0;34m)\u001b[0m\u001b[0;34m\u001b[0m\u001b[0;34m\u001b[0m\u001b[0m\n\u001b[0m\u001b[1;32m   1700\u001b[0m                 \u001b[0;32mcontinue\u001b[0m\u001b[0;34m\u001b[0m\u001b[0;34m\u001b[0m\u001b[0m\n\u001b[1;32m   1701\u001b[0m \u001b[0;34m\u001b[0m\u001b[0m\n",
      "\u001b[0;31mKeyboardInterrupt\u001b[0m: "
     ]
    }
   ],
   "source": [
    "from HELPpy.models.prediction import VotingEnsembleLGBM\n",
    "veLGBM = create_model(VotingEnsembleLGBM())"
   ]
  },
  {
   "cell_type": "code",
   "execution_count": 9,
   "metadata": {},
   "outputs": [
    {
     "data": {
      "text/plain": [
       "VotingEnsembleLGBM(boosting_type='gbdt', learning_rate=0.1, n_jobs=-1,\n",
       "                   n_voters=10, random_state=42, verbose=False, voting='soft')"
      ]
     },
     "execution_count": 9,
     "metadata": {},
     "output_type": "execute_result"
    }
   ],
   "source": [
    "veLGBM"
   ]
  },
  {
   "cell_type": "code",
   "execution_count": 8,
   "metadata": {
    "execution": {
     "iopub.execute_input": "2024-05-17T11:23:36.131911Z",
     "iopub.status.busy": "2024-05-17T11:23:36.131367Z",
     "iopub.status.idle": "2024-05-17T12:12:37.488158Z",
     "shell.execute_reply": "2024-05-17T12:12:37.486672Z",
     "shell.execute_reply.started": "2024-05-17T11:23:36.131870Z"
    }
   },
   "outputs": [
    {
     "data": {
      "text/html": [],
      "text/plain": [
       "<IPython.core.display.HTML object>"
      ]
     },
     "metadata": {},
     "output_type": "display_data"
    },
    {
     "data": {
      "text/html": [
       "<style type=\"text/css\">\n",
       "#T_1833b_ th {\n",
       "  text-align: left;\n",
       "}\n",
       "#T_1833b_row0_col0, #T_1833b_row0_col1, #T_1833b_row0_col3, #T_1833b_row0_col4, #T_1833b_row0_col6, #T_1833b_row1_col0, #T_1833b_row1_col1, #T_1833b_row1_col2, #T_1833b_row1_col3, #T_1833b_row1_col5, #T_1833b_row1_col6, #T_1833b_row1_col7, #T_1833b_row2_col0, #T_1833b_row2_col1, #T_1833b_row2_col2, #T_1833b_row2_col3, #T_1833b_row2_col4, #T_1833b_row2_col5, #T_1833b_row2_col6, #T_1833b_row2_col7, #T_1833b_row3_col0, #T_1833b_row3_col1, #T_1833b_row3_col2, #T_1833b_row3_col3, #T_1833b_row3_col4, #T_1833b_row3_col5, #T_1833b_row3_col6, #T_1833b_row3_col7, #T_1833b_row4_col0, #T_1833b_row4_col2, #T_1833b_row4_col4, #T_1833b_row4_col5, #T_1833b_row4_col6, #T_1833b_row4_col7, #T_1833b_row5_col0, #T_1833b_row5_col1, #T_1833b_row5_col2, #T_1833b_row5_col3, #T_1833b_row5_col4, #T_1833b_row5_col5, #T_1833b_row5_col6, #T_1833b_row5_col7, #T_1833b_row6_col0, #T_1833b_row6_col1, #T_1833b_row6_col2, #T_1833b_row6_col3, #T_1833b_row6_col4, #T_1833b_row6_col5, #T_1833b_row6_col6, #T_1833b_row6_col7, #T_1833b_row7_col0, #T_1833b_row7_col1, #T_1833b_row7_col2, #T_1833b_row7_col3, #T_1833b_row7_col4, #T_1833b_row7_col5, #T_1833b_row7_col6, #T_1833b_row7_col7, #T_1833b_row8_col0, #T_1833b_row8_col1, #T_1833b_row8_col2, #T_1833b_row8_col3, #T_1833b_row8_col4, #T_1833b_row8_col5, #T_1833b_row8_col6, #T_1833b_row8_col7, #T_1833b_row9_col0, #T_1833b_row9_col1, #T_1833b_row9_col2, #T_1833b_row9_col3, #T_1833b_row9_col4, #T_1833b_row9_col5, #T_1833b_row9_col6, #T_1833b_row9_col7, #T_1833b_row10_col0, #T_1833b_row10_col1, #T_1833b_row10_col2, #T_1833b_row10_col3, #T_1833b_row10_col4, #T_1833b_row10_col5, #T_1833b_row10_col7 {\n",
       "  text-align: left;\n",
       "}\n",
       "#T_1833b_row0_col2, #T_1833b_row0_col5, #T_1833b_row0_col7, #T_1833b_row1_col4, #T_1833b_row4_col1, #T_1833b_row4_col3, #T_1833b_row10_col6 {\n",
       "  text-align: left;\n",
       "  background-color: yellow;\n",
       "}\n",
       "#T_1833b_row0_col8, #T_1833b_row1_col8, #T_1833b_row3_col8, #T_1833b_row4_col8, #T_1833b_row5_col8, #T_1833b_row6_col8, #T_1833b_row7_col8, #T_1833b_row8_col8, #T_1833b_row9_col8, #T_1833b_row10_col8 {\n",
       "  text-align: left;\n",
       "  background-color: lightgrey;\n",
       "}\n",
       "#T_1833b_row2_col8 {\n",
       "  text-align: left;\n",
       "  background-color: yellow;\n",
       "  background-color: lightgrey;\n",
       "}\n",
       "</style>\n",
       "<table id=\"T_1833b_\">\n",
       "  <thead>\n",
       "    <tr>\n",
       "      <th class=\"blank level0\" >&nbsp;</th>\n",
       "      <th class=\"col_heading level0 col0\" >Model</th>\n",
       "      <th class=\"col_heading level0 col1\" >Accuracy</th>\n",
       "      <th class=\"col_heading level0 col2\" >AUC</th>\n",
       "      <th class=\"col_heading level0 col3\" >Recall</th>\n",
       "      <th class=\"col_heading level0 col4\" >MCC</th>\n",
       "      <th class=\"col_heading level0 col5\" >Sensitivity</th>\n",
       "      <th class=\"col_heading level0 col6\" >Specificity</th>\n",
       "      <th class=\"col_heading level0 col7\" >BA</th>\n",
       "      <th class=\"col_heading level0 col8\" >TT (Sec)</th>\n",
       "    </tr>\n",
       "  </thead>\n",
       "  <tbody>\n",
       "    <tr>\n",
       "      <th id=\"T_1833b_level0_row0\" class=\"row_heading level0 row0\" >0</th>\n",
       "      <td id=\"T_1833b_row0_col0\" class=\"data row0 col0\" >VotingEnsembleLGBM</td>\n",
       "      <td id=\"T_1833b_row0_col1\" class=\"data row0 col1\" >0.8846</td>\n",
       "      <td id=\"T_1833b_row0_col2\" class=\"data row0 col2\" >0.9473</td>\n",
       "      <td id=\"T_1833b_row0_col3\" class=\"data row0 col3\" >0.8846</td>\n",
       "      <td id=\"T_1833b_row0_col4\" class=\"data row0 col4\" >0.5275</td>\n",
       "      <td id=\"T_1833b_row0_col5\" class=\"data row0 col5\" >0.8748</td>\n",
       "      <td id=\"T_1833b_row0_col6\" class=\"data row0 col6\" >0.8854</td>\n",
       "      <td id=\"T_1833b_row0_col7\" class=\"data row0 col7\" >0.8801</td>\n",
       "      <td id=\"T_1833b_row0_col8\" class=\"data row0 col8\" >4.0240</td>\n",
       "    </tr>\n",
       "    <tr>\n",
       "      <th id=\"T_1833b_level0_row1\" class=\"row_heading level0 row1\" >7</th>\n",
       "      <td id=\"T_1833b_row1_col0\" class=\"data row1 col0\" >Linear Discriminant Analysis</td>\n",
       "      <td id=\"T_1833b_row1_col1\" class=\"data row1 col1\" >0.9422</td>\n",
       "      <td id=\"T_1833b_row1_col2\" class=\"data row1 col2\" >0.9340</td>\n",
       "      <td id=\"T_1833b_row1_col3\" class=\"data row1 col3\" >0.9422</td>\n",
       "      <td id=\"T_1833b_row1_col4\" class=\"data row1 col4\" >0.5669</td>\n",
       "      <td id=\"T_1833b_row1_col5\" class=\"data row1 col5\" >0.5867</td>\n",
       "      <td id=\"T_1833b_row1_col6\" class=\"data row1 col6\" >0.9703</td>\n",
       "      <td id=\"T_1833b_row1_col7\" class=\"data row1 col7\" >0.7785</td>\n",
       "      <td id=\"T_1833b_row1_col8\" class=\"data row1 col8\" >0.3640</td>\n",
       "    </tr>\n",
       "    <tr>\n",
       "      <th id=\"T_1833b_level0_row2\" class=\"row_heading level0 row2\" >10</th>\n",
       "      <td id=\"T_1833b_row2_col0\" class=\"data row2 col0\" >SVM - Linear Kernel</td>\n",
       "      <td id=\"T_1833b_row2_col1\" class=\"data row2 col1\" >0.9439</td>\n",
       "      <td id=\"T_1833b_row2_col2\" class=\"data row2 col2\" >0.0000</td>\n",
       "      <td id=\"T_1833b_row2_col3\" class=\"data row2 col3\" >0.9439</td>\n",
       "      <td id=\"T_1833b_row2_col4\" class=\"data row2 col4\" >0.5519</td>\n",
       "      <td id=\"T_1833b_row2_col5\" class=\"data row2 col5\" >0.5126</td>\n",
       "      <td id=\"T_1833b_row2_col6\" class=\"data row2 col6\" >0.9779</td>\n",
       "      <td id=\"T_1833b_row2_col7\" class=\"data row2 col7\" >0.7453</td>\n",
       "      <td id=\"T_1833b_row2_col8\" class=\"data row2 col8\" >0.1880</td>\n",
       "    </tr>\n",
       "    <tr>\n",
       "      <th id=\"T_1833b_level0_row3\" class=\"row_heading level0 row3\" >3</th>\n",
       "      <td id=\"T_1833b_row3_col0\" class=\"data row3 col0\" >Ada Boost Classifier</td>\n",
       "      <td id=\"T_1833b_row3_col1\" class=\"data row3 col1\" >0.9402</td>\n",
       "      <td id=\"T_1833b_row3_col2\" class=\"data row3 col2\" >0.9238</td>\n",
       "      <td id=\"T_1833b_row3_col3\" class=\"data row3 col3\" >0.9402</td>\n",
       "      <td id=\"T_1833b_row3_col4\" class=\"data row3 col4\" >0.5097</td>\n",
       "      <td id=\"T_1833b_row3_col5\" class=\"data row3 col5\" >0.4691</td>\n",
       "      <td id=\"T_1833b_row3_col6\" class=\"data row3 col6\" >0.9775</td>\n",
       "      <td id=\"T_1833b_row3_col7\" class=\"data row3 col7\" >0.7233</td>\n",
       "      <td id=\"T_1833b_row3_col8\" class=\"data row3 col8\" >2.3640</td>\n",
       "    </tr>\n",
       "    <tr>\n",
       "      <th id=\"T_1833b_level0_row4\" class=\"row_heading level0 row4\" >8</th>\n",
       "      <td id=\"T_1833b_row4_col0\" class=\"data row4 col0\" >Logistic Regression</td>\n",
       "      <td id=\"T_1833b_row4_col1\" class=\"data row4 col1\" >0.9478</td>\n",
       "      <td id=\"T_1833b_row4_col2\" class=\"data row4 col2\" >0.9428</td>\n",
       "      <td id=\"T_1833b_row4_col3\" class=\"data row4 col3\" >0.9478</td>\n",
       "      <td id=\"T_1833b_row4_col4\" class=\"data row4 col4\" >0.5494</td>\n",
       "      <td id=\"T_1833b_row4_col5\" class=\"data row4 col5\" >0.4480</td>\n",
       "      <td id=\"T_1833b_row4_col6\" class=\"data row4 col6\" >0.9874</td>\n",
       "      <td id=\"T_1833b_row4_col7\" class=\"data row4 col7\" >0.7177</td>\n",
       "      <td id=\"T_1833b_row4_col8\" class=\"data row4 col8\" >0.3960</td>\n",
       "    </tr>\n",
       "    <tr>\n",
       "      <th id=\"T_1833b_level0_row5\" class=\"row_heading level0 row5\" >1</th>\n",
       "      <td id=\"T_1833b_row5_col0\" class=\"data row5 col0\" >Light Gradient Boosting Machine</td>\n",
       "      <td id=\"T_1833b_row5_col1\" class=\"data row5 col1\" >0.9476</td>\n",
       "      <td id=\"T_1833b_row5_col2\" class=\"data row5 col2\" >0.9460</td>\n",
       "      <td id=\"T_1833b_row5_col3\" class=\"data row5 col3\" >0.9476</td>\n",
       "      <td id=\"T_1833b_row5_col4\" class=\"data row5 col4\" >0.5365</td>\n",
       "      <td id=\"T_1833b_row5_col5\" class=\"data row5 col5\" >0.4057</td>\n",
       "      <td id=\"T_1833b_row5_col6\" class=\"data row5 col6\" >0.9905</td>\n",
       "      <td id=\"T_1833b_row5_col7\" class=\"data row5 col7\" >0.6981</td>\n",
       "      <td id=\"T_1833b_row5_col8\" class=\"data row5 col8\" >0.8580</td>\n",
       "    </tr>\n",
       "    <tr>\n",
       "      <th id=\"T_1833b_level0_row6\" class=\"row_heading level0 row6\" >2</th>\n",
       "      <td id=\"T_1833b_row6_col0\" class=\"data row6 col0\" >Extreme Gradient Boosting</td>\n",
       "      <td id=\"T_1833b_row6_col1\" class=\"data row6 col1\" >0.9470</td>\n",
       "      <td id=\"T_1833b_row6_col2\" class=\"data row6 col2\" >0.9412</td>\n",
       "      <td id=\"T_1833b_row6_col3\" class=\"data row6 col3\" >0.9470</td>\n",
       "      <td id=\"T_1833b_row6_col4\" class=\"data row6 col4\" >0.5296</td>\n",
       "      <td id=\"T_1833b_row6_col5\" class=\"data row6 col5\" >0.4012</td>\n",
       "      <td id=\"T_1833b_row6_col6\" class=\"data row6 col6\" >0.9901</td>\n",
       "      <td id=\"T_1833b_row6_col7\" class=\"data row6 col7\" >0.6957</td>\n",
       "      <td id=\"T_1833b_row6_col8\" class=\"data row6 col8\" >8.5740</td>\n",
       "    </tr>\n",
       "    <tr>\n",
       "      <th id=\"T_1833b_level0_row7\" class=\"row_heading level0 row7\" >6</th>\n",
       "      <td id=\"T_1833b_row7_col0\" class=\"data row7 col0\" >Gradient Boosting Classifier</td>\n",
       "      <td id=\"T_1833b_row7_col1\" class=\"data row7 col1\" >0.9444</td>\n",
       "      <td id=\"T_1833b_row7_col2\" class=\"data row7 col2\" >0.9322</td>\n",
       "      <td id=\"T_1833b_row7_col3\" class=\"data row7 col3\" >0.9444</td>\n",
       "      <td id=\"T_1833b_row7_col4\" class=\"data row7 col4\" >0.4942</td>\n",
       "      <td id=\"T_1833b_row7_col5\" class=\"data row7 col5\" >0.3530</td>\n",
       "      <td id=\"T_1833b_row7_col6\" class=\"data row7 col6\" >0.9912</td>\n",
       "      <td id=\"T_1833b_row7_col7\" class=\"data row7 col7\" >0.6721</td>\n",
       "      <td id=\"T_1833b_row7_col8\" class=\"data row7 col8\" >14.3980</td>\n",
       "    </tr>\n",
       "    <tr>\n",
       "      <th id=\"T_1833b_level0_row8\" class=\"row_heading level0 row8\" >5</th>\n",
       "      <td id=\"T_1833b_row8_col0\" class=\"data row8 col0\" >Decision Tree Classifier</td>\n",
       "      <td id=\"T_1833b_row8_col1\" class=\"data row8 col1\" >0.8991</td>\n",
       "      <td id=\"T_1833b_row8_col2\" class=\"data row8 col2\" >0.6538</td>\n",
       "      <td id=\"T_1833b_row8_col3\" class=\"data row8 col3\" >0.8991</td>\n",
       "      <td id=\"T_1833b_row8_col4\" class=\"data row8 col4\" >0.2941</td>\n",
       "      <td id=\"T_1833b_row8_col5\" class=\"data row8 col5\" >0.3665</td>\n",
       "      <td id=\"T_1833b_row8_col6\" class=\"data row8 col6\" >0.9412</td>\n",
       "      <td id=\"T_1833b_row8_col7\" class=\"data row8 col7\" >0.6538</td>\n",
       "      <td id=\"T_1833b_row8_col8\" class=\"data row8 col8\" >1.2180</td>\n",
       "    </tr>\n",
       "    <tr>\n",
       "      <th id=\"T_1833b_level0_row9\" class=\"row_heading level0 row9\" >4</th>\n",
       "      <td id=\"T_1833b_row9_col0\" class=\"data row9 col0\" >Random Forest Classifier</td>\n",
       "      <td id=\"T_1833b_row9_col1\" class=\"data row9 col1\" >0.9358</td>\n",
       "      <td id=\"T_1833b_row9_col2\" class=\"data row9 col2\" >0.9161</td>\n",
       "      <td id=\"T_1833b_row9_col3\" class=\"data row9 col3\" >0.9358</td>\n",
       "      <td id=\"T_1833b_row9_col4\" class=\"data row9 col4\" >0.3383</td>\n",
       "      <td id=\"T_1833b_row9_col5\" class=\"data row9 col5\" >0.1312</td>\n",
       "      <td id=\"T_1833b_row9_col6\" class=\"data row9 col6\" >0.9994</td>\n",
       "      <td id=\"T_1833b_row9_col7\" class=\"data row9 col7\" >0.5653</td>\n",
       "      <td id=\"T_1833b_row9_col8\" class=\"data row9 col8\" >2.3880</td>\n",
       "    </tr>\n",
       "    <tr>\n",
       "      <th id=\"T_1833b_level0_row10\" class=\"row_heading level0 row10\" >9</th>\n",
       "      <td id=\"T_1833b_row10_col0\" class=\"data row10 col0\" >Extra Trees Classifier</td>\n",
       "      <td id=\"T_1833b_row10_col1\" class=\"data row10 col1\" >0.9353</td>\n",
       "      <td id=\"T_1833b_row10_col2\" class=\"data row10 col2\" >0.9242</td>\n",
       "      <td id=\"T_1833b_row10_col3\" class=\"data row10 col3\" >0.9353</td>\n",
       "      <td id=\"T_1833b_row10_col4\" class=\"data row10 col4\" >0.3307</td>\n",
       "      <td id=\"T_1833b_row10_col5\" class=\"data row10 col5\" >0.1206</td>\n",
       "      <td id=\"T_1833b_row10_col6\" class=\"data row10 col6\" >0.9998</td>\n",
       "      <td id=\"T_1833b_row10_col7\" class=\"data row10 col7\" >0.5602</td>\n",
       "      <td id=\"T_1833b_row10_col8\" class=\"data row10 col8\" >0.4900</td>\n",
       "    </tr>\n",
       "  </tbody>\n",
       "</table>\n"
      ],
      "text/plain": [
       "<pandas.io.formats.style.Styler at 0x7fc01a0ab250>"
      ]
     },
     "metadata": {},
     "output_type": "display_data"
    },
    {
     "data": {
      "text/html": [],
      "text/plain": [
       "<IPython.core.display.HTML object>"
      ]
     },
     "metadata": {},
     "output_type": "display_data"
    }
   ],
   "source": [
    "from sklearn.metrics import balanced_accuracy_score\n",
    "classifiers = [VotingEnsembleLGBM(), 'lightgbm', 'xgboost', 'ada', 'rf', 'dt', 'gbc', 'lda', 'lr', 'et', 'svm']\n",
    "results = compare_models(include=classifiers, sort='BA')"
   ]
  },
  {
   "cell_type": "code",
   "execution_count": 10,
   "metadata": {
    "execution": {
     "iopub.execute_input": "2024-05-17T12:40:40.203380Z",
     "iopub.status.busy": "2024-05-17T12:40:40.202860Z",
     "iopub.status.idle": "2024-05-17T12:40:40.209571Z",
     "shell.execute_reply": "2024-05-17T12:40:40.208248Z",
     "shell.execute_reply.started": "2024-05-17T12:40:40.203341Z"
    }
   },
   "outputs": [
    {
     "name": "stdout",
     "output_type": "stream",
     "text": [
      "\\begin{tabular}{llrrrrrrrr}\n",
      "\\toprule\n",
      "{} &                            Model &  Accuracy &     AUC &  Recall &     MCC &  Sensitivity &  Specificity &      BA &  TT (Sec) \\\\\n",
      "\\midrule\n",
      "0  &               VotingEnsembleLGBM &    0.8846 &  0.9473 &  0.8846 &  0.5275 &       0.8748 &       0.8854 &  0.8801 &     4.024 \\\\\n",
      "7  &     Linear Discriminant Analysis &    0.9422 &  0.9340 &  0.9422 &  0.5669 &       0.5867 &       0.9703 &  0.7785 &     0.364 \\\\\n",
      "10 &              SVM - Linear Kernel &    0.9439 &  0.0000 &  0.9439 &  0.5519 &       0.5126 &       0.9779 &  0.7453 &     0.188 \\\\\n",
      "3  &             Ada Boost Classifier &    0.9402 &  0.9238 &  0.9402 &  0.5097 &       0.4691 &       0.9775 &  0.7233 &     2.364 \\\\\n",
      "8  &              Logistic Regression &    0.9478 &  0.9428 &  0.9478 &  0.5494 &       0.4480 &       0.9874 &  0.7177 &     0.396 \\\\\n",
      "1  &  Light Gradient Boosting Machine &    0.9476 &  0.9460 &  0.9476 &  0.5365 &       0.4057 &       0.9905 &  0.6981 &     0.858 \\\\\n",
      "2  &        Extreme Gradient Boosting &    0.9470 &  0.9412 &  0.9470 &  0.5296 &       0.4012 &       0.9901 &  0.6957 &     8.574 \\\\\n",
      "6  &     Gradient Boosting Classifier &    0.9444 &  0.9322 &  0.9444 &  0.4942 &       0.3530 &       0.9912 &  0.6721 &    14.398 \\\\\n",
      "5  &         Decision Tree Classifier &    0.8991 &  0.6538 &  0.8991 &  0.2941 &       0.3665 &       0.9412 &  0.6538 &     1.218 \\\\\n",
      "4  &         Random Forest Classifier &    0.9358 &  0.9161 &  0.9358 &  0.3383 &       0.1312 &       0.9994 &  0.5653 &     2.388 \\\\\n",
      "9  &           Extra Trees Classifier &    0.9353 &  0.9242 &  0.9353 &  0.3307 &       0.1206 &       0.9998 &  0.5602 &     0.490 \\\\\n",
      "\\bottomrule\n",
      "\\end{tabular}\n",
      "\n"
     ]
    }
   ],
   "source": [
    "df = pull()\n",
    "df.to_csv(os.path.join('../../data4rev/pycaret/', \"pycaret_best_classifier_metrics.csv\"), index=True)\n",
    "print(df.to_latex())"
   ]
  },
  {
   "cell_type": "code",
   "execution_count": 114,
   "metadata": {
    "execution": {
     "iopub.execute_input": "2024-05-17T12:46:50.830394Z",
     "iopub.status.busy": "2024-05-17T12:46:50.829976Z",
     "iopub.status.idle": "2024-05-17T12:46:50.839290Z",
     "shell.execute_reply": "2024-05-17T12:46:50.837952Z",
     "shell.execute_reply.started": "2024-05-17T12:46:50.830363Z"
    }
   },
   "outputs": [
    {
     "data": {
      "text/plain": [
       "{'n_jobs': -1,\n",
       " 'n_voters': 10,\n",
       " 'random_state': 42,\n",
       " 'verbose': False,\n",
       " 'voting': 'soft'}"
      ]
     },
     "execution_count": 114,
     "metadata": {},
     "output_type": "execute_result"
    }
   ],
   "source": [
    "results.get_params()"
   ]
  },
  {
   "cell_type": "markdown",
   "metadata": {},
   "source": [
    "# Tune the veLGBM classifier"
   ]
  },
  {
   "cell_type": "code",
   "execution_count": 37,
   "metadata": {},
   "outputs": [
    {
     "data": {
      "text/html": [],
      "text/plain": [
       "<IPython.core.display.HTML object>"
      ]
     },
     "metadata": {},
     "output_type": "display_data"
    },
    {
     "data": {
      "text/html": [
       "<style type=\"text/css\">\n",
       "#T_f78e2_row5_col0, #T_f78e2_row5_col1, #T_f78e2_row5_col2, #T_f78e2_row5_col3, #T_f78e2_row5_col4, #T_f78e2_row5_col5, #T_f78e2_row5_col6 {\n",
       "  background: yellow;\n",
       "}\n",
       "</style>\n",
       "<table id=\"T_f78e2_\">\n",
       "  <thead>\n",
       "    <tr>\n",
       "      <th class=\"blank level0\" >&nbsp;</th>\n",
       "      <th class=\"col_heading level0 col0\" >Accuracy</th>\n",
       "      <th class=\"col_heading level0 col1\" >AUC</th>\n",
       "      <th class=\"col_heading level0 col2\" >Recall</th>\n",
       "      <th class=\"col_heading level0 col3\" >MCC</th>\n",
       "      <th class=\"col_heading level0 col4\" >Sensitivity</th>\n",
       "      <th class=\"col_heading level0 col5\" >Specificity</th>\n",
       "      <th class=\"col_heading level0 col6\" >BA</th>\n",
       "    </tr>\n",
       "    <tr>\n",
       "      <th class=\"index_name level0\" >Fold</th>\n",
       "      <th class=\"blank col0\" >&nbsp;</th>\n",
       "      <th class=\"blank col1\" >&nbsp;</th>\n",
       "      <th class=\"blank col2\" >&nbsp;</th>\n",
       "      <th class=\"blank col3\" >&nbsp;</th>\n",
       "      <th class=\"blank col4\" >&nbsp;</th>\n",
       "      <th class=\"blank col5\" >&nbsp;</th>\n",
       "      <th class=\"blank col6\" >&nbsp;</th>\n",
       "    </tr>\n",
       "  </thead>\n",
       "  <tbody>\n",
       "    <tr>\n",
       "      <th id=\"T_f78e2_level0_row0\" class=\"row_heading level0 row0\" >0</th>\n",
       "      <td id=\"T_f78e2_row0_col0\" class=\"data row0 col0\" >0.8950</td>\n",
       "      <td id=\"T_f78e2_row0_col1\" class=\"data row0 col1\" >0.9574</td>\n",
       "      <td id=\"T_f78e2_row0_col2\" class=\"data row0 col2\" >0.8950</td>\n",
       "      <td id=\"T_f78e2_row0_col3\" class=\"data row0 col3\" >0.5478</td>\n",
       "      <td id=\"T_f78e2_row0_col4\" class=\"data row0 col4\" >0.8722</td>\n",
       "      <td id=\"T_f78e2_row0_col5\" class=\"data row0 col5\" >0.8968</td>\n",
       "      <td id=\"T_f78e2_row0_col6\" class=\"data row0 col6\" >0.8845</td>\n",
       "    </tr>\n",
       "    <tr>\n",
       "      <th id=\"T_f78e2_level0_row1\" class=\"row_heading level0 row1\" >1</th>\n",
       "      <td id=\"T_f78e2_row1_col0\" class=\"data row1 col0\" >0.9033</td>\n",
       "      <td id=\"T_f78e2_row1_col1\" class=\"data row1 col1\" >0.9620</td>\n",
       "      <td id=\"T_f78e2_row1_col2\" class=\"data row1 col2\" >0.9033</td>\n",
       "      <td id=\"T_f78e2_row1_col3\" class=\"data row1 col3\" >0.5829</td>\n",
       "      <td id=\"T_f78e2_row1_col4\" class=\"data row1 col4\" >0.9098</td>\n",
       "      <td id=\"T_f78e2_row1_col5\" class=\"data row1 col5\" >0.9028</td>\n",
       "      <td id=\"T_f78e2_row1_col6\" class=\"data row1 col6\" >0.9063</td>\n",
       "    </tr>\n",
       "    <tr>\n",
       "      <th id=\"T_f78e2_level0_row2\" class=\"row_heading level0 row2\" >2</th>\n",
       "      <td id=\"T_f78e2_row2_col0\" class=\"data row2 col0\" >0.9099</td>\n",
       "      <td id=\"T_f78e2_row2_col1\" class=\"data row2 col1\" >0.9607</td>\n",
       "      <td id=\"T_f78e2_row2_col2\" class=\"data row2 col2\" >0.9099</td>\n",
       "      <td id=\"T_f78e2_row2_col3\" class=\"data row2 col3\" >0.5855</td>\n",
       "      <td id=\"T_f78e2_row2_col4\" class=\"data row2 col4\" >0.8797</td>\n",
       "      <td id=\"T_f78e2_row2_col5\" class=\"data row2 col5\" >0.9123</td>\n",
       "      <td id=\"T_f78e2_row2_col6\" class=\"data row2 col6\" >0.8960</td>\n",
       "    </tr>\n",
       "    <tr>\n",
       "      <th id=\"T_f78e2_level0_row3\" class=\"row_heading level0 row3\" >3</th>\n",
       "      <td id=\"T_f78e2_row3_col0\" class=\"data row3 col0\" >0.8933</td>\n",
       "      <td id=\"T_f78e2_row3_col1\" class=\"data row3 col1\" >0.9348</td>\n",
       "      <td id=\"T_f78e2_row3_col2\" class=\"data row3 col2\" >0.8933</td>\n",
       "      <td id=\"T_f78e2_row3_col3\" class=\"data row3 col3\" >0.5251</td>\n",
       "      <td id=\"T_f78e2_row3_col4\" class=\"data row3 col4\" >0.8333</td>\n",
       "      <td id=\"T_f78e2_row3_col5\" class=\"data row3 col5\" >0.8980</td>\n",
       "      <td id=\"T_f78e2_row3_col6\" class=\"data row3 col6\" >0.8657</td>\n",
       "    </tr>\n",
       "    <tr>\n",
       "      <th id=\"T_f78e2_level0_row4\" class=\"row_heading level0 row4\" >4</th>\n",
       "      <td id=\"T_f78e2_row4_col0\" class=\"data row4 col0\" >0.9093</td>\n",
       "      <td id=\"T_f78e2_row4_col1\" class=\"data row4 col1\" >0.9543</td>\n",
       "      <td id=\"T_f78e2_row4_col2\" class=\"data row4 col2\" >0.9093</td>\n",
       "      <td id=\"T_f78e2_row4_col3\" class=\"data row4 col3\" >0.5757</td>\n",
       "      <td id=\"T_f78e2_row4_col4\" class=\"data row4 col4\" >0.8636</td>\n",
       "      <td id=\"T_f78e2_row4_col5\" class=\"data row4 col5\" >0.9129</td>\n",
       "      <td id=\"T_f78e2_row4_col6\" class=\"data row4 col6\" >0.8883</td>\n",
       "    </tr>\n",
       "    <tr>\n",
       "      <th id=\"T_f78e2_level0_row5\" class=\"row_heading level0 row5\" >Mean</th>\n",
       "      <td id=\"T_f78e2_row5_col0\" class=\"data row5 col0\" >0.9022</td>\n",
       "      <td id=\"T_f78e2_row5_col1\" class=\"data row5 col1\" >0.9538</td>\n",
       "      <td id=\"T_f78e2_row5_col2\" class=\"data row5 col2\" >0.9022</td>\n",
       "      <td id=\"T_f78e2_row5_col3\" class=\"data row5 col3\" >0.5634</td>\n",
       "      <td id=\"T_f78e2_row5_col4\" class=\"data row5 col4\" >0.8717</td>\n",
       "      <td id=\"T_f78e2_row5_col5\" class=\"data row5 col5\" >0.9046</td>\n",
       "      <td id=\"T_f78e2_row5_col6\" class=\"data row5 col6\" >0.8882</td>\n",
       "    </tr>\n",
       "    <tr>\n",
       "      <th id=\"T_f78e2_level0_row6\" class=\"row_heading level0 row6\" >Std</th>\n",
       "      <td id=\"T_f78e2_row6_col0\" class=\"data row6 col0\" >0.0070</td>\n",
       "      <td id=\"T_f78e2_row6_col1\" class=\"data row6 col1\" >0.0099</td>\n",
       "      <td id=\"T_f78e2_row6_col2\" class=\"data row6 col2\" >0.0070</td>\n",
       "      <td id=\"T_f78e2_row6_col3\" class=\"data row6 col3\" >0.0234</td>\n",
       "      <td id=\"T_f78e2_row6_col4\" class=\"data row6 col4\" >0.0247</td>\n",
       "      <td id=\"T_f78e2_row6_col5\" class=\"data row6 col5\" >0.0069</td>\n",
       "      <td id=\"T_f78e2_row6_col6\" class=\"data row6 col6\" >0.0135</td>\n",
       "    </tr>\n",
       "  </tbody>\n",
       "</table>\n"
      ],
      "text/plain": [
       "<pandas.io.formats.style.Styler at 0x7f8219d2eaf0>"
      ]
     },
     "metadata": {},
     "output_type": "display_data"
    },
    {
     "data": {
      "text/html": [],
      "text/plain": [
       "<IPython.core.display.HTML object>"
      ]
     },
     "metadata": {},
     "output_type": "display_data"
    },
    {
     "data": {
      "text/html": [],
      "text/plain": [
       "<IPython.core.display.HTML object>"
      ]
     },
     "metadata": {},
     "output_type": "display_data"
    },
    {
     "data": {
      "text/html": [
       "<style type=\"text/css\">\n",
       "#T_e363b_row5_col0, #T_e363b_row5_col1, #T_e363b_row5_col2, #T_e363b_row5_col3, #T_e363b_row5_col4, #T_e363b_row5_col5, #T_e363b_row5_col6 {\n",
       "  background: yellow;\n",
       "}\n",
       "</style>\n",
       "<table id=\"T_e363b_\">\n",
       "  <thead>\n",
       "    <tr>\n",
       "      <th class=\"blank level0\" >&nbsp;</th>\n",
       "      <th class=\"col_heading level0 col0\" >Accuracy</th>\n",
       "      <th class=\"col_heading level0 col1\" >AUC</th>\n",
       "      <th class=\"col_heading level0 col2\" >Recall</th>\n",
       "      <th class=\"col_heading level0 col3\" >MCC</th>\n",
       "      <th class=\"col_heading level0 col4\" >Sensitivity</th>\n",
       "      <th class=\"col_heading level0 col5\" >Specificity</th>\n",
       "      <th class=\"col_heading level0 col6\" >BA</th>\n",
       "    </tr>\n",
       "    <tr>\n",
       "      <th class=\"index_name level0\" >Fold</th>\n",
       "      <th class=\"blank col0\" >&nbsp;</th>\n",
       "      <th class=\"blank col1\" >&nbsp;</th>\n",
       "      <th class=\"blank col2\" >&nbsp;</th>\n",
       "      <th class=\"blank col3\" >&nbsp;</th>\n",
       "      <th class=\"blank col4\" >&nbsp;</th>\n",
       "      <th class=\"blank col5\" >&nbsp;</th>\n",
       "      <th class=\"blank col6\" >&nbsp;</th>\n",
       "    </tr>\n",
       "  </thead>\n",
       "  <tbody>\n",
       "    <tr>\n",
       "      <th id=\"T_e363b_level0_row0\" class=\"row_heading level0 row0\" >0</th>\n",
       "      <td id=\"T_e363b_row0_col0\" class=\"data row0 col0\" >0.8989</td>\n",
       "      <td id=\"T_e363b_row0_col1\" class=\"data row0 col1\" >0.9594</td>\n",
       "      <td id=\"T_e363b_row0_col2\" class=\"data row0 col2\" >0.8989</td>\n",
       "      <td id=\"T_e363b_row0_col3\" class=\"data row0 col3\" >0.5563</td>\n",
       "      <td id=\"T_e363b_row0_col4\" class=\"data row0 col4\" >0.8722</td>\n",
       "      <td id=\"T_e363b_row0_col5\" class=\"data row0 col5\" >0.9010</td>\n",
       "      <td id=\"T_e363b_row0_col6\" class=\"data row0 col6\" >0.8866</td>\n",
       "    </tr>\n",
       "    <tr>\n",
       "      <th id=\"T_e363b_level0_row1\" class=\"row_heading level0 row1\" >1</th>\n",
       "      <td id=\"T_e363b_row1_col0\" class=\"data row1 col0\" >0.9022</td>\n",
       "      <td id=\"T_e363b_row1_col1\" class=\"data row1 col1\" >0.9634</td>\n",
       "      <td id=\"T_e363b_row1_col2\" class=\"data row1 col2\" >0.9022</td>\n",
       "      <td id=\"T_e363b_row1_col3\" class=\"data row1 col3\" >0.5837</td>\n",
       "      <td id=\"T_e363b_row1_col4\" class=\"data row1 col4\" >0.9173</td>\n",
       "      <td id=\"T_e363b_row1_col5\" class=\"data row1 col5\" >0.9010</td>\n",
       "      <td id=\"T_e363b_row1_col6\" class=\"data row1 col6\" >0.9092</td>\n",
       "    </tr>\n",
       "    <tr>\n",
       "      <th id=\"T_e363b_level0_row2\" class=\"row_heading level0 row2\" >2</th>\n",
       "      <td id=\"T_e363b_row2_col0\" class=\"data row2 col0\" >0.9127</td>\n",
       "      <td id=\"T_e363b_row2_col1\" class=\"data row2 col1\" >0.9602</td>\n",
       "      <td id=\"T_e363b_row2_col2\" class=\"data row2 col2\" >0.9127</td>\n",
       "      <td id=\"T_e363b_row2_col3\" class=\"data row2 col3\" >0.5957</td>\n",
       "      <td id=\"T_e363b_row2_col4\" class=\"data row2 col4\" >0.8872</td>\n",
       "      <td id=\"T_e363b_row2_col5\" class=\"data row2 col5\" >0.9147</td>\n",
       "      <td id=\"T_e363b_row2_col6\" class=\"data row2 col6\" >0.9010</td>\n",
       "    </tr>\n",
       "    <tr>\n",
       "      <th id=\"T_e363b_level0_row3\" class=\"row_heading level0 row3\" >3</th>\n",
       "      <td id=\"T_e363b_row3_col0\" class=\"data row3 col0\" >0.8955</td>\n",
       "      <td id=\"T_e363b_row3_col1\" class=\"data row3 col1\" >0.9385</td>\n",
       "      <td id=\"T_e363b_row3_col2\" class=\"data row3 col2\" >0.8955</td>\n",
       "      <td id=\"T_e363b_row3_col3\" class=\"data row3 col3\" >0.5472</td>\n",
       "      <td id=\"T_e363b_row3_col4\" class=\"data row3 col4\" >0.8712</td>\n",
       "      <td id=\"T_e363b_row3_col5\" class=\"data row3 col5\" >0.8974</td>\n",
       "      <td id=\"T_e363b_row3_col6\" class=\"data row3 col6\" >0.8843</td>\n",
       "    </tr>\n",
       "    <tr>\n",
       "      <th id=\"T_e363b_level0_row4\" class=\"row_heading level0 row4\" >4</th>\n",
       "      <td id=\"T_e363b_row4_col0\" class=\"data row4 col0\" >0.9055</td>\n",
       "      <td id=\"T_e363b_row4_col1\" class=\"data row4 col1\" >0.9537</td>\n",
       "      <td id=\"T_e363b_row4_col2\" class=\"data row4 col2\" >0.9055</td>\n",
       "      <td id=\"T_e363b_row4_col3\" class=\"data row4 col3\" >0.5664</td>\n",
       "      <td id=\"T_e363b_row4_col4\" class=\"data row4 col4\" >0.8636</td>\n",
       "      <td id=\"T_e363b_row4_col5\" class=\"data row4 col5\" >0.9088</td>\n",
       "      <td id=\"T_e363b_row4_col6\" class=\"data row4 col6\" >0.8862</td>\n",
       "    </tr>\n",
       "    <tr>\n",
       "      <th id=\"T_e363b_level0_row5\" class=\"row_heading level0 row5\" >Mean</th>\n",
       "      <td id=\"T_e363b_row5_col0\" class=\"data row5 col0\" >0.9030</td>\n",
       "      <td id=\"T_e363b_row5_col1\" class=\"data row5 col1\" >0.9551</td>\n",
       "      <td id=\"T_e363b_row5_col2\" class=\"data row5 col2\" >0.9030</td>\n",
       "      <td id=\"T_e363b_row5_col3\" class=\"data row5 col3\" >0.5698</td>\n",
       "      <td id=\"T_e363b_row5_col4\" class=\"data row5 col4\" >0.8823</td>\n",
       "      <td id=\"T_e363b_row5_col5\" class=\"data row5 col5\" >0.9046</td>\n",
       "      <td id=\"T_e363b_row5_col6\" class=\"data row5 col6\" >0.8934</td>\n",
       "    </tr>\n",
       "    <tr>\n",
       "      <th id=\"T_e363b_level0_row6\" class=\"row_heading level0 row6\" >Std</th>\n",
       "      <td id=\"T_e363b_row6_col0\" class=\"data row6 col0\" >0.0059</td>\n",
       "      <td id=\"T_e363b_row6_col1\" class=\"data row6 col1\" >0.0088</td>\n",
       "      <td id=\"T_e363b_row6_col2\" class=\"data row6 col2\" >0.0059</td>\n",
       "      <td id=\"T_e363b_row6_col3\" class=\"data row6 col3\" >0.0177</td>\n",
       "      <td id=\"T_e363b_row6_col4\" class=\"data row6 col4\" >0.0191</td>\n",
       "      <td id=\"T_e363b_row6_col5\" class=\"data row6 col5\" >0.0063</td>\n",
       "      <td id=\"T_e363b_row6_col6\" class=\"data row6 col6\" >0.0099</td>\n",
       "    </tr>\n",
       "  </tbody>\n",
       "</table>\n"
      ],
      "text/plain": [
       "<pandas.io.formats.style.Styler at 0x7f820b5b9970>"
      ]
     },
     "metadata": {},
     "output_type": "display_data"
    },
    {
     "data": {
      "text/html": [],
      "text/plain": [
       "<IPython.core.display.HTML object>"
      ]
     },
     "metadata": {},
     "output_type": "display_data"
    },
    {
     "name": "stdout",
     "output_type": "stream",
     "text": [
      "Fitting 5 folds for each of 42 candidates, totalling 210 fits\n"
     ]
    }
   ],
   "source": [
    "velgbm = create_model(VotingEnsembleLGBM())\n",
    "hparams = {\"n_voters\" :[4, 6, 8, 10, 12, 14, 16], \n",
    "           'boosting_type': ['gbdt', 'dart'], \n",
    "           'learning_rate' :[0.1, 0.3, 0.5]\n",
    "           }\n",
    "tuned_veLGBM, tuner = tune_model(velgbm, optimize = 'BA', search_algorithm='grid', custom_grid=hparams, return_tuner=True)"
   ]
  },
  {
   "cell_type": "markdown",
   "metadata": {},
   "source": [
    "# learning curve"
   ]
  },
  {
   "cell_type": "code",
   "execution_count": 19,
   "metadata": {},
   "outputs": [],
   "source": [
    "#plot_model(estimator = tuned_veLGBM, plot = 'learning')"
   ]
  },
  {
   "cell_type": "markdown",
   "metadata": {},
   "source": [
    "# AUC curve"
   ]
  },
  {
   "cell_type": "code",
   "execution_count": 20,
   "metadata": {},
   "outputs": [],
   "source": [
    "#plot_model(estimator = tuned_veLGBM, plot = 'BA', display_format=\"streamlit\", save=True)"
   ]
  },
  {
   "cell_type": "markdown",
   "metadata": {},
   "source": [
    "# Confusion Matrix"
   ]
  },
  {
   "cell_type": "code",
   "execution_count": 21,
   "metadata": {},
   "outputs": [],
   "source": [
    "#plot_model(estimator = tuned_veLGBM, plot = 'confusion_matrix')"
   ]
  },
  {
   "cell_type": "markdown",
   "metadata": {},
   "source": [
    "# Future importance"
   ]
  },
  {
   "cell_type": "code",
   "execution_count": 22,
   "metadata": {},
   "outputs": [],
   "source": [
    "#plot_model(estimator = tuned_veLGBM, plot = 'feature')"
   ]
  },
  {
   "cell_type": "code",
   "execution_count": 23,
   "metadata": {},
   "outputs": [],
   "source": [
    "#interpret_model(tuned_veLGBM)"
   ]
  },
  {
   "cell_type": "markdown",
   "metadata": {},
   "source": [
    "## all params"
   ]
  },
  {
   "cell_type": "code",
   "execution_count": 24,
   "metadata": {},
   "outputs": [
    {
     "data": {
      "application/vnd.jupyter.widget-view+json": {
       "model_id": "dce0ba2cb45c4be08cded54fb531b7c7",
       "version_major": 2,
       "version_minor": 0
      },
      "text/plain": [
       "interactive(children=(ToggleButtons(description='Plot Type:', icons=('',), options=(('Pipeline Plot', 'pipelin…"
      ]
     },
     "metadata": {},
     "output_type": "display_data"
    }
   ],
   "source": [
    "evaluate_model(tuned_veLGBM)"
   ]
  },
  {
   "cell_type": "markdown",
   "metadata": {},
   "source": [
    "# Save reports"
   ]
  },
  {
   "cell_type": "code",
   "execution_count": 38,
   "metadata": {
    "execution": {
     "iopub.execute_input": "2024-05-17T13:53:39.188003Z",
     "iopub.status.busy": "2024-05-17T13:53:39.187539Z",
     "iopub.status.idle": "2024-05-17T13:53:39.194531Z",
     "shell.execute_reply": "2024-05-17T13:53:39.192675Z",
     "shell.execute_reply.started": "2024-05-17T13:53:39.187969Z"
    }
   },
   "outputs": [],
   "source": [
    "df2 = pull()\n",
    "df2.to_csv(os.path.join('../../data4rev/pycaret/', \"tuned_veLGB.csv\"))\n",
    "pd.DataFrame(tuner.cv_results_).to_csv(\"veLGB_opt_lr_nv_bt.csv\", index=True)"
   ]
  },
  {
   "cell_type": "code",
   "execution_count": 41,
   "metadata": {},
   "outputs": [
    {
     "data": {
      "text/plain": [
       "42"
      ]
     },
     "execution_count": 41,
     "metadata": {},
     "output_type": "execute_result"
    }
   ],
   "source": [
    "pd.DataFrame(tuner.cv_results_)"
   ]
  },
  {
   "cell_type": "code",
   "execution_count": 40,
   "metadata": {},
   "outputs": [
    {
     "name": "stdout",
     "output_type": "stream",
     "text": [
      "\\begin{tabular}{llllrr}\n",
      "\\toprule\n",
      "{} & param\\_actual\\_estimator\\_\\_n\\_voters & param\\_actual\\_estimator\\_\\_boosting\\_type & param\\_actual\\_estimator\\_\\_learning\\_rate &  rank\\_test\\_score &  mean\\_test\\_score \\\\\n",
      "\\midrule\n",
      "17 &                               10 &                                  gbdt &                                   0.5 &                1 &         0.893450 \\\\\n",
      "10 &                               10 &                                  gbdt &                                   0.3 &                2 &         0.892156 \\\\\n",
      "12 &                               14 &                                  gbdt &                                   0.3 &                3 &         0.889302 \\\\\n",
      "3  &                               10 &                                  gbdt &                                   0.1 &                4 &         0.888158 \\\\\n",
      "4  &                               12 &                                  gbdt &                                   0.1 &                5 &         0.888014 \\\\\n",
      "18 &                               12 &                                  gbdt &                                   0.5 &                6 &         0.887949 \\\\\n",
      "19 &                               14 &                                  gbdt &                                   0.5 &                7 &         0.887602 \\\\\n",
      "33 &                               14 &                                  dart &                                   0.3 &                8 &         0.887298 \\\\\n",
      "40 &                               14 &                                  dart &                                   0.5 &                9 &         0.886450 \\\\\n",
      "39 &                               12 &                                  dart &                                   0.5 &               10 &         0.886338 \\\\\n",
      "11 &                               12 &                                  gbdt &                                   0.3 &               11 &         0.886219 \\\\\n",
      "5  &                               14 &                                  gbdt &                                   0.1 &               12 &         0.886128 \\\\\n",
      "16 &                                8 &                                  gbdt &                                   0.5 &               13 &         0.885910 \\\\\n",
      "38 &                               10 &                                  dart &                                   0.5 &               14 &         0.885808 \\\\\n",
      "20 &                               16 &                                  gbdt &                                   0.5 &               15 &         0.885321 \\\\\n",
      "31 &                               10 &                                  dart &                                   0.3 &               16 &         0.884095 \\\\\n",
      "32 &                               12 &                                  dart &                                   0.3 &               17 &         0.884011 \\\\\n",
      "9  &                                8 &                                  gbdt &                                   0.3 &               18 &         0.882711 \\\\\n",
      "13 &                               16 &                                  gbdt &                                   0.3 &               19 &         0.882188 \\\\\n",
      "15 &                                6 &                                  gbdt &                                   0.5 &               20 &         0.881513 \\\\\n",
      "41 &                               16 &                                  dart &                                   0.5 &               21 &         0.881288 \\\\\n",
      "37 &                                8 &                                  dart &                                   0.5 &               22 &         0.881268 \\\\\n",
      "6  &                               16 &                                  gbdt &                                   0.1 &               23 &         0.881115 \\\\\n",
      "34 &                               16 &                                  dart &                                   0.3 &               24 &         0.880876 \\\\\n",
      "25 &                               12 &                                  dart &                                   0.1 &               25 &         0.879466 \\\\\n",
      "24 &                               10 &                                  dart &                                   0.1 &               26 &         0.877933 \\\\\n",
      "26 &                               14 &                                  dart &                                   0.1 &               27 &         0.877593 \\\\\n",
      "30 &                                8 &                                  dart &                                   0.3 &               28 &         0.877550 \\\\\n",
      "2  &                                8 &                                  gbdt &                                   0.1 &               29 &         0.877318 \\\\\n",
      "23 &                                8 &                                  dart &                                   0.1 &               30 &         0.876089 \\\\\n",
      "8  &                                6 &                                  gbdt &                                   0.3 &               31 &         0.875523 \\\\\n",
      "27 &                               16 &                                  dart &                                   0.1 &               32 &         0.871971 \\\\\n",
      "36 &                                6 &                                  dart &                                   0.5 &               33 &         0.870589 \\\\\n",
      "1  &                                6 &                                  gbdt &                                   0.1 &               34 &         0.870570 \\\\\n",
      "29 &                                6 &                                  dart &                                   0.3 &               35 &         0.868655 \\\\\n",
      "22 &                                6 &                                  dart &                                   0.1 &               36 &         0.859192 \\\\\n",
      "7  &                                4 &                                  gbdt &                                   0.3 &               37 &         0.855940 \\\\\n",
      "28 &                                4 &                                  dart &                                   0.3 &               38 &         0.852544 \\\\\n",
      "14 &                                4 &                                  gbdt &                                   0.5 &               39 &         0.852367 \\\\\n",
      "0  &                                4 &                                  gbdt &                                   0.1 &               40 &         0.849788 \\\\\n",
      "35 &                                4 &                                  dart &                                   0.5 &               41 &         0.847927 \\\\\n",
      "21 &                                4 &                                  dart &                                   0.1 &               42 &         0.843296 \\\\\n",
      "\\bottomrule\n",
      "\\end{tabular}\n",
      "\n"
     ]
    }
   ],
   "source": [
    "print(pd.DataFrame(tuner.cv_results_)[['param_actual_estimator__n_voters', \n",
    "                                 'param_actual_estimator__boosting_type',\n",
    "                                 'param_actual_estimator__learning_rate',\n",
    "                                 'rank_test_score', \n",
    "                                 'mean_test_score']].sort_values('mean_test_score', \n",
    "                                                                       ascending=False).to_latex())"
   ]
  },
  {
   "cell_type": "code",
   "execution_count": 42,
   "metadata": {},
   "outputs": [
    {
     "data": {
      "text/plain": [
       "VotingEnsembleLGBM(boosting_type='gbdt', learning_rate=0.5, n_jobs=-1,\n",
       "                   n_voters=10, random_state=42, verbose=False, voting='soft')"
      ]
     },
     "execution_count": 42,
     "metadata": {},
     "output_type": "execute_result"
    }
   ],
   "source": [
    "tuned_veLGBM"
   ]
  }
 ],
 "metadata": {
  "kaggle": {
   "accelerator": "none",
   "dataSources": [
    {
     "datasetId": 4549240,
     "sourceId": 7775239,
     "sourceType": "datasetVersion"
    }
   ],
   "dockerImageVersionId": 30698,
   "isGpuEnabled": false,
   "isInternetEnabled": true,
   "language": "python",
   "sourceType": "notebook"
  },
  "kernelspec": {
   "display_name": "Python 3",
   "language": "python",
   "name": "python3"
  },
  "language_info": {
   "codemirror_mode": {
    "name": "ipython",
    "version": 3
   },
   "file_extension": ".py",
   "mimetype": "text/x-python",
   "name": "python",
   "nbconvert_exporter": "python",
   "pygments_lexer": "ipython3",
   "version": "3.8.3"
  }
 },
 "nbformat": 4,
 "nbformat_minor": 4
}
