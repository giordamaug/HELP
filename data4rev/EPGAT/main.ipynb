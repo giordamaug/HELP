{
 "cells": [
  {
   "cell_type": "code",
   "execution_count": 1,
   "metadata": {},
   "outputs": [
    {
     "ename": "ModuleNotFoundError",
     "evalue": "No module named 'torch_geometric'",
     "output_type": "error",
     "traceback": [
      "\u001b[0;31m---------------------------------------------------------------------------\u001b[0m",
      "\u001b[0;31mModuleNotFoundError\u001b[0m                       Traceback (most recent call last)",
      "Cell \u001b[0;32mIn[1], line 6\u001b[0m\n\u001b[1;32m      4\u001b[0m \u001b[38;5;28;01mfrom\u001b[39;00m \u001b[38;5;21;01mtorch\u001b[39;00m\u001b[38;5;21;01m.\u001b[39;00m\u001b[38;5;21;01mnn\u001b[39;00m \u001b[38;5;28;01mimport\u001b[39;00m Parameter\n\u001b[1;32m      5\u001b[0m \u001b[38;5;28;01mimport\u001b[39;00m \u001b[38;5;21;01mtorch\u001b[39;00m\u001b[38;5;21;01m.\u001b[39;00m\u001b[38;5;21;01mnn\u001b[39;00m\u001b[38;5;21;01m.\u001b[39;00m\u001b[38;5;21;01mfunctional\u001b[39;00m \u001b[38;5;28;01mas\u001b[39;00m \u001b[38;5;21;01mF\u001b[39;00m\n\u001b[0;32m----> 6\u001b[0m \u001b[38;5;28;01mfrom\u001b[39;00m \u001b[38;5;21;01mtorch_geometric\u001b[39;00m\u001b[38;5;21;01m.\u001b[39;00m\u001b[38;5;21;01mnn\u001b[39;00m\u001b[38;5;21;01m.\u001b[39;00m\u001b[38;5;21;01mconv\u001b[39;00m \u001b[38;5;28;01mimport\u001b[39;00m MessagePassing, GATConv\n\u001b[1;32m      7\u001b[0m \u001b[38;5;28;01mfrom\u001b[39;00m \u001b[38;5;21;01mtorch_geometric\u001b[39;00m\u001b[38;5;21;01m.\u001b[39;00m\u001b[38;5;21;01mutils\u001b[39;00m \u001b[38;5;28;01mimport\u001b[39;00m remove_self_loops, add_self_loops, softmax\n\u001b[1;32m      8\u001b[0m \u001b[38;5;28;01mfrom\u001b[39;00m \u001b[38;5;21;01mtorch_geometric\u001b[39;00m\u001b[38;5;21;01m.\u001b[39;00m\u001b[38;5;21;01mnn\u001b[39;00m\u001b[38;5;21;01m.\u001b[39;00m\u001b[38;5;21;01minits\u001b[39;00m \u001b[38;5;28;01mimport\u001b[39;00m glorot, zeros\n",
      "\u001b[0;31mModuleNotFoundError\u001b[0m: No module named 'torch_geometric'"
     ]
    }
   ],
   "source": [
    "import torch.nn.functional as F\n",
    "import torch.nn as nn\n",
    "import torch\n",
    "from torch.nn import Parameter\n",
    "import torch.nn.functional as F\n",
    "from torch_geometric.nn.conv import MessagePassing, GATConv\n",
    "from torch_geometric.utils import remove_self_loops, add_self_loops, softmax\n",
    "from torch_geometric.nn.inits import glorot, zeros\n",
    "\n",
    "class GAT(nn.Module):\n",
    "    def __init__(self, in_feats=1,\n",
    "                 h_feats=[8, 8, 1],\n",
    "                 heads=[8, 8, 4],\n",
    "                 dropout=0.6,\n",
    "                 negative_slope=0.2,\n",
    "                 linear_layer=None,\n",
    "                 **kwargs):\n",
    "        super(GAT, self).__init__()\n",
    "        self.dropout = dropout\n",
    "        self.layers = nn.ModuleList()\n",
    "\n",
    "        self.linear_layer = linear_layer\n",
    "        if self.linear_layer is not None:\n",
    "            print('Applying linear')\n",
    "            self.linear = nn.Linear(in_feats, linear_layer)\n",
    "\n",
    "        in_feats = in_feats if linear_layer is None else linear_layer\n",
    "        for i, h_feat in enumerate(h_feats):\n",
    "            last = i + 1 == len(h_feats)\n",
    "            self.layers.append(GATConv(in_feats, h_feat,\n",
    "                                       heads=heads[i],\n",
    "                                       dropout=dropout,\n",
    "                                       concat=False if last else True))\n",
    "            in_feats = h_feat * heads[i]\n",
    "\n",
    "    def forward(self, X, A, edge_attr=None, return_alphas=False):\n",
    "        if self.linear_layer is not None:\n",
    "            X = self.linear(X)\n",
    "            #X = F.relu(X)\n",
    "\n",
    "        alphas = []\n",
    "        for layer in self.layers[:-1]:\n",
    "            if return_alphas:\n",
    "                X, alpha, _ = layer(\n",
    "                    X, A, edge_attr=edge_attr, return_alpha=True)\n",
    "                alphas.append(alpha)\n",
    "            else:\n",
    "                X = layer(X, A, edge_attr=edge_attr)\n",
    "            X = F.relu(X)\n",
    "            X = F.dropout(X, self.dropout)\n",
    "\n",
    "        if return_alphas:\n",
    "            X, alpha, edge_index = self.layers[-1](\n",
    "                X, A, edge_attr=edge_attr, return_alpha=True)\n",
    "            alphas.append(alpha)\n",
    "            return X, alphas, edge_index\n",
    "\n",
    "        X = self.layers[-1](X, A, edge_attr=edge_attr)\n",
    "        return X"
   ]
  }
 ],
 "metadata": {
  "kernelspec": {
   "display_name": "base",
   "language": "python",
   "name": "python3"
  },
  "language_info": {
   "codemirror_mode": {
    "name": "ipython",
    "version": 3
   },
   "file_extension": ".py",
   "mimetype": "text/x-python",
   "name": "python",
   "nbconvert_exporter": "python",
   "pygments_lexer": "ipython3",
   "version": "3.10.13"
  }
 },
 "nbformat": 4,
 "nbformat_minor": 2
}
