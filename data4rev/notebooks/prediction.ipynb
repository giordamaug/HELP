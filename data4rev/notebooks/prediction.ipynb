{
  "cells": [
    {
      "cell_type": "markdown",
      "metadata": {
        "id": "lavaILXgTTl0"
      },
      "source": [
        "<a target=\"_blank\" href=\"https://colab.research.google.com/github/giordamaug/HELP/blob/main/HELPpy/notebooks/prediction.ipynb\">\n",
        "  <img src=\"https://colab.research.google.com/assets/colab-badge.svg\" alt=\"Open In Colab\"/>\n",
        "</a>\n",
        "<a target=\"_blank\" href=\"https://www.kaggle.com/notebooks/welcome?src=https://github.com/giordamaug/HELP/blob/main/HELPpy/notebooks/prediction.ipynb\">\n",
        "  <img src=\"https://kaggle.com/static/images/open-in-kaggle.svg\" alt=\"Open In Colab\"/>\n",
        "</a>"
      ]
    },
    {
      "cell_type": "markdown",
      "metadata": {
        "id": "joeFb6T-TTl3"
      },
      "source": [
        "### 1. Install HELP from GitHub\n",
        "Skip this cell if you already have installed HELP."
      ]
    },
    {
      "cell_type": "code",
      "execution_count": null,
      "metadata": {
        "colab": {
          "base_uri": "https://localhost:8080/",
          "height": 1000
        },
        "id": "tuF0S73STTl4",
        "outputId": "e6d33ca9-a106-46fe-df06-3f8c3075441f"
      },
      "outputs": [],
      "source": [
        "!pip install git+https://github.com/giordamaug/HELP.git"
      ]
    },
    {
      "cell_type": "markdown",
      "metadata": {
        "id": "EFrBvM5ErPN4"
      },
      "source": [
        "### 2. Download the input files\n",
        "For a chosen tissue (here `Kidney`), download from GitHub the label file (here `Kidney_HELP.csv`, computed as in Example 1) and the attribute files (here BIO `Kidney_BIO.csv`, CCcfs `Kidney_CCcfs_1.csv`, ..., `Kidney_CCcfs_5.csv`, and N2V `Kidney_EmbN2V_128.csv`).  \n",
        "\n",
        "Skip this step if you already have these input files locally."
      ]
    },
    {
      "cell_type": "code",
      "execution_count": null,
      "metadata": {
        "colab": {
          "base_uri": "https://localhost:8080/"
        },
        "id": "1wbcOjf7TTl5",
        "outputId": "350746d3-7293-4f67-cc3a-7295acbfa022"
      },
      "outputs": [],
      "source": [
        "tissue='Kidney'\n",
        "!wget https://raw.githubusercontent.com/giordamaug/HELP/main/data/{tissue}_HELP.csv\n",
        "!wget https://raw.githubusercontent.com/giordamaug/HELP/main/data/{tissue}_BIO.csv\n",
        "for i in range(5):\n",
        "  !wget https://raw.githubusercontent.com/giordamaug/HELP/main/data/{tissue}_CCcfs_{i}.csv\n",
        "!wget https://raw.githubusercontent.com/giordamaug/HELP/main/data/{tissue}_EmbN2V_128.csv"
      ]
    },
    {
      "cell_type": "markdown",
      "metadata": {},
      "source": [
        "Observe that the CCcfs file has been subdivided into 5 separate files for storage limitations on GitHub. "
      ]
    },
    {
      "cell_type": "markdown",
      "metadata": {
        "id": "yqSGGzfNTTl6"
      },
      "source": [
        "### 3. Load the input files and process the tissue attributes\n",
        "\n",
        "+ The label file (`Kidney_HELP.csv`) can be loaded via `read_csv`; its three-class labels (`E`, `aE`, `sNE`) are converted to two-class labels (`E`, `NE`); \n",
        "\n",
        "+ The tissue gene attributes are loaded and assembled via `feature_assemble_df` using the downloaded datafiles BIO, CCcfs subdivided into 5 subfiles (`'nchunks': 5`) and embedding. We do not apply missing values fixing (`'fixna': False`), while we do apply data scaling (`'normalize': 'std'`) to the BIO and CCcfs attributes.  "
      ]
    },
    {
      "cell_type": "code",
      "execution_count": 6,
      "metadata": {
        "colab": {
          "base_uri": "https://localhost:8080/",
          "height": 728
        },
        "execution": {
          "iopub.execute_input": "2024-02-13T11:09:02.545717Z",
          "iopub.status.busy": "2024-02-13T11:09:02.545238Z",
          "iopub.status.idle": "2024-02-13T11:09:16.557744Z",
          "shell.execute_reply": "2024-02-13T11:09:16.556982Z",
          "shell.execute_reply.started": "2024-02-13T11:09:02.545678Z"
        },
        "id": "toAayH83TTl7",
        "outputId": "25f23ce9-ac16-4ecc-95ee-8153c74656d2"
      },
      "outputs": [
        {
          "name": "stdout",
          "output_type": "stream",
          "text": [
            "label\n",
            "0        16685\n",
            "1         1246\n",
            "dtype: int64\n"
          ]
        },
        {
          "data": {
            "application/json": {
              "ascii": false,
              "bar_format": null,
              "colour": null,
              "elapsed": 0.021373748779296875,
              "initial": 0,
              "n": 0,
              "ncols": null,
              "nrows": null,
              "postfix": null,
              "prefix": "Brain_BIO.csv",
              "rate": null,
              "total": 19318,
              "unit": "it",
              "unit_divisor": 1000,
              "unit_scale": false
            },
            "application/vnd.jupyter.widget-view+json": {
              "model_id": "74d4bd311905470d973759097807f9dc",
              "version_major": 2,
              "version_minor": 0
            },
            "text/plain": [
              "Brain_BIO.csv:   0%|          | 0/19318 [00:00<?, ?it/s]"
            ]
          },
          "metadata": {},
          "output_type": "display_data"
        },
        {
          "name": "stdout",
          "output_type": "stream",
          "text": [
            "[Brain_BIO] found 58547 Nan...\n",
            "[Brain_BIO] No Nan fixing...\n",
            "[Brain_BIO] found 2 Nan...\n",
            "[Brain_BIO] Removing 2 constant features ...\n",
            "[Brain_BIO] Normalization with std ...\n"
          ]
        },
        {
          "data": {
            "application/json": {
              "ascii": false,
              "bar_format": null,
              "colour": null,
              "elapsed": 0.028926849365234375,
              "initial": 0,
              "n": 0,
              "ncols": null,
              "nrows": null,
              "postfix": null,
              "prefix": "Brain_CCcfs.csv",
              "rate": null,
              "total": 19322,
              "unit": "it",
              "unit_divisor": 1000,
              "unit_scale": false
            },
            "application/vnd.jupyter.widget-view+json": {
              "model_id": "db7b8d33114e447dbf763ed9f7f6b752",
              "version_major": 2,
              "version_minor": 0
            },
            "text/plain": [
              "Brain_CCcfs.csv:   0%|          | 0/19322 [00:00<?, ?it/s]"
            ]
          },
          "metadata": {},
          "output_type": "display_data"
        },
        {
          "name": "stdout",
          "output_type": "stream",
          "text": [
            "[Brain_CCcfs] found 6735590 Nan...\n",
            "[Brain_CCcfs] No Nan fixing...\n",
            "[Brain_CCcfs] found 3 Nan...\n",
            "[Brain_CCcfs] No constant feature removal...\n",
            "[Brain_CCcfs] Normalization with std ...\n"
          ]
        },
        {
          "data": {
            "application/json": {
              "ascii": false,
              "bar_format": null,
              "colour": null,
              "elapsed": 0.009840011596679688,
              "initial": 0,
              "n": 0,
              "ncols": null,
              "nrows": null,
              "postfix": null,
              "prefix": "Brain_EmbN2V_128.csv",
              "rate": null,
              "total": 19322,
              "unit": "it",
              "unit_divisor": 1000,
              "unit_scale": false
            },
            "application/vnd.jupyter.widget-view+json": {
              "model_id": "e65ccca279ec4f2dbc2fecaa63501b8a",
              "version_major": 2,
              "version_minor": 0
            },
            "text/plain": [
              "Brain_EmbN2V_128.csv:   0%|          | 0/19322 [00:00<?, ?it/s]"
            ]
          },
          "metadata": {},
          "output_type": "display_data"
        },
        {
          "name": "stdout",
          "output_type": "stream",
          "text": [
            "[Brain_EmbN2V_128] found 0 Nan...\n",
            "[Brain_EmbN2V_128] No Nan fixing...\n",
            "[Brain_EmbN2V_128] found 0 Nan...\n",
            "[Brain_EmbN2V_128] No constant feature removal...\n",
            "[Brain_EmbN2V_128] No normalization...\n"
          ]
        }
      ],
      "source": [
        "path = '../../data'\n",
        "import os \n",
        "tissue='Brain'\n",
        "import pandas as pd\n",
        "import numpy as np\n",
        "from HELPpy.preprocess.loaders import load_features\n",
        "df_y = pd.read_csv(os.path.join(path,f\"{tissue}_HELP.csv\"), index_col=0)\n",
        "df_y = df_y.replace({'aE': 0, 'sNE': 0, 'E': 1})\n",
        "print(df_y.value_counts(normalize=False))\n",
        "features = [os.path.join(path,f'{tissue}_BIO.csv'), \n",
        "            os.path.join(path,f'{tissue}_CCcfs.csv'), \n",
        "            os.path.join(path,f'{tissue}_EmbN2V_128.csv')]\n",
        "df_X = load_features(filenames=features, \n",
        "                     fixnans=[False]*len(features),\n",
        "                     normalizes=['std', 'std', None],\n",
        "                     constrms=[True, False, False],\n",
        "                     verbose=True, show_progress=True)\n",
        "idxs = np.intersect1d(df_y.index.values, df_X.index.values)\n",
        "df_X = df_X.loc[idxs]\n",
        "df_y = df_y.loc[idxs]\n",
        "dataset = pd.concat([df_X,df_y], axis=1)"
      ]
    },
    {
      "cell_type": "markdown",
      "metadata": {},
      "source": [
        "### 4. Estimate the performance of EGs prediction \n",
        "\n",
        "Instantiate the prediction model described in the HELP paper (soft-voting ensemble `VotingSplitClassifier` of `n_voters=10` classifiers) and estimate its performance via 5-fold cross-validation (`k_fold_cv` with `n_splits=5`). Then, print the obtained average performances (`df_scores`)... "
      ]
    },
    {
      "cell_type": "code",
      "execution_count": 2,
      "metadata": {},
      "outputs": [
        {
          "name": "stdout",
          "output_type": "stream",
          "text": [
            "{'E': 0, 'NE': 1}\n",
            "label\n",
            "NE       15994\n",
            "E         1242\n",
            "Name: count, dtype: int64\n",
            "\n"
          ]
        },
        {
          "data": {
            "application/vnd.jupyter.widget-view+json": {
              "model_id": "7aea4f4fa9544f83b96fba706ea522e1",
              "version_major": 2,
              "version_minor": 0
            },
            "text/plain": [
              "5-fold:   0%|          | 0/5 [00:00<?, ?it/s]"
            ]
          },
          "metadata": {},
          "output_type": "display_data"
        },
        {
          "data": {
            "text/html": [
              "<div>\n",
              "<style scoped>\n",
              "    .dataframe tbody tr th:only-of-type {\n",
              "        vertical-align: middle;\n",
              "    }\n",
              "\n",
              "    .dataframe tbody tr th {\n",
              "        vertical-align: top;\n",
              "    }\n",
              "\n",
              "    .dataframe thead th {\n",
              "        text-align: right;\n",
              "    }\n",
              "</style>\n",
              "<table border=\"1\" class=\"dataframe\">\n",
              "  <thead>\n",
              "    <tr style=\"text-align: right;\">\n",
              "      <th></th>\n",
              "      <th>measure</th>\n",
              "    </tr>\n",
              "  </thead>\n",
              "  <tbody>\n",
              "    <tr>\n",
              "      <th>ROC-AUC</th>\n",
              "      <td>0.9156±0.0063</td>\n",
              "    </tr>\n",
              "    <tr>\n",
              "      <th>Accuracy</th>\n",
              "      <td>0.7964±0.0059</td>\n",
              "    </tr>\n",
              "    <tr>\n",
              "      <th>BA</th>\n",
              "      <td>0.8327±0.0059</td>\n",
              "    </tr>\n",
              "    <tr>\n",
              "      <th>Sensitivity</th>\n",
              "      <td>0.7902±0.0071</td>\n",
              "    </tr>\n",
              "    <tr>\n",
              "      <th>Specificity</th>\n",
              "      <td>0.8752±0.0154</td>\n",
              "    </tr>\n",
              "    <tr>\n",
              "      <th>MCC</th>\n",
              "      <td>0.3935±0.0065</td>\n",
              "    </tr>\n",
              "    <tr>\n",
              "      <th>CM</th>\n",
              "      <td>[[1087, 155], [3355, 12639]]</td>\n",
              "    </tr>\n",
              "  </tbody>\n",
              "</table>\n",
              "</div>"
            ],
            "text/plain": [
              "                                  measure\n",
              "ROC-AUC                     0.9156±0.0063\n",
              "Accuracy                    0.7964±0.0059\n",
              "BA                          0.8327±0.0059\n",
              "Sensitivity                 0.7902±0.0071\n",
              "Specificity                 0.8752±0.0154\n",
              "MCC                         0.3935±0.0065\n",
              "CM           [[1087, 155], [3355, 12639]]"
            ]
          },
          "execution_count": 2,
          "metadata": {},
          "output_type": "execute_result"
        }
      ],
      "source": [
        "from HELPpy.models.prediction import VotingEnsembleLGBM, k_fold_cv\n",
        "clf = VotingEnsembleLGBM(n_voters=13, learning_rate=0.1, n_estimators=200, boosting_type='gbdt', n_jobs=-1, random_state=42)\n",
        "df_scores, scores, predictions = k_fold_cv(df_X, df_y, clf, n_splits=5, seed=0, show_progress=True, verbose=True)\n",
        "df_scores"
      ]
    },
    {
      "cell_type": "markdown",
      "metadata": {},
      "source": [
        "... and those in each fold (`scores`)"
      ]
    },
    {
      "cell_type": "code",
      "execution_count": 2,
      "metadata": {},
      "outputs": [
        {
          "ename": "NameError",
          "evalue": "name 'predictions' is not defined",
          "output_type": "error",
          "traceback": [
            "\u001b[0;31m---------------------------------------------------------------------------\u001b[0m",
            "\u001b[0;31mNameError\u001b[0m                                 Traceback (most recent call last)",
            "\u001b[0;32m<ipython-input-2-1b0ab2b4ce39>\u001b[0m in \u001b[0;36m<module>\u001b[0;34m\u001b[0m\n\u001b[1;32m      1\u001b[0m \u001b[0;32mimport\u001b[0m \u001b[0mnumpy\u001b[0m \u001b[0;32mas\u001b[0m \u001b[0mnp\u001b[0m\u001b[0;34m\u001b[0m\u001b[0;34m\u001b[0m\u001b[0m\n\u001b[0;32m----> 2\u001b[0;31m \u001b[0my_pred\u001b[0m \u001b[0;34m=\u001b[0m \u001b[0mpredictions\u001b[0m\u001b[0;34m[\u001b[0m\u001b[0;34m'prediction'\u001b[0m\u001b[0;34m]\u001b[0m\u001b[0;34m.\u001b[0m\u001b[0mvalues\u001b[0m\u001b[0;34m.\u001b[0m\u001b[0mravel\u001b[0m\u001b[0;34m(\u001b[0m\u001b[0;34m)\u001b[0m\u001b[0;34m\u001b[0m\u001b[0;34m\u001b[0m\u001b[0m\n\u001b[0m\u001b[1;32m      3\u001b[0m \u001b[0my_prob\u001b[0m \u001b[0;34m=\u001b[0m \u001b[0mpredictions\u001b[0m\u001b[0;34m[\u001b[0m\u001b[0;34m'probabilities'\u001b[0m\u001b[0;34m]\u001b[0m\u001b[0;34m.\u001b[0m\u001b[0mvalues\u001b[0m\u001b[0;34m.\u001b[0m\u001b[0mravel\u001b[0m\u001b[0;34m(\u001b[0m\u001b[0;34m)\u001b[0m\u001b[0;34m\u001b[0m\u001b[0;34m\u001b[0m\u001b[0m\n\u001b[1;32m      4\u001b[0m \u001b[0my_true\u001b[0m \u001b[0;34m=\u001b[0m \u001b[0mpredictions\u001b[0m\u001b[0;34m[\u001b[0m\u001b[0;34m'label'\u001b[0m\u001b[0;34m]\u001b[0m\u001b[0;34m.\u001b[0m\u001b[0mvalues\u001b[0m\u001b[0;34m.\u001b[0m\u001b[0mravel\u001b[0m\u001b[0;34m(\u001b[0m\u001b[0;34m)\u001b[0m\u001b[0;34m\u001b[0m\u001b[0;34m\u001b[0m\u001b[0m\n\u001b[1;32m      5\u001b[0m \u001b[0;32mfrom\u001b[0m \u001b[0msklearn\u001b[0m\u001b[0;34m.\u001b[0m\u001b[0mmetrics\u001b[0m \u001b[0;32mimport\u001b[0m \u001b[0;34m*\u001b[0m\u001b[0;34m\u001b[0m\u001b[0;34m\u001b[0m\u001b[0m\n",
            "\u001b[0;31mNameError\u001b[0m: name 'predictions' is not defined"
          ]
        }
      ],
      "source": [
        "import numpy as np\n",
        "y_pred = predictions['prediction'].values.ravel()\n",
        "y_prob = predictions['probabilities'].values.ravel()\n",
        "y_true = predictions['label'].values.ravel()\n",
        "from sklearn.metrics import *\n",
        "from imblearn.metrics import specificity_score\n",
        "\n",
        "print(pd.DataFrame({'ROC-AUC' : [roc_auc_score(y_true, 1-y_prob, average='weighted')],\n",
        "              'Accuracy' : [accuracy_score(y_true, y_pred)],\n",
        "              'Sensitivity' : [specificity_score(y_true, y_pred)],\n",
        "              'Specificity' : [recall_score(y_true, y_pred)],\n",
        "              'BA' : [balanced_accuracy_score(y_true, y_pred)],\n",
        "              'MCC' : [matthews_corrcoef(y_true, y_pred)],\n",
        "              'CM': [confusion_matrix(y_true, y_pred)]\n",
        "              }).T.to_latex())\n",
        "\n",
        "print(confusion_matrix(y_true, y_pred))"
      ]
    },
    {
      "cell_type": "code",
      "execution_count": 4,
      "metadata": {},
      "outputs": [
        {
          "data": {
            "text/html": [
              "<div>\n",
              "<style scoped>\n",
              "    .dataframe tbody tr th:only-of-type {\n",
              "        vertical-align: middle;\n",
              "    }\n",
              "\n",
              "    .dataframe tbody tr th {\n",
              "        vertical-align: top;\n",
              "    }\n",
              "\n",
              "    .dataframe thead th {\n",
              "        text-align: right;\n",
              "    }\n",
              "</style>\n",
              "<table border=\"1\" class=\"dataframe\">\n",
              "  <thead>\n",
              "    <tr style=\"text-align: right;\">\n",
              "      <th></th>\n",
              "      <th>ROC-AUC</th>\n",
              "      <th>Accuracy</th>\n",
              "      <th>BA</th>\n",
              "      <th>Sensitivity</th>\n",
              "      <th>Specificity</th>\n",
              "      <th>MCC</th>\n",
              "      <th>CM</th>\n",
              "    </tr>\n",
              "    <tr>\n",
              "      <th>index</th>\n",
              "      <th></th>\n",
              "      <th></th>\n",
              "      <th></th>\n",
              "      <th></th>\n",
              "      <th></th>\n",
              "      <th></th>\n",
              "      <th></th>\n",
              "    </tr>\n",
              "  </thead>\n",
              "  <tbody>\n",
              "    <tr>\n",
              "      <th>0</th>\n",
              "      <td>0.953869</td>\n",
              "      <td>0.87645</td>\n",
              "      <td>0.868606</td>\n",
              "      <td>0.877774</td>\n",
              "      <td>0.859438</td>\n",
              "      <td>0.501687</td>\n",
              "      <td>[[214, 35], [391, 2808]]</td>\n",
              "    </tr>\n",
              "    <tr>\n",
              "      <th>1</th>\n",
              "      <td>0.954145</td>\n",
              "      <td>0.868871</td>\n",
              "      <td>0.894016</td>\n",
              "      <td>0.864645</td>\n",
              "      <td>0.923387</td>\n",
              "      <td>0.516934</td>\n",
              "      <td>[[229, 19], [433, 2766]]</td>\n",
              "    </tr>\n",
              "    <tr>\n",
              "      <th>2</th>\n",
              "      <td>0.959863</td>\n",
              "      <td>0.86597</td>\n",
              "      <td>0.890593</td>\n",
              "      <td>0.861832</td>\n",
              "      <td>0.919355</td>\n",
              "      <td>0.510108</td>\n",
              "      <td>[[228, 20], [442, 2757]]</td>\n",
              "    </tr>\n",
              "    <tr>\n",
              "      <th>3</th>\n",
              "      <td>0.954039</td>\n",
              "      <td>0.874964</td>\n",
              "      <td>0.88428</td>\n",
              "      <td>0.873398</td>\n",
              "      <td>0.895161</td>\n",
              "      <td>0.514816</td>\n",
              "      <td>[[222, 26], [405, 2794]]</td>\n",
              "    </tr>\n",
              "    <tr>\n",
              "      <th>4</th>\n",
              "      <td>0.946393</td>\n",
              "      <td>0.871482</td>\n",
              "      <td>0.873336</td>\n",
              "      <td>0.871169</td>\n",
              "      <td>0.875502</td>\n",
              "      <td>0.500155</td>\n",
              "      <td>[[218, 31], [412, 2786]]</td>\n",
              "    </tr>\n",
              "  </tbody>\n",
              "</table>\n",
              "</div>"
            ],
            "text/plain": [
              "        ROC-AUC  Accuracy        BA Sensitivity Specificity       MCC  \\\n",
              "index                                                                   \n",
              "0      0.953869   0.87645  0.868606    0.877774    0.859438  0.501687   \n",
              "1      0.954145  0.868871  0.894016    0.864645    0.923387  0.516934   \n",
              "2      0.959863   0.86597  0.890593    0.861832    0.919355  0.510108   \n",
              "3      0.954039  0.874964   0.88428    0.873398    0.895161  0.514816   \n",
              "4      0.946393  0.871482  0.873336    0.871169    0.875502  0.500155   \n",
              "\n",
              "                             CM  \n",
              "index                            \n",
              "0      [[214, 35], [391, 2808]]  \n",
              "1      [[229, 19], [433, 2766]]  \n",
              "2      [[228, 20], [442, 2757]]  \n",
              "3      [[222, 26], [405, 2794]]  \n",
              "4      [[218, 31], [412, 2786]]  "
            ]
          },
          "execution_count": 4,
          "metadata": {},
          "output_type": "execute_result"
        }
      ],
      "source": [
        "scores"
      ]
    },
    {
      "cell_type": "markdown",
      "metadata": {},
      "source": [
        "Show labels, predictions and their probabilities (`predictions`) and save them in a csv file"
      ]
    },
    {
      "cell_type": "code",
      "execution_count": 5,
      "metadata": {},
      "outputs": [
        {
          "data": {
            "text/html": [
              "<div>\n",
              "<style scoped>\n",
              "    .dataframe tbody tr th:only-of-type {\n",
              "        vertical-align: middle;\n",
              "    }\n",
              "\n",
              "    .dataframe tbody tr th {\n",
              "        vertical-align: top;\n",
              "    }\n",
              "\n",
              "    .dataframe thead th {\n",
              "        text-align: right;\n",
              "    }\n",
              "</style>\n",
              "<table border=\"1\" class=\"dataframe\">\n",
              "  <thead>\n",
              "    <tr style=\"text-align: right;\">\n",
              "      <th></th>\n",
              "      <th>label</th>\n",
              "      <th>prediction</th>\n",
              "      <th>probabilities</th>\n",
              "    </tr>\n",
              "    <tr>\n",
              "      <th>gene</th>\n",
              "      <th></th>\n",
              "      <th></th>\n",
              "      <th></th>\n",
              "    </tr>\n",
              "  </thead>\n",
              "  <tbody>\n",
              "    <tr>\n",
              "      <th>A4GNT</th>\n",
              "      <td>1</td>\n",
              "      <td>1</td>\n",
              "      <td>0.007120</td>\n",
              "    </tr>\n",
              "    <tr>\n",
              "      <th>AAAS</th>\n",
              "      <td>1</td>\n",
              "      <td>0</td>\n",
              "      <td>0.943234</td>\n",
              "    </tr>\n",
              "    <tr>\n",
              "      <th>AASDH</th>\n",
              "      <td>1</td>\n",
              "      <td>1</td>\n",
              "      <td>0.070971</td>\n",
              "    </tr>\n",
              "    <tr>\n",
              "      <th>ABCA2</th>\n",
              "      <td>1</td>\n",
              "      <td>1</td>\n",
              "      <td>0.234408</td>\n",
              "    </tr>\n",
              "    <tr>\n",
              "      <th>ABCA3</th>\n",
              "      <td>1</td>\n",
              "      <td>1</td>\n",
              "      <td>0.016606</td>\n",
              "    </tr>\n",
              "    <tr>\n",
              "      <th>...</th>\n",
              "      <td>...</td>\n",
              "      <td>...</td>\n",
              "      <td>...</td>\n",
              "    </tr>\n",
              "    <tr>\n",
              "      <th>ZSWIM7</th>\n",
              "      <td>1</td>\n",
              "      <td>1</td>\n",
              "      <td>0.092465</td>\n",
              "    </tr>\n",
              "    <tr>\n",
              "      <th>ZSWIM8</th>\n",
              "      <td>1</td>\n",
              "      <td>1</td>\n",
              "      <td>0.293142</td>\n",
              "    </tr>\n",
              "    <tr>\n",
              "      <th>ZXDA</th>\n",
              "      <td>1</td>\n",
              "      <td>1</td>\n",
              "      <td>0.012429</td>\n",
              "    </tr>\n",
              "    <tr>\n",
              "      <th>ZXDB</th>\n",
              "      <td>1</td>\n",
              "      <td>1</td>\n",
              "      <td>0.005546</td>\n",
              "    </tr>\n",
              "    <tr>\n",
              "      <th>ZYG11A</th>\n",
              "      <td>1</td>\n",
              "      <td>1</td>\n",
              "      <td>0.025471</td>\n",
              "    </tr>\n",
              "  </tbody>\n",
              "</table>\n",
              "<p>17244 rows × 3 columns</p>\n",
              "</div>"
            ],
            "text/plain": [
              "        label  prediction  probabilities\n",
              "gene                                    \n",
              "A4GNT       1           1       0.007120\n",
              "AAAS        1           0       0.943234\n",
              "AASDH       1           1       0.070971\n",
              "ABCA2       1           1       0.234408\n",
              "ABCA3       1           1       0.016606\n",
              "...       ...         ...            ...\n",
              "ZSWIM7      1           1       0.092465\n",
              "ZSWIM8      1           1       0.293142\n",
              "ZXDA        1           1       0.012429\n",
              "ZXDB        1           1       0.005546\n",
              "ZYG11A      1           1       0.025471\n",
              "\n",
              "[17244 rows x 3 columns]"
            ]
          },
          "execution_count": 5,
          "metadata": {},
          "output_type": "execute_result"
        }
      ],
      "source": [
        "predictions"
      ]
    },
    {
      "cell_type": "code",
      "execution_count": 6,
      "metadata": {},
      "outputs": [],
      "source": [
        "import os\n",
        "savepath = \"../data4rev\"\n",
        "predictions.to_csv(os.path.join(savepath, f\"csEGs_{tissue}_EvsNE.csv\"), index=True)"
      ]
    },
    {
      "cell_type": "markdown",
      "metadata": {},
      "source": [
        "### 5. Compute TPR for ucsEGs and csEGs"
      ]
    },
    {
      "cell_type": "markdown",
      "metadata": {},
      "source": [
        "Read the result files for ucsEGs (`ucsEG_Kidney.txt`) and csEGs (`csEGs_Kidney_EvsNE.csv`) already computed for the tissue, compute the TPRs (tpr) and show their bar plot. "
      ]
    },
    {
      "cell_type": "code",
      "execution_count": 28,
      "metadata": {},
      "outputs": [
        {
          "name": "stdout",
          "output_type": "stream",
          "text": [
            "ucsEG Kidney TPR = 0.780 (46/59) ucsEG Kidney TPR =  0.897 (1114/1242)\n",
            "ucsEG Lung TPR = 0.714 (20/28) ucsEG Lung TPR =  0.904 (1107/1224)\n",
            "ucsEG Brain TPR = 0.585 (24/41) ucsEG Brain TPR =  0.884 (1091/1234)\n"
          ]
        },
        {
          "data": {
            "image/png": "[encoded data removed]",
            "text/plain": [
              "<Figure size 400x400 with 1 Axes>"
            ]
          },
          "metadata": {},
          "output_type": "display_data"
        }
      ],
      "source": [
        "import pandas as pd\n",
        "import os\n",
        "import seaborn as sns\n",
        "import matplotlib.pyplot as plt\n",
        "import numpy as np\n",
        "tissues = ['Kidney', 'Lung', 'Brain']\n",
        "path = '../data'\n",
        "labels = []\n",
        "data = []\n",
        "tpr = []\n",
        "genes = {}\n",
        "for tissue in tissues:\n",
        "    #!wget https://raw.githubusercontent.com/giordamaug/HELP/main/data/ucsEG_{tissue}.txt\n",
        "    ucsEGs = pd.read_csv(os.path.join(path,f\"ucsEG_{tissue}.txt\"), index_col=0, header=None).index.values\n",
        "    #!wget https://raw.githubusercontent.com/giordamaug/HELP/main/data/csEGs_{tissue}_EvsNE.csv\n",
        "    predictions = pd.read_csv(os.path.join(path,f\"csEGs_{tissue}_EvsNE.csv\"), index_col=0)\n",
        "    indices = np.intersect1d(ucsEGs, predictions.index.values)\n",
        "    preds = predictions.loc[indices]\n",
        "    num1 = len(preds[preds['label'] == preds['prediction']])\n",
        "    den1 = len(preds[preds['label'] == 0])\n",
        "    den2 = len(predictions[predictions['label'] == 0])\n",
        "    num2 = len(predictions[(predictions['label'] == 0) & (predictions['label'] == predictions['prediction'])])\n",
        "    labels += [f\"ucsEGs\\n{tissue}\", f\"csEGs\\n{tissue}\"]\n",
        "    data += [float(f\"{num1 /den1:.3f}\"), float(f\"{num2 /den2:.3f}\")]\n",
        "    tpr += [f\"{num1}/{den1}\", f\"{num2}/{den2}\"]\n",
        "    genes[f'ucsEGs_{tissue}_y'] = preds[preds['label'] == preds['prediction']].index.values\n",
        "    genes[f'ucsEGs_{tissue}_n'] = preds[preds['label'] != preds['prediction']].index.values\n",
        "    genes[f'csEGs_{tissue}_y'] = predictions[(predictions['label'] == 0) & (predictions['label'] == predictions['prediction'])].index.values\n",
        "    genes[f'csEGs_{tissue}_n'] = predictions[(predictions['label'] == 0) & (predictions['label'] != predictions['prediction'])].index.values\n",
        "    print(f\"ucsEG {tissue} TPR = {num1 /den1:.3f} ({num1}/{den1}) ucsEG {tissue} TPR =  {num2/den2:.3f} ({num2}/{den2})\")\n",
        "\n",
        "f, ax = plt.subplots(figsize=(4, 4))\n",
        "colors = [\"#FF0B04\", \"#FF0B04\", \"#4374B3\", \"#4374B3\",\"#ffffff\", \"#ffffff\"]\n",
        "# Set your custom color palette\n",
        "customPalette = sns.color_palette(\"pastel\", n_colors=6)\n",
        "g = sns.barplot(y = data, x = labels, ax=ax, hue= data, palette = customPalette, orient='v', legend=False)\n",
        "ax.set_ylabel('TPR')\n",
        "ax.set(yticklabels=[])\n",
        "for i,l,t in zip(range(len(tissues)*2),labels,tpr):\n",
        "    ax.text(-0.1 + (i * 1.0), 0.1, f\"({t})\", rotation='vertical')\n",
        "for i in ax.containers:\n",
        "    ax.bar_label(i,)"
      ]
    },
    {
      "cell_type": "code",
      "execution_count": 36,
      "metadata": {},
      "outputs": [
        {
          "data": {
            "text/plain": [
              "({'CDK2', 'CKS1B', 'DDX11', 'NCAPH2'},\n",
              " {'ACTB',\n",
              "  'FAM50A',\n",
              "  'FDXR',\n",
              "  'FXN',\n",
              "  'GABPB1',\n",
              "  'GFER',\n",
              "  'GNB1L',\n",
              "  'HSCB',\n",
              "  'KTI12',\n",
              "  'NOPCHAP1',\n",
              "  'NUP54',\n",
              "  'PGS1',\n",
              "  'RBM48',\n",
              "  'RPL39',\n",
              "  'RPP25L',\n",
              "  'SERBP1',\n",
              "  'SSB',\n",
              "  'TAMM41',\n",
              "  'TIMM9',\n",
              "  'TOMM20',\n",
              "  'URM1',\n",
              "  'VHL',\n",
              "  'VRK1'})"
            ]
          },
          "execution_count": 36,
          "metadata": {},
          "output_type": "execute_result"
        }
      ],
      "source": [
        "s = []\n",
        "for tissue in tissues:\n",
        "    #!wget https://raw.githubusercontent.com/giordamaug/HELP/main/data/ucsEG_{tissue}.txt\n",
        "    s += [set(pd.read_csv(os.path.join(path,f\"ucsEG_{tissue}.txt\"), index_col=0, header=None).index.values)]\n",
        "s[1] & s[2], s[2] - (s[0] | s[1])"
      ]
    },
    {
      "cell_type": "markdown",
      "metadata": {},
      "source": [
        "This code can be used to produce Fig 5(B) of the HELP paper by executing an iteration cycle for both `kidney` and `lung` tissues.\n",
        "\n",
        "At the end, we print the list of ucs_EGs for the tissue."
      ]
    },
    {
      "cell_type": "code",
      "execution_count": 39,
      "metadata": {},
      "outputs": [
        {
          "data": {
            "text/plain": [
              "(array(['ACTB', 'CDK2', 'CHMP7', 'CKS1B', 'DDX11', 'EMC3', 'EXOSC1',\n",
              "        'FAM50A', 'FDXR', 'GFER', 'NCAPH2', 'NUP54', 'RBM48', 'RPL39',\n",
              "        'SERBP1', 'SNRPB2', 'SRSF10', 'SSB', 'TAF1D', 'TIMM9', 'TOMM20',\n",
              "        'URM1', 'USP10', 'VRK1'], dtype=object),\n",
              " array(['ARF4', 'ARFRP1', 'CDK6', 'FERMT2', 'FXN', 'GABPB1', 'GNB1L',\n",
              "        'HSCB', 'ITGAV', 'KTI12', 'NHLRC2', 'PGS1', 'PTK2', 'RPP25L',\n",
              "        'TAMM41', 'VHL', 'WDR25'], dtype=object))"
            ]
          },
          "execution_count": 39,
          "metadata": {},
          "output_type": "execute_result"
        }
      ],
      "source": [
        "tissue = 'Brain'\n",
        "genes[f'ucsEGs_{tissue}_y'], genes[f'ucsEGs_{tissue}_n']"
      ]
    }
  ],
  "metadata": {
    "colab": {
      "provenance": []
    },
    "kaggle": {
      "accelerator": "none",
      "dataSources": [
        {
          "datasetId": 4375833,
          "sourceId": 7595933,
          "sourceType": "datasetVersion"
        }
      ],
      "dockerImageVersionId": 30646,
      "isGpuEnabled": false,
      "isInternetEnabled": true,
      "language": "python",
      "sourceType": "notebook"
    },
    "kernelspec": {
      "display_name": "Python 3 (ipykernel)",
      "language": "python",
      "name": "python3"
    },
    "language_info": {
      "codemirror_mode": {
        "name": "ipython",
        "version": 3
      },
      "file_extension": ".py",
      "mimetype": "text/x-python",
      "name": "python",
      "nbconvert_exporter": "python",
      "pygments_lexer": "ipython3",
      "version": "3.8.undefined"
    }
  },
  "nbformat": 4,
  "nbformat_minor": 0
}
