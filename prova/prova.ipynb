{
 "cells": [
  {
   "cell_type": "code",
   "execution_count": 1,
   "metadata": {},
   "outputs": [
    {
     "data": {
      "application/vnd.jupyter.widget-view+json": {
       "model_id": "ea99c060b9114400869978b726d88eb6",
       "version_major": 2,
       "version_minor": 0
      },
      "text/plain": [
       "FileCollector(path='/Users/maurizio/HELP/prova', filename='()', title='Choose file', show_hidden=False, select…"
      ]
     },
     "metadata": {},
     "output_type": "display_data"
    }
   ],
   "source": [
    "from HELPpy.visualization.filecollector import FileCollector\n",
    "import ipywidgets as wid\n",
    "fc = FileCollector(\".\", title='Choose file', filter_pattern='*.csv', layout=wid.Layout(width='auto'))\n",
    "display(fc)"
   ]
  },
  {
   "cell_type": "code",
   "execution_count": 20,
   "metadata": {},
   "outputs": [
    {
     "data": {
      "text/plain": [
       "[True, False, False, False, False, False, False]"
      ]
     },
     "execution_count": 20,
     "metadata": {},
     "output_type": "execute_result"
    }
   ],
   "source": [
    "import os\n",
    "s = ('/Users/maurizio/HELP/HELPpy/notebooks/Kidney_AE.csv', '/Users/maurizio/HELP/HELPpy/notebooks/myfilechooser.py', '/Users/maurizio/HELP/HELPpy/notebooks/Kidney_BPBeder_0.csv', '/Users/maurizio/HELP/HELPpy/notebooks/Kidney_BPBeder_10.csv', '/Users/maurizio/HELP/HELPpy/notebooks/Kidney_BIO_w_const.csv', '/Users/maurizio/HELP/HELPpy/notebooks/Kidney_BPBeder_1.csv', '/Users/maurizio/HELP/HELPpy/notebooks/prova.ipynb')\n",
    "[os.path.isfile(ss) for ss in s]"
   ]
  },
  {
   "cell_type": "code",
   "execution_count": 44,
   "metadata": {},
   "outputs": [
    {
     "data": {
      "application/vnd.jupyter.widget-view+json": {
       "model_id": "025cb00f97b04dedbcd6da7966b8c0f7",
       "version_major": 2,
       "version_minor": 0
      },
      "text/plain": [
       "HTML(value='a \\n b </p>')"
      ]
     },
     "metadata": {},
     "output_type": "display_data"
    }
   ],
   "source": [
    "import ipywidgets as widgets\n",
    "widget = widgets.HTML(value= \"a \\n b\" +' </p>')\n",
    "display(widget)"
   ]
  },
  {
   "cell_type": "code",
   "execution_count": 9,
   "metadata": {},
   "outputs": [
    {
     "data": {
      "application/vnd.jupyter.widget-view+json": {
       "model_id": "bf7bf0cc81984df789e532d0fbc1a30d",
       "version_major": 2,
       "version_minor": 0
      },
      "text/plain": [
       "IntProgress(value=0)"
      ]
     },
     "metadata": {},
     "output_type": "display_data"
    }
   ],
   "source": [
    "from tqdm import tqdm\n",
    "\n",
    "class ipytqdm(tqdm):\n",
    "    \"\"\"store file metadata\"\"\"\n",
    "    def __init__(self, pbar=None, **kwds):\n",
    "        self.ipybar = pbar\n",
    "        super().__init__(**kwds)\n",
    "        if self.ipybar is not None:\n",
    "            self.ipybar.max = self.total\n",
    "    def update(self, n=1):\n",
    "        super().update(n)\n",
    "        if self.ipybar is not None:\n",
    "            self.ipybar.value += n\n",
    "\n",
    " \n",
    "from ipywidgets import IntProgress\n",
    "\n",
    "pb = IntProgress(min=0, value=0)\n",
    "display(pb)\n",
    "with ipytqdm(total=int(1e4), disable=True, pbar=pb) as bar:\n",
    "    for i in range(int(1e4)):\n",
    "        bar.update()\n",
    "\n"
   ]
  }
 ],
 "metadata": {
  "kernelspec": {
   "display_name": "base",
   "language": "python",
   "name": "python3"
  },
  "language_info": {
   "codemirror_mode": {
    "name": "ipython",
    "version": 3
   },
   "file_extension": ".py",
   "mimetype": "text/x-python",
   "name": "python",
   "nbconvert_exporter": "python",
   "pygments_lexer": "ipython3",
   "version": "3.8.3"
  }
 },
 "nbformat": 4,
 "nbformat_minor": 2
}
