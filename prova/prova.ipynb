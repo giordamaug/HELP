{
 "cells": [
  {
   "cell_type": "code",
   "execution_count": 55,
   "metadata": {},
   "outputs": [
    {
     "data": {
      "application/vnd.jupyter.widget-view+json": {
       "model_id": "c43b0d57c2d0456da2e9999751cf92a4",
       "version_major": 2,
       "version_minor": 0
      },
      "text/plain": [
       "MyFileChooser(path='/Users/maurizio/HELP/prova', filename='()', title='Choose file', show_hidden=False, select…"
      ]
     },
     "metadata": {},
     "output_type": "display_data"
    },
    {
     "name": "stdout",
     "output_type": "stream",
     "text": [
      "('myfilechooser.py',) ()\n",
      "('myfilechooser.py', 'prova.ipynb') ()\n",
      "D:  ('myfilechooser.py', 'prova.ipynb')\n",
      "() ('myfilechooser.py', 'prova.ipynb')\n",
      "() ('myfilechooser.py', 'prova.ipynb')\n",
      "('Kidney_CCcfs_0.csv',) ('myfilechooser.py', 'prova.ipynb')\n",
      "('Kidney_CCcfs_0.csv', 'Kidney_CCcfs_1.csv') ('myfilechooser.py', 'prova.ipynb')\n",
      "D:  ()\n",
      "D:  ()\n",
      "D:  ()\n"
     ]
    }
   ],
   "source": [
    "import sys\n",
    "if 'myfilechooser' in sys.modules:  \n",
    "    del sys.modules[\"myfilechooser\"]\n",
    "from myfilechooser import MyFileChooser\n",
    "import ipywidgets as wid\n",
    "fc = MyFileChooser(\".\", title='Choose file', filter='*.csv', layout=wid.Layout(width='auto'))\n",
    "display(fc)"
   ]
  }
 ],
 "metadata": {
  "kernelspec": {
   "display_name": "base",
   "language": "python",
   "name": "python3"
  },
  "language_info": {
   "codemirror_mode": {
    "name": "ipython",
    "version": 3
   },
   "file_extension": ".py",
   "mimetype": "text/x-python",
   "name": "python",
   "nbconvert_exporter": "python",
   "pygments_lexer": "ipython3",
   "version": "3.10.13"
  }
 },
 "nbformat": 4,
 "nbformat_minor": 2
}
