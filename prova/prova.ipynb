{
 "cells": [
  {
   "cell_type": "code",
   "execution_count": 35,
   "metadata": {},
   "outputs": [
    {
     "data": {
      "application/vnd.jupyter.widget-view+json": {
       "model_id": "bb58286ebe574c139eb7c36720a04076",
       "version_major": 2,
       "version_minor": 0
      },
      "text/plain": [
       "FileCollector(path='/Users/maurizio/HELP/prova', filename='()', title='Choose file', show_hidden=False, select…"
      ]
     },
     "metadata": {},
     "output_type": "display_data"
    }
   ],
   "source": [
    "import sys\n",
    "if 'myfilechooser' in sys.modules:  \n",
    "    del sys.modules[\"myfilechooser\"]\n",
    "from myfilechooser import FileCollector\n",
    "import ipywidgets as wid\n",
    "fc = FileCollector(\".\", title='Choose file', filter_pattern='*.csv', layout=wid.Layout(width='auto'))\n",
    "display(fc)"
   ]
  },
  {
   "cell_type": "code",
   "execution_count": 20,
   "metadata": {},
   "outputs": [
    {
     "data": {
      "text/plain": [
       "[True, False, False, False, False, False, False]"
      ]
     },
     "execution_count": 20,
     "metadata": {},
     "output_type": "execute_result"
    }
   ],
   "source": [
    "import os\n",
    "s = ('/Users/maurizio/HELP/HELPpy/notebooks/Kidney_AE.csv', '/Users/maurizio/HELP/HELPpy/notebooks/myfilechooser.py', '/Users/maurizio/HELP/HELPpy/notebooks/Kidney_BPBeder_0.csv', '/Users/maurizio/HELP/HELPpy/notebooks/Kidney_BPBeder_10.csv', '/Users/maurizio/HELP/HELPpy/notebooks/Kidney_BIO_w_const.csv', '/Users/maurizio/HELP/HELPpy/notebooks/Kidney_BPBeder_1.csv', '/Users/maurizio/HELP/HELPpy/notebooks/prova.ipynb')\n",
    "[os.path.isfile(ss) for ss in s]"
   ]
  },
  {
   "cell_type": "code",
   "execution_count": 44,
   "metadata": {},
   "outputs": [
    {
     "data": {
      "application/vnd.jupyter.widget-view+json": {
       "model_id": "025cb00f97b04dedbcd6da7966b8c0f7",
       "version_major": 2,
       "version_minor": 0
      },
      "text/plain": [
       "HTML(value='a \\n b </p>')"
      ]
     },
     "metadata": {},
     "output_type": "display_data"
    }
   ],
   "source": [
    "import ipywidgets as widgets\n",
    "widget = widgets.HTML(value= \"a \\n b\" +' </p>')\n",
    "display(widget)"
   ]
  }
 ],
 "metadata": {
  "kernelspec": {
   "display_name": "base",
   "language": "python",
   "name": "python3"
  },
  "language_info": {
   "codemirror_mode": {
    "name": "ipython",
    "version": 3
   },
   "file_extension": ".py",
   "mimetype": "text/x-python",
   "name": "python",
   "nbconvert_exporter": "python",
   "pygments_lexer": "ipython3",
   "version": "3.8.3"
  }
 },
 "nbformat": 4,
 "nbformat_minor": 2
}
