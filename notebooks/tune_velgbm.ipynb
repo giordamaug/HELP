{
 "cells": [
  {
   "cell_type": "markdown",
   "metadata": {},
   "source": [
    "# Load optuna library"
   ]
  },
  {
   "cell_type": "code",
   "execution_count": 1,
   "metadata": {},
   "outputs": [],
   "source": [
    "import numpy as np\n",
    "import pandas as pd\n",
    "import os, sys \n",
    "import optuna"
   ]
  },
  {
   "cell_type": "markdown",
   "metadata": {},
   "source": [
    "# Load the dataset"
   ]
  },
  {
   "cell_type": "code",
   "execution_count": 2,
   "metadata": {
    "scrolled": true
   },
   "outputs": [
    {
     "data": {
      "application/json": {
       "ascii": false,
       "bar_format": null,
       "colour": null,
       "elapsed": 0.1137399673461914,
       "initial": 0,
       "n": 0,
       "ncols": null,
       "nrows": null,
       "postfix": null,
       "prefix": "Kidney_BIO.csv",
       "rate": null,
       "total": 19293,
       "unit": "it",
       "unit_divisor": 1000,
       "unit_scale": false
      },
      "application/vnd.jupyter.widget-view+json": {
       "model_id": "d85f519e043f4873be700e78b15b5dc4",
       "version_major": 2,
       "version_minor": 0
      },
      "text/plain": [
       "Kidney_BIO.csv:   0%|          | 0/19293 [00:00<?, ?it/s]"
      ]
     },
     "metadata": {},
     "output_type": "display_data"
    },
    {
     "data": {
      "application/json": {
       "ascii": false,
       "bar_format": null,
       "colour": null,
       "elapsed": 0.009232282638549805,
       "initial": 0,
       "n": 0,
       "ncols": null,
       "nrows": null,
       "postfix": null,
       "prefix": "Kidney_CCcfs.csv",
       "rate": null,
       "total": 19298,
       "unit": "it",
       "unit_divisor": 1000,
       "unit_scale": false
      },
      "application/vnd.jupyter.widget-view+json": {
       "model_id": "b04cb5ecf5054a8cb8d87446675c9ee0",
       "version_major": 2,
       "version_minor": 0
      },
      "text/plain": [
       "Kidney_CCcfs.csv:   0%|          | 0/19298 [00:00<?, ?it/s]"
      ]
     },
     "metadata": {},
     "output_type": "display_data"
    },
    {
     "data": {
      "application/json": {
       "ascii": false,
       "bar_format": null,
       "colour": null,
       "elapsed": 0.011681795120239258,
       "initial": 0,
       "n": 0,
       "ncols": null,
       "nrows": null,
       "postfix": null,
       "prefix": "Kidney_EmbN2V_128.csv",
       "rate": null,
       "total": 19314,
       "unit": "it",
       "unit_divisor": 1000,
       "unit_scale": false
      },
      "application/vnd.jupyter.widget-view+json": {
       "model_id": "d4878445aa754a5286a227f3cb4dab96",
       "version_major": 2,
       "version_minor": 0
      },
      "text/plain": [
       "Kidney_EmbN2V_128.csv:   0%|          | 0/19314 [00:00<?, ?it/s]"
      ]
     },
     "metadata": {},
     "output_type": "display_data"
    },
    {
     "data": {
      "application/json": {
       "ascii": false,
       "bar_format": null,
       "colour": null,
       "elapsed": 0.01134800910949707,
       "initial": 0,
       "n": 0,
       "ncols": null,
       "nrows": null,
       "postfix": null,
       "prefix": "Kidney_HELP.csv",
       "rate": null,
       "total": 17829,
       "unit": "it",
       "unit_divisor": 1000,
       "unit_scale": false
      },
      "application/vnd.jupyter.widget-view+json": {
       "model_id": "63dfd4271a104b39b9ad7796b01aadee",
       "version_major": 2,
       "version_minor": 0
      },
      "text/plain": [
       "Kidney_HELP.csv:   0%|          | 0/17829 [00:00<?, ?it/s]"
      ]
     },
     "metadata": {},
     "output_type": "display_data"
    }
   ],
   "source": [
    "from HELPpy.preprocess.loaders import load_features\n",
    "from HELPpy.utility.utils import pandas_readcsv\n",
    "path = '../../data'\n",
    "tissue = 'Kidney'\n",
    "attributes = load_features([os.path.join(path, f'{tissue}_BIO.csv'), \n",
    "                            os.path.join(path, f'{tissue}_CCcfs.csv'),\n",
    "                            os.path.join(path, f'{tissue}_EmbN2V_128.csv')], \n",
    "                            fixnans=[True, True, False], normalizes=['std', 'std', None], verbose=False, show_progress=True)\n",
    "labelnme = f'{tissue}_HELP.csv'\n",
    "label = pandas_readcsv(os.path.join(path,labelnme), descr=f'{labelnme}', index_col=0).replace({'E': 1, 'aE':0, 'sNE': 0})\n",
    "idx_common = np.intersect1d(attributes.index.values, label.index.values)\n",
    "attributes = attributes.loc[idx_common]\n",
    "label = label.loc[idx_common]"
   ]
  },
  {
   "cell_type": "markdown",
   "metadata": {},
   "source": [
    "# Start tuning session"
   ]
  },
  {
   "cell_type": "code",
   "execution_count": 4,
   "metadata": {},
   "outputs": [
    {
     "name": "stderr",
     "output_type": "stream",
     "text": [
      "[I 2024-06-14 18:23:04,652] Using an existing study with name 'velgbm_Kidney' instead of creating a new one.\n"
     ]
    }
   ],
   "source": [
    "tissue = 'Kidney'\n",
    "from __future__ import annotations\n",
    "from sklearn.metrics import *\n",
    "from HELPpy.models.prediction import VotingEnsembleLGBM\n",
    "from optuna import Trial\n",
    "\n",
    "from sklearn.model_selection import cross_val_score, StratifiedKFold\n",
    "from sklearn.metrics import balanced_accuracy_score, make_scorer\n",
    "from HELPpy.models.prediction import VotingEnsembleLGBM\n",
    "def objective_cv(trial : Trial, X : pd.DataFrame, y : np.ndarray | pd.Series, random_state : int=42):\n",
    "    params = {\n",
    "        'learning_rate': trial.suggest_float(\"learning_rate\", 1e-3, 0.1, log=True),\n",
    "        'n_voters': trial.suggest_int('n_voters', 1, 20, step=1),\n",
    "        'n_estimators': trial.suggest_int('n_estimators', 60, 200, step=20),\n",
    "        'boosting_type': trial.suggest_categorical(\"boosting_type\", [\"gbdt\", \"dart\"])\n",
    "    }\n",
    "    gbm = VotingEnsembleLGBM(**params)\n",
    "    kf = StratifiedKFold(n_splits=5, shuffle=True, random_state=random_state)\n",
    "    ba_scorer = make_scorer(balanced_accuracy_score)\n",
    "    scores = cross_val_score(gbm, X, y, scoring=ba_scorer, cv=kf)\n",
    "    #return np.min([np.mean(scores), np.median([scores])])\n",
    "    return np.mean(scores)\n",
    "\n",
    "savepath = '../results'\n",
    "study = optuna.create_study(\n",
    "    study_name=f'velgbm_{tissue}',\n",
    "    direction='maximize',\n",
    "    load_if_exists=True,\n",
    "    storage=f'sqlite:///{savepath}/veLGBM_{tissue}_ba_cv.db'\n",
    "    )\n",
    "study.optimize(lambda trial: objective_cv(trial, attributes, label), n_trials=50)\n",
    "best_params = study.best_params\n",
    "print('Best Params:', best_params)\n",
    "df = study.trials_dataframe()\n",
    "df.to_csv(os.path.join(f'velgbm_{tissue}_hypersearch_ba_cv_2.csv'))\n",
    "df.sort_values('value', ascending=False)"
   ]
  },
  {
   "cell_type": "markdown",
   "metadata": {},
   "source": [
    "# Test the best model"
   ]
  },
  {
   "cell_type": "code",
   "execution_count": 5,
   "metadata": {},
   "outputs": [
    {
     "name": "stdout",
     "output_type": "stream",
     "text": [
      "{0: 0, 1: 1}\n",
      "label\n",
      "0        15994\n",
      "1         1242\n",
      "Name: count, dtype: int64\n",
      "\n"
     ]
    },
    {
     "data": {
      "application/vnd.jupyter.widget-view+json": {
       "model_id": "79fa7a55eaee41eebc398bbbaa845e20",
       "version_major": 2,
       "version_minor": 0
      },
      "text/plain": [
       "5-fold:   0%|          | 0/5 [00:00<?, ?it/s]"
      ]
     },
     "metadata": {},
     "output_type": "display_data"
    },
    {
     "data": {
      "text/html": [
       "<div>\n",
       "<style scoped>\n",
       "    .dataframe tbody tr th:only-of-type {\n",
       "        vertical-align: middle;\n",
       "    }\n",
       "\n",
       "    .dataframe tbody tr th {\n",
       "        vertical-align: top;\n",
       "    }\n",
       "\n",
       "    .dataframe thead th {\n",
       "        text-align: right;\n",
       "    }\n",
       "</style>\n",
       "<table border=\"1\" class=\"dataframe\">\n",
       "  <thead>\n",
       "    <tr style=\"text-align: right;\">\n",
       "      <th></th>\n",
       "      <th>measure</th>\n",
       "    </tr>\n",
       "  </thead>\n",
       "  <tbody>\n",
       "    <tr>\n",
       "      <th>ROC-AUC</th>\n",
       "      <td>0.9574±0.0045</td>\n",
       "    </tr>\n",
       "    <tr>\n",
       "      <th>Accuracy</th>\n",
       "      <td>0.9158±0.0015</td>\n",
       "    </tr>\n",
       "    <tr>\n",
       "      <th>BA</th>\n",
       "      <td>0.8860±0.0108</td>\n",
       "    </tr>\n",
       "    <tr>\n",
       "      <th>Sensitivity</th>\n",
       "      <td>0.8511±0.0238</td>\n",
       "    </tr>\n",
       "    <tr>\n",
       "      <th>Specificity</th>\n",
       "      <td>0.9208±0.0027</td>\n",
       "    </tr>\n",
       "    <tr>\n",
       "      <th>MCC</th>\n",
       "      <td>0.5845±0.0101</td>\n",
       "    </tr>\n",
       "    <tr>\n",
       "      <th>CM</th>\n",
       "      <td>[[14728, 1266], [185, 1057]]</td>\n",
       "    </tr>\n",
       "  </tbody>\n",
       "</table>\n",
       "</div>"
      ],
      "text/plain": [
       "                                  measure\n",
       "ROC-AUC                     0.9574±0.0045\n",
       "Accuracy                    0.9158±0.0015\n",
       "BA                          0.8860±0.0108\n",
       "Sensitivity                 0.8511±0.0238\n",
       "Specificity                 0.9208±0.0027\n",
       "MCC                         0.5845±0.0101\n",
       "CM           [[14728, 1266], [185, 1057]]"
      ]
     },
     "execution_count": 5,
     "metadata": {},
     "output_type": "execute_result"
    }
   ],
   "source": [
    "from HELPpy.models.prediction import VotingEnsembleLGBM, k_fold_cv\n",
    "clf = VotingEnsembleLGBM(**study.best_params)\n",
    "# train using create_model\n",
    "df_scores, scores, predictions = k_fold_cv(attributes, label, clf, n_splits=5, seed=0, show_progress=True, verbose=True)\n",
    "df_scores"
   ]
  },
  {
   "cell_type": "code",
   "execution_count": 6,
   "metadata": {},
   "outputs": [
    {
     "name": "stdout",
     "output_type": "stream",
     "text": [
      "\\begin{tabular}{llrrrr}\n",
      "\\toprule\n",
      " & boosting_type & learning_rate & n_estimators & n_voters & BA \\\\\n",
      "\\midrule\n",
      "44 & gbdt & 0.098461 & 200 & 8 & 0.892022 \\\\\n",
      "33 & gbdt & 0.081512 & 200 & 8 & 0.890714 \\\\\n",
      "43 & gbdt & 0.049017 & 200 & 8 & 0.888816 \\\\\n",
      "34 & gbdt & 0.079823 & 200 & 7 & 0.887190 \\\\\n",
      "23 & gbdt & 0.065070 & 140 & 13 & 0.886479 \\\\\n",
      "48 & gbdt & 0.045185 & 180 & 9 & 0.886413 \\\\\n",
      "35 & gbdt & 0.076854 & 200 & 7 & 0.886389 \\\\\n",
      "21 & gbdt & 0.050629 & 160 & 9 & 0.886107 \\\\\n",
      "49 & gbdt & 0.057144 & 200 & 8 & 0.886095 \\\\\n",
      "37 & gbdt & 0.077908 & 200 & 7 & 0.886046 \\\\\n",
      "32 & gbdt & 0.034572 & 180 & 11 & 0.885119 \\\\\n",
      "22 & gbdt & 0.039571 & 180 & 12 & 0.884895 \\\\\n",
      "41 & gbdt & 0.051064 & 200 & 7 & 0.884837 \\\\\n",
      "29 & gbdt & 0.030759 & 180 & 10 & 0.884531 \\\\\n",
      "6 & gbdt & 0.065527 & 100 & 12 & 0.884275 \\\\\n",
      "0 & gbdt & 0.031088 & 180 & 11 & 0.884031 \\\\\n",
      "31 & gbdt & 0.031174 & 180 & 10 & 0.883759 \\\\\n",
      "15 & gbdt & 0.041630 & 160 & 9 & 0.883406 \\\\\n",
      "24 & gbdt & 0.040524 & 140 & 15 & 0.882707 \\\\\n",
      "20 & gbdt & 0.099690 & 60 & 10 & 0.881841 \\\\\n",
      "2 & gbdt & 0.085391 & 200 & 6 & 0.881601 \\\\\n",
      "18 & gbdt & 0.056074 & 100 & 16 & 0.880590 \\\\\n",
      "19 & gbdt & 0.024005 & 180 & 9 & 0.880420 \\\\\n",
      "46 & gbdt & 0.073471 & 200 & 6 & 0.879457 \\\\\n",
      "39 & dart & 0.063560 & 200 & 7 & 0.875153 \\\\\n",
      "26 & dart & 0.065108 & 180 & 13 & 0.874942 \\\\\n",
      "47 & gbdt & 0.098334 & 180 & 5 & 0.874021 \\\\\n",
      "42 & gbdt & 0.060848 & 160 & 5 & 0.872442 \\\\\n",
      "25 & gbdt & 0.018323 & 160 & 8 & 0.872072 \\\\\n",
      "11 & gbdt & 0.015863 & 100 & 11 & 0.869731 \\\\\n",
      "8 & dart & 0.029505 & 180 & 12 & 0.866041 \\\\\n",
      "3 & dart & 0.037974 & 200 & 17 & 0.865953 \\\\\n",
      "7 & dart & 0.065467 & 80 & 6 & 0.863830 \\\\\n",
      "9 & dart & 0.050532 & 140 & 18 & 0.863715 \\\\\n",
      "28 & gbdt & 0.047467 & 160 & 4 & 0.861209 \\\\\n",
      "36 & dart & 0.075194 & 200 & 5 & 0.860882 \\\\\n",
      "13 & gbdt & 0.025414 & 60 & 14 & 0.860572 \\\\\n",
      "16 & gbdt & 0.012535 & 100 & 14 & 0.859903 \\\\\n",
      "17 & gbdt & 0.005336 & 160 & 12 & 0.859829 \\\\\n",
      "1 & gbdt & 0.010381 & 200 & 6 & 0.858121 \\\\\n",
      "27 & gbdt & 0.007571 & 140 & 19 & 0.848071 \\\\\n",
      "40 & gbdt & 0.086827 & 200 & 3 & 0.837165 \\\\\n",
      "30 & gbdt & 0.003034 & 120 & 16 & 0.832801 \\\\\n",
      "10 & gbdt & 0.001386 & 80 & 14 & 0.825037 \\\\\n",
      "14 & gbdt & 0.005514 & 120 & 20 & 0.825036 \\\\\n",
      "5 & gbdt & 0.003636 & 140 & 8 & 0.807176 \\\\\n",
      "38 & gbdt & 0.081153 & 200 & 2 & 0.805407 \\\\\n",
      "4 & dart & 0.018938 & 160 & 4 & 0.801913 \\\\\n",
      "12 & gbdt & 0.094523 & 120 & 1 & 0.745551 \\\\\n",
      "45 & dart & 0.001126 & 200 & 8 & 0.500000 \\\\\n",
      "\\bottomrule\n",
      "\\end{tabular}\n",
      "\n"
     ]
    }
   ],
   "source": [
    "#df = pd.read_csv(f'velgbm_{tissue}_hypersearch_mcc_ba_2.csv').sort_values(['values_1', 'values_0'], ascending=[False, False]).rename(columns={'values_0': 'BA', 'values_1': 'MCC'})\n",
    "df = pd.read_csv(f'velgbm_Kidney_hypersearch_ba_cv.csv').sort_values('value', ascending=False).rename(columns={'value': 'BA'})\n",
    "df.columns = df.columns.str.replace(r'params_', '')\n",
    "selcolumns = ['boosting_type',\t'learning_rate',\t'n_estimators',\t'n_voters', 'BA']\n",
    "stds = df.std(numeric_only=True)\n",
    "#df['BA+MCC'] = df.apply(lambda x: x.BA * stds.loc['BA'] + x.MCC * stds.loc['MCC'], axis=1)\n",
    "#df['BA+MCC'] = df.apply(lambda x: x.BA  + x.MCC , axis=1)\n",
    "print(df[selcolumns].sort_values('BA', ascending=False).to_latex())"
   ]
  },
  {
   "cell_type": "markdown",
   "metadata": {},
   "source": [
    "# Load exisiting study from DB"
   ]
  },
  {
   "cell_type": "code",
   "execution_count": 19,
   "metadata": {},
   "outputs": [
    {
     "ename": "RuntimeError",
     "evalue": "The runtime optuna version 3.6.1 is no longer compatible with the table schema (set up by optuna 3.1.1). Please execute `$ optuna storage upgrade --storage $STORAGE_URL` for upgrading the storage.",
     "output_type": "error",
     "traceback": [
      "\u001b[0;31m---------------------------------------------------------------------------\u001b[0m",
      "\u001b[0;31mRuntimeError\u001b[0m                              Traceback (most recent call last)",
      "Cell \u001b[0;32mIn[19], line 2\u001b[0m\n\u001b[1;32m      1\u001b[0m \u001b[38;5;28;01mimport\u001b[39;00m \u001b[38;5;21;01moptuna\u001b[39;00m\n\u001b[0;32m----> 2\u001b[0m study \u001b[38;5;241m=\u001b[39m \u001b[43moptuna\u001b[49m\u001b[38;5;241;43m.\u001b[39;49m\u001b[43mload_study\u001b[49m\u001b[43m(\u001b[49m\u001b[43mstudy_name\u001b[49m\u001b[38;5;241;43m=\u001b[39;49m\u001b[38;5;124;43m'\u001b[39;49m\u001b[38;5;124;43mvelgbm_Kidney\u001b[39;49m\u001b[38;5;124;43m'\u001b[39;49m\u001b[43m,\u001b[49m\u001b[43m \u001b[49m\u001b[43mstorage\u001b[49m\u001b[38;5;241;43m=\u001b[39;49m\u001b[38;5;124;43m\"\u001b[39;49m\u001b[38;5;124;43msqlite:///../../results/veLGBM_Kidney_ba_cv.db\u001b[39;49m\u001b[38;5;124;43m\"\u001b[39;49m\u001b[43m)\u001b[49m\n",
      "File \u001b[0;32m~/miniconda3/lib/python3.10/site-packages/optuna/_convert_positional_args.py:83\u001b[0m, in \u001b[0;36mconvert_positional_args.<locals>.converter_decorator.<locals>.converter_wrapper\u001b[0;34m(*args, **kwargs)\u001b[0m\n\u001b[1;32m     77\u001b[0m     \u001b[38;5;28;01mraise\u001b[39;00m \u001b[38;5;167;01mTypeError\u001b[39;00m(\n\u001b[1;32m     78\u001b[0m         \u001b[38;5;124mf\u001b[39m\u001b[38;5;124m\"\u001b[39m\u001b[38;5;132;01m{\u001b[39;00mfunc\u001b[38;5;241m.\u001b[39m\u001b[38;5;18m__name__\u001b[39m\u001b[38;5;132;01m}\u001b[39;00m\u001b[38;5;124m() got multiple values for arguments \u001b[39m\u001b[38;5;132;01m{\u001b[39;00mduplicated_kwds\u001b[38;5;132;01m}\u001b[39;00m\u001b[38;5;124m.\u001b[39m\u001b[38;5;124m\"\u001b[39m\n\u001b[1;32m     79\u001b[0m     )\n\u001b[1;32m     81\u001b[0m kwargs\u001b[38;5;241m.\u001b[39mupdate(inferred_kwargs)\n\u001b[0;32m---> 83\u001b[0m \u001b[38;5;28;01mreturn\u001b[39;00m \u001b[43mfunc\u001b[49m\u001b[43m(\u001b[49m\u001b[38;5;241;43m*\u001b[39;49m\u001b[38;5;241;43m*\u001b[39;49m\u001b[43mkwargs\u001b[49m\u001b[43m)\u001b[49m\n",
      "File \u001b[0;32m~/miniconda3/lib/python3.10/site-packages/optuna/study/study.py:1353\u001b[0m, in \u001b[0;36mload_study\u001b[0;34m(study_name, storage, sampler, pruner)\u001b[0m\n\u001b[1;32m   1347\u001b[0m     study_name \u001b[38;5;241m=\u001b[39m study_names[\u001b[38;5;241m0\u001b[39m]\n\u001b[1;32m   1348\u001b[0m     _logger\u001b[38;5;241m.\u001b[39minfo(\n\u001b[1;32m   1349\u001b[0m         \u001b[38;5;124mf\u001b[39m\u001b[38;5;124m\"\u001b[39m\u001b[38;5;124mStudy name was omitted but trying to load \u001b[39m\u001b[38;5;124m'\u001b[39m\u001b[38;5;132;01m{\u001b[39;00mstudy_name\u001b[38;5;132;01m}\u001b[39;00m\u001b[38;5;124m'\u001b[39m\u001b[38;5;124m because that was the only \u001b[39m\u001b[38;5;124m\"\u001b[39m\n\u001b[1;32m   1350\u001b[0m         \u001b[38;5;124m\"\u001b[39m\u001b[38;5;124mstudy found in the storage.\u001b[39m\u001b[38;5;124m\"\u001b[39m\n\u001b[1;32m   1351\u001b[0m     )\n\u001b[0;32m-> 1353\u001b[0m \u001b[38;5;28;01mreturn\u001b[39;00m \u001b[43mStudy\u001b[49m\u001b[43m(\u001b[49m\u001b[43mstudy_name\u001b[49m\u001b[38;5;241;43m=\u001b[39;49m\u001b[43mstudy_name\u001b[49m\u001b[43m,\u001b[49m\u001b[43m \u001b[49m\u001b[43mstorage\u001b[49m\u001b[38;5;241;43m=\u001b[39;49m\u001b[43mstorage\u001b[49m\u001b[43m,\u001b[49m\u001b[43m \u001b[49m\u001b[43msampler\u001b[49m\u001b[38;5;241;43m=\u001b[39;49m\u001b[43msampler\u001b[49m\u001b[43m,\u001b[49m\u001b[43m \u001b[49m\u001b[43mpruner\u001b[49m\u001b[38;5;241;43m=\u001b[39;49m\u001b[43mpruner\u001b[49m\u001b[43m)\u001b[49m\n",
      "File \u001b[0;32m~/miniconda3/lib/python3.10/site-packages/optuna/study/study.py:81\u001b[0m, in \u001b[0;36mStudy.__init__\u001b[0;34m(self, study_name, storage, sampler, pruner)\u001b[0m\n\u001b[1;32m     73\u001b[0m \u001b[38;5;28;01mdef\u001b[39;00m \u001b[38;5;21m__init__\u001b[39m(\n\u001b[1;32m     74\u001b[0m     \u001b[38;5;28mself\u001b[39m,\n\u001b[1;32m     75\u001b[0m     study_name: \u001b[38;5;28mstr\u001b[39m,\n\u001b[0;32m   (...)\u001b[0m\n\u001b[1;32m     78\u001b[0m     pruner: pruners\u001b[38;5;241m.\u001b[39mBasePruner \u001b[38;5;241m|\u001b[39m \u001b[38;5;28;01mNone\u001b[39;00m \u001b[38;5;241m=\u001b[39m \u001b[38;5;28;01mNone\u001b[39;00m,\n\u001b[1;32m     79\u001b[0m ) \u001b[38;5;241m-\u001b[39m\u001b[38;5;241m>\u001b[39m \u001b[38;5;28;01mNone\u001b[39;00m:\n\u001b[1;32m     80\u001b[0m     \u001b[38;5;28mself\u001b[39m\u001b[38;5;241m.\u001b[39mstudy_name \u001b[38;5;241m=\u001b[39m study_name\n\u001b[0;32m---> 81\u001b[0m     storage \u001b[38;5;241m=\u001b[39m \u001b[43mstorages\u001b[49m\u001b[38;5;241;43m.\u001b[39;49m\u001b[43mget_storage\u001b[49m\u001b[43m(\u001b[49m\u001b[43mstorage\u001b[49m\u001b[43m)\u001b[49m\n\u001b[1;32m     82\u001b[0m     study_id \u001b[38;5;241m=\u001b[39m storage\u001b[38;5;241m.\u001b[39mget_study_id_from_name(study_name)\n\u001b[1;32m     83\u001b[0m     \u001b[38;5;28mself\u001b[39m\u001b[38;5;241m.\u001b[39m_study_id \u001b[38;5;241m=\u001b[39m study_id\n",
      "File \u001b[0;32m~/miniconda3/lib/python3.10/site-packages/optuna/storages/__init__.py:43\u001b[0m, in \u001b[0;36mget_storage\u001b[0;34m(storage)\u001b[0m\n\u001b[1;32m     39\u001b[0m     \u001b[38;5;28;01mif\u001b[39;00m storage\u001b[38;5;241m.\u001b[39mstartswith(\u001b[38;5;124m\"\u001b[39m\u001b[38;5;124mredis\u001b[39m\u001b[38;5;124m\"\u001b[39m):\n\u001b[1;32m     40\u001b[0m         \u001b[38;5;28;01mraise\u001b[39;00m \u001b[38;5;167;01mValueError\u001b[39;00m(\n\u001b[1;32m     41\u001b[0m             \u001b[38;5;124m\"\u001b[39m\u001b[38;5;124mRedisStorage is removed at Optuna v3.1.0. Please use JournalRedisStorage instead.\u001b[39m\u001b[38;5;124m\"\u001b[39m\n\u001b[1;32m     42\u001b[0m         )\n\u001b[0;32m---> 43\u001b[0m     \u001b[38;5;28;01mreturn\u001b[39;00m _CachedStorage(\u001b[43mRDBStorage\u001b[49m\u001b[43m(\u001b[49m\u001b[43mstorage\u001b[49m\u001b[43m)\u001b[49m)\n\u001b[1;32m     44\u001b[0m \u001b[38;5;28;01melif\u001b[39;00m \u001b[38;5;28misinstance\u001b[39m(storage, RDBStorage):\n\u001b[1;32m     45\u001b[0m     \u001b[38;5;28;01mreturn\u001b[39;00m _CachedStorage(storage)\n",
      "File \u001b[0;32m~/miniconda3/lib/python3.10/site-packages/optuna/storages/_rdb/storage.py:233\u001b[0m, in \u001b[0;36mRDBStorage.__init__\u001b[0;34m(self, url, engine_kwargs, skip_compatibility_check, heartbeat_interval, grace_period, failed_trial_callback, skip_table_creation)\u001b[0m\n\u001b[1;32m    231\u001b[0m \u001b[38;5;28mself\u001b[39m\u001b[38;5;241m.\u001b[39m_version_manager \u001b[38;5;241m=\u001b[39m _VersionManager(\u001b[38;5;28mself\u001b[39m\u001b[38;5;241m.\u001b[39murl, \u001b[38;5;28mself\u001b[39m\u001b[38;5;241m.\u001b[39mengine, \u001b[38;5;28mself\u001b[39m\u001b[38;5;241m.\u001b[39mscoped_session)\n\u001b[1;32m    232\u001b[0m \u001b[38;5;28;01mif\u001b[39;00m \u001b[38;5;129;01mnot\u001b[39;00m skip_compatibility_check:\n\u001b[0;32m--> 233\u001b[0m     \u001b[38;5;28;43mself\u001b[39;49m\u001b[38;5;241;43m.\u001b[39;49m\u001b[43m_version_manager\u001b[49m\u001b[38;5;241;43m.\u001b[39;49m\u001b[43mcheck_table_schema_compatibility\u001b[49m\u001b[43m(\u001b[49m\u001b[43m)\u001b[49m\n",
      "File \u001b[0;32m~/miniconda3/lib/python3.10/site-packages/optuna/storages/_rdb/storage.py:1107\u001b[0m, in \u001b[0;36m_VersionManager.check_table_schema_compatibility\u001b[0;34m(self)\u001b[0m\n\u001b[1;32m   1102\u001b[0m \u001b[38;5;28;01melse\u001b[39;00m:\n\u001b[1;32m   1103\u001b[0m     message \u001b[38;5;241m+\u001b[39m\u001b[38;5;241m=\u001b[39m (\n\u001b[1;32m   1104\u001b[0m         \u001b[38;5;124m\"\u001b[39m\u001b[38;5;124mPlease try updating optuna to the latest version by `$ pip install -U optuna`.\u001b[39m\u001b[38;5;124m\"\u001b[39m\n\u001b[1;32m   1105\u001b[0m     )\n\u001b[0;32m-> 1107\u001b[0m \u001b[38;5;28;01mraise\u001b[39;00m \u001b[38;5;167;01mRuntimeError\u001b[39;00m(message)\n",
      "\u001b[0;31mRuntimeError\u001b[0m: The runtime optuna version 3.6.1 is no longer compatible with the table schema (set up by optuna 3.1.1). Please execute `$ optuna storage upgrade --storage $STORAGE_URL` for upgrading the storage."
     ]
    }
   ],
   "source": [
    "import optuna\n",
    "study = optuna.load_study(study_name='velgbm_Kidney', storage=\"sqlite:///../../results/veLGBM_Kidney_ba_cv.db\")"
   ]
  },
  {
   "cell_type": "code",
   "execution_count": 24,
   "metadata": {},
   "outputs": [
    {
     "name": "stdout",
     "output_type": "stream",
     "text": [
      "\\begin{tabular}{lrrrllllrrrl}\n",
      "\\toprule\n",
      " & Unnamed: 0 & number & value & datetime_start & datetime_complete & duration & params_boosting_type & params_learning_rate & params_n_estimators & params_n_voters & state \\\\\n",
      "\\midrule\n",
      "37 & 37 & 37 & 0.893151 & 2024-06-05 11:48:54.638670 & 2024-06-05 11:50:51.129284 & 0 days 00:01:56.490614 & gbdt & 0.094505 & 200 & 13 & COMPLETE \\\\\n",
      "15 & 15 & 15 & 0.891459 & 2024-06-05 11:16:36.759285 & 2024-06-05 11:17:48.725832 & 0 days 00:01:11.966547 & gbdt & 0.098300 & 140 & 10 & COMPLETE \\\\\n",
      "44 & 44 & 44 & 0.890954 & 2024-06-05 12:01:09.467990 & 2024-06-05 12:03:01.279431 & 0 days 00:01:51.811441 & gbdt & 0.076452 & 200 & 12 & COMPLETE \\\\\n",
      "43 & 43 & 43 & 0.890826 & 2024-06-05 11:59:18.529245 & 2024-06-05 12:01:09.439684 & 0 days 00:01:50.910439 & gbdt & 0.075168 & 200 & 12 & COMPLETE \\\\\n",
      "41 & 41 & 41 & 0.890602 & 2024-06-05 11:55:19.637376 & 2024-06-05 11:57:14.427060 & 0 days 00:01:54.789684 & gbdt & 0.078591 & 200 & 13 & COMPLETE \\\\\n",
      "33 & 33 & 33 & 0.890241 & 2024-06-05 11:41:24.249171 & 2024-06-05 11:43:10.811969 & 0 days 00:01:46.562798 & gbdt & 0.098020 & 180 & 13 & COMPLETE \\\\\n",
      "31 & 31 & 31 & 0.889936 & 2024-06-05 11:38:39.300887 & 2024-06-05 11:40:07.620982 & 0 days 00:01:28.320095 & gbdt & 0.059095 & 160 & 11 & COMPLETE \\\\\n",
      "34 & 34 & 34 & 0.889739 & 2024-06-05 11:43:10.839798 & 2024-06-05 11:45:06.900256 & 0 days 00:01:56.060458 & gbdt & 0.085756 & 200 & 13 & COMPLETE \\\\\n",
      "22 & 22 & 22 & 0.889298 & 2024-06-05 11:25:26.230130 & 2024-06-05 11:26:54.179467 & 0 days 00:01:27.949337 & gbdt & 0.063759 & 180 & 9 & COMPLETE \\\\\n",
      "30 & 30 & 30 & 0.889146 & 2024-06-05 11:37:07.850616 & 2024-06-05 11:38:39.277972 & 0 days 00:01:31.427356 & gbdt & 0.054934 & 160 & 12 & COMPLETE \\\\\n",
      "36 & 36 & 36 & 0.889028 & 2024-06-05 11:46:56.479716 & 2024-06-05 11:48:54.613399 & 0 days 00:01:58.133683 & gbdt & 0.076796 & 200 & 14 & COMPLETE \\\\\n",
      "23 & 23 & 23 & 0.888994 & 2024-06-05 11:26:54.212821 & 2024-06-05 11:28:13.256683 & 0 days 00:01:19.043862 & gbdt & 0.065602 & 160 & 9 & COMPLETE \\\\\n",
      "42 & 42 & 42 & 0.888759 & 2024-06-05 11:57:14.453339 & 2024-06-05 11:59:18.504381 & 0 days 00:02:04.051042 & gbdt & 0.076634 & 200 & 16 & COMPLETE \\\\\n",
      "40 & 40 & 40 & 0.888419 & 2024-06-05 11:53:50.416004 & 2024-06-05 11:55:19.609359 & 0 days 00:01:29.193355 & gbdt & 0.044127 & 180 & 10 & COMPLETE \\\\\n",
      "4 & 4 & 4 & 0.888175 & 2024-06-05 11:00:34.985200 & 2024-06-05 11:02:04.447899 & 0 days 00:01:29.462699 & gbdt & 0.088891 & 140 & 15 & COMPLETE \\\\\n",
      "39 & 39 & 39 & 0.887998 & 2024-06-05 11:52:23.815915 & 2024-06-05 11:53:50.393635 & 0 days 00:01:26.577720 & gbdt & 0.098960 & 140 & 14 & COMPLETE \\\\\n",
      "49 & 49 & 49 & 0.887826 & 2024-06-05 12:08:21.056280 & 2024-06-05 12:10:25.153124 & 0 days 00:02:04.096844 & gbdt & 0.057674 & 200 & 16 & COMPLETE \\\\\n",
      "11 & 11 & 11 & 0.886745 & 2024-06-05 11:09:23.401873 & 2024-06-05 11:11:12.844978 & 0 days 00:01:49.443105 & gbdt & 0.059871 & 180 & 15 & COMPLETE \\\\\n",
      "47 & 47 & 47 & 0.886566 & 2024-06-05 12:05:43.967330 & 2024-06-05 12:07:40.729782 & 0 days 00:01:56.762452 & gbdt & 0.049777 & 200 & 14 & COMPLETE \\\\\n",
      "29 & 29 & 29 & 0.886259 & 2024-06-05 11:35:41.090319 & 2024-06-05 11:37:07.825876 & 0 days 00:01:26.735557 & gbdt & 0.042902 & 180 & 9 & COMPLETE \\\\\n",
      "32 & 32 & 32 & 0.885557 & 2024-06-05 11:40:07.648602 & 2024-06-05 11:41:24.216740 & 0 days 00:01:16.568138 & gbdt & 0.052158 & 140 & 11 & COMPLETE \\\\\n",
      "0 & 0 & 0 & 0.885387 & 2024-06-05 10:55:36.431230 & 2024-06-05 10:57:27.994247 & 0 days 00:01:51.563017 & gbdt & 0.049584 & 180 & 15 & COMPLETE \\\\\n",
      "24 & 24 & 24 & 0.885176 & 2024-06-05 11:28:13.283267 & 2024-06-05 11:29:31.878620 & 0 days 00:01:18.595353 & gbdt & 0.048817 & 160 & 9 & COMPLETE \\\\\n",
      "21 & 21 & 21 & 0.884109 & 2024-06-05 11:23:30.056208 & 2024-06-05 11:25:26.201734 & 0 days 00:01:56.145526 & gbdt & 0.070336 & 180 & 17 & COMPLETE \\\\\n",
      "12 & 12 & 12 & 0.884045 & 2024-06-05 11:11:12.878465 & 2024-06-05 11:12:54.888003 & 0 days 00:01:42.009538 & gbdt & 0.060010 & 160 & 16 & COMPLETE \\\\\n",
      "13 & 13 & 13 & 0.883496 & 2024-06-05 11:12:54.911635 & 2024-06-05 11:15:03.241229 & 0 days 00:02:08.329594 & gbdt & 0.082780 & 200 & 17 & COMPLETE \\\\\n",
      "27 & 27 & 27 & 0.883429 & 2024-06-05 11:32:46.372520 & 2024-06-05 11:34:15.827032 & 0 days 00:01:29.454512 & gbdt & 0.036259 & 160 & 12 & COMPLETE \\\\\n",
      "14 & 14 & 14 & 0.883002 & 2024-06-05 11:15:03.263901 & 2024-06-05 11:16:36.734840 & 0 days 00:01:33.470939 & gbdt & 0.043999 & 160 & 13 & COMPLETE \\\\\n",
      "45 & 45 & 45 & 0.882917 & 2024-06-05 12:03:01.301653 & 2024-06-05 12:03:57.041232 & 0 days 00:00:55.739579 & gbdt & 0.071196 & 80 & 15 & COMPLETE \\\\\n",
      "19 & 19 & 19 & 0.881732 & 2024-06-05 11:21:11.873049 & 2024-06-05 11:22:28.227983 & 0 days 00:01:16.354934 & gbdt & 0.034591 & 140 & 11 & COMPLETE \\\\\n",
      "35 & 35 & 35 & 0.880509 & 2024-06-05 11:45:06.928916 & 2024-06-05 11:46:56.458933 & 0 days 00:01:49.530017 & dart & 0.099165 & 200 & 13 & COMPLETE \\\\\n",
      "46 & 46 & 46 & 0.880259 & 2024-06-05 12:03:57.072919 & 2024-06-05 12:05:43.944116 & 0 days 00:01:46.871197 & dart & 0.080275 & 200 & 12 & COMPLETE \\\\\n",
      "26 & 26 & 26 & 0.878634 & 2024-06-05 11:31:14.870915 & 2024-06-05 11:32:46.346121 & 0 days 00:01:31.475206 & dart & 0.070387 & 200 & 8 & COMPLETE \\\\\n",
      "38 & 38 & 38 & 0.876939 & 2024-06-05 11:50:51.154555 & 2024-06-05 11:52:23.789150 & 0 days 00:01:32.634595 & dart & 0.081331 & 180 & 11 & COMPLETE \\\\\n",
      "28 & 28 & 28 & 0.875443 & 2024-06-05 11:34:15.858102 & 2024-06-05 11:35:41.067117 & 0 days 00:01:25.209015 & gbdt & 0.021234 & 180 & 7 & COMPLETE \\\\\n",
      "18 & 18 & 18 & 0.872098 & 2024-06-05 11:20:21.250389 & 2024-06-05 11:21:11.849943 & 0 days 00:00:50.599554 & dart & 0.051942 & 100 & 10 & COMPLETE \\\\\n",
      "17 & 17 & 17 & 0.869416 & 2024-06-05 11:19:09.954100 & 2024-06-05 11:20:21.222264 & 0 days 00:01:11.268164 & gbdt & 0.027927 & 140 & 6 & COMPLETE \\\\\n",
      "48 & 48 & 48 & 0.869126 & 2024-06-05 12:07:40.757239 & 2024-06-05 12:08:21.032810 & 0 days 00:00:40.275571 & gbdt & 0.031879 & 60 & 12 & COMPLETE \\\\\n",
      "1 & 1 & 1 & 0.868272 & 2024-06-05 10:57:28.036931 & 2024-06-05 10:58:03.917219 & 0 days 00:00:35.880288 & gbdt & 0.028757 & 60 & 10 & COMPLETE \\\\\n",
      "2 & 2 & 2 & 0.867393 & 2024-06-05 10:58:03.943144 & 2024-06-05 10:59:05.800986 & 0 days 00:01:01.857842 & dart & 0.097710 & 80 & 20 & COMPLETE \\\\\n",
      "9 & 9 & 9 & 0.865516 & 2024-06-05 11:06:23.253566 & 2024-06-05 11:07:21.182252 & 0 days 00:00:57.928686 & gbdt & 0.014628 & 100 & 12 & COMPLETE \\\\\n",
      "3 & 3 & 3 & 0.864723 & 2024-06-05 10:59:05.824959 & 2024-06-05 11:00:34.964696 & 0 days 00:01:29.139737 & dart & 0.022029 & 200 & 8 & COMPLETE \\\\\n",
      "7 & 7 & 7 & 0.863132 & 2024-06-05 11:04:12.898727 & 2024-06-05 11:05:01.378222 & 0 days 00:00:48.479495 & gbdt & 0.037196 & 60 & 19 & COMPLETE \\\\\n",
      "25 & 25 & 25 & 0.858484 & 2024-06-05 11:29:31.913448 & 2024-06-05 11:31:14.844163 & 0 days 00:01:42.930715 & gbdt & 0.063340 & 180 & 4 & COMPLETE \\\\\n",
      "6 & 6 & 6 & 0.853296 & 2024-06-05 11:02:54.607868 & 2024-06-05 11:04:12.878780 & 0 days 00:01:18.270912 & dart & 0.007230 & 140 & 14 & COMPLETE \\\\\n",
      "16 & 16 & 16 & 0.841683 & 2024-06-05 11:17:48.749369 & 2024-06-05 11:19:09.929881 & 0 days 00:01:21.180512 & gbdt & 0.098819 & 120 & 3 & COMPLETE \\\\\n",
      "8 & 8 & 8 & 0.837894 & 2024-06-05 11:05:01.403661 & 2024-06-05 11:06:23.226002 & 0 days 00:01:21.822341 & dart & 0.013705 & 120 & 20 & COMPLETE \\\\\n",
      "10 & 10 & 10 & 0.807671 & 2024-06-05 11:07:21.204818 & 2024-06-05 11:09:23.377896 & 0 days 00:02:02.173078 & gbdt & 0.089129 & 160 & 2 & COMPLETE \\\\\n",
      "20 & 20 & 20 & 0.780058 & 2024-06-05 11:22:28.248833 & 2024-06-05 11:23:30.032032 & 0 days 00:01:01.783199 & gbdt & 0.007526 & 120 & 5 & COMPLETE \\\\\n",
      "5 & 5 & 5 & 0.500000 & 2024-06-05 11:02:04.473791 & 2024-06-05 11:02:54.579557 & 0 days 00:00:50.105766 & gbdt & 0.001175 & 100 & 7 & COMPLETE \\\\\n",
      "\\bottomrule\n",
      "\\end{tabular}\n",
      "\n"
     ]
    }
   ],
   "source": [
    "import pandas as pd\n",
    "print(pd.read_csv(\"velgbm_Kidney_hypersearch_ba_cv.csv\").replace({'':'','':'','':'','':''})sort_values('value', ascending=False).to_latex())"
   ]
  }
 ],
 "metadata": {
  "kaggle": {
   "accelerator": "none",
   "dataSources": [
    {
     "datasetId": 4549240,
     "sourceId": 7775239,
     "sourceType": "datasetVersion"
    }
   ],
   "dockerImageVersionId": 30698,
   "isGpuEnabled": false,
   "isInternetEnabled": true,
   "language": "python",
   "sourceType": "notebook"
  },
  "kernelspec": {
   "display_name": "base",
   "language": "python",
   "name": "python3"
  },
  "language_info": {
   "codemirror_mode": {
    "name": "ipython",
    "version": 3
   },
   "file_extension": ".py",
   "mimetype": "text/x-python",
   "name": "python",
   "nbconvert_exporter": "python",
   "pygments_lexer": "ipython3",
   "version": "3.8.3"
  }
 },
 "nbformat": 4,
 "nbformat_minor": 4
}
