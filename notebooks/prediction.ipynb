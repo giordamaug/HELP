{
  "cells": [
    {
      "cell_type": "markdown",
      "metadata": {
        "id": "lavaILXgTTl0"
      },
      "source": [
        "<a target=\"_blank\" href=\"https://colab.research.google.com/github/giordamaug/HELP/blob/v2.0/notebooks/prediction.ipynb\">\n",
        "  <img src=\"https://colab.research.google.com/assets/colab-badge.svg\" alt=\"Open In Colab\"/>\n",
        "</a>\n",
        "<a target=\"_blank\" href=\"https://www.kaggle.com/notebooks/welcome?src=https://github.com/giordamaug/HELP/blob/v2.0/notebooks/prediction.ipynb\">\n",
        "  <img src=\"https://kaggle.com/static/images/open-in-kaggle.svg\" alt=\"Open In Colab\"/>\n",
        "</a>"
      ]
    },
    {
      "cell_type": "markdown",
      "metadata": {
        "id": "joeFb6T-TTl3"
      },
      "source": [
        "### 1. Install HELP and SVElearn from GitHub\n",
        "Skip this cell if you already have installed HELP and the SVElearn library."
      ]
    },
    {
      "cell_type": "code",
      "execution_count": null,
      "metadata": {
        "colab": {
          "base_uri": "https://localhost:8080/",
          "height": 1000
        },
        "id": "tuF0S73STTl4",
        "outputId": "e6d33ca9-a106-46fe-df06-3f8c3075441f"
      },
      "outputs": [],
      "source": [
        "!pip install -q git+https://github.com/giordamaug/HELP.git\n",
        "!pip install -q git+https://github.com/giordamaug/SVElearn.git"
      ]
    },
    {
      "cell_type": "markdown",
      "metadata": {
        "id": "EFrBvM5ErPN4"
      },
      "source": [
        "### 2. Download the input files\n",
        "For a chosen tissue (here `Kidney`), download from Zenodo [![DOI](https://zenodo.org/badge/DOI/10.5281/zenodo.12620877.svg)](https://doi.org/10.5281/zenodo.12620877)\n",
        " the label file (here `Kidney_HELP.csv`, computed as in Example 1) and the attribute files (here BIO `Kidney_BIO.csv`, CCcfs `Kidney_CCcfs.csv`, and N2V `Kidney_EmbN2V_128.csv`).  \n",
        "\n",
        "Skip this step if you already have these input files locally."
      ]
    },
    {
      "cell_type": "code",
      "execution_count": 23,
      "metadata": {},
      "outputs": [],
      "source": [
        "from HELPpy.utility.utils import pdread_csv_fromurl\n",
        "tissue='Kidney'\n",
        "X_bio = pdread_csv_fromurl(f\"https://zenodo.org/records/12620877/files/{tissue}_BIO.csv\", index_col=0)\n",
        "X_n2v = pdread_csv_fromurl(f\"https://zenodo.org/records/12620877/files/{tissue}_EmbN2V_128.csv\", index_col=0)\n",
        "X_cccfs = pdread_csv_fromurl(f\"https://zenodo.org/records/12620877/files/{tissue}_CCcfs.csv\", index_col=0)\n",
        "Y = pdread_csv_fromurl(f\"https://zenodo.org/records/12620877/files/{tissue}_HELP.csv\", index_col=0)"
      ]
    },
    {
      "cell_type": "markdown",
      "metadata": {
        "id": "yqSGGzfNTTl6"
      },
      "source": [
        "### 3. Pre-processing and merge input files\n",
        "We apply pre-processing only to the BIO and CCcfs attributes.\n",
        "+ constant attributes removal, and\n",
        "+ data scaling with z-score.  \n",
        "\n",
        "We also replace `E` label (positive label) and `aE` and `sNE` labels as 0 label (negative label), to address binary `E vs NE` classification."
      ]
    },
    {
      "cell_type": "code",
      "execution_count": 24,
      "metadata": {
        "colab": {
          "base_uri": "https://localhost:8080/",
          "height": 728
        },
        "execution": {
          "iopub.execute_input": "2024-02-13T11:09:02.545717Z",
          "iopub.status.busy": "2024-02-13T11:09:02.545238Z",
          "iopub.status.idle": "2024-02-13T11:09:16.557744Z",
          "shell.execute_reply": "2024-02-13T11:09:16.556982Z",
          "shell.execute_reply.started": "2024-02-13T11:09:02.545678Z"
        },
        "id": "toAayH83TTl7",
        "outputId": "25f23ce9-ac16-4ecc-95ee-8153c74656d2"
      },
      "outputs": [
        {
          "name": "stdout",
          "output_type": "stream",
          "text": [
            "label\n",
            "0        16678\n",
            "1         1253\n",
            "Name: count, dtype: int64\n",
            "Removing 0 constant features ...\n",
            "Removing 3 constant features ...\n"
          ]
        }
      ],
      "source": [
        "import pandas as pd\n",
        "import numpy as np\n",
        "from sklearn.preprocessing import StandardScaler\n",
        "df_y = Y.replace({'aE': 0, 'sNE': 0, 'E': 1})              # rename labels to set binary classification E=1, NE=0\n",
        "print(df_y.value_counts(normalize=False))\n",
        "def preproc(df):\n",
        "    consts = df.columns[df.nunique() <= 1].values\n",
        "    print(f\"Removing {len(consts)} constant features ...\")\n",
        "    df = df.drop(consts, axis=1)\n",
        "    df = pd.DataFrame(StandardScaler().fit_transform(df), index=df.index, columns=df.columns)\n",
        "    return df\n",
        "X_bio = preproc(X_bio)\n",
        "X_cccfs = preproc(X_cccfs)\n",
        "df_X = pd.merge(X_bio, X_n2v, left_index=True, right_index=True, how='outer')\n",
        "df_X = pd.merge(df_X, X_cccfs, left_index=True, right_index=True, how='outer')\n",
        "idxs = np.intersect1d(df_y.index.values, df_X.index.values)\n",
        "df_X = df_X.loc[idxs]\n",
        "df_y = df_y.loc[idxs]\n",
        "dataset = pd.concat([df_X, df_y], axis=1)"
      ]
    },
    {
      "cell_type": "markdown",
      "metadata": {},
      "source": [
        "### 4. Estimate the performance of EGs prediction \n",
        "\n",
        "First we define the metrics we want to measure for perfromance analysis."
      ]
    },
    {
      "cell_type": "code",
      "execution_count": 28,
      "metadata": {},
      "outputs": [],
      "source": [
        "from imblearn.metrics import specificity_score\n",
        "from sklearn.metrics import *\n",
        "myscorer = { 'ROC-AUC':      (roc_auc_score, {'multi_class':'ovr', 'average':'macro'}),\n",
        "             'Accuracy'  :   (accuracy_score , {}),\n",
        "             'BA'  :         (balanced_accuracy_score , {}),\n",
        "             'Sensitivity' : (recall_score   , {'pos_label': 1}),\n",
        "             'Specificity' : (specificity_score, {'pos_label': 1}),\n",
        "            }"
      ]
    },
    {
      "cell_type": "markdown",
      "metadata": {},
      "source": [
        "The, we instantiate the prediction model developed by ICAR-CNR ([SVElearn](https://github.com/giordamaug/SVElearn)), i.e. the splitting voting ensemble of LightGBM `SplitVotingEnsembleLGBM` with `n_voters=13` classifiers) and estimate its performance via 5-fold cross-validation (`skfold_cv` with `n_splits=5`). Then, print the obtained average performances (`df_scores`)... "
      ]
    },
    {
      "cell_type": "code",
      "execution_count": 29,
      "metadata": {},
      "outputs": [
        {
          "name": "stdout",
          "output_type": "stream",
          "text": [
            "LGBMClassifier(n_estimators=200, random_state=42, verbose=-1)\n",
            "Classification with sveLGBM...\n"
          ]
        },
        {
          "data": {
            "application/vnd.jupyter.widget-view+json": {
              "model_id": "55b441292a3b48a7a4bd8c15aa3e1416",
              "version_major": 2,
              "version_minor": 0
            },
            "text/plain": [
              "5-fold:   0%|          | 0/5 [00:00<?, ?it/s]"
            ]
          },
          "metadata": {},
          "output_type": "display_data"
        },
        {
          "data": {
            "text/html": [
              "<div>\n",
              "<style scoped>\n",
              "    .dataframe tbody tr th:only-of-type {\n",
              "        vertical-align: middle;\n",
              "    }\n",
              "\n",
              "    .dataframe tbody tr th {\n",
              "        vertical-align: top;\n",
              "    }\n",
              "\n",
              "    .dataframe thead th {\n",
              "        text-align: right;\n",
              "    }\n",
              "</style>\n",
              "<table border=\"1\" class=\"dataframe\">\n",
              "  <thead>\n",
              "    <tr style=\"text-align: right;\">\n",
              "      <th></th>\n",
              "      <th>measure</th>\n",
              "    </tr>\n",
              "  </thead>\n",
              "  <tbody>\n",
              "    <tr>\n",
              "      <th>ROC-AUC</th>\n",
              "      <td>0.957±0.005</td>\n",
              "    </tr>\n",
              "    <tr>\n",
              "      <th>Accuracy</th>\n",
              "      <td>0.880±0.002</td>\n",
              "    </tr>\n",
              "    <tr>\n",
              "      <th>BA</th>\n",
              "      <td>0.891±0.011</td>\n",
              "    </tr>\n",
              "    <tr>\n",
              "      <th>Sensitivity</th>\n",
              "      <td>0.903±0.023</td>\n",
              "    </tr>\n",
              "    <tr>\n",
              "      <th>Specificity</th>\n",
              "      <td>0.878±0.002</td>\n",
              "    </tr>\n",
              "    <tr>\n",
              "      <th>cm</th>\n",
              "      <td>[[14046, 1948], [120, 1122]]</td>\n",
              "    </tr>\n",
              "  </tbody>\n",
              "</table>\n",
              "</div>"
            ],
            "text/plain": [
              "                                  measure\n",
              "ROC-AUC                       0.957±0.005\n",
              "Accuracy                      0.880±0.002\n",
              "BA                            0.891±0.011\n",
              "Sensitivity                   0.903±0.023\n",
              "Specificity                   0.878±0.002\n",
              "cm           [[14046, 1948], [120, 1122]]"
            ]
          },
          "execution_count": 29,
          "metadata": {},
          "output_type": "execute_result"
        },
        {
          "data": {
            "image/png": "[encoded data removed]",
            "text/plain": [
              "<Figure size 640x480 with 2 Axes>"
            ]
          },
          "metadata": {},
          "output_type": "display_data"
        }
      ],
      "source": [
        "from svelearn.models.splitvotingens import sveLGBM\n",
        "from svelearn.validation.crossvalidate import skfold_cv\n",
        "clf = sveLGBM(learning_rate=0.1, n_estimators=200, boosting_type='gbdt', n_jobs=-1, random_state=42)\n",
        "df_scores, scores, predictions = skfold_cv(df_X, df_y, clf, n_splits=5, seed=0, scorer=myscorer, show_progress=True, verbose=True)\n",
        "df_scores"
      ]
    },
    {
      "cell_type": "markdown",
      "metadata": {},
      "source": [
        "### 5. Iterating EG predictions and collecting distributions of metrics\n",
        "The cross-validation step for EG prediction can be iterated 10 times (`n_repeat=10`). At the end of the iteration loop the performance metrics means and standard deviations are calculated. "
      ]
    },
    {
      "cell_type": "code",
      "execution_count": 30,
      "metadata": {},
      "outputs": [
        {
          "name": "stdout",
          "output_type": "stream",
          "text": [
            "LGBMClassifier(n_estimators=200, random_state=42, verbose=-1)\n",
            "Classification with sveLGBM...\n",
            "Classification with sveLGBM...\n",
            "Classification with sveLGBM...\n",
            "Classification with sveLGBM...\n",
            "Classification with sveLGBM...\n",
            "Classification with sveLGBM...\n",
            "Classification with sveLGBM...\n",
            "Classification with sveLGBM...\n"
          ]
        },
        {
          "name": "stderr",
          "output_type": "stream",
          "text": [
            "5-fold: 100%|██████████| 5/5 [40:38<00:00, 487.80s/it]\n",
            "5-fold: 100%|██████████| 5/5 [40:39<00:00, 487.89s/it]\n",
            "5-fold: 100%|██████████| 5/5 [40:39<00:00, 487.92s/it]\n",
            "5-fold: 100%|██████████| 5/5 [40:39<00:00, 487.95s/it]\n",
            "5-fold: 100%|██████████| 5/5 [40:40<00:00, 488.14s/it]\n"
          ]
        },
        {
          "name": "stdout",
          "output_type": "stream",
          "text": [
            "Classification with sveLGBM...\n",
            "Classification with sveLGBM...\n"
          ]
        },
        {
          "name": "stderr",
          "output_type": "stream",
          "text": [
            "5-fold: 100%|██████████| 5/5 [40:40<00:00, 488.15s/it]\n",
            "5-fold: 100%|██████████| 5/5 [40:41<00:00, 488.20s/it]\n",
            "5-fold: 100%|██████████| 5/5 [40:42<00:00, 488.54s/it]\n",
            "5-fold: 100%|██████████| 5/5 [05:22<00:00, 64.47s/it]\n",
            "5-fold: 100%|██████████| 5/5 [05:23<00:00, 64.63s/it]\n"
          ]
        },
        {
          "data": {
            "text/html": [
              "<div>\n",
              "<style scoped>\n",
              "    .dataframe tbody tr th:only-of-type {\n",
              "        vertical-align: middle;\n",
              "    }\n",
              "\n",
              "    .dataframe tbody tr th {\n",
              "        vertical-align: top;\n",
              "    }\n",
              "\n",
              "    .dataframe thead th {\n",
              "        text-align: right;\n",
              "    }\n",
              "</style>\n",
              "<table border=\"1\" class=\"dataframe\">\n",
              "  <thead>\n",
              "    <tr style=\"text-align: right;\">\n",
              "      <th></th>\n",
              "      <th>measure</th>\n",
              "    </tr>\n",
              "  </thead>\n",
              "  <tbody>\n",
              "    <tr>\n",
              "      <th>ROC-AUC</th>\n",
              "      <td>0.9579±0.0057</td>\n",
              "    </tr>\n",
              "    <tr>\n",
              "      <th>Accuracy</th>\n",
              "      <td>0.8800±0.0048</td>\n",
              "    </tr>\n",
              "    <tr>\n",
              "      <th>BA</th>\n",
              "      <td>0.8919±0.0091</td>\n",
              "    </tr>\n",
              "    <tr>\n",
              "      <th>Sensitivity</th>\n",
              "      <td>0.9058±0.0183</td>\n",
              "    </tr>\n",
              "    <tr>\n",
              "      <th>Specificity</th>\n",
              "      <td>0.8780±0.0052</td>\n",
              "    </tr>\n",
              "    <tr>\n",
              "      <th>cm</th>\n",
              "      <td>[[14042.5, 1951.5], [117.0, 1125.0]]</td>\n",
              "    </tr>\n",
              "  </tbody>\n",
              "</table>\n",
              "</div>"
            ],
            "text/plain": [
              "                                          measure\n",
              "ROC-AUC                             0.9579±0.0057\n",
              "Accuracy                            0.8800±0.0048\n",
              "BA                                  0.8919±0.0091\n",
              "Sensitivity                         0.9058±0.0183\n",
              "Specificity                         0.8780±0.0052\n",
              "cm           [[14042.5, 1951.5], [117.0, 1125.0]]"
            ]
          },
          "metadata": {},
          "output_type": "display_data"
        }
      ],
      "source": [
        "from joblib import Parallel, delayed\n",
        "from svelearn.validation.crossvalidate import skfold_cv\n",
        "import os\n",
        "scores = pd.DataFrame()\n",
        "preds = pd.DataFrame()\n",
        "n_folds = 5\n",
        "n_repeats = 10\n",
        "n_jobs = -1        # all cpus\n",
        "verbose = True\n",
        "clf = sveLGBM(n_voters=13, learning_rate=0.1, n_estimators=200, boosting_type='gbdt', n_jobs=-1, random_state=42)\n",
        "out = Parallel(n_jobs=n_jobs)(delayed(skfold_cv)(df_X, df_y, clf, n_splits=n_folds, seed=rseed, \n",
        "                                               show_progress=True, verbose=verbose, scorer=myscorer) for rseed in range(n_repeats))\n",
        "for iter,res in enumerate(out):\n",
        "   scores = pd.concat([scores,res[1]])\n",
        "   preds = pd.concat([preds,res[2]])\n",
        "df_scores = pd.DataFrame([f'{val:.4f}±{err:.4f}' for val, err in zip(scores.loc[:, scores.columns != \"cm\"].mean(axis=0).values,\n",
        "                          scores.loc[:, scores.columns != \"cm\"].std(axis=0))] + [(scores[['cm']].sum()/n_repeats).values[0].tolist()],\n",
        "                          columns=['measure'], index=scores.columns)\n",
        "display(df_scores)"
      ]
    },
    {
      "cell_type": "markdown",
      "metadata": {},
      "source": [
        "#### Display prediction results of last iteration"
      ]
    },
    {
      "cell_type": "code",
      "execution_count": 31,
      "metadata": {},
      "outputs": [
        {
          "data": {
            "text/html": [
              "<div>\n",
              "<style scoped>\n",
              "    .dataframe tbody tr th:only-of-type {\n",
              "        vertical-align: middle;\n",
              "    }\n",
              "\n",
              "    .dataframe tbody tr th {\n",
              "        vertical-align: top;\n",
              "    }\n",
              "\n",
              "    .dataframe thead th {\n",
              "        text-align: right;\n",
              "    }\n",
              "</style>\n",
              "<table border=\"1\" class=\"dataframe\">\n",
              "  <thead>\n",
              "    <tr style=\"text-align: right;\">\n",
              "      <th></th>\n",
              "      <th>label</th>\n",
              "      <th>prediction</th>\n",
              "      <th>probabilities</th>\n",
              "    </tr>\n",
              "    <tr>\n",
              "      <th>indices</th>\n",
              "      <th></th>\n",
              "      <th></th>\n",
              "      <th></th>\n",
              "    </tr>\n",
              "  </thead>\n",
              "  <tbody>\n",
              "    <tr>\n",
              "      <th>A1CF</th>\n",
              "      <td>0</td>\n",
              "      <td>0</td>\n",
              "      <td>0.963529</td>\n",
              "    </tr>\n",
              "    <tr>\n",
              "      <th>A2M</th>\n",
              "      <td>0</td>\n",
              "      <td>0</td>\n",
              "      <td>0.951503</td>\n",
              "    </tr>\n",
              "    <tr>\n",
              "      <th>AAGAB</th>\n",
              "      <td>0</td>\n",
              "      <td>0</td>\n",
              "      <td>0.923012</td>\n",
              "    </tr>\n",
              "    <tr>\n",
              "      <th>AARD</th>\n",
              "      <td>0</td>\n",
              "      <td>0</td>\n",
              "      <td>0.999997</td>\n",
              "    </tr>\n",
              "    <tr>\n",
              "      <th>AASDH</th>\n",
              "      <td>0</td>\n",
              "      <td>0</td>\n",
              "      <td>0.991770</td>\n",
              "    </tr>\n",
              "    <tr>\n",
              "      <th>...</th>\n",
              "      <td>...</td>\n",
              "      <td>...</td>\n",
              "      <td>...</td>\n",
              "    </tr>\n",
              "    <tr>\n",
              "      <th>ZRANB2</th>\n",
              "      <td>0</td>\n",
              "      <td>1</td>\n",
              "      <td>0.003258</td>\n",
              "    </tr>\n",
              "    <tr>\n",
              "      <th>ZSCAN23</th>\n",
              "      <td>0</td>\n",
              "      <td>0</td>\n",
              "      <td>0.999994</td>\n",
              "    </tr>\n",
              "    <tr>\n",
              "      <th>ZSCAN30</th>\n",
              "      <td>0</td>\n",
              "      <td>0</td>\n",
              "      <td>0.999997</td>\n",
              "    </tr>\n",
              "    <tr>\n",
              "      <th>ZSWIM8</th>\n",
              "      <td>0</td>\n",
              "      <td>0</td>\n",
              "      <td>0.704369</td>\n",
              "    </tr>\n",
              "    <tr>\n",
              "      <th>ZWILCH</th>\n",
              "      <td>0</td>\n",
              "      <td>1</td>\n",
              "      <td>0.009962</td>\n",
              "    </tr>\n",
              "  </tbody>\n",
              "</table>\n",
              "<p>172360 rows × 3 columns</p>\n",
              "</div>"
            ],
            "text/plain": [
              "         label  prediction  probabilities\n",
              "indices                                  \n",
              "A1CF         0           0       0.963529\n",
              "A2M          0           0       0.951503\n",
              "AAGAB        0           0       0.923012\n",
              "AARD         0           0       0.999997\n",
              "AASDH        0           0       0.991770\n",
              "...        ...         ...            ...\n",
              "ZRANB2       0           1       0.003258\n",
              "ZSCAN23      0           0       0.999994\n",
              "ZSCAN30      0           0       0.999997\n",
              "ZSWIM8       0           0       0.704369\n",
              "ZWILCH       0           1       0.009962\n",
              "\n",
              "[172360 rows x 3 columns]"
            ]
          },
          "metadata": {},
          "output_type": "display_data"
        }
      ],
      "source": [
        "display(preds)"
      ]
    },
    {
      "cell_type": "markdown",
      "metadata": {},
      "source": [
        "### 5. Compute TPR for ucsEGs and csEGs\n",
        "Read the result files for ucsEGs (`ucsEG_Kidney.txt`) and csEGs (`csEGs_Kidney_EvsNE.csv`) already computed for the tissue, compute the TPRs (tpr) and show their bar plot. "
      ]
    },
    {
      "cell_type": "code",
      "execution_count": 4,
      "metadata": {},
      "outputs": [
        {
          "name": "stdout",
          "output_type": "stream",
          "text": [
            "['ZNG1B'] Not predicted 1 Predicted 59\n",
            "ucsEG Kidney TPR = 0.797 (47/59) ucsEG Kidney TPR =  0.901 (1119/1242)\n",
            "[] Not predicted 0 Predicted 28\n",
            "ucsEG Lung TPR = 0.750 (21/28) ucsEG Lung TPR =  0.913 (1117/1224)\n",
            "['NOPCHAP1'] Not predicted 1 Predicted 41\n",
            "ucsEG Brain TPR = 0.659 (27/41) ucsEG Brain TPR =  0.904 (1116/1234)\n"
          ]
        },
        {
          "data": {
            "image/png": "[encoded data removed]",
            "text/plain": [
              "<Figure size 400x400 with 1 Axes>"
            ]
          },
          "metadata": {},
          "output_type": "display_data"
        }
      ],
      "source": [
        "import pandas as pd\n",
        "import os\n",
        "import seaborn as sns\n",
        "import matplotlib.pyplot as plt\n",
        "import numpy as np\n",
        "tissues = ['Kidney', 'Lung', 'Brain']\n",
        "path = '../results'\n",
        "labels = []\n",
        "data = []\n",
        "tpr = []\n",
        "genes = {}\n",
        "for tissue in tissues:\n",
        "    #!wget https://raw.githubusercontent.com/giordamaug/HELP/main/data/ucsEG_{tissue}.txt\n",
        "    ucsEGs = pd.read_csv(os.path.join(path,f\"ucsEG_{tissue}.txt\"), index_col=0, header=None).index.values\n",
        "    #!wget https://raw.githubusercontent.com/giordamaug/HELP/main/data/csEGs_{tissue}_EvsNE.csv\n",
        "    predictions = pd.read_csv(os.path.join(path,f\"pred_{tissue}_EvsNE.csv\"), index_col=0)\n",
        "    indices = np.intersect1d(ucsEGs, predictions.index.values)\n",
        "    notindices = np.setdiff1d(ucsEGs, predictions.index.values)\n",
        "    print(notindices, f\"Not predicted {len(notindices)}\", f\"Predicted {len(indices)}\")\n",
        "    preds = predictions.loc[indices]\n",
        "    num1 = len(preds[preds['label'] == preds['prediction']])\n",
        "    den1 = len(preds[preds['label'] == 1])\n",
        "    den2 = len(predictions[predictions['label'] == 1])\n",
        "    num2 = len(predictions[(predictions['label'] == 1) & (predictions['label'] == predictions['prediction'])])\n",
        "    labels += [f\"ucsEGs\\n{tissue}\", f\"csEGs\\n{tissue}\"]\n",
        "    data += [float(f\"{num1 /den1:.3f}\"), float(f\"{num2 /den2:.3f}\")]\n",
        "    tpr += [f\"{num1}/{den1}\", f\"{num2}/{den2}\"]\n",
        "    genes[f'ucsEGs_{tissue}_y'] = preds[preds['label'] == preds['prediction']].index.values\n",
        "    genes[f'ucsEGs_{tissue}_n'] = preds[preds['label'] != preds['prediction']].index.values\n",
        "    genes[f'csEGs_{tissue}_y'] = predictions[(predictions['label'] == 1) & (predictions['label'] == predictions['prediction'])].index.values\n",
        "    genes[f'csEGs_{tissue}_n'] = predictions[(predictions['label'] == 1) & (predictions['label'] != predictions['prediction'])].index.values\n",
        "    print(f\"ucsEG {tissue} TPR = {num1 /den1:.3f} ({num1}/{den1}) ucsEG {tissue} TPR =  {num2/den2:.3f} ({num2}/{den2})\")\n",
        "\n",
        "f, ax = plt.subplots(figsize=(4, 4))\n",
        "colors = [\"#FF0B04\", \"#FF0B04\", \"#4374B3\", \"#4374B3\",\"#ffffff\", \"#ffffff\"]\n",
        "# Set your custom color palette\n",
        "customPalette = sns.color_palette(\"pastel\", n_colors=6)\n",
        "g = sns.barplot(y = data, x = labels, ax=ax, hue= data, palette = customPalette, orient='v', legend=False)\n",
        "ax.set_ylabel('TPR')\n",
        "ax.set(yticklabels=[])\n",
        "for i,l,t in zip(range(len(tissues)*2),labels,tpr):\n",
        "    ax.text(-0.1 + (i * 1.0), 0.1, f\"({t})\", rotation='vertical')\n",
        "for i in ax.containers:\n",
        "    ax.bar_label(i,)"
      ]
    },
    {
      "cell_type": "code",
      "execution_count": 14,
      "metadata": {},
      "outputs": [
        {
          "data": {
            "text/plain": [
              "\"Lung-(Kidney+Brain) {'PI4KA', 'SCD', 'DGCR8', 'CCDC86', 'ZNF407', 'ACO2', 'NUMA1', 'YPEL5', 'TFRC', 'BORA', 'TRPM7', 'ATP5F1D', 'DDX39B', 'NFYB', 'SLC25A3', 'NUP153', 'PPAT', 'PTCD3', 'YTHDC1', 'AP2M1', 'SLBP'}\""
            ]
          },
          "execution_count": 14,
          "metadata": {},
          "output_type": "execute_result"
        }
      ],
      "source": [
        "s = []\n",
        "for tissue in tissues:\n",
        "    s += [set(pd.read_csv(os.path.join(path,f\"ucsEG_{tissue}.txt\"), index_col=0, header=None).index.values)]\n",
        "f\"{tissues[0]}&{tissues[1]} {s[0] & s[1]}\" , f\"{tissues[0]}&{tissues[2]} {s[0] & s[2]}\", f\"{tissues[1]}&{tissues[2]} {s[1] & s[2]}\", \n",
        "f\"{tissues[1]}-({tissues[0]}+{tissues[2]}) {s[1] - (s[0] | s[2])}\""
      ]
    }
  ],
  "metadata": {
    "colab": {
      "provenance": []
    },
    "kaggle": {
      "accelerator": "none",
      "dataSources": [
        {
          "datasetId": 4375833,
          "sourceId": 7595933,
          "sourceType": "datasetVersion"
        }
      ],
      "dockerImageVersionId": 30646,
      "isGpuEnabled": false,
      "isInternetEnabled": true,
      "language": "python",
      "sourceType": "notebook"
    },
    "kernelspec": {
      "display_name": "Python 3 (ipykernel)",
      "language": "python",
      "name": "python3"
    },
    "language_info": {
      "codemirror_mode": {
        "name": "ipython",
        "version": 3
      },
      "file_extension": ".py",
      "mimetype": "text/x-python",
      "name": "python",
      "nbconvert_exporter": "python",
      "pygments_lexer": "ipython3",
      "version": "3.10.13"
    }
  },
  "nbformat": 4,
  "nbformat_minor": 0
}
