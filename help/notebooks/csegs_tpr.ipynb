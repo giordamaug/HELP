{
 "cells": [
  {
   "cell_type": "markdown",
   "metadata": {},
   "source": [
    "# Load the csEGs for the tissues"
   ]
  },
  {
   "cell_type": "code",
   "execution_count": 1,
   "metadata": {},
   "outputs": [],
   "source": [
    "import pandas as pd\n",
    "import numpy as np\n",
    "EG_kidney = pd.read_csv(\"../datafinal/csEG_Kidney.txt\", index_col=0, header=None).index.values\n",
    "EG_lung = pd.read_csv(\"../datafinal/csEG_Lung.txt\", index_col=0, header=None).index.values\n",
    "csEG_kidney = np.setdiff1d(EG_kidney,EG_lung)\n",
    "csEG_lung = np.setdiff1d(EG_lung,EG_kidney)\n",
    "#pred_kidney = pd.read_csv(\"../datafinal/pred_Kidney_sub.csv\", index_col=0)\n",
    "#pred_lung = pd.read_csv(\"../datafinal/pred_Lung_sub.csv\", index_col=0)\n"
   ]
  },
  {
   "cell_type": "markdown",
   "metadata": {},
   "source": [
    "# make Prediction with Subsampling"
   ]
  },
  {
   "cell_type": "code",
   "execution_count": 11,
   "metadata": {},
   "outputs": [
    {
     "name": "stdout",
     "output_type": "stream",
     "text": [
      "label\n",
      "NE       16678\n",
      "E         1253\n",
      "Name: count, dtype: int64\n",
      "Majority NE 16678 minority E 1253\n",
      "Subsampling with factor 1:1\n",
      "[Kidney_BIO.csv] found 52532 Nan...\n",
      "[Kidney_BIO.csv] Normalization with std ...\n"
     ]
    },
    {
     "name": "stderr",
     "output_type": "stream",
     "text": [
      "Loading file in chunks: 100%|██████████| 5/5 [00:02<00:00,  2.13it/s]\n"
     ]
    },
    {
     "name": "stdout",
     "output_type": "stream",
     "text": [
      "[Kidney_CCcfs.csv] found 6676644 Nan...\n",
      "[Kidney_CCcfs.csv] Normalization with std ...\n",
      "[Kidney_EmbN2V_128.csv] found 0 Nan...\n",
      "[Kidney_EmbN2V_128.csv] No normalization...\n",
      "2449 labeled genes over a total of 2506\n",
      "(2449, 3456) data input\n",
      "{'E': 0, 'NE': 1}\n",
      "label\n",
      "E        1242\n",
      "NE       1207\n",
      "Name: count, dtype: int64\n",
      "Classification with LGBM...\n"
     ]
    },
    {
     "name": "stderr",
     "output_type": "stream",
     "text": [
      "5-fold: 100%|██████████| 5/5 [00:13<00:00,  2.79s/it]\n"
     ]
    },
    {
     "data": {
      "text/html": [
       "<div>\n",
       "<style scoped>\n",
       "    .dataframe tbody tr th:only-of-type {\n",
       "        vertical-align: middle;\n",
       "    }\n",
       "\n",
       "    .dataframe tbody tr th {\n",
       "        vertical-align: top;\n",
       "    }\n",
       "\n",
       "    .dataframe thead th {\n",
       "        text-align: right;\n",
       "    }\n",
       "</style>\n",
       "<table border=\"1\" class=\"dataframe\">\n",
       "  <thead>\n",
       "    <tr style=\"text-align: right;\">\n",
       "      <th></th>\n",
       "      <th>measure</th>\n",
       "    </tr>\n",
       "  </thead>\n",
       "  <tbody>\n",
       "    <tr>\n",
       "      <th>ROC-AUC</th>\n",
       "      <td>0.9459±0.0054</td>\n",
       "    </tr>\n",
       "    <tr>\n",
       "      <th>Accuracy</th>\n",
       "      <td>0.8730±0.0174</td>\n",
       "    </tr>\n",
       "    <tr>\n",
       "      <th>BA</th>\n",
       "      <td>0.8728±0.0174</td>\n",
       "    </tr>\n",
       "    <tr>\n",
       "      <th>Sensitivity</th>\n",
       "      <td>0.8897±0.0300</td>\n",
       "    </tr>\n",
       "    <tr>\n",
       "      <th>Specificity</th>\n",
       "      <td>0.8558±0.0273</td>\n",
       "    </tr>\n",
       "    <tr>\n",
       "      <th>MCC</th>\n",
       "      <td>0.7468±0.0351</td>\n",
       "    </tr>\n",
       "    <tr>\n",
       "      <th>CM</th>\n",
       "      <td>[[1105, 137], [174, 1033]]</td>\n",
       "    </tr>\n",
       "  </tbody>\n",
       "</table>\n",
       "</div>"
      ],
      "text/plain": [
       "                                measure\n",
       "ROC-AUC                   0.9459±0.0054\n",
       "Accuracy                  0.8730±0.0174\n",
       "BA                        0.8728±0.0174\n",
       "Sensitivity               0.8897±0.0300\n",
       "Specificity               0.8558±0.0273\n",
       "MCC                       0.7468±0.0351\n",
       "CM           [[1105, 137], [174, 1033]]"
      ]
     },
     "execution_count": 11,
     "metadata": {},
     "output_type": "execute_result"
    },
    {
     "data": {
      "image/png": "[encoded data removed]",
      "text/plain": [
       "<Figure size 640x480 with 2 Axes>"
      ]
     },
     "metadata": {},
     "output_type": "display_data"
    }
   ],
   "source": [
    "import pandas as pd\n",
    "import numpy as np\n",
    "from help.preprocess.loaders import feature_assemble_df\n",
    "from help.models.prediction import predict_cv\n",
    "tissue = 'Kidney'\n",
    "df_y = pd.read_csv(f\"../datafinal/{tissue}_HELP.csv\", index_col=0)\n",
    "#df_y = df_y[df_y['label'].isin(['E', 'sNE'])]\n",
    "df_y = df_y.replace({'aE':'NE', 'sNE':'NE'})\n",
    "print(df_y.value_counts())\n",
    "features = [{'fname': f'../datafinal/{tissue}_BIO.csv', 'fixna' : False, 'normalize': 'std'},\n",
    "            {'fname': f'../datafinal/{tissue}_CCcfs.csv', 'fixna' : False, 'normalize': 'std', 'nchunks' : 5},\n",
    "            {'fname': f'../datafinal/{tissue}_EmbN2V_128.csv', 'fixna' : False, 'normalize': None}]\n",
    "df_X, df_y = feature_assemble_df(df_y,features=features, subsample=True, fold=1, seed=4, verbose=True)\n",
    "df_scores_means, df_scores, pred_kidney = predict_cv(df_X, df_y, n_splits=5, balanced=True, display=True, verbose=True, saveflag=False)\n",
    "df_scores_means"
   ]
  },
  {
   "cell_type": "markdown",
   "metadata": {},
   "source": [
    "# make Prediction with Voters"
   ]
  },
  {
   "cell_type": "code",
   "execution_count": 3,
   "metadata": {},
   "outputs": [
    {
     "name": "stdout",
     "output_type": "stream",
     "text": [
      "label\n",
      "NE       16678\n",
      "E         1253\n",
      "Name: count, dtype: int64\n",
      "Majority NE 16678 minority E 1253\n",
      "[Kidney_BIO.csv] found 52532 Nan...\n",
      "[Kidney_BIO.csv] Normalization with std ...\n"
     ]
    },
    {
     "name": "stderr",
     "output_type": "stream",
     "text": [
      "Loading file in chunks: 100%|██████████| 5/5 [00:02<00:00,  2.13it/s]\n"
     ]
    },
    {
     "name": "stdout",
     "output_type": "stream",
     "text": [
      "[Kidney_CCcfs.csv] found 6676644 Nan...\n",
      "[Kidney_CCcfs.csv] Normalization with std ...\n",
      "[Kidney_EmbN2V_128.csv] found 0 Nan...\n",
      "[Kidney_EmbN2V_128.csv] No normalization...\n"
     ]
    },
    {
     "name": "stderr",
     "output_type": "stream",
     "text": [
      "/Users/maurizio/miniconda3/lib/python3.10/site-packages/numpy/core/fromnumeric.py:59: FutureWarning: 'DataFrame.swapaxes' is deprecated and will be removed in a future version. Please use 'DataFrame.transpose' instead.\n",
      "  return bound(*args, **kwds)\n"
     ]
    },
    {
     "name": "stdout",
     "output_type": "stream",
     "text": [
      "17236 labeled genes over a total of 17931\n",
      "(17236, 3456) data input\n",
      "{'E': 0, 'NE': 1}\n",
      "label\n",
      "NE       1600\n",
      "E        1242\n",
      "Name: count, dtype: int64\n",
      "Classification with LGBM...\n"
     ]
    },
    {
     "name": "stderr",
     "output_type": "stream",
     "text": [
      "5-fold: 100%|██████████| 5/5 [00:14<00:00,  2.90s/it]\n"
     ]
    },
    {
     "name": "stdout",
     "output_type": "stream",
     "text": [
      "{'E': 0, 'NE': 1}\n",
      "label\n",
      "NE       1600\n",
      "E        1242\n",
      "Name: count, dtype: int64\n",
      "Classification with LGBM...\n"
     ]
    },
    {
     "name": "stderr",
     "output_type": "stream",
     "text": [
      "5-fold: 100%|██████████| 5/5 [00:15<00:00,  3.12s/it]\n"
     ]
    },
    {
     "name": "stdout",
     "output_type": "stream",
     "text": [
      "{'E': 0, 'NE': 1}\n",
      "label\n",
      "NE       1600\n",
      "E        1242\n",
      "Name: count, dtype: int64\n",
      "Classification with LGBM...\n"
     ]
    },
    {
     "name": "stderr",
     "output_type": "stream",
     "text": [
      "5-fold: 100%|██████████| 5/5 [00:14<00:00,  2.92s/it]\n"
     ]
    },
    {
     "name": "stdout",
     "output_type": "stream",
     "text": [
      "{'E': 0, 'NE': 1}\n",
      "label\n",
      "NE       1600\n",
      "E        1242\n",
      "Name: count, dtype: int64\n",
      "Classification with LGBM...\n"
     ]
    },
    {
     "name": "stderr",
     "output_type": "stream",
     "text": [
      "5-fold: 100%|██████████| 5/5 [00:14<00:00,  2.86s/it]\n"
     ]
    },
    {
     "name": "stdout",
     "output_type": "stream",
     "text": [
      "{'E': 0, 'NE': 1}\n",
      "label\n",
      "NE       1599\n",
      "E        1242\n",
      "Name: count, dtype: int64\n",
      "Classification with LGBM...\n"
     ]
    },
    {
     "name": "stderr",
     "output_type": "stream",
     "text": [
      "5-fold: 100%|██████████| 5/5 [00:14<00:00,  2.85s/it]\n"
     ]
    },
    {
     "name": "stdout",
     "output_type": "stream",
     "text": [
      "{'E': 0, 'NE': 1}\n",
      "label\n",
      "NE       1599\n",
      "E        1242\n",
      "Name: count, dtype: int64\n",
      "Classification with LGBM...\n"
     ]
    },
    {
     "name": "stderr",
     "output_type": "stream",
     "text": [
      "5-fold: 100%|██████████| 5/5 [00:14<00:00,  2.90s/it]\n"
     ]
    },
    {
     "name": "stdout",
     "output_type": "stream",
     "text": [
      "{'E': 0, 'NE': 1}\n",
      "label\n",
      "NE       1599\n",
      "E        1242\n",
      "Name: count, dtype: int64\n",
      "Classification with LGBM...\n"
     ]
    },
    {
     "name": "stderr",
     "output_type": "stream",
     "text": [
      "5-fold:  80%|████████  | 4/5 [00:11<00:02,  2.96s/it]"
     ]
    }
   ],
   "source": [
    "import pandas as pd\n",
    "import numpy as np\n",
    "from help.preprocess.loaders import feature_assemble_df\n",
    "from help.models.prediction import predict_cv_sv\n",
    "tissue = 'Kidney'\n",
    "df_y = pd.read_csv(f\"../datafinal/{tissue}_HELP.csv\", index_col=0)\n",
    "#df_y = df_y[df_y['label'].isin(['E', 'sNE'])]\n",
    "df_y = df_y.replace({'aE':'NE', 'sNE':'NE'})\n",
    "print(df_y.value_counts())\n",
    "features = [{'fname': f'../datafinal/{tissue}_BIO.csv', 'fixna' : False, 'normalize': 'std'},\n",
    "            {'fname': f'../datafinal/{tissue}_CCcfs.csv', 'fixna' : False, 'normalize': 'std', 'nchunks' : 5},\n",
    "            {'fname': f'../datafinal/{tissue}_EmbN2V_128.csv', 'fixna' : False, 'normalize': None}]\n",
    "df_X, df_y = feature_assemble_df(df_y,features=features, seed=4, verbose=True)\n",
    "df_scores, pred_kidney = predict_cv_sv(df_X, df_y, n_splits=5, n_voters=10, balanced=True, verbose=True)"
   ]
  },
  {
   "cell_type": "code",
   "execution_count": 13,
   "metadata": {},
   "outputs": [
    {
     "name": "stdout",
     "output_type": "stream",
     "text": [
      "/Users/maurizio/HELP/help/datafinal\n"
     ]
    }
   ],
   "source": [
    "%cd ../datafinal"
   ]
  },
  {
   "cell_type": "markdown",
   "metadata": {},
   "source": [
    "# Compute TPRs"
   ]
  },
  {
   "cell_type": "code",
   "execution_count": 12,
   "metadata": {},
   "outputs": [
    {
     "name": "stdout",
     "output_type": "stream",
     "text": [
      "                       0-voters\n",
      "ROC                    0.945478\n",
      "Acc                    0.873009\n",
      "BA                     0.872767\n",
      "MCC                    0.746198\n",
      "CM   [[1105, 137], [174, 1033]]\n",
      "TPR 0.685, 37/54\n"
     ]
    },
    {
     "name": "stderr",
     "output_type": "stream",
     "text": [
      "/var/folders/gl/gkr8rrn52y9cvb9jc59pvjyw0000gn/T/ipykernel_26167/3560174121.py:10: UserWarning: Boolean Series key will be reindexed to match DataFrame index.\n",
      "  num = len(pred_kidney[pred_kidney.index.isin(csEG_kidney)][pred_kidney['label'] == pred_kidney['prediction']])\n"
     ]
    }
   ],
   "source": [
    "import pandas as pd\n",
    "from sklearn.metrics import *\n",
    "nv = 0\n",
    "#pred_kidney = pd.read_csv(f\"pred_Kidney_sub.csv\", index_col=0)\n",
    "test_y = pred_kidney['label'].values\n",
    "probs = pred_kidney['probabilities'].values\n",
    "preds = pred_kidney['prediction'].values\n",
    "roc_auc = roc_auc_score(test_y, 1-probs)\n",
    "print(pd.DataFrame([[roc_auc, accuracy_score(test_y, preds), balanced_accuracy_score(test_y, preds),matthews_corrcoef(test_y, preds),confusion_matrix(test_y, preds)]], columns=['ROC', 'Acc', 'BA', 'MCC', 'CM'], index=[f\"{nv}-voters\"]).T)\n",
    "num = len(pred_kidney[pred_kidney.index.isin(csEG_kidney)][pred_kidney['label'] == pred_kidney['prediction']])\n",
    "den = len(pred_kidney[pred_kidney.index.isin(csEG_kidney)])\n",
    "print(f\"TPR {num /den:.3f}, {num}/{den}\")\n"
   ]
  },
  {
   "cell_type": "code",
   "execution_count": 98,
   "metadata": {},
   "outputs": [
    {
     "name": "stdout",
     "output_type": "stream",
     "text": [
      "                       1-voters\n",
      "ROC                    0.954942\n",
      "Acc                    0.947029\n",
      "BA                     0.832586\n",
      "MCC                    0.628203\n",
      "CM   [[868, 374], [539, 15455]]\n",
      "TPR 0.259, 14/54\n",
      "                       3-voters\n",
      "ROC                    0.962631\n",
      "Acc                    0.940009\n",
      "BA                     0.874104\n",
      "MCC                    0.637043\n",
      "CM   [[990, 252], [782, 15212]]\n",
      "TPR 0.444, 24/54\n",
      "                         5-voters\n",
      "ROC                      0.963267\n",
      "Acc                      0.928348\n",
      "BA                       0.890099\n",
      "MCC                      0.617666\n",
      "CM   [[1050, 192], [1043, 14951]]\n",
      "TPR 0.537, 29/54\n",
      "                         7-voters\n",
      "ROC                      0.964197\n",
      "Acc                      0.919297\n",
      "BA                       0.900818\n",
      "MCC                      0.605929\n",
      "CM   [[1092, 150], [1241, 14753]]\n",
      "TPR 0.704, 38/54\n",
      "                        10-voters\n",
      "ROC                      0.963653\n",
      "Acc                      0.906707\n",
      "BA                       0.905173\n",
      "MCC                      0.584557\n",
      "CM   [[1122, 120], [1488, 14506]]\n",
      "TPR 0.759, 41/54\n"
     ]
    },
    {
     "name": "stderr",
     "output_type": "stream",
     "text": [
      "/var/folders/gl/gkr8rrn52y9cvb9jc59pvjyw0000gn/T/ipykernel_50697/3835304061.py:11: UserWarning: Boolean Series key will be reindexed to match DataFrame index.\n",
      "  num = len(pred_kidney[pred_kidney.index.isin(csEG_kidney)][pred_kidney['label'] == pred_kidney['prediction']])\n",
      "/var/folders/gl/gkr8rrn52y9cvb9jc59pvjyw0000gn/T/ipykernel_50697/3835304061.py:11: UserWarning: Boolean Series key will be reindexed to match DataFrame index.\n",
      "  num = len(pred_kidney[pred_kidney.index.isin(csEG_kidney)][pred_kidney['label'] == pred_kidney['prediction']])\n",
      "/var/folders/gl/gkr8rrn52y9cvb9jc59pvjyw0000gn/T/ipykernel_50697/3835304061.py:11: UserWarning: Boolean Series key will be reindexed to match DataFrame index.\n",
      "  num = len(pred_kidney[pred_kidney.index.isin(csEG_kidney)][pred_kidney['label'] == pred_kidney['prediction']])\n",
      "/var/folders/gl/gkr8rrn52y9cvb9jc59pvjyw0000gn/T/ipykernel_50697/3835304061.py:11: UserWarning: Boolean Series key will be reindexed to match DataFrame index.\n",
      "  num = len(pred_kidney[pred_kidney.index.isin(csEG_kidney)][pred_kidney['label'] == pred_kidney['prediction']])\n",
      "/var/folders/gl/gkr8rrn52y9cvb9jc59pvjyw0000gn/T/ipykernel_50697/3835304061.py:11: UserWarning: Boolean Series key will be reindexed to match DataFrame index.\n",
      "  num = len(pred_kidney[pred_kidney.index.isin(csEG_kidney)][pred_kidney['label'] == pred_kidney['prediction']])\n"
     ]
    }
   ],
   "source": [
    "import pandas as pd\n",
    "from sklearn.metrics import *\n",
    "for nv in [1,3,5,7,10]:\n",
    "    pred_kidney = pd.read_csv(f\"pred_Kidney_SV_{nv}.csv\", index_col=0)\n",
    "    pred_kidney.map(lambda x: sum(x) if type(x) == list else x)\n",
    "    test_y = pred_kidney['label'].values\n",
    "    probs = pred_kidney['probabilities'].values\n",
    "    preds = pred_kidney['prediction'].values\n",
    "    roc_auc = roc_auc_score(test_y, 1-probs)\n",
    "    print(pd.DataFrame([[roc_auc, accuracy_score(test_y, preds), balanced_accuracy_score(test_y, preds),matthews_corrcoef(test_y, preds),confusion_matrix(test_y, preds)]], columns=['ROC', 'Acc', 'BA', 'MCC', 'CM'], index=[f\"{nv}-voters\"]).T)\n",
    "    num = len(pred_kidney[pred_kidney.index.isin(csEG_kidney)][pred_kidney['label'] == pred_kidney['prediction']])\n",
    "    den = len(pred_kidney[pred_kidney.index.isin(csEG_kidney)])\n",
    "    print(f\"TPR {num /den:.3f}, {num}/{den}\")\n"
   ]
  },
  {
   "cell_type": "code",
   "execution_count": 75,
   "metadata": {},
   "outputs": [
    {
     "name": "stderr",
     "output_type": "stream",
     "text": [
      "/var/folders/gl/gkr8rrn52y9cvb9jc59pvjyw0000gn/T/ipykernel_50697/4202609945.py:1: UserWarning: Boolean Series key will be reindexed to match DataFrame index.\n",
      "  num = len(pred_kidney[pred_kidney.index.isin(csEG_kidney)][pred_kidney['label'] == pred_kidney['prediction']])\n"
     ]
    },
    {
     "data": {
      "text/plain": [
       "(0.6851851851851852, 37, 54)"
      ]
     },
     "execution_count": 75,
     "metadata": {},
     "output_type": "execute_result"
    }
   ],
   "source": [
    "for nv in [3,5,7,10]:\n",
    "    num = len(pred_kidney[pred_kidney.index.isin(csEG_kidney)][pred_kidney['label'] == pred_kidney['prediction']])\n",
    "    den = len(pred_kidney[pred_kidney.index.isin(csEG_kidney)])\n",
    "    num /den, num, den\n",
    "#len(pred_lung[pred_lung.index.isin(csEG_lung)][pred_lung['label'] == pred_lung['prediction']]) / len(pred_lung[pred_lung.index.isin(csEG_lung)])"
   ]
  },
  {
   "cell_type": "code",
   "execution_count": 14,
   "metadata": {},
   "outputs": [
    {
     "name": "stderr",
     "output_type": "stream",
     "text": [
      "/var/folders/gl/gkr8rrn52y9cvb9jc59pvjyw0000gn/T/ipykernel_1542/1420333368.py:1: UserWarning: Boolean Series key will be reindexed to match DataFrame index.\n",
      "  len(pred_kidney[pred_kidney.index.isin(csEG_kidney)][(pred_kidney['label'] == 0) & (pred_kidney['prediction'] == 0)]), len(csEG_kidney)\n"
     ]
    },
    {
     "data": {
      "text/plain": [
       "(39, 55)"
      ]
     },
     "execution_count": 14,
     "metadata": {},
     "output_type": "execute_result"
    }
   ],
   "source": [
    "len(pred_kidney[pred_kidney.index.isin(csEG_kidney)][(pred_kidney['label'] == 0) & (pred_kidney['prediction'] == 0)]), len(csEG_kidney)"
   ]
  },
  {
   "cell_type": "code",
   "execution_count": 41,
   "metadata": {},
   "outputs": [
    {
     "name": "stderr",
     "output_type": "stream",
     "text": [
      "/var/folders/gl/gkr8rrn52y9cvb9jc59pvjyw0000gn/T/ipykernel_52016/3651286790.py:1: UserWarning: Boolean Series key will be reindexed to match DataFrame index.\n",
      "  len(pred_lung[pred_lung.index.isin(csEG_lung)][(pred_lung['label'] == 0) & (pred_lung['prediction'] == 0)]), len(csEG_lung)\n"
     ]
    },
    {
     "data": {
      "text/plain": [
       "(9, 23)"
      ]
     },
     "execution_count": 41,
     "metadata": {},
     "output_type": "execute_result"
    }
   ],
   "source": [
    "len(pred_lung[pred_lung.index.isin(csEG_lung)][(pred_lung['label'] == 0) & (pred_lung['prediction'] == 0)]), len(csEG_lung)"
   ]
  }
 ],
 "metadata": {
  "kernelspec": {
   "display_name": "base",
   "language": "python",
   "name": "python3"
  },
  "language_info": {
   "codemirror_mode": {
    "name": "ipython",
    "version": 3
   },
   "file_extension": ".py",
   "mimetype": "text/x-python",
   "name": "python",
   "nbconvert_exporter": "python",
   "pygments_lexer": "ipython3",
   "version": "3.10.13"
  }
 },
 "nbformat": 4,
 "nbformat_minor": 2
}
