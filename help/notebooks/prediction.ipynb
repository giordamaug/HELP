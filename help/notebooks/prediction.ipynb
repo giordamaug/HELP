{
 "cells": [
  {
   "cell_type": "markdown",
   "metadata": {
    "id": "lavaILXgTTl0"
   },
   "source": [
    "<a target=\"_blank\" href=\"https://colab.research.google.com/github/giordamaug/HELP/blob/main/help/notebooks/prediction.ipynb\">\n",
    "  <img src=\"https://colab.research.google.com/assets/colab-badge.svg\" alt=\"Open In Colab\"/>\n",
    "</a>\n",
    "<a target=\"_blank\" href=\"https://www.kaggle.com/notebooks/welcome?src=https://github.com/giordamaug/HELP/blob/main/help/notebooks/prediction.ipynb\">\n",
    "  <img src=\"https://kaggle.com/static/images/open-in-kaggle.svg\" alt=\"Open In Colab\"/>\n",
    "</a>"
   ]
  },
  {
   "cell_type": "markdown",
   "metadata": {
    "id": "joeFb6T-TTl3"
   },
   "source": [
    "# Install HELP from GitHub\n",
    "Skip this cell if you already have installed HELP."
   ]
  },
  {
   "cell_type": "code",
   "execution_count": null,
   "metadata": {
    "colab": {
     "base_uri": "https://localhost:8080/",
     "height": 1000
    },
    "id": "tuF0S73STTl4",
    "outputId": "e6d33ca9-a106-46fe-df06-3f8c3075441f"
   },
   "outputs": [],
   "source": [
    "!pip install git+https://github.com/giordamaug/HELP.git"
   ]
  },
  {
   "cell_type": "markdown",
   "metadata": {
    "id": "EFrBvM5ErPN4"
   },
   "source": [
    "# Download the input files\n",
    "In this cell we download from GitHub repository the label file and the attribute files. Skip this step if you already have these input files locally."
   ]
  },
  {
   "cell_type": "code",
   "execution_count": null,
   "metadata": {
    "colab": {
     "base_uri": "https://localhost:8080/"
    },
    "id": "1wbcOjf7TTl5",
    "outputId": "350746d3-7293-4f67-cc3a-7295acbfa022"
   },
   "outputs": [],
   "source": [
    "tissue='Kidney'\n",
    "!wget https://raw.githubusercontent.com/giordamaug/HELP/main/help/datafinal/{tissue}_HELP.csv\n",
    "!wget https://raw.githubusercontent.com/giordamaug/HELP/main/help/datafinal/{tissue}_BIO.csv\n",
    "for i in range(5):\n",
    "  !wget https://raw.githubusercontent.com/giordamaug/HELP/main/help/datafinal/{tissue}_CCcfs_{i}.csv\n",
    "!wget https://raw.githubusercontent.com/giordamaug/HELP/main/help/datafinal/{tissue}_EmbN2V_128.csv"
   ]
  },
  {
   "cell_type": "code",
   "execution_count": 2,
   "metadata": {},
   "outputs": [
    {
     "name": "stdout",
     "output_type": "stream",
     "text": [
      "/Users/maurizio/HELP/help/datafinal\n"
     ]
    }
   ],
   "source": [
    "%cd ../datafinal"
   ]
  },
  {
   "cell_type": "markdown",
   "metadata": {
    "id": "yqSGGzfNTTl6"
   },
   "source": [
    "# Process the tissue attributes\n",
    "In this code we load tissue gene attributes by several datafiles. We apply missing values fixing and data scaling with `sklearn.preprocessing.StandardScaler` on the `BIO` and `CCcfs` attributes, while no normalization and fixing on embedding attributes (`EmbN2V_128`). The attributes are all merged in one matrix by the `feature_assemble` function as input for the prediction model building."
   ]
  },
  {
   "cell_type": "code",
   "execution_count": 142,
   "metadata": {
    "colab": {
     "base_uri": "https://localhost:8080/",
     "height": 728
    },
    "execution": {
     "iopub.execute_input": "2024-02-13T11:09:02.545717Z",
     "iopub.status.busy": "2024-02-13T11:09:02.545238Z",
     "iopub.status.idle": "2024-02-13T11:09:16.557744Z",
     "shell.execute_reply": "2024-02-13T11:09:16.556982Z",
     "shell.execute_reply.started": "2024-02-13T11:09:02.545678Z"
    },
    "id": "toAayH83TTl7",
    "outputId": "25f23ce9-ac16-4ecc-95ee-8153c74656d2"
   },
   "outputs": [
    {
     "name": "stdout",
     "output_type": "stream",
     "text": [
      "label\n",
      "NE       16678\n",
      "E         1253\n",
      "Name: count, dtype: int64\n",
      "Majority NE 16678 minority E 1253\n",
      "[Kidney_BIO.csv] found 52532 Nan...\n",
      "[Kidney_BIO.csv] Normalization with std ...\n"
     ]
    },
    {
     "name": "stderr",
     "output_type": "stream",
     "text": [
      "Loading file in chunks: 100%|██████████| 5/5 [00:02<00:00,  2.07it/s]\n"
     ]
    },
    {
     "name": "stdout",
     "output_type": "stream",
     "text": [
      "[Kidney_CCcfs.csv] found 6676644 Nan...\n",
      "[Kidney_CCcfs.csv] Normalization with std ...\n",
      "[Kidney_EmbN2V_128.csv] found 0 Nan...\n",
      "[Kidney_EmbN2V_128.csv] No normalization...\n",
      "17236 labeled genes over a total of 17931\n",
      "(17236, 3456) data input\n"
     ]
    },
    {
     "data": {
      "text/html": [
       "<div>\n",
       "<style scoped>\n",
       "    .dataframe tbody tr th:only-of-type {\n",
       "        vertical-align: middle;\n",
       "    }\n",
       "\n",
       "    .dataframe tbody tr th {\n",
       "        vertical-align: top;\n",
       "    }\n",
       "\n",
       "    .dataframe thead th {\n",
       "        text-align: right;\n",
       "    }\n",
       "</style>\n",
       "<table border=\"1\" class=\"dataframe\">\n",
       "  <thead>\n",
       "    <tr style=\"text-align: right;\">\n",
       "      <th></th>\n",
       "      <th>Gene length</th>\n",
       "      <th>Transcripts count</th>\n",
       "      <th>GC content</th>\n",
       "      <th>GTEX_kidney</th>\n",
       "      <th>Gene-Disease association</th>\n",
       "      <th>OncoDB_expression</th>\n",
       "      <th>HPA_kidney</th>\n",
       "      <th>GO-MF</th>\n",
       "      <th>GO-BP</th>\n",
       "      <th>GO-CC</th>\n",
       "      <th>...</th>\n",
       "      <th>Node2Vec_119</th>\n",
       "      <th>Node2Vec_120</th>\n",
       "      <th>Node2Vec_121</th>\n",
       "      <th>Node2Vec_122</th>\n",
       "      <th>Node2Vec_123</th>\n",
       "      <th>Node2Vec_124</th>\n",
       "      <th>Node2Vec_125</th>\n",
       "      <th>Node2Vec_126</th>\n",
       "      <th>Node2Vec_127</th>\n",
       "      <th>label</th>\n",
       "    </tr>\n",
       "  </thead>\n",
       "  <tbody>\n",
       "    <tr>\n",
       "      <th>A1BG</th>\n",
       "      <td>0.003351</td>\n",
       "      <td>0.020942</td>\n",
       "      <td>0.501832</td>\n",
       "      <td>2.044542e-05</td>\n",
       "      <td>0.002950</td>\n",
       "      <td>NaN</td>\n",
       "      <td>0.000002</td>\n",
       "      <td>NaN</td>\n",
       "      <td>NaN</td>\n",
       "      <td>0.115385</td>\n",
       "      <td>...</td>\n",
       "      <td>0.120922</td>\n",
       "      <td>-0.352630</td>\n",
       "      <td>0.580697</td>\n",
       "      <td>-0.659300</td>\n",
       "      <td>-1.320486</td>\n",
       "      <td>1.019308</td>\n",
       "      <td>-0.469064</td>\n",
       "      <td>0.123211</td>\n",
       "      <td>0.557266</td>\n",
       "      <td>NE</td>\n",
       "    </tr>\n",
       "    <tr>\n",
       "      <th>A1CF</th>\n",
       "      <td>0.034865</td>\n",
       "      <td>0.047120</td>\n",
       "      <td>0.160530</td>\n",
       "      <td>1.980884e-05</td>\n",
       "      <td>NaN</td>\n",
       "      <td>0.556939</td>\n",
       "      <td>0.000232</td>\n",
       "      <td>0.069767</td>\n",
       "      <td>0.041026</td>\n",
       "      <td>0.096154</td>\n",
       "      <td>...</td>\n",
       "      <td>-1.162494</td>\n",
       "      <td>0.155702</td>\n",
       "      <td>-1.162071</td>\n",
       "      <td>0.534082</td>\n",
       "      <td>0.798872</td>\n",
       "      <td>0.149595</td>\n",
       "      <td>-0.360515</td>\n",
       "      <td>-1.060540</td>\n",
       "      <td>-0.408493</td>\n",
       "      <td>NE</td>\n",
       "    </tr>\n",
       "    <tr>\n",
       "      <th>A2M</th>\n",
       "      <td>0.019624</td>\n",
       "      <td>0.062827</td>\n",
       "      <td>0.176932</td>\n",
       "      <td>3.377232e-03</td>\n",
       "      <td>0.073746</td>\n",
       "      <td>0.584540</td>\n",
       "      <td>0.005382</td>\n",
       "      <td>0.302326</td>\n",
       "      <td>0.056410</td>\n",
       "      <td>0.076923</td>\n",
       "      <td>...</td>\n",
       "      <td>0.150766</td>\n",
       "      <td>1.492019</td>\n",
       "      <td>0.209449</td>\n",
       "      <td>-1.034729</td>\n",
       "      <td>-0.064318</td>\n",
       "      <td>0.029690</td>\n",
       "      <td>0.138344</td>\n",
       "      <td>0.806095</td>\n",
       "      <td>-0.496128</td>\n",
       "      <td>NE</td>\n",
       "    </tr>\n",
       "    <tr>\n",
       "      <th>A2ML1</th>\n",
       "      <td>0.026017</td>\n",
       "      <td>0.041885</td>\n",
       "      <td>0.299948</td>\n",
       "      <td>5.123403e-07</td>\n",
       "      <td>0.017699</td>\n",
       "      <td>NaN</td>\n",
       "      <td>0.000000</td>\n",
       "      <td>0.069767</td>\n",
       "      <td>0.005128</td>\n",
       "      <td>0.038462</td>\n",
       "      <td>...</td>\n",
       "      <td>0.191344</td>\n",
       "      <td>-0.542462</td>\n",
       "      <td>0.746510</td>\n",
       "      <td>0.082089</td>\n",
       "      <td>-1.109212</td>\n",
       "      <td>0.406936</td>\n",
       "      <td>-1.332319</td>\n",
       "      <td>-0.363864</td>\n",
       "      <td>0.443284</td>\n",
       "      <td>NE</td>\n",
       "    </tr>\n",
       "    <tr>\n",
       "      <th>A3GALT2</th>\n",
       "      <td>0.005784</td>\n",
       "      <td>0.000000</td>\n",
       "      <td>0.473739</td>\n",
       "      <td>1.421472e-06</td>\n",
       "      <td>NaN</td>\n",
       "      <td>0.663540</td>\n",
       "      <td>0.000000</td>\n",
       "      <td>0.069767</td>\n",
       "      <td>0.015385</td>\n",
       "      <td>0.057692</td>\n",
       "      <td>...</td>\n",
       "      <td>0.483003</td>\n",
       "      <td>-0.197605</td>\n",
       "      <td>0.164332</td>\n",
       "      <td>0.040729</td>\n",
       "      <td>-0.552362</td>\n",
       "      <td>0.242761</td>\n",
       "      <td>0.223486</td>\n",
       "      <td>0.017539</td>\n",
       "      <td>-0.526580</td>\n",
       "      <td>NE</td>\n",
       "    </tr>\n",
       "    <tr>\n",
       "      <th>...</th>\n",
       "      <td>...</td>\n",
       "      <td>...</td>\n",
       "      <td>...</td>\n",
       "      <td>...</td>\n",
       "      <td>...</td>\n",
       "      <td>...</td>\n",
       "      <td>...</td>\n",
       "      <td>...</td>\n",
       "      <td>...</td>\n",
       "      <td>...</td>\n",
       "      <td>...</td>\n",
       "      <td>...</td>\n",
       "      <td>...</td>\n",
       "      <td>...</td>\n",
       "      <td>...</td>\n",
       "      <td>...</td>\n",
       "      <td>...</td>\n",
       "      <td>...</td>\n",
       "      <td>...</td>\n",
       "      <td>...</td>\n",
       "      <td>...</td>\n",
       "    </tr>\n",
       "    <tr>\n",
       "      <th>ZYG11A</th>\n",
       "      <td>0.021209</td>\n",
       "      <td>0.010471</td>\n",
       "      <td>0.288257</td>\n",
       "      <td>7.073108e-06</td>\n",
       "      <td>NaN</td>\n",
       "      <td>0.634761</td>\n",
       "      <td>0.000055</td>\n",
       "      <td>NaN</td>\n",
       "      <td>NaN</td>\n",
       "      <td>0.000000</td>\n",
       "      <td>...</td>\n",
       "      <td>-0.717935</td>\n",
       "      <td>-0.072597</td>\n",
       "      <td>0.585837</td>\n",
       "      <td>0.172081</td>\n",
       "      <td>-0.278010</td>\n",
       "      <td>0.170799</td>\n",
       "      <td>0.267462</td>\n",
       "      <td>-0.211294</td>\n",
       "      <td>-0.940943</td>\n",
       "      <td>NE</td>\n",
       "    </tr>\n",
       "    <tr>\n",
       "      <th>ZYG11B</th>\n",
       "      <td>0.040775</td>\n",
       "      <td>0.005236</td>\n",
       "      <td>0.248648</td>\n",
       "      <td>7.271294e-05</td>\n",
       "      <td>NaN</td>\n",
       "      <td>0.646090</td>\n",
       "      <td>0.000238</td>\n",
       "      <td>0.000000</td>\n",
       "      <td>0.005128</td>\n",
       "      <td>0.000000</td>\n",
       "      <td>...</td>\n",
       "      <td>0.372134</td>\n",
       "      <td>0.007040</td>\n",
       "      <td>-0.278071</td>\n",
       "      <td>-1.309595</td>\n",
       "      <td>-0.352476</td>\n",
       "      <td>0.732887</td>\n",
       "      <td>0.156505</td>\n",
       "      <td>0.516706</td>\n",
       "      <td>-0.412953</td>\n",
       "      <td>NE</td>\n",
       "    </tr>\n",
       "    <tr>\n",
       "      <th>ZYX</th>\n",
       "      <td>0.003958</td>\n",
       "      <td>0.047120</td>\n",
       "      <td>0.539522</td>\n",
       "      <td>8.282866e-04</td>\n",
       "      <td>NaN</td>\n",
       "      <td>0.672638</td>\n",
       "      <td>0.000177</td>\n",
       "      <td>0.046512</td>\n",
       "      <td>0.035897</td>\n",
       "      <td>0.153846</td>\n",
       "      <td>...</td>\n",
       "      <td>-0.316321</td>\n",
       "      <td>-0.382132</td>\n",
       "      <td>0.400354</td>\n",
       "      <td>0.322564</td>\n",
       "      <td>0.400369</td>\n",
       "      <td>0.188850</td>\n",
       "      <td>0.593201</td>\n",
       "      <td>-0.093008</td>\n",
       "      <td>-0.508902</td>\n",
       "      <td>NE</td>\n",
       "    </tr>\n",
       "    <tr>\n",
       "      <th>ZZEF1</th>\n",
       "      <td>0.056017</td>\n",
       "      <td>0.052356</td>\n",
       "      <td>0.304484</td>\n",
       "      <td>9.626291e-05</td>\n",
       "      <td>NaN</td>\n",
       "      <td>NaN</td>\n",
       "      <td>0.000121</td>\n",
       "      <td>0.093023</td>\n",
       "      <td>NaN</td>\n",
       "      <td>NaN</td>\n",
       "      <td>...</td>\n",
       "      <td>-0.520060</td>\n",
       "      <td>-0.000595</td>\n",
       "      <td>-0.101278</td>\n",
       "      <td>-0.468345</td>\n",
       "      <td>0.240905</td>\n",
       "      <td>-0.124018</td>\n",
       "      <td>0.568793</td>\n",
       "      <td>-0.422793</td>\n",
       "      <td>-0.701705</td>\n",
       "      <td>NE</td>\n",
       "    </tr>\n",
       "    <tr>\n",
       "      <th>ZZZ3</th>\n",
       "      <td>0.048909</td>\n",
       "      <td>0.052356</td>\n",
       "      <td>0.176758</td>\n",
       "      <td>7.179946e-05</td>\n",
       "      <td>0.000000</td>\n",
       "      <td>NaN</td>\n",
       "      <td>0.000267</td>\n",
       "      <td>0.093023</td>\n",
       "      <td>0.051282</td>\n",
       "      <td>0.057692</td>\n",
       "      <td>...</td>\n",
       "      <td>-0.348640</td>\n",
       "      <td>-0.423926</td>\n",
       "      <td>-0.078769</td>\n",
       "      <td>0.163239</td>\n",
       "      <td>-0.302664</td>\n",
       "      <td>0.505735</td>\n",
       "      <td>0.001912</td>\n",
       "      <td>0.406448</td>\n",
       "      <td>-0.296505</td>\n",
       "      <td>NE</td>\n",
       "    </tr>\n",
       "  </tbody>\n",
       "</table>\n",
       "<p>17236 rows × 3457 columns</p>\n",
       "</div>"
      ],
      "text/plain": [
       "         Gene length  Transcripts count  GC content   GTEX_kidney  \\\n",
       "A1BG        0.003351           0.020942    0.501832  2.044542e-05   \n",
       "A1CF        0.034865           0.047120    0.160530  1.980884e-05   \n",
       "A2M         0.019624           0.062827    0.176932  3.377232e-03   \n",
       "A2ML1       0.026017           0.041885    0.299948  5.123403e-07   \n",
       "A3GALT2     0.005784           0.000000    0.473739  1.421472e-06   \n",
       "...              ...                ...         ...           ...   \n",
       "ZYG11A      0.021209           0.010471    0.288257  7.073108e-06   \n",
       "ZYG11B      0.040775           0.005236    0.248648  7.271294e-05   \n",
       "ZYX         0.003958           0.047120    0.539522  8.282866e-04   \n",
       "ZZEF1       0.056017           0.052356    0.304484  9.626291e-05   \n",
       "ZZZ3        0.048909           0.052356    0.176758  7.179946e-05   \n",
       "\n",
       "         Gene-Disease association  OncoDB_expression  HPA_kidney     GO-MF  \\\n",
       "A1BG                     0.002950                NaN    0.000002       NaN   \n",
       "A1CF                          NaN           0.556939    0.000232  0.069767   \n",
       "A2M                      0.073746           0.584540    0.005382  0.302326   \n",
       "A2ML1                    0.017699                NaN    0.000000  0.069767   \n",
       "A3GALT2                       NaN           0.663540    0.000000  0.069767   \n",
       "...                           ...                ...         ...       ...   \n",
       "ZYG11A                        NaN           0.634761    0.000055       NaN   \n",
       "ZYG11B                        NaN           0.646090    0.000238  0.000000   \n",
       "ZYX                           NaN           0.672638    0.000177  0.046512   \n",
       "ZZEF1                         NaN                NaN    0.000121  0.093023   \n",
       "ZZZ3                     0.000000                NaN    0.000267  0.093023   \n",
       "\n",
       "            GO-BP     GO-CC  ...  Node2Vec_119  Node2Vec_120  Node2Vec_121  \\\n",
       "A1BG          NaN  0.115385  ...      0.120922     -0.352630      0.580697   \n",
       "A1CF     0.041026  0.096154  ...     -1.162494      0.155702     -1.162071   \n",
       "A2M      0.056410  0.076923  ...      0.150766      1.492019      0.209449   \n",
       "A2ML1    0.005128  0.038462  ...      0.191344     -0.542462      0.746510   \n",
       "A3GALT2  0.015385  0.057692  ...      0.483003     -0.197605      0.164332   \n",
       "...           ...       ...  ...           ...           ...           ...   \n",
       "ZYG11A        NaN  0.000000  ...     -0.717935     -0.072597      0.585837   \n",
       "ZYG11B   0.005128  0.000000  ...      0.372134      0.007040     -0.278071   \n",
       "ZYX      0.035897  0.153846  ...     -0.316321     -0.382132      0.400354   \n",
       "ZZEF1         NaN       NaN  ...     -0.520060     -0.000595     -0.101278   \n",
       "ZZZ3     0.051282  0.057692  ...     -0.348640     -0.423926     -0.078769   \n",
       "\n",
       "         Node2Vec_122  Node2Vec_123  Node2Vec_124  Node2Vec_125  Node2Vec_126  \\\n",
       "A1BG        -0.659300     -1.320486      1.019308     -0.469064      0.123211   \n",
       "A1CF         0.534082      0.798872      0.149595     -0.360515     -1.060540   \n",
       "A2M         -1.034729     -0.064318      0.029690      0.138344      0.806095   \n",
       "A2ML1        0.082089     -1.109212      0.406936     -1.332319     -0.363864   \n",
       "A3GALT2      0.040729     -0.552362      0.242761      0.223486      0.017539   \n",
       "...               ...           ...           ...           ...           ...   \n",
       "ZYG11A       0.172081     -0.278010      0.170799      0.267462     -0.211294   \n",
       "ZYG11B      -1.309595     -0.352476      0.732887      0.156505      0.516706   \n",
       "ZYX          0.322564      0.400369      0.188850      0.593201     -0.093008   \n",
       "ZZEF1       -0.468345      0.240905     -0.124018      0.568793     -0.422793   \n",
       "ZZZ3         0.163239     -0.302664      0.505735      0.001912      0.406448   \n",
       "\n",
       "         Node2Vec_127  label  \n",
       "A1BG         0.557266     NE  \n",
       "A1CF        -0.408493     NE  \n",
       "A2M         -0.496128     NE  \n",
       "A2ML1        0.443284     NE  \n",
       "A3GALT2     -0.526580     NE  \n",
       "...               ...    ...  \n",
       "ZYG11A      -0.940943     NE  \n",
       "ZYG11B      -0.412953     NE  \n",
       "ZYX         -0.508902     NE  \n",
       "ZZEF1       -0.701705     NE  \n",
       "ZZZ3        -0.296505     NE  \n",
       "\n",
       "[17236 rows x 3457 columns]"
      ]
     },
     "execution_count": 142,
     "metadata": {},
     "output_type": "execute_result"
    }
   ],
   "source": [
    "tissue='Kidney'\n",
    "import pandas as pd\n",
    "from help.preprocess.loaders import feature_assemble_df\n",
    "import os\n",
    "df_y = pd.read_csv(f\"{tissue}_HELP.csv\", index_col=0)\n",
    "df_y = df_y.replace({'aE': 'NE', 'sNE': 'NE'})\n",
    "print(df_y.value_counts(normalize=False))\n",
    "features = [{'fname': f'{tissue}_BIO.csv', 'fixna' : False, 'normalize': 'std'},\n",
    "            {'fname': f'{tissue}_CCcfs.csv', 'fixna' : False, 'normalize': 'std', 'nchunks' : 5},\n",
    "            {'fname': f'{tissue}_EmbN2V_128.csv', 'fixna' : False, 'normalize': None}]\n",
    "df_X, df_y = feature_assemble_df(df_y, features=features, subsample=False, seed=1, saveflag=False, verbose=True)\n",
    "pd.merge(df_X, df_y, left_index=True, right_index=True, how='outer')"
   ]
  },
  {
   "cell_type": "markdown",
   "metadata": {
    "id": "M6BNWY5ZTTl7"
   },
   "source": [
    "# Prediction\n",
    "We process k-fold cross validation of a LightGBM classifier (`n_splits=5`), and then we store predictions and print metrics."
   ]
  },
  {
   "cell_type": "code",
   "execution_count": 5,
   "metadata": {
    "colab": {
     "base_uri": "https://localhost:8080/",
     "height": 826
    },
    "execution": {
     "iopub.execute_input": "2024-02-13T11:10:00.204889Z",
     "iopub.status.busy": "2024-02-13T11:10:00.204465Z",
     "iopub.status.idle": "2024-02-13T11:11:26.962373Z",
     "shell.execute_reply": "2024-02-13T11:11:26.961282Z",
     "shell.execute_reply.started": "2024-02-13T11:10:00.204855Z"
    },
    "id": "uT4OjXZ7TTl7",
    "outputId": "2187611f-3476-4f56-8597-09dfde9e6b86"
   },
   "outputs": [
    {
     "name": "stdout",
     "output_type": "stream",
     "text": [
      "{'E': 0, 'NE': 1}\n",
      "label\n",
      "NE       15994\n",
      "E         1242\n",
      "Name: count, dtype: int64\n",
      "Classification with LGBM...\n"
     ]
    },
    {
     "name": "stderr",
     "output_type": "stream",
     "text": [
      "5-fold: 100%|██████████| 5/5 [00:29<00:00,  5.97s/it]\n"
     ]
    },
    {
     "data": {
      "text/html": [
       "<div>\n",
       "<style scoped>\n",
       "    .dataframe tbody tr th:only-of-type {\n",
       "        vertical-align: middle;\n",
       "    }\n",
       "\n",
       "    .dataframe tbody tr th {\n",
       "        vertical-align: top;\n",
       "    }\n",
       "\n",
       "    .dataframe thead th {\n",
       "        text-align: right;\n",
       "    }\n",
       "</style>\n",
       "<table border=\"1\" class=\"dataframe\">\n",
       "  <thead>\n",
       "    <tr style=\"text-align: right;\">\n",
       "      <th></th>\n",
       "      <th>measure</th>\n",
       "    </tr>\n",
       "  </thead>\n",
       "  <tbody>\n",
       "    <tr>\n",
       "      <th>ROC-AUC</th>\n",
       "      <td>0.9558±0.0045</td>\n",
       "    </tr>\n",
       "    <tr>\n",
       "      <th>Accuracy</th>\n",
       "      <td>0.9488±0.0041</td>\n",
       "    </tr>\n",
       "    <tr>\n",
       "      <th>BA</th>\n",
       "      <td>0.8324±0.0156</td>\n",
       "    </tr>\n",
       "    <tr>\n",
       "      <th>Sensitivity</th>\n",
       "      <td>0.6964±0.0317</td>\n",
       "    </tr>\n",
       "    <tr>\n",
       "      <th>Specificity</th>\n",
       "      <td>0.9684±0.0041</td>\n",
       "    </tr>\n",
       "    <tr>\n",
       "      <th>MCC</th>\n",
       "      <td>0.6357±0.0258</td>\n",
       "    </tr>\n",
       "    <tr>\n",
       "      <th>CM</th>\n",
       "      <td>[[865, 377], [506, 15488]]</td>\n",
       "    </tr>\n",
       "  </tbody>\n",
       "</table>\n",
       "</div>"
      ],
      "text/plain": [
       "                                measure\n",
       "ROC-AUC                   0.9558±0.0045\n",
       "Accuracy                  0.9488±0.0041\n",
       "BA                        0.8324±0.0156\n",
       "Sensitivity               0.6964±0.0317\n",
       "Specificity               0.9684±0.0041\n",
       "MCC                       0.6357±0.0258\n",
       "CM           [[865, 377], [506, 15488]]"
      ]
     },
     "execution_count": 5,
     "metadata": {},
     "output_type": "execute_result"
    },
    {
     "data": {
      "image/png": "[encoded data removed]",
      "text/plain": [
       "<Figure size 640x480 with 2 Axes>"
      ]
     },
     "metadata": {},
     "output_type": "display_data"
    }
   ],
   "source": [
    "from help.models.prediction import predict_cv\n",
    "df_scores_means, df_scores, predictions = predict_cv(df_X, df_y, n_splits=5, method='LGBM', balanced=True, display=True, verbose=True, saveflag=True, outfile=f'pred_{tissue}.csv')\n",
    "df_scores_means"
   ]
  },
  {
   "cell_type": "markdown",
   "metadata": {
    "id": "rdfsQ7qzTTl7"
   },
   "source": [
    "# Prediction with undersampling\n",
    "Due to the strong unbalancing between the two classes, we can redo prediction model building by undersampling the majority class: this is done by re-applying the `feature_assemble` function with parameter `subsample=True`: this flag set causes the majority class to be downsampled to 4 times the dimension of the minority class. The we re-apply the k-fold cross validation of the a LightGBM classifier."
   ]
  },
  {
   "cell_type": "code",
   "execution_count": 139,
   "metadata": {
    "colab": {
     "base_uri": "https://localhost:8080/",
     "height": 1000
    },
    "id": "OUSWeaRpTTl7",
    "outputId": "694f903f-9893-43d5-9274-dd82a0b2fc51"
   },
   "outputs": [
    {
     "name": "stdout",
     "output_type": "stream",
     "text": [
      "Majority NE 16678 minority E 1253\n",
      "Subsampling with factor 1:4\n",
      "[Kidney_BIO.csv] found 52532 Nan...\n",
      "[Kidney_BIO.csv] Normalization with std ...\n"
     ]
    },
    {
     "name": "stderr",
     "output_type": "stream",
     "text": [
      "Loading file in chunks: 100%|██████████| 5/5 [00:02<00:00,  2.05it/s]\n"
     ]
    },
    {
     "name": "stdout",
     "output_type": "stream",
     "text": [
      "[Kidney_CCcfs.csv] found 6676644 Nan...\n",
      "[Kidney_CCcfs.csv] Normalization with std ...\n",
      "[Kidney_EmbN2V_128.csv] found 0 Nan...\n",
      "[Kidney_EmbN2V_128.csv] No normalization...\n",
      "6033 labeled genes over a total of 6265\n",
      "(6033, 3456) data input\n",
      "{'E': 0, 'NE': 1}\n",
      "label\n",
      "NE       4791\n",
      "E        1242\n",
      "Name: count, dtype: int64\n",
      "Classification with LGBM...\n"
     ]
    },
    {
     "name": "stderr",
     "output_type": "stream",
     "text": [
      "5-fold: 100%|██████████| 5/5 [00:20<00:00,  4.00s/it]\n"
     ]
    },
    {
     "data": {
      "text/html": [
       "<div>\n",
       "<style scoped>\n",
       "    .dataframe tbody tr th:only-of-type {\n",
       "        vertical-align: middle;\n",
       "    }\n",
       "\n",
       "    .dataframe tbody tr th {\n",
       "        vertical-align: top;\n",
       "    }\n",
       "\n",
       "    .dataframe thead th {\n",
       "        text-align: right;\n",
       "    }\n",
       "</style>\n",
       "<table border=\"1\" class=\"dataframe\">\n",
       "  <thead>\n",
       "    <tr style=\"text-align: right;\">\n",
       "      <th></th>\n",
       "      <th>measure</th>\n",
       "    </tr>\n",
       "  </thead>\n",
       "  <tbody>\n",
       "    <tr>\n",
       "      <th>ROC-AUC</th>\n",
       "      <td>0.9561±0.0036</td>\n",
       "    </tr>\n",
       "    <tr>\n",
       "      <th>Accuracy</th>\n",
       "      <td>0.9158±0.0083</td>\n",
       "    </tr>\n",
       "    <tr>\n",
       "      <th>BA</th>\n",
       "      <td>0.8683±0.0065</td>\n",
       "    </tr>\n",
       "    <tr>\n",
       "      <th>Sensitivity</th>\n",
       "      <td>0.7874±0.0150</td>\n",
       "    </tr>\n",
       "    <tr>\n",
       "      <th>Specificity</th>\n",
       "      <td>0.9491±0.0120</td>\n",
       "    </tr>\n",
       "    <tr>\n",
       "      <th>MCC</th>\n",
       "      <td>0.7416±0.0203</td>\n",
       "    </tr>\n",
       "    <tr>\n",
       "      <th>CM</th>\n",
       "      <td>[[978, 264], [244, 4547]]</td>\n",
       "    </tr>\n",
       "  </tbody>\n",
       "</table>\n",
       "</div>"
      ],
      "text/plain": [
       "                               measure\n",
       "ROC-AUC                  0.9561±0.0036\n",
       "Accuracy                 0.9158±0.0083\n",
       "BA                       0.8683±0.0065\n",
       "Sensitivity              0.7874±0.0150\n",
       "Specificity              0.9491±0.0120\n",
       "MCC                      0.7416±0.0203\n",
       "CM           [[978, 264], [244, 4547]]"
      ]
     },
     "execution_count": 139,
     "metadata": {},
     "output_type": "execute_result"
    },
    {
     "data": {
      "image/png": "[encoded data removed]",
      "text/plain": [
       "<Figure size 640x480 with 2 Axes>"
      ]
     },
     "metadata": {},
     "output_type": "display_data"
    }
   ],
   "source": [
    "df_y = pd.read_csv(f\"{tissue}_HELP.csv\", index_col=0)\n",
    "df_y = df_y.replace({'aE': 'NE', 'sNE': 'NE'})\n",
    "df_X, df_y = feature_assemble_df(df_y,features=features, subsample=True, fold=4, seed=1, verbose=True)\n",
    "df_scores_means, df_scores, predictions = predict_cv(df_X, df_y, n_splits=5, method='LGBM', balanced=True, display=True, verbose=True, saveflag=True, outfile=f'pred_{tissue}_sub.csv')\n",
    "df_scores_means"
   ]
  },
  {
   "cell_type": "code",
   "execution_count": 6,
   "metadata": {},
   "outputs": [
    {
     "data": {
      "text/html": [
       "<div>\n",
       "<style scoped>\n",
       "    .dataframe tbody tr th:only-of-type {\n",
       "        vertical-align: middle;\n",
       "    }\n",
       "\n",
       "    .dataframe tbody tr th {\n",
       "        vertical-align: top;\n",
       "    }\n",
       "\n",
       "    .dataframe thead th {\n",
       "        text-align: right;\n",
       "    }\n",
       "</style>\n",
       "<table border=\"1\" class=\"dataframe\">\n",
       "  <thead>\n",
       "    <tr style=\"text-align: right;\">\n",
       "      <th></th>\n",
       "      <th>label</th>\n",
       "      <th>prediction</th>\n",
       "      <th>probabilities</th>\n",
       "    </tr>\n",
       "    <tr>\n",
       "      <th>gene</th>\n",
       "      <th></th>\n",
       "      <th></th>\n",
       "      <th></th>\n",
       "    </tr>\n",
       "  </thead>\n",
       "  <tbody>\n",
       "    <tr>\n",
       "      <th>A2M</th>\n",
       "      <td>1</td>\n",
       "      <td>1</td>\n",
       "      <td>0.009510</td>\n",
       "    </tr>\n",
       "    <tr>\n",
       "      <th>A2ML1</th>\n",
       "      <td>1</td>\n",
       "      <td>1</td>\n",
       "      <td>0.000273</td>\n",
       "    </tr>\n",
       "    <tr>\n",
       "      <th>A4GNT</th>\n",
       "      <td>1</td>\n",
       "      <td>1</td>\n",
       "      <td>0.001614</td>\n",
       "    </tr>\n",
       "    <tr>\n",
       "      <th>AAAS</th>\n",
       "      <td>1</td>\n",
       "      <td>0</td>\n",
       "      <td>0.757293</td>\n",
       "    </tr>\n",
       "    <tr>\n",
       "      <th>AACS</th>\n",
       "      <td>1</td>\n",
       "      <td>1</td>\n",
       "      <td>0.009432</td>\n",
       "    </tr>\n",
       "    <tr>\n",
       "      <th>...</th>\n",
       "      <td>...</td>\n",
       "      <td>...</td>\n",
       "      <td>...</td>\n",
       "    </tr>\n",
       "    <tr>\n",
       "      <th>ZSCAN9</th>\n",
       "      <td>1</td>\n",
       "      <td>1</td>\n",
       "      <td>0.001023</td>\n",
       "    </tr>\n",
       "    <tr>\n",
       "      <th>ZSWIM6</th>\n",
       "      <td>1</td>\n",
       "      <td>1</td>\n",
       "      <td>0.001135</td>\n",
       "    </tr>\n",
       "    <tr>\n",
       "      <th>ZUP1</th>\n",
       "      <td>1</td>\n",
       "      <td>1</td>\n",
       "      <td>0.026474</td>\n",
       "    </tr>\n",
       "    <tr>\n",
       "      <th>ZYG11A</th>\n",
       "      <td>1</td>\n",
       "      <td>1</td>\n",
       "      <td>0.001646</td>\n",
       "    </tr>\n",
       "    <tr>\n",
       "      <th>ZZEF1</th>\n",
       "      <td>1</td>\n",
       "      <td>1</td>\n",
       "      <td>0.101705</td>\n",
       "    </tr>\n",
       "  </tbody>\n",
       "</table>\n",
       "<p>17236 rows × 3 columns</p>\n",
       "</div>"
      ],
      "text/plain": [
       "        label  prediction  probabilities\n",
       "gene                                    \n",
       "A2M         1           1       0.009510\n",
       "A2ML1       1           1       0.000273\n",
       "A4GNT       1           1       0.001614\n",
       "AAAS        1           0       0.757293\n",
       "AACS        1           1       0.009432\n",
       "...       ...         ...            ...\n",
       "ZSCAN9      1           1       0.001023\n",
       "ZSWIM6      1           1       0.001135\n",
       "ZUP1        1           1       0.026474\n",
       "ZYG11A      1           1       0.001646\n",
       "ZZEF1       1           1       0.101705\n",
       "\n",
       "[17236 rows x 3 columns]"
      ]
     },
     "execution_count": 6,
     "metadata": {},
     "output_type": "execute_result"
    }
   ],
   "source": [
    "predictions"
   ]
  },
  {
   "cell_type": "code",
   "execution_count": 18,
   "metadata": {},
   "outputs": [
    {
     "data": {
      "text/html": [
       "<div>\n",
       "<style scoped>\n",
       "    .dataframe tbody tr th:only-of-type {\n",
       "        vertical-align: middle;\n",
       "    }\n",
       "\n",
       "    .dataframe tbody tr th {\n",
       "        vertical-align: top;\n",
       "    }\n",
       "\n",
       "    .dataframe thead th {\n",
       "        text-align: right;\n",
       "    }\n",
       "</style>\n",
       "<table border=\"1\" class=\"dataframe\">\n",
       "  <thead>\n",
       "    <tr style=\"text-align: right;\">\n",
       "      <th></th>\n",
       "      <th>label</th>\n",
       "      <th>prediction</th>\n",
       "      <th>probabilities</th>\n",
       "    </tr>\n",
       "    <tr>\n",
       "      <th>gene</th>\n",
       "      <th></th>\n",
       "      <th></th>\n",
       "      <th></th>\n",
       "    </tr>\n",
       "  </thead>\n",
       "  <tbody>\n",
       "    <tr>\n",
       "      <th>ZW10</th>\n",
       "      <td>1</td>\n",
       "      <td>0</td>\n",
       "      <td>0.986503</td>\n",
       "    </tr>\n",
       "    <tr>\n",
       "      <th>RSF1</th>\n",
       "      <td>1</td>\n",
       "      <td>0</td>\n",
       "      <td>0.949895</td>\n",
       "    </tr>\n",
       "    <tr>\n",
       "      <th>PARN</th>\n",
       "      <td>1</td>\n",
       "      <td>0</td>\n",
       "      <td>0.736945</td>\n",
       "    </tr>\n",
       "    <tr>\n",
       "      <th>MED10</th>\n",
       "      <td>1</td>\n",
       "      <td>0</td>\n",
       "      <td>0.970340</td>\n",
       "    </tr>\n",
       "    <tr>\n",
       "      <th>HSF1</th>\n",
       "      <td>1</td>\n",
       "      <td>0</td>\n",
       "      <td>0.518002</td>\n",
       "    </tr>\n",
       "    <tr>\n",
       "      <th>...</th>\n",
       "      <td>...</td>\n",
       "      <td>...</td>\n",
       "      <td>...</td>\n",
       "    </tr>\n",
       "    <tr>\n",
       "      <th>MYDGF</th>\n",
       "      <td>1</td>\n",
       "      <td>0</td>\n",
       "      <td>0.534282</td>\n",
       "    </tr>\n",
       "    <tr>\n",
       "      <th>SRSF4</th>\n",
       "      <td>1</td>\n",
       "      <td>0</td>\n",
       "      <td>0.737573</td>\n",
       "    </tr>\n",
       "    <tr>\n",
       "      <th>KNTC1</th>\n",
       "      <td>1</td>\n",
       "      <td>0</td>\n",
       "      <td>0.948684</td>\n",
       "    </tr>\n",
       "    <tr>\n",
       "      <th>ACTB</th>\n",
       "      <td>1</td>\n",
       "      <td>0</td>\n",
       "      <td>0.964671</td>\n",
       "    </tr>\n",
       "    <tr>\n",
       "      <th>CEP57</th>\n",
       "      <td>1</td>\n",
       "      <td>0</td>\n",
       "      <td>0.721309</td>\n",
       "    </tr>\n",
       "  </tbody>\n",
       "</table>\n",
       "<p>1162 rows × 3 columns</p>\n",
       "</div>"
      ],
      "text/plain": [
       "       label  prediction  probabilities\n",
       "gene                                   \n",
       "ZW10       1           0       0.986503\n",
       "RSF1       1           0       0.949895\n",
       "PARN       1           0       0.736945\n",
       "MED10      1           0       0.970340\n",
       "HSF1       1           0       0.518002\n",
       "...      ...         ...            ...\n",
       "MYDGF      1           0       0.534282\n",
       "SRSF4      1           0       0.737573\n",
       "KNTC1      1           0       0.948684\n",
       "ACTB       1           0       0.964671\n",
       "CEP57      1           0       0.721309\n",
       "\n",
       "[1162 rows x 3 columns]"
      ]
     },
     "execution_count": 18,
     "metadata": {},
     "output_type": "execute_result"
    }
   ],
   "source": [
    "predictions[predictions['prediction']==0]"
   ]
  },
  {
   "cell_type": "code",
   "execution_count": 147,
   "metadata": {},
   "outputs": [
    {
     "name": "stderr",
     "output_type": "stream",
     "text": [
      "/Users/maurizio/miniconda3/lib/python3.10/site-packages/numpy/core/fromnumeric.py:59: FutureWarning: 'DataFrame.swapaxes' is deprecated and will be removed in a future version. Please use 'DataFrame.transpose' instead.\n",
      "  return bound(*args, **kwds)\n"
     ]
    },
    {
     "name": "stdout",
     "output_type": "stream",
     "text": [
      "{'E': 0, 'NE': 1}\n",
      "label\n",
      "NE       1600\n",
      "E        1242\n",
      "Name: count, dtype: int64\n",
      "Classification with LGBM...\n"
     ]
    },
    {
     "name": "stderr",
     "output_type": "stream",
     "text": [
      "5-fold: 100%|██████████| 5/5 [00:15<00:00,  3.00s/it]\n"
     ]
    },
    {
     "name": "stdout",
     "output_type": "stream",
     "text": [
      "{'E': 0, 'NE': 1}\n",
      "label\n",
      "NE       1600\n",
      "E        1242\n",
      "Name: count, dtype: int64\n",
      "Classification with LGBM...\n"
     ]
    },
    {
     "name": "stderr",
     "output_type": "stream",
     "text": [
      "5-fold: 100%|██████████| 5/5 [00:16<00:00,  3.25s/it]\n"
     ]
    },
    {
     "name": "stdout",
     "output_type": "stream",
     "text": [
      "{'E': 0, 'NE': 1}\n",
      "label\n",
      "NE       1600\n",
      "E        1242\n",
      "Name: count, dtype: int64\n",
      "Classification with LGBM...\n"
     ]
    },
    {
     "name": "stderr",
     "output_type": "stream",
     "text": [
      "5-fold: 100%|██████████| 5/5 [00:15<00:00,  3.17s/it]\n"
     ]
    },
    {
     "name": "stdout",
     "output_type": "stream",
     "text": [
      "{'E': 0, 'NE': 1}\n",
      "label\n",
      "NE       1600\n",
      "E        1242\n",
      "Name: count, dtype: int64\n",
      "Classification with LGBM...\n"
     ]
    },
    {
     "name": "stderr",
     "output_type": "stream",
     "text": [
      "5-fold: 100%|██████████| 5/5 [00:16<00:00,  3.22s/it]\n"
     ]
    },
    {
     "name": "stdout",
     "output_type": "stream",
     "text": [
      "{'E': 0, 'NE': 1}\n",
      "label\n",
      "NE       1599\n",
      "E        1242\n",
      "Name: count, dtype: int64\n",
      "Classification with LGBM...\n"
     ]
    },
    {
     "name": "stderr",
     "output_type": "stream",
     "text": [
      "5-fold: 100%|██████████| 5/5 [00:14<00:00,  2.93s/it]\n"
     ]
    },
    {
     "name": "stdout",
     "output_type": "stream",
     "text": [
      "{'E': 0, 'NE': 1}\n",
      "label\n",
      "NE       1599\n",
      "E        1242\n",
      "Name: count, dtype: int64\n",
      "Classification with LGBM...\n"
     ]
    },
    {
     "name": "stderr",
     "output_type": "stream",
     "text": [
      "5-fold: 100%|██████████| 5/5 [00:14<00:00,  2.98s/it]\n"
     ]
    },
    {
     "name": "stdout",
     "output_type": "stream",
     "text": [
      "{'E': 0, 'NE': 1}\n",
      "label\n",
      "NE       1599\n",
      "E        1242\n",
      "Name: count, dtype: int64\n",
      "Classification with LGBM...\n"
     ]
    },
    {
     "name": "stderr",
     "output_type": "stream",
     "text": [
      "5-fold: 100%|██████████| 5/5 [00:15<00:00,  3.08s/it]\n"
     ]
    },
    {
     "name": "stdout",
     "output_type": "stream",
     "text": [
      "{'E': 0, 'NE': 1}\n",
      "label\n",
      "NE       1599\n",
      "E        1242\n",
      "Name: count, dtype: int64\n",
      "Classification with LGBM...\n"
     ]
    },
    {
     "name": "stderr",
     "output_type": "stream",
     "text": [
      "5-fold: 100%|██████████| 5/5 [00:15<00:00,  3.09s/it]\n"
     ]
    },
    {
     "name": "stdout",
     "output_type": "stream",
     "text": [
      "{'E': 0, 'NE': 1}\n",
      "label\n",
      "NE       1599\n",
      "E        1242\n",
      "Name: count, dtype: int64\n",
      "Classification with LGBM...\n"
     ]
    },
    {
     "name": "stderr",
     "output_type": "stream",
     "text": [
      "5-fold: 100%|██████████| 5/5 [00:14<00:00,  2.81s/it]\n"
     ]
    },
    {
     "name": "stdout",
     "output_type": "stream",
     "text": [
      "{'E': 0, 'NE': 1}\n",
      "label\n",
      "NE       1599\n",
      "E        1242\n",
      "Name: count, dtype: int64\n",
      "Classification with LGBM...\n"
     ]
    },
    {
     "name": "stderr",
     "output_type": "stream",
     "text": [
      "5-fold: 100%|██████████| 5/5 [00:13<00:00,  2.66s/it]\n"
     ]
    }
   ],
   "source": [
    "from lightgbm import LGBMClassifier\n",
    "from sklearn.model_selection import KFold\n",
    "import numpy as np\n",
    "df_y_ne = df_y[df_y['label']=='NE']\n",
    "df_y_e = df_y[df_y['label']=='E']\n",
    "#df_y_ne = df_y_ne.sample(frac=1)\n",
    "n_voters = 10\n",
    "splits = np.array_split(df_y_ne, n_voters) \n",
    "predictions_ne = pd.DataFrame()\n",
    "predictions_e = pd.DataFrame(index=df_y_e.index)\n",
    "d=np.empty((len(df_y_e.index),),object)\n",
    "d[...]=[list() for _ in range(len(df_y_e.index))]\n",
    "predictions_e['probabilities'] = d\n",
    "predictions_e['label'] = np.array([0 for idx in df_y_e.index])\n",
    "predictions_e['prediction'] = np.array([np.nan for idx in df_y_e.index])\n",
    "for df_index_ne in splits:\n",
    "    df_x = pd.concat([df_X.loc[df_index_ne.index], df_X.loc[df_y_e.index]])\n",
    "    df_yy = pd.concat([df_y.loc[df_index_ne.index], df_y_e])\n",
    "    _, _, preds = predict_cv(df_x, df_yy, n_splits=5, method='LGBM', balanced=True, verbose=True)\n",
    "    predictions_ne = pd.concat([predictions_ne, preds.loc[df_index_ne.index]])\n",
    "    r = np.empty((len(df_y_e.index),),object)\n",
    "    r[...]=[predictions_e.loc[idx]['probabilities'] + [preds.loc[idx]['probabilities']]  for idx in df_y_e.index]\n",
    "    predictions_e['probabilities'] = r\n",
    "predictions_e['prediction'] = predictions_e['probabilities'].map(lambda x: 0 if sum(x)/n_voters > 0.5 else 1)\n",
    "predictions_e['probabilities'] = predictions_e['probabilities'].map(lambda x: sum(x)/n_voters)\n",
    "pd.concat([predictions_ne, predictions_e]).to_csv(f\"pred_Kidney_SV_{n_voters}.csv\", index=True)"
   ]
  },
  {
   "cell_type": "code",
   "execution_count": 113,
   "metadata": {},
   "outputs": [],
   "source": [
    "predictions_e.to_csv(\"pred_Kidney_SV.csv\", index=True)"
   ]
  }
 ],
 "metadata": {
  "colab": {
   "provenance": []
  },
  "kaggle": {
   "accelerator": "none",
   "dataSources": [
    {
     "datasetId": 4375833,
     "sourceId": 7595933,
     "sourceType": "datasetVersion"
    }
   ],
   "dockerImageVersionId": 30646,
   "isGpuEnabled": false,
   "isInternetEnabled": true,
   "language": "python",
   "sourceType": "notebook"
  },
  "kernelspec": {
   "display_name": "Python 3",
   "language": "python",
   "name": "python3"
  },
  "language_info": {
   "codemirror_mode": {
    "name": "ipython",
    "version": 3
   },
   "file_extension": ".py",
   "mimetype": "text/x-python",
   "name": "python",
   "nbconvert_exporter": "python",
   "pygments_lexer": "ipython3",
   "version": "3.8.3"
  }
 },
 "nbformat": 4,
 "nbformat_minor": 4
}
