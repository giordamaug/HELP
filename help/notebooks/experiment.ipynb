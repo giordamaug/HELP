{
 "cells": [
  {
   "cell_type": "markdown",
   "metadata": {},
   "source": [
    "# The main script\n",
    "This is the batch script for EG prediction used for the experiments.\n",
    "themanual page iof EG_prediction.py is the follwing:"
   ]
  },
  {
   "cell_type": "code",
   "execution_count": 1,
   "metadata": {},
   "outputs": [
    {
     "name": "stdout",
     "output_type": "stream",
     "text": [
      "usage: EG_prediction.py [-h] -i <inputfile> [<inputfile> ...]\n",
      "                        [-c <chunks> [<chunks> ...]]\n",
      "                        [-X <excludelabels> [<excludelabels> ...]]\n",
      "                        [-L <labelname>] -l <labelfile> [-A <aliases>]\n",
      "                        [-b <seed>] [-r <repeat>] [-f <folds>] [-j <jobs>]\n",
      "                        [-B] [-sf <subfolds>] [-P] [-ba] [-fx]\n",
      "                        [-n <normalize>] [-o <outfile>] [-s <scorefile>]\n",
      "\n",
      "PLOS COMPBIO\n",
      "\n",
      "options:\n",
      "  -h, --help            show this help message and exit\n",
      "  -i <inputfile> [<inputfile> ...], --inputfile <inputfile> [<inputfile> ...]\n",
      "                        input attribute filename list\n",
      "  -c <chunks> [<chunks> ...], --chunks <chunks> [<chunks> ...]\n",
      "                        no of chunks for attribute filename list\n",
      "  -X <excludelabels> [<excludelabels> ...], --excludelabels <excludelabels> [<excludelabels> ...]\n",
      "                        labels to exclude (default NaN, values any list)\n",
      "  -L <labelname>, --labelname <labelname>\n",
      "                        label name (default label)\n",
      "  -l <labelfile>, --labelfile <labelfile>\n",
      "                        label filename\n",
      "  -A <aliases>, --aliases <aliases>\n",
      "                        the dictionary for label renaming (es: {\"oldlabel1\":\n",
      "                        \"newlabel1\", ..., \"oldlabelN\": \"newlabelN\"})\n",
      "  -b <seed>, --seed <seed>\n",
      "                        random seed (default: 1)\n",
      "  -r <repeat>, --repeat <repeat>\n",
      "                        n. of iteration (default: 10)\n",
      "  -f <folds>, --folds <folds>\n",
      "                        n. of cv folds (default: 5)\n",
      "  -j <jobs>, --jobs <jobs>\n",
      "                        n. of parallel jobs (default: -1)\n",
      "  -B, --batch           enable batch mode (no output)\n",
      "  -sf <subfolds>, --subfolds <subfolds>\n",
      "                        n. of folds for subsampling (default: 0 - no\n",
      "                        subsampling)\n",
      "  -P, --proba           enable probability mode output (default disabled)\n",
      "  -ba, --balanced       enable balancing in classifier (default disabled)\n",
      "  -fx, --fixna          enable fixing NaN (default disabled)\n",
      "  -n <normalize>, --normalize <normalize>\n",
      "                        normalization mode (default None)\n",
      "  -o <outfile>, --outfile <outfile>\n",
      "                        output file for performance measures sumup\n",
      "  -s <scorefile>, --scorefile <scorefile>\n",
      "                        output file reporting all measurements\n"
     ]
    }
   ],
   "source": [
    "!python EG_prediction.py -h"
   ]
  },
  {
   "cell_type": "markdown",
   "metadata": {},
   "source": [
    "# Script execution for label prediction experiments\n",
    "Run this script by changing arguments to reproduce the results reported in paper. For example, the *Table 3. \"E vs NE\" classification performance based on HELP labelling* is produced in this way:\n",
    "\n",
    "1. Set the datapath where label files and attribute files are placed (``datapath = \"../datafinal\"``).\n",
    "2. Choose the tissue (``tissue = \"Kidney\"``)\n",
    "3. Rename ``aE`` and ``sNE`` as ``NE`` to deal with the \"E vs NE\" problem (``aliases = \"-A \\\"{'aE': 'NE', 'sNE':'NE'}\\\"\"``). \n",
    "4. All labelled genes are use (``excludeflags = \"\"``)\n",
    "5. Set the subsampling factor (``sfolds = \"4\"`` for 1:4 factor for E:NE)\n",
    "6. Specify the input attributes (``-i {datapath}/{tissue}_BIO.csv ...``)\n",
    "7. Specify the number of chunks some attribute files are split into (``chunks = \"-c 1 5 1\"``)\n",
    "8. Set parallelism (``njobs = \"-1\"`` for all cpus)\n",
    "9. Configure balancing option of LighGBM classifier (``-ba``)\n",
    "10. Enable probability output of classifier (``-P``)\n",
    "10. Enable batch mode execution with no debug printing (``-B``)"
   ]
  },
  {
   "cell_type": "code",
   "execution_count": 12,
   "metadata": {},
   "outputs": [
    {
     "name": "stdout",
     "output_type": "stream",
     "text": [
      "METHOD: LGBM\tMODE: prob\tBALANCE: yes\n",
      "PROBL: E vs NE\n",
      "INPUT: Kidney_BIO.csv Kidney_CCcfs.csv Kidney_EmbN2V_128.csv\n",
      "LABEL: Kidney_HELP.csv DISTRIB: E : 1242, NE: 4809\n",
      "SUBSAMPLE: 1:4\n",
      "+-------------+-------------------------------+\n",
      "|             | measure                       |\n",
      "|-------------+-------------------------------|\n",
      "| ROC-AUC     | 0.9528±0.0071                 |\n",
      "| Accuracy    | 0.9081±0.0081                 |\n",
      "| BA          | 0.8629±0.0130                 |\n",
      "| Sensitivity | 0.7862±0.0264                 |\n",
      "| Specificity | 0.9397±0.0092                 |\n",
      "| MCC         | 0.7209±0.0238                 |\n",
      "| CM          | [[9764, 2656], [2902, 45188]] |\n",
      "+-------------+-------------------------------+\n"
     ]
    }
   ],
   "source": [
    "datapath = \"../datafinal\"\n",
    "tissue = \"Kidney\"                               # or 'Lung'\n",
    "labelfile = f\"{tissue}_HELP.csv\"                # label filename\n",
    "aliases = \"-A \\\"{'aE': 'NE', 'sNE':'NE'}\\\"\"     # dictionary for label renaming {'oldlabel': 'newlabel', ...}: es. {'aE': 'NE'} replace aE label with NE \n",
    "#aliases = \"\"\n",
    "#excludeflags = \"-X aE\"                         # label to remove: es. -X aE (removes aE label and reduce to \"E vs sNE\" problem)\n",
    "excludeflags = \"\"\n",
    "njobs = \"-1\"                                    # parallelism level: -1 = all cpus usage, 1 = sequential, n = n cpus usage\n",
    "sfolds = \"4\"                                    # dataset subsampling factor (0 means no subsampling): es: 4 for 1:4 ratio of <min-class>:<major-class>\n",
    "chunks = \"-c 1 5 1\"                             # chunks list specification (for files split in chunks)\n",
    "normalization = \"-n std\"                        # normalization mode (std,max). es: -n std apply z-score normalization\n",
    "!python EG_prediction.py -i {datapath}/{tissue}_BIO.csv \\\n",
    "                            {datapath}/{tissue}_CCcfs.csv \\\n",
    "                            {datapath}/{tissue}_EmbN2V_128.csv \\\n",
    "                            {chunks} \\\n",
    "                            -l {datapath}/{labelfile} \\\n",
    "                            {aliases} {excludeflags} \\\n",
    "                            {normalization} \\\n",
    "                            -sf {sfolds} \\\n",
    "                            -ba -j {njobs} -P -B"
   ]
  },
  {
   "cell_type": "markdown",
   "metadata": {},
   "source": [
    "Another example, if you need to reproduce 6th row of *Table 6. “E vs aE” classification performance based on HELP labelling* on the lung tissue:\n",
    "\n",
    "1. set another tissue (tissue = \"Lung\")\n",
    "2. Labelled genes renaming is not applied (aliases = \"\")\n",
    "3. Labelled genes removal is applied: we exclude all genes labelled as sNE (excludeflags = \"-X sNE\")\n",
    "5. Disable subsampling since E and AE classes have similar sizes (``sfolds = \"0\"`)\n",
    "6. Specify the input attributes (``-i {datapath}/{tissue}_BIO.csv ...``)\n",
    "7. Chunks specification is not required: all attribute files are not split (``chunks = \"\"``)\n",
    "... all other arguments are as before...\n"
   ]
  },
  {
   "cell_type": "code",
   "execution_count": 14,
   "metadata": {},
   "outputs": [
    {
     "name": "stdout",
     "output_type": "stream",
     "text": [
      "METHOD: LGBM\tMODE: prob\tBALANCE: yes\n",
      "PROBL: E vs aE\n",
      "INPUT: Lung_BIO.csv Lung_EmbN2V_128.csv\n",
      "LABEL: Lung_HELP.csv DISTRIB: E : 1224, aE: 2759\n",
      "SUBSAMPLE: NONE\n",
      "+-------------+-------------------------------+\n",
      "|             | measure                       |\n",
      "|-------------+-------------------------------|\n",
      "| ROC-AUC     | 0.8630±0.0135                 |\n",
      "| Accuracy    | 0.8067±0.0149                 |\n",
      "| BA          | 0.7658±0.0183                 |\n",
      "| Sensitivity | 0.6596±0.0316                 |\n",
      "| Specificity | 0.8719±0.0140                 |\n",
      "| MCC         | 0.5398±0.0356                 |\n",
      "| CM          | [[8073, 4167], [3533, 24057]] |\n",
      "+-------------+-------------------------------+\n"
     ]
    }
   ],
   "source": [
    "datapath = \"../datafinal\"\n",
    "tissue = \"Lung\"                                 # or 'Kidney'\n",
    "labelfile = f\"{tissue}_HELP.csv\"                # label filename\n",
    "#aliases = \"-A \\\"{'aE': 'NE', 'sNE':'NE'}\\\"\"    \n",
    "aliases = \"\"                                    # renaming is not needed\n",
    "excludeflags = \"-X sNE\"                         # label to remove is sNE for \"E vs AE\" problem)\n",
    "#excludeflags = \"\"\n",
    "njobs = \"-1\"                                    # parallelism level: -1 = all cpus usage, 1 = sequential, n = n cpus usage\n",
    "sfolds = \"0\"                                    # dataset subsampling is disabled: E and AE classes have similar sizes\n",
    "chunks = \"\"                                     # chunks list in not requested (all input files aren't split)\n",
    "normalization = \"-n std\"                        # normalization mode (std,max). es: -n std apply z-score normalization\n",
    "!python EG_prediction.py -i {datapath}/{tissue}_BIO.csv \\\n",
    "                            {datapath}/{tissue}_EmbN2V_128.csv \\\n",
    "                            -l {datapath}/{labelfile} \\\n",
    "                            {aliases} {excludeflags} \\\n",
    "                            {normalization} \\\n",
    "                            -sf {sfolds} \\\n",
    "                            -ba -j {njobs} -P -B"
   ]
  }
 ],
 "metadata": {
  "kernelspec": {
   "display_name": "base",
   "language": "python",
   "name": "python3"
  },
  "language_info": {
   "codemirror_mode": {
    "name": "ipython",
    "version": 3
   },
   "file_extension": ".py",
   "mimetype": "text/x-python",
   "name": "python",
   "nbconvert_exporter": "python",
   "pygments_lexer": "ipython3",
   "version": "3.10.13"
  }
 },
 "nbformat": 4,
 "nbformat_minor": 2
}
