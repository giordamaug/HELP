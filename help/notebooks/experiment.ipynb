{
 "cells": [
  {
   "cell_type": "markdown",
   "metadata": {},
   "source": [
    "# run script for experiment\n",
    "This is the batch script for EG prediction used for the experiments.\n",
    "themanual page iof EG_prediction.py is the follwing:"
   ]
  },
  {
   "cell_type": "code",
   "execution_count": 13,
   "metadata": {},
   "outputs": [
    {
     "name": "stdout",
     "output_type": "stream",
     "text": [
      "usage: EG_prediction.py [-h] -i <inputfile> [<inputfile> ...]\n",
      "                        [-X <excludelabels> [<excludelabels> ...]]\n",
      "                        [-L <labelname>] -l <labelfile> [-A <aliases>]\n",
      "                        [-b <seed>] [-r <repeat>] [-f <folds>] [-j <jobs>]\n",
      "                        [-B] [-sf <subfolds>] [-P] [-ba] [-fx]\n",
      "                        [-n <normalize>] [-o <outfile>] [-s <scorefile>]\n",
      "\n",
      "PLOS COMPBIO\n",
      "\n",
      "options:\n",
      "  -h, --help            show this help message and exit\n",
      "  -i <inputfile> [<inputfile> ...], --inputfile <inputfile> [<inputfile> ...]\n",
      "                        input attribute filename list\n",
      "  -X <excludelabels> [<excludelabels> ...], --excludelabels <excludelabels> [<excludelabels> ...]\n",
      "                        labels to exclude (default NaN, values any list)\n",
      "  -L <labelname>, --labelname <labelname>\n",
      "                        label name (default label)\n",
      "  -l <labelfile>, --labelfile <labelfile>\n",
      "                        label filename\n",
      "  -A <aliases>, --aliases <aliases>\n",
      "                        the dictionary for label renaming (es: {\"oldlabel1\":\n",
      "                        \"newlabel1\", ..., \"oldlabelN\": \"newlabelN\"})\n",
      "  -b <seed>, --seed <seed>\n",
      "                        random seed (default: 1)\n",
      "  -r <repeat>, --repeat <repeat>\n",
      "                        n. of iteration (default: 10)\n",
      "  -f <folds>, --folds <folds>\n",
      "                        n. of cv folds (default: 5)\n",
      "  -j <jobs>, --jobs <jobs>\n",
      "                        n. of parallel jobs (default: -1)\n",
      "  -B, --batch           enable batch mode (no output)\n",
      "  -sf <subfolds>, --subfolds <subfolds>\n",
      "                        n. of folds for subsampling (default: 0 - no\n",
      "                        subsampling)\n",
      "  -P, --proba           enable probability mode output (default disabled)\n",
      "  -ba, --balanced       enable balancing in classifier (default disabled)\n",
      "  -fx, --fixna          enable fixing NaN (default disabled)\n",
      "  -n <normalize>, --normalize <normalize>\n",
      "                        normalization mode (default None)\n",
      "  -o <outfile>, --outfile <outfile>\n",
      "                        output file for performance measures sumup\n",
      "  -s <scorefile>, --scorefile <scorefile>\n",
      "                        output file reporting all measurements\n"
     ]
    }
   ],
   "source": [
    "!python EG_prediction.py -h"
   ]
  },
  {
   "cell_type": "code",
   "execution_count": 1,
   "metadata": {},
   "outputs": [],
   "source": [
    "datapath = \"../datafinal\"\n",
    "tissue = \"Kidney\"                               # or 'Lung'\n",
    "labelfile = f\"{tissue}_HELP.csv\"                # label filename\n",
    "aliases = \"-A \\\"{'aE': 'NE', 'sNE':'NE'}\\\"\"    # dictionary for renaming labels before prediction: es. {'oldlabel': 'newlabel'}\n",
    "#aliases = \"\"\n",
    "#excludeflags = \"-X aE\"                          # label to remove: es. -X aE (for E vs sNE problem)\n",
    "excludeflags = \"\"                          # label to remove: es. -X aE (for E vs sNE problem)\n",
    "njobs = \"-1\"                                    # parallelism level: -1 = all cpus, 1 = sequential\n",
    "sfolds = \"0\"                                    # dataset subsampling factor: es: 4 for 1:4 ratio of <minority-class>:<majority-class>\n",
    "!python EG_prediction.py -i {datapath}/{tissue}_BIO.csv {datapath}/{tissue}_CCcfs.csv  {datapath}/{tissue}_EmbN2V_128.csv -l {datapath}/{labelfile} {aliases} -n std -ba -sf {sfolds} {excludeflags}  -j {njobs} -P -B"
   ]
  },
  {
   "cell_type": "code",
   "execution_count": 2,
   "metadata": {},
   "outputs": [
    {
     "name": "stdout",
     "output_type": "stream",
     "text": [
      "METHOD: LGBM\tMODE: prob\tBALANCE: yes\n",
      "PROBL: E vs NE\n",
      "INPUT: Kidney_BIO.csv Kidney_CCcfs.csv Kidney_EmbN2V_128.csv\n",
      "LABEL: Kidney_HELP.csv DISTRIB: E : 1242, NE: 1206\n",
      "SUBSAMPLE: 1:1\n",
      "+-------------+--------------------------------+\n",
      "|             | measure                        |\n",
      "|-------------+--------------------------------|\n",
      "| ROC-AUC     | 0.9443±0.0092                  |\n",
      "| Accuracy    | 0.8793±0.0131                  |\n",
      "| BA          | 0.8791±0.0131                  |\n",
      "| Sensitivity | 0.8944±0.0181                  |\n",
      "| Specificity | 0.8638±0.0198                  |\n",
      "| MCC         | 0.7591±0.0261                  |\n",
      "| CM          | [[11109, 1311], [1643, 10417]] |\n",
      "+-------------+--------------------------------+\n"
     ]
    }
   ],
   "source": [
    "!python EG_prediction.py -i {datapath}/{tissue}_BIO.csv {datapath}/{tissue}_CCcfs.csv {datapath}/{tissue}_EmbN2V_128.csv -l {datapath}/{labelfile} {aliases} -n std -ba -sf 1 {excludeflags}  -j {njobs} -P -B"
   ]
  },
  {
   "cell_type": "code",
   "execution_count": 16,
   "metadata": {},
   "outputs": [
    {
     "name": "stdout",
     "output_type": "stream",
     "text": [
      "METHOD: LGBM\tMODE: prob\tBALANCE: yes\n",
      "PROBL: E vs NE\n",
      "INPUT: Kidney_BIO.csv Kidney_CCcfs.csv Kidney_EmbN2V_128.csv\n",
      "LABEL: Kidney_HELP.csv DISTRIB: E : 1242, NE: 2416\n",
      "SUBSAMPLE: 1:2\n",
      "+-------------+--------------------------------+\n",
      "|             | measure                        |\n",
      "|-------------+--------------------------------|\n",
      "| ROC-AUC     | 0.9491±0.0063                  |\n",
      "| Accuracy    | 0.8867±0.0108                  |\n",
      "| BA          | 0.8753±0.0120                  |\n",
      "| Sensitivity | 0.8398±0.0202                  |\n",
      "| Specificity | 0.9108±0.0122                  |\n",
      "| MCC         | 0.7485±0.0238                  |\n",
      "| CM          | [[10430, 1990], [2154, 22006]] |\n",
      "+-------------+--------------------------------+\n"
     ]
    }
   ],
   "source": [
    "!python EG_prediction.py -i {datapath}/{tissue}_BIO.csv {datapath}/{tissue}_CCcfs.csv {datapath}/{tissue}_EmbN2V_128.csv -l {datapath}/{labelfile} {aliases} -ba -sf 2 {excludeflags}  -j {njobs} -P -B"
   ]
  },
  {
   "cell_type": "code",
   "execution_count": 17,
   "metadata": {},
   "outputs": [
    {
     "name": "stdout",
     "output_type": "stream",
     "text": [
      "METHOD: LGBM\tMODE: prob\tBALANCE: yes\n",
      "PROBL: E vs NE\n",
      "INPUT: Kidney_BIO.csv Kidney_CCcfs.csv Kidney_EmbN2V_128.csv\n",
      "LABEL: Kidney_HELP.csv DISTRIB: E : 1242, NE: 4809\n",
      "SUBSAMPLE: 1:4\n",
      "+-------------+-------------------------------+\n",
      "|             | measure                       |\n",
      "|-------------+-------------------------------|\n",
      "| ROC-AUC     | 0.9528±0.0071                 |\n",
      "| Accuracy    | 0.9081±0.0081                 |\n",
      "| BA          | 0.8629±0.0130                 |\n",
      "| Sensitivity | 0.7862±0.0264                 |\n",
      "| Specificity | 0.9397±0.0092                 |\n",
      "| MCC         | 0.7209±0.0238                 |\n",
      "| CM          | [[9764, 2656], [2902, 45188]] |\n",
      "+-------------+-------------------------------+\n"
     ]
    }
   ],
   "source": [
    "!python EG_prediction.py -i {datapath}/{tissue}_BIO.csv {datapath}/{tissue}_CCcfs.csv {datapath}/{tissue}_EmbN2V_128.csv -l {datapath}/{labelfile} {aliases} -n std -ba -sf 4 {excludeflags}  -j {njobs} -P -B"
   ]
  },
  {
   "cell_type": "code",
   "execution_count": 18,
   "metadata": {},
   "outputs": [
    {
     "name": "stdout",
     "output_type": "stream",
     "text": [
      "METHOD: LGBM\tMODE: prob\tBALANCE: yes\n",
      "PROBL: E vs NE\n",
      "INPUT: Kidney_BIO.csv Kidney_CCcfs.csv Kidney_EmbN2V_128.csv\n",
      "LABEL: Kidney_HELP.csv DISTRIB: E : 1242, NE: 7223\n",
      "SUBSAMPLE: 1:6\n",
      "+-------------+-------------------------------+\n",
      "|             | measure                       |\n",
      "|-------------+-------------------------------|\n",
      "| ROC-AUC     | 0.9557±0.0048                 |\n",
      "| Accuracy    | 0.9244±0.0056                 |\n",
      "| BA          | 0.8555±0.0129                 |\n",
      "| Sensitivity | 0.7580±0.0262                 |\n",
      "| Specificity | 0.9530±0.0055                 |\n",
      "| MCC         | 0.7022±0.0214                 |\n",
      "| CM          | [[9414, 3006], [3395, 68835]] |\n",
      "+-------------+-------------------------------+\n"
     ]
    }
   ],
   "source": [
    "!python EG_prediction.py -i {datapath}/{tissue}_BIO.csv {datapath}/{tissue}_CCcfs.csv {datapath}/{tissue}_EmbN2V_128.csv -l {datapath}/{labelfile} {aliases} -n std  -ba -sf 6 {excludeflags}  -j {njobs} -P -B"
   ]
  },
  {
   "cell_type": "code",
   "execution_count": 19,
   "metadata": {},
   "outputs": [
    {
     "name": "stdout",
     "output_type": "stream",
     "text": [
      "METHOD: LGBM\tMODE: prob\tBALANCE: yes\n",
      "PROBL: E vs NE\n",
      "INPUT: Kidney_BIO.csv Kidney_CCcfs.csv Kidney_EmbN2V_128.csv\n",
      "LABEL: Kidney_HELP.csv DISTRIB: E : 1242, NE: 9606\n",
      "SUBSAMPLE: 1:8\n",
      "+-------------+-------------------------------+\n",
      "|             | measure                       |\n",
      "|-------------+-------------------------------|\n",
      "| ROC-AUC     | 0.9558±0.0064                 |\n",
      "| Accuracy    | 0.9335±0.0054                 |\n",
      "| BA          | 0.8467±0.0137                 |\n",
      "| Sensitivity | 0.7342±0.0270                 |\n",
      "| Specificity | 0.9593±0.0050                 |\n",
      "| MCC         | 0.6794±0.0247                 |\n",
      "| CM          | [[9119, 3301], [3912, 92148]] |\n",
      "+-------------+-------------------------------+\n"
     ]
    }
   ],
   "source": [
    "!python EG_prediction.py -i {datapath}/{tissue}_BIO.csv {datapath}/{tissue}_CCcfs.csv {datapath}/{tissue}_EmbN2V_128.csv -l {datapath}/{labelfile} {aliases} -n std -ba -sf 8 {excludeflags}  -j {njobs} -P -B"
   ]
  },
  {
   "cell_type": "code",
   "execution_count": 20,
   "metadata": {},
   "outputs": [
    {
     "name": "stdout",
     "output_type": "stream",
     "text": [
      "METHOD: LGBM\tMODE: prob\tBALANCE: yes\n",
      "PROBL: E vs NE\n",
      "INPUT: Kidney_BIO.csv Kidney_CCcfs.csv Kidney_EmbN2V_128.csv\n",
      "LABEL: Kidney_HELP.csv DISTRIB: E : 1242, NE: 12007\n",
      "SUBSAMPLE: 1:10\n",
      "+-------------+--------------------------------+\n",
      "|             | measure                        |\n",
      "|-------------+--------------------------------|\n",
      "| ROC-AUC     | 0.9567±0.0047                  |\n",
      "| Accuracy    | 0.9403±0.0037                  |\n",
      "| BA          | 0.8421±0.0129                  |\n",
      "| Sensitivity | 0.7213±0.0262                  |\n",
      "| Specificity | 0.9630±0.0036                  |\n",
      "| MCC         | 0.6615±0.0201                  |\n",
      "| CM          | [[8959, 3461], [4448, 115622]] |\n",
      "+-------------+--------------------------------+\n"
     ]
    }
   ],
   "source": [
    "!python EG_prediction.py -i {datapath}/{tissue}_BIO.csv {datapath}/{tissue}_CCcfs.csv {datapath}/{tissue}_EmbN2V_128.csv -l {datapath}/{labelfile} {aliases} -n std -ba -sf 10 {excludeflags}  -j {njobs} -P -B"
   ]
  }
 ],
 "metadata": {
  "kernelspec": {
   "display_name": "base",
   "language": "python",
   "name": "python3"
  },
  "language_info": {
   "codemirror_mode": {
    "name": "ipython",
    "version": 3
   },
   "file_extension": ".py",
   "mimetype": "text/x-python",
   "name": "python",
   "nbconvert_exporter": "python",
   "pygments_lexer": "ipython3",
   "version": "3.10.13"
  }
 },
 "nbformat": 4,
 "nbformat_minor": 2
}
