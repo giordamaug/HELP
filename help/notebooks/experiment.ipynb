{
 "cells": [
  {
   "cell_type": "markdown",
   "metadata": {},
   "source": [
    "# run script for experiment\n",
    "This is the batch script for EG prediction used for the experiments.\n",
    "themanual page iof EG_prediction.py is the follwing:"
   ]
  },
  {
   "cell_type": "code",
   "execution_count": 15,
   "metadata": {},
   "outputs": [
    {
     "name": "stdout",
     "output_type": "stream",
     "text": [
      "usage: EG_prediction.py [-h] -i <inputfile> [<inputfile> ...]\n",
      "                        [-X <excludelabels> [<excludelabels> ...]]\n",
      "                        [-L <labelname>] -l <labelfile> [-A <aliases>]\n",
      "                        [-b <seed>] [-r <repeat>] [-f <folds>] [-j <jobs>]\n",
      "                        [-B] [-sf <subfolds>] [-P] [-ba] [-o <outfile>]\n",
      "                        [-s <scorefile>]\n",
      "\n",
      "PLOS COMPBIO\n",
      "\n",
      "options:\n",
      "  -h, --help            show this help message and exit\n",
      "  -i <inputfile> [<inputfile> ...], --inputfile <inputfile> [<inputfile> ...]\n",
      "                        input attribute filename list\n",
      "  -X <excludelabels> [<excludelabels> ...], --excludelabels <excludelabels> [<excludelabels> ...]\n",
      "                        labels to exclude (default NaN, values any list)\n",
      "  -L <labelname>, --labelname <labelname>\n",
      "                        label name (default label)\n",
      "  -l <labelfile>, --labelfile <labelfile>\n",
      "                        label filename\n",
      "  -A <aliases>, --aliases <aliases>\n",
      "                        the dictionary for label renaming (es: {\"oldlabel1\":\n",
      "                        \"newlabel1\", ..., \"oldlabelN\": \"newlabelN\"})\n",
      "  -b <seed>, --seed <seed>\n",
      "                        random seed (default: 1)\n",
      "  -r <repeat>, --repeat <repeat>\n",
      "                        n. of iteration (default: 10)\n",
      "  -f <folds>, --folds <folds>\n",
      "                        n. of cv folds (default: 5)\n",
      "  -j <jobs>, --jobs <jobs>\n",
      "                        n. of parallel jobs (default: -1)\n",
      "  -B, --batch           enable batch mode (no output)\n",
      "  -sf <subfolds>, --subfolds <subfolds>\n",
      "                        n. of folds for subsampling (default: 0 - no\n",
      "                        subsampling)\n",
      "  -P, --proba           enable probability mode output (default disabled)\n",
      "  -ba, --balanced       enable balancing in clasifier (default disabled)\n",
      "  -o <outfile>, --outfile <outfile>\n",
      "                        output file for performance measures sumup\n",
      "  -s <scorefile>, --scorefile <scorefile>\n",
      "                        output file reporting all measurements\n"
     ]
    }
   ],
   "source": [
    "!python EG_prediction.py -h"
   ]
  },
  {
   "cell_type": "code",
   "execution_count": 16,
   "metadata": {},
   "outputs": [
    {
     "name": "stdout",
     "output_type": "stream",
     "text": [
      "METHOD: LGBM\tMODE: prob\tBALANCE: yes\n",
      "PROBL: E vs NE\n",
      "INPUT: Lung_BIO.csv Lung_CCcfs.csv Lung_EmbN2V_128.csv\n",
      "LABEL: Lung_HELP.csv DISTRIB: E : 1158, NE: 15091\n",
      "SUBSAMPLE: NONE\n",
      "+-------------+--------------------------------+\n",
      "|             | measure                        |\n",
      "|-------------+--------------------------------|\n",
      "| ROC-AUC     | 0.9557±0.0047                  |\n",
      "| Accuracy    | 0.9470±0.0037                  |\n",
      "| BA          | 0.8320±0.0135                  |\n",
      "| Sensitivity | 0.6979±0.0267                  |\n",
      "| Specificity | 0.9662±0.0034                  |\n",
      "| MCC         | 0.6258±0.0234                  |\n",
      "| CM          | [[8081, 3499], [5108, 145802]] |\n",
      "+-------------+--------------------------------+\n"
     ]
    }
   ],
   "source": [
    "datapath = \"../data\"\n",
    "tissue = \"Lung\"                               # or 'Lung'\n",
    "labelfile = f\"{tissue}_HELP.csv\"                # label filename\n",
    "aliases = \"-A \\\"{'aE': 'NE', 'sNE':'NE'}\\\"\"    # dictionary for renaming labels before prediction: es. {'oldlabel': 'newlabel'}\n",
    "#aliases = \"\"\n",
    "#excludeflags = \"-X aE\"                          # label to remove: es. -X aE (for E vs sNE problem)\n",
    "excludeflags = \"\"                          # label to remove: es. -X aE (for E vs sNE problem)\n",
    "njobs = \"-1\"                                    # parallelism level: -1 = all cpus, 1 = sequential\n",
    "sfolds = \"0\"                                    # dataset subsampling factor: es: 4 for 1:4 ratio of <minority-class>:<majority-class>\n",
    "!python EG_prediction.py -i {datapath}/{tissue}_BIO.csv {datapath}/{tissue}_CCcfs.csv  {datapath}/{tissue}_EmbN2V_128.csv -l {datapath}/{labelfile} {aliases} -ba -sf {sfolds} {excludeflags}  -j {njobs} -P -B"
   ]
  },
  {
   "cell_type": "code",
   "execution_count": 17,
   "metadata": {},
   "outputs": [
    {
     "name": "stdout",
     "output_type": "stream",
     "text": [
      "METHOD: LGBM\tMODE: prob\tBALANCE: yes\n",
      "PROBL: E vs NE\n",
      "INPUT: Lung_BIO.csv Lung_CCcfs.csv Lung_EmbN2V_128.csv\n",
      "LABEL: Lung_HELP.csv DISTRIB: E : 1158, NE: 1123\n",
      "SUBSAMPLE: 1:1\n",
      "+-------------+-------------------------------+\n",
      "|             | measure                       |\n",
      "|-------------+-------------------------------|\n",
      "| ROC-AUC     | 0.9517±0.0096                 |\n",
      "| Accuracy    | 0.8879±0.0141                 |\n",
      "| BA          | 0.8876±0.0141                 |\n",
      "| Sensitivity | 0.9043±0.0179                 |\n",
      "| Specificity | 0.8709±0.0214                 |\n",
      "| MCC         | 0.7762±0.0281                 |\n",
      "| CM          | [[10472, 1108], [1450, 9780]] |\n",
      "+-------------+-------------------------------+\n"
     ]
    }
   ],
   "source": [
    "!python EG_prediction.py -i {datapath}/{tissue}_BIO.csv {datapath}/{tissue}_CCcfs.csv {datapath}/{tissue}_EmbN2V_128.csv -l {datapath}/{labelfile} {aliases} -ba -sf 1 {excludeflags}  -j {njobs} -P -B"
   ]
  },
  {
   "cell_type": "code",
   "execution_count": 18,
   "metadata": {},
   "outputs": [
    {
     "name": "stdout",
     "output_type": "stream",
     "text": [
      "METHOD: LGBM\tMODE: prob\tBALANCE: yes\n",
      "PROBL: E vs NE\n",
      "INPUT: Lung_BIO.csv Lung_CCcfs.csv Lung_EmbN2V_128.csv\n",
      "LABEL: Lung_HELP.csv DISTRIB: E : 1158, NE: 2236\n",
      "SUBSAMPLE: 1:2\n",
      "+-------------+-------------------------------+\n",
      "|             | measure                       |\n",
      "|-------------+-------------------------------|\n",
      "| ROC-AUC     | 0.9533±0.0074                 |\n",
      "| Accuracy    | 0.8882±0.0104                 |\n",
      "| BA          | 0.8772±0.0116                 |\n",
      "| Sensitivity | 0.8425±0.0222                 |\n",
      "| Specificity | 0.9119±0.0138                 |\n",
      "| MCC         | 0.7525±0.0227                 |\n",
      "| CM          | [[9756, 1824], [1970, 20390]] |\n",
      "+-------------+-------------------------------+\n"
     ]
    }
   ],
   "source": [
    "!python EG_prediction.py -i {datapath}/{tissue}_BIO.csv {datapath}/{tissue}_CCcfs.csv {datapath}/{tissue}_EmbN2V_128.csv -l {datapath}/{labelfile} {aliases} -ba -sf 2 {excludeflags}  -j {njobs} -P -B"
   ]
  },
  {
   "cell_type": "code",
   "execution_count": 19,
   "metadata": {},
   "outputs": [
    {
     "name": "stdout",
     "output_type": "stream",
     "text": [
      "METHOD: LGBM\tMODE: prob\tBALANCE: yes\n",
      "PROBL: E vs NE\n",
      "INPUT: Lung_BIO.csv Lung_CCcfs.csv Lung_EmbN2V_128.csv\n",
      "LABEL: Lung_HELP.csv DISTRIB: E : 1158, NE: 4449\n",
      "SUBSAMPLE: 1:4\n",
      "+-------------+-------------------------------+\n",
      "|             | measure                       |\n",
      "|-------------+-------------------------------|\n",
      "| ROC-AUC     | 0.9565±0.0061                 |\n",
      "| Accuracy    | 0.9126±0.0081                 |\n",
      "| BA          | 0.8684±0.0145                 |\n",
      "| Sensitivity | 0.7932±0.0286                 |\n",
      "| Specificity | 0.9437±0.0077                 |\n",
      "| MCC         | 0.7345±0.0248                 |\n",
      "| CM          | [[9185, 2395], [2506, 41984]] |\n",
      "+-------------+-------------------------------+\n"
     ]
    }
   ],
   "source": [
    "!python EG_prediction.py -i {datapath}/{tissue}_BIO.csv {datapath}/{tissue}_CCcfs.csv {datapath}/{tissue}_EmbN2V_128.csv -l {datapath}/{labelfile} {aliases} -ba -sf 4 {excludeflags}  -j {njobs} -P -B"
   ]
  },
  {
   "cell_type": "code",
   "execution_count": 20,
   "metadata": {},
   "outputs": [
    {
     "name": "stdout",
     "output_type": "stream",
     "text": [
      "METHOD: LGBM\tMODE: prob\tBALANCE: yes\n",
      "PROBL: E vs NE\n",
      "INPUT: Lung_BIO.csv Lung_CCcfs.csv Lung_EmbN2V_128.csv\n",
      "LABEL: Lung_HELP.csv DISTRIB: E : 1158, NE: 6704\n",
      "SUBSAMPLE: 1:6\n",
      "+-------------+-------------------------------+\n",
      "|             | measure                       |\n",
      "|-------------+-------------------------------|\n",
      "| ROC-AUC     | 0.9571±0.0059                 |\n",
      "| Accuracy    | 0.9268±0.0051                 |\n",
      "| BA          | 0.8594±0.0125                 |\n",
      "| Sensitivity | 0.7639±0.0258                 |\n",
      "| Specificity | 0.9549±0.0053                 |\n",
      "| MCC         | 0.7118±0.0199                 |\n",
      "| CM          | [[8846, 2734], [3021, 64019]] |\n",
      "+-------------+-------------------------------+\n"
     ]
    }
   ],
   "source": [
    "!python EG_prediction.py -i {datapath}/{tissue}_BIO.csv {datapath}/{tissue}_CCcfs.csv {datapath}/{tissue}_EmbN2V_128.csv -l {datapath}/{labelfile} {aliases} -ba -sf 6 {excludeflags}  -j {njobs} -P -B"
   ]
  },
  {
   "cell_type": "code",
   "execution_count": 21,
   "metadata": {},
   "outputs": [
    {
     "name": "stdout",
     "output_type": "stream",
     "text": [
      "METHOD: LGBM\tMODE: prob\tBALANCE: yes\n",
      "PROBL: E vs NE\n",
      "INPUT: Lung_BIO.csv Lung_CCcfs.csv Lung_EmbN2V_128.csv\n",
      "LABEL: Lung_HELP.csv DISTRIB: E : 1158, NE: 8913\n",
      "SUBSAMPLE: 1:8\n",
      "+-------------+-------------------------------+\n",
      "|             | measure                       |\n",
      "|-------------+-------------------------------|\n",
      "| ROC-AUC     | 0.9569±0.0060                 |\n",
      "| Accuracy    | 0.9334±0.0044                 |\n",
      "| BA          | 0.8478±0.0130                 |\n",
      "| Sensitivity | 0.7367±0.0265                 |\n",
      "| Specificity | 0.9589±0.0044                 |\n",
      "| MCC         | 0.6805±0.0208                 |\n",
      "| CM          | [[8531, 3049], [3659, 85471]] |\n",
      "+-------------+-------------------------------+\n"
     ]
    }
   ],
   "source": [
    "!python EG_prediction.py -i {datapath}/{tissue}_BIO.csv {datapath}/{tissue}_CCcfs.csv {datapath}/{tissue}_EmbN2V_128.csv -l {datapath}/{labelfile} {aliases} -ba -sf 8 {excludeflags}  -j {njobs} -P -B"
   ]
  },
  {
   "cell_type": "code",
   "execution_count": 22,
   "metadata": {},
   "outputs": [
    {
     "name": "stdout",
     "output_type": "stream",
     "text": [
      "METHOD: LGBM\tMODE: prob\tBALANCE: yes\n",
      "PROBL: E vs NE\n",
      "INPUT: Lung_BIO.csv Lung_CCcfs.csv Lung_EmbN2V_128.csv\n",
      "LABEL: Lung_HELP.csv DISTRIB: E : 1158, NE: 11143\n",
      "SUBSAMPLE: 1:10\n",
      "+-------------+--------------------------------+\n",
      "|             | measure                        |\n",
      "|-------------+--------------------------------|\n",
      "| ROC-AUC     | 0.9565±0.0066                  |\n",
      "| Accuracy    | 0.9402±0.0040                  |\n",
      "| BA          | 0.8413±0.0142                  |\n",
      "| Sensitivity | 0.7194±0.0287                  |\n",
      "| Specificity | 0.9631±0.0036                  |\n",
      "| MCC         | 0.6613±0.0225                  |\n",
      "| CM          | [[8330, 3250], [4107, 107323]] |\n",
      "+-------------+--------------------------------+\n"
     ]
    }
   ],
   "source": [
    "!python EG_prediction.py -i {datapath}/{tissue}_BIO.csv {datapath}/{tissue}_CCcfs.csv {datapath}/{tissue}_EmbN2V_128.csv -l {datapath}/{labelfile} {aliases} -ba -sf 10 {excludeflags}  -j {njobs} -P -B"
   ]
  }
 ],
 "metadata": {
  "kernelspec": {
   "display_name": "base",
   "language": "python",
   "name": "python3"
  },
  "language_info": {
   "codemirror_mode": {
    "name": "ipython",
    "version": 3
   },
   "file_extension": ".py",
   "mimetype": "text/x-python",
   "name": "python",
   "nbconvert_exporter": "python",
   "pygments_lexer": "ipython3",
   "version": "3.10.13"
  }
 },
 "nbformat": 4,
 "nbformat_minor": 2
}
