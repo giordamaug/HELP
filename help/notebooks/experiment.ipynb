{
 "cells": [
  {
   "cell_type": "markdown",
   "metadata": {},
   "source": [
    "# run script for experiment\n",
    "This is the batch script for EG prediction used for the experiments.\n",
    "themanual page iof EG_prediction.py is the follwing:"
   ]
  },
  {
   "cell_type": "code",
   "execution_count": 8,
   "metadata": {},
   "outputs": [
    {
     "name": "stdout",
     "output_type": "stream",
     "text": [
      "usage: EG_prediction.py [-h] -i <inputfile> [<inputfile> ...]\n",
      "                        [-X <excludelabels> [<excludelabels> ...]]\n",
      "                        [-L <labelname>] -l <labelfile> [-A <aliases>]\n",
      "                        [-b <seed>] [-r <repeat>] [-f <folds>] [-j <jobs>]\n",
      "                        [-B] [-sf <subfolds>] [-P] [-o <outfile>]\n",
      "                        [-s <scorefile>]\n",
      "\n",
      "PLOS COMPBIO\n",
      "\n",
      "options:\n",
      "  -h, --help            show this help message and exit\n",
      "  -i <inputfile> [<inputfile> ...], --inputfile <inputfile> [<inputfile> ...]\n",
      "                        input attribute filename list\n",
      "  -X <excludelabels> [<excludelabels> ...], --excludelabels <excludelabels> [<excludelabels> ...]\n",
      "                        labels to exclude (default NaN, values any list)\n",
      "  -L <labelname>, --labelname <labelname>\n",
      "                        label name (default label)\n",
      "  -l <labelfile>, --labelfile <labelfile>\n",
      "                        label filename\n",
      "  -A <aliases>, --aliases <aliases>\n",
      "                        the dictionary for label renaming (es: {\"oldlabel\":\n",
      "                        \"newlabel\"})\n",
      "  -b <seed>, --seed <seed>\n",
      "                        random seed (default: 1)\n",
      "  -r <repeat>, --repeat <repeat>\n",
      "                        n. of iteration (default: 10)\n",
      "  -f <folds>, --folds <folds>\n",
      "                        n. of cv folds (default: 5)\n",
      "  -j <jobs>, --jobs <jobs>\n",
      "                        n. of parallel jobs (default: -1)\n",
      "  -B, --batch           enable batch mode (no output)\n",
      "  -sf <subfolds>, --subfolds <subfolds>\n",
      "                        n. of folds for subsampling (default: 0 - no\n",
      "                        subsampling)\n",
      "  -P, --proba           enable probability mode output (default disabled)\n",
      "  -o <outfile>, --outfile <outfile>\n",
      "                        output file for performance measures sumup\n",
      "  -s <scorefile>, --scorefile <scorefile>\n",
      "                        output file reporting all measurements\n"
     ]
    }
   ],
   "source": [
    "!python EG_prediction.py -h"
   ]
  },
  {
   "cell_type": "code",
   "execution_count": 2,
   "metadata": {},
   "outputs": [
    {
     "name": "stdout",
     "output_type": "stream",
     "text": [
      "METHOD: LGBM\n",
      "PROBL: E vs NE\n",
      "INPUT: Kidney_BIO.csv Kidney_CCcfs.csv Kidney_EmbN2V_128.csv\n",
      "LABEL: Kidney_HELP.csv MODE: prob\n",
      "SUBSAMPLE: NONE\n",
      "+-------------+--------------------------------+\n",
      "|             | measure                        |\n",
      "|-------------+--------------------------------|\n",
      "| ROC-AUC     | 0.9539±0.0063                  |\n",
      "| Accuracy    | 0.9479±0.0028                  |\n",
      "| BA          | 0.8322±0.0157                  |\n",
      "| Sensitivity | 0.6970±0.0322                  |\n",
      "| Specificity | 0.9674±0.0028                  |\n",
      "| MCC         | 0.6315±0.0211                  |\n",
      "| CM          | [[8657, 3763], [5219, 154721]] |\n",
      "+-------------+--------------------------------+\n"
     ]
    }
   ],
   "source": [
    "datapath = \"../data\"\n",
    "tissue = \"Kidney\"                               # or 'Lung'\n",
    "labelfile = f\"{tissue}_HELP.csv\"                # label filename\n",
    "aliases = \"-A \\\"{'aE': 'NE', 'sNE':'NE'}\\\"\"    # dictionary for renaming labels before prediction: es. {'oldlabel': 'newlabel'}\n",
    "#aliases = \"\"\n",
    "#excludeflags = \"-X aE\"                          # label to remove: es. -X aE (for E vs sNE problem)\n",
    "excludeflags = \"\"                          # label to remove: es. -X aE (for E vs sNE problem)\n",
    "njobs = \"-1\"                                    # parallelism level: -1 = all cpus, 1 = sequential\n",
    "sfolds = \"0\"                                    # dataset subsampling factor: es: 4 for 1:4 ratio of <minority-class>:<majority-class>\n",
    "!python EG_prediction.py -i {datapath}/{tissue}_BIO.csv {datapath}/{tissue}_CCcfs.csv  {datapath}/{tissue}_EmbN2V_128.csv -l {datapath}/{labelfile} {aliases} -sf {sfolds} {excludeflags}  -j {njobs} -P -B"
   ]
  },
  {
   "cell_type": "code",
   "execution_count": 3,
   "metadata": {},
   "outputs": [
    {
     "name": "stdout",
     "output_type": "stream",
     "text": [
      "METHOD: LGBM\n",
      "PROBL: E vs NE\n",
      "INPUT: Kidney_BIO.csv Kidney_CCcfs.csv Kidney_EmbN2V_128.csv\n",
      "LABEL: Kidney_HELP.csv MODE: prob\n",
      "SUBSAMPLE: 1:2\n",
      "+-------------+--------------------------------+\n",
      "|             | measure                        |\n",
      "|-------------+--------------------------------|\n",
      "| ROC-AUC     | 0.9481±0.0065                  |\n",
      "| Accuracy    | 0.8869±0.0109                  |\n",
      "| BA          | 0.8743±0.0133                  |\n",
      "| Sensitivity | 0.8349±0.0247                  |\n",
      "| Specificity | 0.9137±0.0111                  |\n",
      "| MCC         | 0.7483±0.0246                  |\n",
      "| CM          | [[10370, 2050], [2086, 22074]] |\n",
      "+-------------+--------------------------------+\n"
     ]
    }
   ],
   "source": [
    "!python EG_prediction.py -i {datapath}/{tissue}_BIO.csv {datapath}/{tissue}_CCcfs.csv {datapath}/{tissue}_EmbN2V_128.csv -l {datapath}/{labelfile} {aliases} -sf 2 {excludeflags}  -j {njobs} -P -B"
   ]
  },
  {
   "cell_type": "code",
   "execution_count": 4,
   "metadata": {},
   "outputs": [
    {
     "name": "stdout",
     "output_type": "stream",
     "text": [
      "METHOD: LGBM\n",
      "PROBL: E vs NE\n",
      "INPUT: Kidney_BIO.csv Kidney_CCcfs.csv Kidney_EmbN2V_128.csv\n",
      "LABEL: Kidney_HELP.csv MODE: prob\n",
      "SUBSAMPLE: 1:4\n",
      "+-------------+-------------------------------+\n",
      "|             | measure                       |\n",
      "|-------------+-------------------------------|\n",
      "| ROC-AUC     | 0.9508±0.0077                 |\n",
      "| Accuracy    | 0.9085±0.0081                 |\n",
      "| BA          | 0.8614±0.0146                 |\n",
      "| Sensitivity | 0.7817±0.0280                 |\n",
      "| Specificity | 0.9412±0.0070                 |\n",
      "| MCC         | 0.7206±0.0253                 |\n",
      "| CM          | [[9708, 2712], [2826, 45264]] |\n",
      "+-------------+-------------------------------+\n"
     ]
    }
   ],
   "source": [
    "!python EG_prediction.py -i {datapath}/{tissue}_BIO.csv {datapath}/{tissue}_CCcfs.csv {datapath}/{tissue}_EmbN2V_128.csv -l {datapath}/{labelfile} {aliases} -sf 4 {excludeflags}  -j {njobs} -P -B"
   ]
  },
  {
   "cell_type": "code",
   "execution_count": 6,
   "metadata": {},
   "outputs": [
    {
     "name": "stdout",
     "output_type": "stream",
     "text": [
      "METHOD: LGBM\tMODE: prob\n",
      "PROBL: E vs NE\n",
      "INPUT: Kidney_BIO.csv Kidney_CCcfs.csv Kidney_EmbN2V_128.csv\n",
      "LABEL: Kidney_HELP.csv DISTRIB: (array(['E', 'NE'], dtype=object), array([1242, 7223]))\n",
      "SUBSAMPLE: 1:6\n",
      "+-------------+-------------------------------+\n",
      "|             | measure                       |\n",
      "|-------------+-------------------------------|\n",
      "| ROC-AUC     | 0.9537±0.0053                 |\n",
      "| Accuracy    | 0.9239±0.0056                 |\n",
      "| BA          | 0.8519±0.0132                 |\n",
      "| Sensitivity | 0.7501±0.0269                 |\n",
      "| Specificity | 0.9538±0.0057                 |\n",
      "| MCC         | 0.6987±0.0215                 |\n",
      "| CM          | [[9316, 3104], [3338, 68892]] |\n",
      "+-------------+-------------------------------+\n"
     ]
    }
   ],
   "source": [
    "!python EG_prediction.py -i {datapath}/{tissue}_BIO.csv {datapath}/{tissue}_CCcfs.csv {datapath}/{tissue}_EmbN2V_128.csv -l {datapath}/{labelfile} {aliases} -sf 6 {excludeflags}  -j {njobs} -P -B"
   ]
  },
  {
   "cell_type": "code",
   "execution_count": 7,
   "metadata": {},
   "outputs": [
    {
     "name": "stdout",
     "output_type": "stream",
     "text": [
      "METHOD: LGBM\tMODE: prob\n",
      "PROBL: E vs NE\n",
      "INPUT: Kidney_BIO.csv Kidney_CCcfs.csv Kidney_EmbN2V_128.csv\n",
      "LABEL: Kidney_HELP.csv DISTRIB: (array(['E', 'NE'], dtype=object), array([1242, 9606]))\n",
      "SUBSAMPLE: 1:8\n",
      "+-------------+-------------------------------+\n",
      "|             | measure                       |\n",
      "|-------------+-------------------------------|\n",
      "| ROC-AUC     | 0.9538±0.0069                 |\n",
      "| Accuracy    | 0.9334±0.0054                 |\n",
      "| BA          | 0.8453±0.0156                 |\n",
      "| Sensitivity | 0.7310±0.0308                 |\n",
      "| Specificity | 0.9596±0.0046                 |\n",
      "| MCC         | 0.6781±0.0262                 |\n",
      "| CM          | [[9079, 3341], [3880, 92180]] |\n",
      "+-------------+-------------------------------+\n"
     ]
    }
   ],
   "source": [
    "!python EG_prediction.py -i {datapath}/{tissue}_BIO.csv {datapath}/{tissue}_CCcfs.csv {datapath}/{tissue}_EmbN2V_128.csv -l {datapath}/{labelfile} {aliases} -sf 8 {excludeflags}  -j {njobs} -P -B"
   ]
  },
  {
   "cell_type": "code",
   "execution_count": 8,
   "metadata": {},
   "outputs": [],
   "source": [
    "!python EG_prediction.py -i {datapath}/{tissue}_BIO.csv {datapath}/{tissue}_CCcfs.csv {datapath}/{tissue}_EmbN2V_128.csv -l {datapath}/{labelfile} {aliases} -sf 10 {excludeflags}  -j {njobs} -P -B"
   ]
  }
 ],
 "metadata": {
  "kernelspec": {
   "display_name": "base",
   "language": "python",
   "name": "python3"
  },
  "language_info": {
   "codemirror_mode": {
    "name": "ipython",
    "version": 3
   },
   "file_extension": ".py",
   "mimetype": "text/x-python",
   "name": "python",
   "nbconvert_exporter": "python",
   "pygments_lexer": "ipython3",
   "version": "3.10.13"
  }
 },
 "nbformat": 4,
 "nbformat_minor": 2
}
