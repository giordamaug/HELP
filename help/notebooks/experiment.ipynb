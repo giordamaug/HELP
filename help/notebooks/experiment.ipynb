{
 "cells": [
  {
   "cell_type": "markdown",
   "metadata": {},
   "source": [
    "# run script for experiment\n",
    "This is the batch script for EG prediction used for the experiments.\n",
    "themanual page iof EG_prediction.py is the follwing:"
   ]
  },
  {
   "cell_type": "code",
   "execution_count": 1,
   "metadata": {},
   "outputs": [
    {
     "name": "stdout",
     "output_type": "stream",
     "text": [
      "usage: EG_prediction.py [-h] -i <inputfile> [<inputfile> ...]\n",
      "                        [-X <excludelabels> [<excludelabels> ...]]\n",
      "                        [-L <labelname>] -l <labelfile> [-A <aliases>]\n",
      "                        [-b <seed>] [-r <repeat>] [-f <folds>] [-j <jobs>]\n",
      "                        [-B] [-sf <subfolds>] [-P] [-o <outfile>]\n",
      "                        [-s <scorefile>]\n",
      "\n",
      "PLOS COMPBIO\n",
      "\n",
      "options:\n",
      "  -h, --help            show this help message and exit\n",
      "  -i <inputfile> [<inputfile> ...], --inputfile <inputfile> [<inputfile> ...]\n",
      "                        input attribute filename list\n",
      "  -X <excludelabels> [<excludelabels> ...], --excludelabels <excludelabels> [<excludelabels> ...]\n",
      "                        labels to exclude (default NaN, values any list)\n",
      "  -L <labelname>, --labelname <labelname>\n",
      "                        label name (default label)\n",
      "  -l <labelfile>, --labelfile <labelfile>\n",
      "                        label filename\n",
      "  -A <aliases>, --aliases <aliases>\n",
      "                        the dictionary for label renaming (es: {\"oldlabel\":\n",
      "                        \"newlabel\"})\n",
      "  -b <seed>, --seed <seed>\n",
      "                        random seed (default: 1)\n",
      "  -r <repeat>, --repeat <repeat>\n",
      "                        n. of iteration (default: 10)\n",
      "  -f <folds>, --folds <folds>\n",
      "                        n. of cv folds (default: 5)\n",
      "  -j <jobs>, --jobs <jobs>\n",
      "                        n. of parallel jobs (default: -1)\n",
      "  -B, --batch           enable batch mode (no output)\n",
      "  -sf <subfolds>, --subfolds <subfolds>\n",
      "                        n. of folds for subsampling (default: 0 - no\n",
      "                        subsampling)\n",
      "  -P, --proba           enable probability mode output (default disabled)\n",
      "  -o <outfile>, --outfile <outfile>\n",
      "                        output file for performance measures sumup\n",
      "  -s <scorefile>, --scorefile <scorefile>\n",
      "                        output file reporting all measurements\n"
     ]
    }
   ],
   "source": [
    "!python EG_prediction.py -h"
   ]
  },
  {
   "cell_type": "code",
   "execution_count": 4,
   "metadata": {},
   "outputs": [
    {
     "name": "stdout",
     "output_type": "stream",
     "text": [
      "METHOD: LGBM\n",
      "PROBL: EvssNE\n",
      "INPUT: Kidney_BIO.csv\n",
      "LABEL: Kidney_HELP.csv MODE: prob\n",
      "SUBSAMPLE: 1:4\n",
      "+-------------+-------------------------------+\n",
      "|             | measure                       |\n",
      "|-------------+-------------------------------|\n",
      "| ROC-AUC     | 0.9275±0.0070                 |\n",
      "| Accuracy    | 0.8695±0.0076                 |\n",
      "| BA          | 0.8357±0.0129                 |\n",
      "| Sensitivity | 0.7784±0.0273                 |\n",
      "| Specificity | 0.8930±0.0091                 |\n",
      "| MCC         | 0.6309±0.0213                 |\n",
      "| CM          | [[9668, 2752], [5147, 42953]] |\n",
      "+-------------+-------------------------------+\n"
     ]
    }
   ],
   "source": [
    "datapath = \"../data\"\n",
    "tissue = \"Kidney\"                               # or 'Lung'\n",
    "labelfile = f\"{tissue}_HELP.csv\"                # label filename\n",
    "#aliases = \"-A \\\"{'aE': 'NE', 'sNE':'NE'}\\\"\"    # dictionary for renaming labels before prediction: es. {'oldlabel': 'newlabel'}\n",
    "aliases = \"\"\n",
    "excludeflags = \"-X aE\"                          # label to remove: es. -X aE (for E vs sNE problem)\n",
    "njobs = \"-1\"                                    # parallelism level: -1 = all cpus, 1 = sequential\n",
    "sfolds = \"4\"                                    # dataset subsampling factor: es: 4 for 1:4 ratio of <minority-class>:<majority-class>\n",
    "!python EG_prediction.py -i {datapath}/{tissue}_BIO.csv -l {datapath}/{labelfile} {aliases} -sf {sfolds} {excludeflags}  -j {njobs} -P -B"
   ]
  }
 ],
 "metadata": {
  "kernelspec": {
   "display_name": "base",
   "language": "python",
   "name": "python3"
  },
  "language_info": {
   "codemirror_mode": {
    "name": "ipython",
    "version": 3
   },
   "file_extension": ".py",
   "mimetype": "text/x-python",
   "name": "python",
   "nbconvert_exporter": "python",
   "pygments_lexer": "ipython3",
   "version": "3.10.13"
  }
 },
 "nbformat": 4,
 "nbformat_minor": 2
}
