{
 "cells": [
  {
   "cell_type": "markdown",
   "metadata": {},
   "source": [
    "# Set data path"
   ]
  },
  {
   "cell_type": "code",
   "execution_count": 8,
   "metadata": {},
   "outputs": [],
   "source": [
    "datapath = \"../data\"\n",
    "import warnings\n",
    "warnings.filterwarnings(\"ignore\")"
   ]
  },
  {
   "cell_type": "markdown",
   "metadata": {},
   "source": [
    "# Load the CRISPR data file"
   ]
  },
  {
   "cell_type": "code",
   "execution_count": 3,
   "metadata": {},
   "outputs": [
    {
     "name": "stdout",
     "output_type": "stream",
     "text": [
      "739493 NaN over 20287300 values\n"
     ]
    },
    {
     "data": {
      "text/html": [
       "<div>\n",
       "<style scoped>\n",
       "    .dataframe tbody tr th:only-of-type {\n",
       "        vertical-align: middle;\n",
       "    }\n",
       "\n",
       "    .dataframe tbody tr th {\n",
       "        vertical-align: top;\n",
       "    }\n",
       "\n",
       "    .dataframe thead th {\n",
       "        text-align: right;\n",
       "    }\n",
       "</style>\n",
       "<table border=\"1\" class=\"dataframe\">\n",
       "  <thead>\n",
       "    <tr style=\"text-align: right;\">\n",
       "      <th>gene</th>\n",
       "      <th>ACH-000001</th>\n",
       "      <th>ACH-000004</th>\n",
       "      <th>ACH-000005</th>\n",
       "      <th>ACH-000007</th>\n",
       "      <th>ACH-000009</th>\n",
       "      <th>...</th>\n",
       "      <th>ACH-002834</th>\n",
       "      <th>ACH-002847</th>\n",
       "      <th>ACH-002922</th>\n",
       "      <th>ACH-002925</th>\n",
       "      <th>ACH-002926</th>\n",
       "    </tr>\n",
       "  </thead>\n",
       "  <tbody>\n",
       "    <tr>\n",
       "      <th>A1BG</th>\n",
       "      <td>-0.122637</td>\n",
       "      <td>0.019756</td>\n",
       "      <td>-0.107208</td>\n",
       "      <td>-0.031027</td>\n",
       "      <td>0.008888</td>\n",
       "      <td>...</td>\n",
       "      <td>-0.055721</td>\n",
       "      <td>-0.009973</td>\n",
       "      <td>-0.025991</td>\n",
       "      <td>-0.127639</td>\n",
       "      <td>-0.068666</td>\n",
       "    </tr>\n",
       "    <tr>\n",
       "      <th>A1CF</th>\n",
       "      <td>0.025881</td>\n",
       "      <td>-0.083640</td>\n",
       "      <td>-0.023211</td>\n",
       "      <td>-0.137850</td>\n",
       "      <td>-0.146566</td>\n",
       "      <td>...</td>\n",
       "      <td>-0.121228</td>\n",
       "      <td>-0.119813</td>\n",
       "      <td>-0.007706</td>\n",
       "      <td>-0.040705</td>\n",
       "      <td>-0.107530</td>\n",
       "    </tr>\n",
       "    <tr>\n",
       "      <th>A2M</th>\n",
       "      <td>0.034217</td>\n",
       "      <td>-0.060118</td>\n",
       "      <td>0.200204</td>\n",
       "      <td>0.067704</td>\n",
       "      <td>0.084471</td>\n",
       "      <td>...</td>\n",
       "      <td>0.072790</td>\n",
       "      <td>0.044097</td>\n",
       "      <td>-0.038468</td>\n",
       "      <td>0.134556</td>\n",
       "      <td>0.067806</td>\n",
       "    </tr>\n",
       "    <tr>\n",
       "      <th>A2ML1</th>\n",
       "      <td>-0.128082</td>\n",
       "      <td>-0.027417</td>\n",
       "      <td>0.116039</td>\n",
       "      <td>0.107988</td>\n",
       "      <td>0.089419</td>\n",
       "      <td>...</td>\n",
       "      <td>0.021916</td>\n",
       "      <td>0.041358</td>\n",
       "      <td>0.236576</td>\n",
       "      <td>-0.047984</td>\n",
       "      <td>0.112071</td>\n",
       "    </tr>\n",
       "    <tr>\n",
       "      <th>A3GALT2</th>\n",
       "      <td>-0.031285</td>\n",
       "      <td>-0.036116</td>\n",
       "      <td>-0.172227</td>\n",
       "      <td>0.007992</td>\n",
       "      <td>0.065109</td>\n",
       "      <td>...</td>\n",
       "      <td>-0.221940</td>\n",
       "      <td>-0.146565</td>\n",
       "      <td>-0.239690</td>\n",
       "      <td>-0.116114</td>\n",
       "      <td>-0.149897</td>\n",
       "    </tr>\n",
       "    <tr>\n",
       "      <th>...</th>\n",
       "      <td>...</td>\n",
       "      <td>...</td>\n",
       "      <td>...</td>\n",
       "      <td>...</td>\n",
       "      <td>...</td>\n",
       "      <td>...</td>\n",
       "      <td>...</td>\n",
       "      <td>...</td>\n",
       "      <td>...</td>\n",
       "      <td>...</td>\n",
       "      <td>...</td>\n",
       "    </tr>\n",
       "    <tr>\n",
       "      <th>ZYG11A</th>\n",
       "      <td>-0.289724</td>\n",
       "      <td>0.032983</td>\n",
       "      <td>-0.201273</td>\n",
       "      <td>-0.100344</td>\n",
       "      <td>-0.112703</td>\n",
       "      <td>...</td>\n",
       "      <td>0.024959</td>\n",
       "      <td>-0.119911</td>\n",
       "      <td>-0.079342</td>\n",
       "      <td>-0.043555</td>\n",
       "      <td>-0.045115</td>\n",
       "    </tr>\n",
       "    <tr>\n",
       "      <th>ZYG11B</th>\n",
       "      <td>-0.062972</td>\n",
       "      <td>-0.410392</td>\n",
       "      <td>-0.178877</td>\n",
       "      <td>-0.462160</td>\n",
       "      <td>-0.598698</td>\n",
       "      <td>...</td>\n",
       "      <td>0.015259</td>\n",
       "      <td>-0.289412</td>\n",
       "      <td>-0.347484</td>\n",
       "      <td>-0.335270</td>\n",
       "      <td>-0.307900</td>\n",
       "    </tr>\n",
       "    <tr>\n",
       "      <th>ZYX</th>\n",
       "      <td>0.074180</td>\n",
       "      <td>0.113156</td>\n",
       "      <td>-0.055349</td>\n",
       "      <td>-0.001555</td>\n",
       "      <td>0.095877</td>\n",
       "      <td>...</td>\n",
       "      <td>-0.306562</td>\n",
       "      <td>-0.195097</td>\n",
       "      <td>-0.085302</td>\n",
       "      <td>-0.208063</td>\n",
       "      <td>0.070671</td>\n",
       "    </tr>\n",
       "    <tr>\n",
       "      <th>ZZEF1</th>\n",
       "      <td>0.111244</td>\n",
       "      <td>0.234388</td>\n",
       "      <td>-0.002161</td>\n",
       "      <td>-0.325964</td>\n",
       "      <td>-0.026742</td>\n",
       "      <td>...</td>\n",
       "      <td>-0.148368</td>\n",
       "      <td>-0.206400</td>\n",
       "      <td>-0.095965</td>\n",
       "      <td>-0.094741</td>\n",
       "      <td>-0.187813</td>\n",
       "    </tr>\n",
       "    <tr>\n",
       "      <th>ZZZ3</th>\n",
       "      <td>-0.467908</td>\n",
       "      <td>-0.088306</td>\n",
       "      <td>-0.186842</td>\n",
       "      <td>-0.486660</td>\n",
       "      <td>-0.320759</td>\n",
       "      <td>...</td>\n",
       "      <td>-0.579576</td>\n",
       "      <td>-0.486525</td>\n",
       "      <td>-0.346272</td>\n",
       "      <td>-0.222404</td>\n",
       "      <td>-0.452143</td>\n",
       "    </tr>\n",
       "  </tbody>\n",
       "</table>\n",
       "<p>18443 rows × 1100 columns</p>\n",
       "</div>"
      ],
      "text/plain": [
       "gene     ACH-000001  ACH-000004  ACH-000005  ACH-000007  ACH-000009  ...  \\\n",
       "A1BG      -0.122637    0.019756   -0.107208   -0.031027    0.008888  ...   \n",
       "A1CF       0.025881   -0.083640   -0.023211   -0.137850   -0.146566  ...   \n",
       "A2M        0.034217   -0.060118    0.200204    0.067704    0.084471  ...   \n",
       "A2ML1     -0.128082   -0.027417    0.116039    0.107988    0.089419  ...   \n",
       "A3GALT2   -0.031285   -0.036116   -0.172227    0.007992    0.065109  ...   \n",
       "...             ...         ...         ...         ...         ...  ...   \n",
       "ZYG11A    -0.289724    0.032983   -0.201273   -0.100344   -0.112703  ...   \n",
       "ZYG11B    -0.062972   -0.410392   -0.178877   -0.462160   -0.598698  ...   \n",
       "ZYX        0.074180    0.113156   -0.055349   -0.001555    0.095877  ...   \n",
       "ZZEF1      0.111244    0.234388   -0.002161   -0.325964   -0.026742  ...   \n",
       "ZZZ3      -0.467908   -0.088306   -0.186842   -0.486660   -0.320759  ...   \n",
       "\n",
       "gene     ACH-002834  ACH-002847  ACH-002922  ACH-002925  ACH-002926  \n",
       "A1BG      -0.055721   -0.009973   -0.025991   -0.127639   -0.068666  \n",
       "A1CF      -0.121228   -0.119813   -0.007706   -0.040705   -0.107530  \n",
       "A2M        0.072790    0.044097   -0.038468    0.134556    0.067806  \n",
       "A2ML1      0.021916    0.041358    0.236576   -0.047984    0.112071  \n",
       "A3GALT2   -0.221940   -0.146565   -0.239690   -0.116114   -0.149897  \n",
       "...             ...         ...         ...         ...         ...  \n",
       "ZYG11A     0.024959   -0.119911   -0.079342   -0.043555   -0.045115  \n",
       "ZYG11B     0.015259   -0.289412   -0.347484   -0.335270   -0.307900  \n",
       "ZYX       -0.306562   -0.195097   -0.085302   -0.208063    0.070671  \n",
       "ZZEF1     -0.148368   -0.206400   -0.095965   -0.094741   -0.187813  \n",
       "ZZZ3      -0.579576   -0.486525   -0.346272   -0.222404   -0.452143  \n",
       "\n",
       "[18443 rows x 1100 columns]"
      ]
     },
     "execution_count": 3,
     "metadata": {},
     "output_type": "execute_result"
    }
   ],
   "source": [
    "import pandas as pd\n",
    "pd.set_option('display.max_columns', 10)\n",
    "import os\n",
    "df_orig = pd.read_csv(os.path.join(datapath, \"CRISPRGeneEffect.csv\")).rename(columns={'Unnamed: 0': 'gene'}).rename(columns=lambda x: x.split(' ')[0]).set_index('gene').T\n",
    "print(f'{df_orig.isna().sum().sum()} NaN over {len(df_orig)*len(df_orig.columns)} values')\n",
    "df_orig"
   ]
  },
  {
   "cell_type": "markdown",
   "metadata": {},
   "source": [
    "# Load the map between cell lines and tissues"
   ]
  },
  {
   "cell_type": "markdown",
   "metadata": {},
   "source": [
    "In this code we load the file that maps cell-lines identifiers (column `ModelID`) to tissue, disease or tumor type (respectively: `OncotreeLineage`,  `OncotreePrimaryDisease`,\t`OncotreeSubtype`). As a second step, we print the counts of lines for each tissue."
   ]
  },
  {
   "cell_type": "code",
   "execution_count": 4,
   "metadata": {},
   "outputs": [
    {
     "name": "stdout",
     "output_type": "stream",
     "text": [
      "OncotreeLineage          \n",
      "Lung                         249\n",
      "Lymphoid                     211\n",
      "CNS/Brain                    122\n",
      "Skin                         120\n",
      "Esophagus/Stomach             95\n",
      "Breast                        94\n",
      "Bowel                         89\n",
      "Head and Neck                 84\n",
      "Bone                          77\n",
      "Myeloid                       77\n",
      "Ovary/Fallopian Tube          75\n",
      "Kidney                        73\n",
      "Pancreas                      66\n",
      "Peripheral Nervous System     56\n",
      "Soft Tissue                   55\n",
      "Biliary Tract                 44\n",
      "Uterus                        41\n",
      "Fibroblast                    41\n",
      "Bladder/Urinary Tract         39\n",
      "Normal                        39\n",
      "Pleura                        35\n",
      "Liver                         29\n",
      "Cervix                        25\n",
      "Eye                           21\n",
      "Thyroid                       18\n",
      "Prostate                      15\n",
      "Testis                         7\n",
      "Vulva/Vagina                   5\n",
      "Muscle                         5\n",
      "Ampulla of Vater               4\n",
      "Hair                           2\n",
      "Other                          1\n",
      "Embryonal                      1\n",
      "Adrenal Gland                  1\n",
      "Name: count, dtype: int64\n"
     ]
    },
    {
     "data": {
      "text/html": [
       "<div>\n",
       "<style scoped>\n",
       "    .dataframe tbody tr th:only-of-type {\n",
       "        vertical-align: middle;\n",
       "    }\n",
       "\n",
       "    .dataframe tbody tr th {\n",
       "        vertical-align: top;\n",
       "    }\n",
       "\n",
       "    .dataframe thead th {\n",
       "        text-align: right;\n",
       "    }\n",
       "</style>\n",
       "<table border=\"1\" class=\"dataframe\">\n",
       "  <thead>\n",
       "    <tr style=\"text-align: right;\">\n",
       "      <th></th>\n",
       "      <th>ModelID</th>\n",
       "      <th>PatientID</th>\n",
       "      <th>CellLineName</th>\n",
       "      <th>StrippedCellLineName</th>\n",
       "      <th>DepmapModelType</th>\n",
       "      <th>...</th>\n",
       "      <th>PublicComments</th>\n",
       "      <th>WTSIMasterCellID</th>\n",
       "      <th>SangerModelID</th>\n",
       "      <th>COSMICID</th>\n",
       "      <th>LegacySubSubtype</th>\n",
       "    </tr>\n",
       "  </thead>\n",
       "  <tbody>\n",
       "    <tr>\n",
       "      <th>0</th>\n",
       "      <td>ACH-000001</td>\n",
       "      <td>PT-gj46wT</td>\n",
       "      <td>NIH:OVCAR-3</td>\n",
       "      <td>NIHOVCAR3</td>\n",
       "      <td>HGSOC</td>\n",
       "      <td>...</td>\n",
       "      <td>NaN</td>\n",
       "      <td>2201.0</td>\n",
       "      <td>SIDM00105</td>\n",
       "      <td>905933.0</td>\n",
       "      <td>high_grade_serous</td>\n",
       "    </tr>\n",
       "    <tr>\n",
       "      <th>1</th>\n",
       "      <td>ACH-000002</td>\n",
       "      <td>PT-5qa3uk</td>\n",
       "      <td>HL-60</td>\n",
       "      <td>HL60</td>\n",
       "      <td>AML</td>\n",
       "      <td>...</td>\n",
       "      <td>NaN</td>\n",
       "      <td>55.0</td>\n",
       "      <td>SIDM00829</td>\n",
       "      <td>905938.0</td>\n",
       "      <td>M3</td>\n",
       "    </tr>\n",
       "    <tr>\n",
       "      <th>2</th>\n",
       "      <td>ACH-000003</td>\n",
       "      <td>PT-puKIyc</td>\n",
       "      <td>CACO2</td>\n",
       "      <td>CACO2</td>\n",
       "      <td>COAD</td>\n",
       "      <td>...</td>\n",
       "      <td>NaN</td>\n",
       "      <td>NaN</td>\n",
       "      <td>SIDM00891</td>\n",
       "      <td>NaN</td>\n",
       "      <td>NaN</td>\n",
       "    </tr>\n",
       "    <tr>\n",
       "      <th>3</th>\n",
       "      <td>ACH-000004</td>\n",
       "      <td>PT-q4K2cp</td>\n",
       "      <td>HEL</td>\n",
       "      <td>HEL</td>\n",
       "      <td>AML</td>\n",
       "      <td>...</td>\n",
       "      <td>NaN</td>\n",
       "      <td>783.0</td>\n",
       "      <td>SIDM00594</td>\n",
       "      <td>907053.0</td>\n",
       "      <td>M6</td>\n",
       "    </tr>\n",
       "    <tr>\n",
       "      <th>4</th>\n",
       "      <td>ACH-000005</td>\n",
       "      <td>PT-q4K2cp</td>\n",
       "      <td>HEL 92.1.7</td>\n",
       "      <td>HEL9217</td>\n",
       "      <td>AML</td>\n",
       "      <td>...</td>\n",
       "      <td>NaN</td>\n",
       "      <td>NaN</td>\n",
       "      <td>SIDM00593</td>\n",
       "      <td>NaN</td>\n",
       "      <td>M6</td>\n",
       "    </tr>\n",
       "    <tr>\n",
       "      <th>...</th>\n",
       "      <td>...</td>\n",
       "      <td>...</td>\n",
       "      <td>...</td>\n",
       "      <td>...</td>\n",
       "      <td>...</td>\n",
       "      <td>...</td>\n",
       "      <td>...</td>\n",
       "      <td>...</td>\n",
       "      <td>...</td>\n",
       "      <td>...</td>\n",
       "      <td>...</td>\n",
       "    </tr>\n",
       "    <tr>\n",
       "      <th>1916</th>\n",
       "      <td>ACH-003157</td>\n",
       "      <td>PT-QDEP9D</td>\n",
       "      <td>ABM-T0822</td>\n",
       "      <td>ABMT0822</td>\n",
       "      <td>ZIMMMPLC</td>\n",
       "      <td>...</td>\n",
       "      <td>NaN</td>\n",
       "      <td>NaN</td>\n",
       "      <td>NaN</td>\n",
       "      <td>NaN</td>\n",
       "      <td>NaN</td>\n",
       "    </tr>\n",
       "    <tr>\n",
       "      <th>1917</th>\n",
       "      <td>ACH-003158</td>\n",
       "      <td>PT-nszsxG</td>\n",
       "      <td>ABM-T9220</td>\n",
       "      <td>ABMT9220</td>\n",
       "      <td>ZIMMSMCI</td>\n",
       "      <td>...</td>\n",
       "      <td>NaN</td>\n",
       "      <td>NaN</td>\n",
       "      <td>NaN</td>\n",
       "      <td>NaN</td>\n",
       "      <td>NaN</td>\n",
       "    </tr>\n",
       "    <tr>\n",
       "      <th>1918</th>\n",
       "      <td>ACH-003159</td>\n",
       "      <td>PT-AUxVvV</td>\n",
       "      <td>ABM-T9233</td>\n",
       "      <td>ABMT9233</td>\n",
       "      <td>ZIMMRSCH</td>\n",
       "      <td>...</td>\n",
       "      <td>NaN</td>\n",
       "      <td>NaN</td>\n",
       "      <td>NaN</td>\n",
       "      <td>NaN</td>\n",
       "      <td>NaN</td>\n",
       "    </tr>\n",
       "    <tr>\n",
       "      <th>1919</th>\n",
       "      <td>ACH-003160</td>\n",
       "      <td>PT-AUxVvV</td>\n",
       "      <td>ABM-T9249</td>\n",
       "      <td>ABMT9249</td>\n",
       "      <td>ZIMMGMCH</td>\n",
       "      <td>...</td>\n",
       "      <td>NaN</td>\n",
       "      <td>NaN</td>\n",
       "      <td>NaN</td>\n",
       "      <td>NaN</td>\n",
       "      <td>NaN</td>\n",
       "    </tr>\n",
       "    <tr>\n",
       "      <th>1920</th>\n",
       "      <td>ACH-003161</td>\n",
       "      <td>PT-or1hkT</td>\n",
       "      <td>ABM-T9430</td>\n",
       "      <td>ABMT9430</td>\n",
       "      <td>ZIMMPSC</td>\n",
       "      <td>...</td>\n",
       "      <td>NaN</td>\n",
       "      <td>NaN</td>\n",
       "      <td>NaN</td>\n",
       "      <td>NaN</td>\n",
       "      <td>NaN</td>\n",
       "    </tr>\n",
       "  </tbody>\n",
       "</table>\n",
       "<p>1921 rows × 36 columns</p>\n",
       "</div>"
      ],
      "text/plain": [
       "         ModelID  PatientID CellLineName StrippedCellLineName DepmapModelType  \\\n",
       "0     ACH-000001  PT-gj46wT  NIH:OVCAR-3            NIHOVCAR3           HGSOC   \n",
       "1     ACH-000002  PT-5qa3uk        HL-60                 HL60             AML   \n",
       "2     ACH-000003  PT-puKIyc        CACO2                CACO2            COAD   \n",
       "3     ACH-000004  PT-q4K2cp          HEL                  HEL             AML   \n",
       "4     ACH-000005  PT-q4K2cp   HEL 92.1.7              HEL9217             AML   \n",
       "...          ...        ...          ...                  ...             ...   \n",
       "1916  ACH-003157  PT-QDEP9D    ABM-T0822             ABMT0822        ZIMMMPLC   \n",
       "1917  ACH-003158  PT-nszsxG    ABM-T9220             ABMT9220        ZIMMSMCI   \n",
       "1918  ACH-003159  PT-AUxVvV    ABM-T9233             ABMT9233        ZIMMRSCH   \n",
       "1919  ACH-003160  PT-AUxVvV    ABM-T9249             ABMT9249        ZIMMGMCH   \n",
       "1920  ACH-003161  PT-or1hkT    ABM-T9430             ABMT9430         ZIMMPSC   \n",
       "\n",
       "      ... PublicComments WTSIMasterCellID SangerModelID  COSMICID  \\\n",
       "0     ...            NaN           2201.0     SIDM00105  905933.0   \n",
       "1     ...            NaN             55.0     SIDM00829  905938.0   \n",
       "2     ...            NaN              NaN     SIDM00891       NaN   \n",
       "3     ...            NaN            783.0     SIDM00594  907053.0   \n",
       "4     ...            NaN              NaN     SIDM00593       NaN   \n",
       "...   ...            ...              ...           ...       ...   \n",
       "1916  ...            NaN              NaN           NaN       NaN   \n",
       "1917  ...            NaN              NaN           NaN       NaN   \n",
       "1918  ...            NaN              NaN           NaN       NaN   \n",
       "1919  ...            NaN              NaN           NaN       NaN   \n",
       "1920  ...            NaN              NaN           NaN       NaN   \n",
       "\n",
       "       LegacySubSubtype  \n",
       "0     high_grade_serous  \n",
       "1                    M3  \n",
       "2                   NaN  \n",
       "3                    M6  \n",
       "4                    M6  \n",
       "...                 ...  \n",
       "1916                NaN  \n",
       "1917                NaN  \n",
       "1918                NaN  \n",
       "1919                NaN  \n",
       "1920                NaN  \n",
       "\n",
       "[1921 rows x 36 columns]"
      ]
     },
     "execution_count": 4,
     "metadata": {},
     "output_type": "execute_result"
    }
   ],
   "source": [
    "df_map = pd.read_csv(os.path.join(datapath, \"Model.csv\"))\n",
    "print(df_map[['OncotreeLineage']].value_counts())\n",
    "df_map"
   ]
  },
  {
   "cell_type": "markdown",
   "metadata": {},
   "source": [
    "# Common Egs (pan-tissue labelling)\n",
    "We can apply the labelling algorithm to all cell lines present in the CRISPR data file to compute the common essential genes, i.e. the *pan-tissue* (or pan-cancer, pan-disease, etc). This set of labels will be used in the following to get the context-specific essential genes for single tissue."
   ]
  },
  {
   "cell_type": "markdown",
   "metadata": {},
   "source": [
    "### Ignoring in Model tissue with few cell-lines\n",
    "in this code we select in the CRISPR data file only cell lines belonging to tissue reported in the Model such that the number of lines is greater (or equal) to a specific amount."
   ]
  },
  {
   "cell_type": "code",
   "execution_count": 17,
   "metadata": {
    "execution": {
     "iopub.execute_input": "2024-02-13T13:08:27.481208Z",
     "iopub.status.busy": "2024-02-13T13:08:27.479657Z",
     "iopub.status.idle": "2024-02-13T13:08:27.670698Z",
     "shell.execute_reply": "2024-02-13T13:08:27.669469Z",
     "shell.execute_reply.started": "2024-02-13T13:08:27.481156Z"
    }
   },
   "outputs": [
    {
     "data": {
      "text/html": [
       "<div>\n",
       "<style scoped>\n",
       "    .dataframe tbody tr th:only-of-type {\n",
       "        vertical-align: middle;\n",
       "    }\n",
       "\n",
       "    .dataframe tbody tr th {\n",
       "        vertical-align: top;\n",
       "    }\n",
       "\n",
       "    .dataframe thead th {\n",
       "        text-align: right;\n",
       "    }\n",
       "</style>\n",
       "<table border=\"1\" class=\"dataframe\">\n",
       "  <thead>\n",
       "    <tr style=\"text-align: right;\">\n",
       "      <th>gene</th>\n",
       "      <th>ACH-000001</th>\n",
       "      <th>ACH-000004</th>\n",
       "      <th>ACH-000005</th>\n",
       "      <th>ACH-000007</th>\n",
       "      <th>ACH-000009</th>\n",
       "      <th>...</th>\n",
       "      <th>ACH-002834</th>\n",
       "      <th>ACH-002847</th>\n",
       "      <th>ACH-002922</th>\n",
       "      <th>ACH-002925</th>\n",
       "      <th>ACH-002926</th>\n",
       "    </tr>\n",
       "  </thead>\n",
       "  <tbody>\n",
       "    <tr>\n",
       "      <th>A1BG</th>\n",
       "      <td>-0.122637</td>\n",
       "      <td>0.019756</td>\n",
       "      <td>-0.107208</td>\n",
       "      <td>-0.031027</td>\n",
       "      <td>0.008888</td>\n",
       "      <td>...</td>\n",
       "      <td>-0.055721</td>\n",
       "      <td>-0.009973</td>\n",
       "      <td>-0.025991</td>\n",
       "      <td>-0.127639</td>\n",
       "      <td>-0.068666</td>\n",
       "    </tr>\n",
       "    <tr>\n",
       "      <th>A1CF</th>\n",
       "      <td>0.025881</td>\n",
       "      <td>-0.083640</td>\n",
       "      <td>-0.023211</td>\n",
       "      <td>-0.137850</td>\n",
       "      <td>-0.146566</td>\n",
       "      <td>...</td>\n",
       "      <td>-0.121228</td>\n",
       "      <td>-0.119813</td>\n",
       "      <td>-0.007706</td>\n",
       "      <td>-0.040705</td>\n",
       "      <td>-0.107530</td>\n",
       "    </tr>\n",
       "    <tr>\n",
       "      <th>A2M</th>\n",
       "      <td>0.034217</td>\n",
       "      <td>-0.060118</td>\n",
       "      <td>0.200204</td>\n",
       "      <td>0.067704</td>\n",
       "      <td>0.084471</td>\n",
       "      <td>...</td>\n",
       "      <td>0.072790</td>\n",
       "      <td>0.044097</td>\n",
       "      <td>-0.038468</td>\n",
       "      <td>0.134556</td>\n",
       "      <td>0.067806</td>\n",
       "    </tr>\n",
       "    <tr>\n",
       "      <th>A2ML1</th>\n",
       "      <td>-0.128082</td>\n",
       "      <td>-0.027417</td>\n",
       "      <td>0.116039</td>\n",
       "      <td>0.107988</td>\n",
       "      <td>0.089419</td>\n",
       "      <td>...</td>\n",
       "      <td>0.021916</td>\n",
       "      <td>0.041358</td>\n",
       "      <td>0.236576</td>\n",
       "      <td>-0.047984</td>\n",
       "      <td>0.112071</td>\n",
       "    </tr>\n",
       "    <tr>\n",
       "      <th>A3GALT2</th>\n",
       "      <td>-0.031285</td>\n",
       "      <td>-0.036116</td>\n",
       "      <td>-0.172227</td>\n",
       "      <td>0.007992</td>\n",
       "      <td>0.065109</td>\n",
       "      <td>...</td>\n",
       "      <td>-0.221940</td>\n",
       "      <td>-0.146565</td>\n",
       "      <td>-0.239690</td>\n",
       "      <td>-0.116114</td>\n",
       "      <td>-0.149897</td>\n",
       "    </tr>\n",
       "    <tr>\n",
       "      <th>...</th>\n",
       "      <td>...</td>\n",
       "      <td>...</td>\n",
       "      <td>...</td>\n",
       "      <td>...</td>\n",
       "      <td>...</td>\n",
       "      <td>...</td>\n",
       "      <td>...</td>\n",
       "      <td>...</td>\n",
       "      <td>...</td>\n",
       "      <td>...</td>\n",
       "      <td>...</td>\n",
       "    </tr>\n",
       "    <tr>\n",
       "      <th>ZYG11A</th>\n",
       "      <td>-0.289724</td>\n",
       "      <td>0.032983</td>\n",
       "      <td>-0.201273</td>\n",
       "      <td>-0.100344</td>\n",
       "      <td>-0.112703</td>\n",
       "      <td>...</td>\n",
       "      <td>0.024959</td>\n",
       "      <td>-0.119911</td>\n",
       "      <td>-0.079342</td>\n",
       "      <td>-0.043555</td>\n",
       "      <td>-0.045115</td>\n",
       "    </tr>\n",
       "    <tr>\n",
       "      <th>ZYG11B</th>\n",
       "      <td>-0.062972</td>\n",
       "      <td>-0.410392</td>\n",
       "      <td>-0.178877</td>\n",
       "      <td>-0.462160</td>\n",
       "      <td>-0.598698</td>\n",
       "      <td>...</td>\n",
       "      <td>0.015259</td>\n",
       "      <td>-0.289412</td>\n",
       "      <td>-0.347484</td>\n",
       "      <td>-0.335270</td>\n",
       "      <td>-0.307900</td>\n",
       "    </tr>\n",
       "    <tr>\n",
       "      <th>ZYX</th>\n",
       "      <td>0.074180</td>\n",
       "      <td>0.113156</td>\n",
       "      <td>-0.055349</td>\n",
       "      <td>-0.001555</td>\n",
       "      <td>0.095877</td>\n",
       "      <td>...</td>\n",
       "      <td>-0.306562</td>\n",
       "      <td>-0.195097</td>\n",
       "      <td>-0.085302</td>\n",
       "      <td>-0.208063</td>\n",
       "      <td>0.070671</td>\n",
       "    </tr>\n",
       "    <tr>\n",
       "      <th>ZZEF1</th>\n",
       "      <td>0.111244</td>\n",
       "      <td>0.234388</td>\n",
       "      <td>-0.002161</td>\n",
       "      <td>-0.325964</td>\n",
       "      <td>-0.026742</td>\n",
       "      <td>...</td>\n",
       "      <td>-0.148368</td>\n",
       "      <td>-0.206400</td>\n",
       "      <td>-0.095965</td>\n",
       "      <td>-0.094741</td>\n",
       "      <td>-0.187813</td>\n",
       "    </tr>\n",
       "    <tr>\n",
       "      <th>ZZZ3</th>\n",
       "      <td>-0.467908</td>\n",
       "      <td>-0.088306</td>\n",
       "      <td>-0.186842</td>\n",
       "      <td>-0.486660</td>\n",
       "      <td>-0.320759</td>\n",
       "      <td>...</td>\n",
       "      <td>-0.579576</td>\n",
       "      <td>-0.486525</td>\n",
       "      <td>-0.346272</td>\n",
       "      <td>-0.222404</td>\n",
       "      <td>-0.452143</td>\n",
       "    </tr>\n",
       "  </tbody>\n",
       "</table>\n",
       "<p>18443 rows × 1091 columns</p>\n",
       "</div>"
      ],
      "text/plain": [
       "gene     ACH-000001  ACH-000004  ACH-000005  ACH-000007  ACH-000009  ...  \\\n",
       "A1BG      -0.122637    0.019756   -0.107208   -0.031027    0.008888  ...   \n",
       "A1CF       0.025881   -0.083640   -0.023211   -0.137850   -0.146566  ...   \n",
       "A2M        0.034217   -0.060118    0.200204    0.067704    0.084471  ...   \n",
       "A2ML1     -0.128082   -0.027417    0.116039    0.107988    0.089419  ...   \n",
       "A3GALT2   -0.031285   -0.036116   -0.172227    0.007992    0.065109  ...   \n",
       "...             ...         ...         ...         ...         ...  ...   \n",
       "ZYG11A    -0.289724    0.032983   -0.201273   -0.100344   -0.112703  ...   \n",
       "ZYG11B    -0.062972   -0.410392   -0.178877   -0.462160   -0.598698  ...   \n",
       "ZYX        0.074180    0.113156   -0.055349   -0.001555    0.095877  ...   \n",
       "ZZEF1      0.111244    0.234388   -0.002161   -0.325964   -0.026742  ...   \n",
       "ZZZ3      -0.467908   -0.088306   -0.186842   -0.486660   -0.320759  ...   \n",
       "\n",
       "gene     ACH-002834  ACH-002847  ACH-002922  ACH-002925  ACH-002926  \n",
       "A1BG      -0.055721   -0.009973   -0.025991   -0.127639   -0.068666  \n",
       "A1CF      -0.121228   -0.119813   -0.007706   -0.040705   -0.107530  \n",
       "A2M        0.072790    0.044097   -0.038468    0.134556    0.067806  \n",
       "A2ML1      0.021916    0.041358    0.236576   -0.047984    0.112071  \n",
       "A3GALT2   -0.221940   -0.146565   -0.239690   -0.116114   -0.149897  \n",
       "...             ...         ...         ...         ...         ...  \n",
       "ZYG11A     0.024959   -0.119911   -0.079342   -0.043555   -0.045115  \n",
       "ZYG11B     0.015259   -0.289412   -0.347484   -0.335270   -0.307900  \n",
       "ZYX       -0.306562   -0.195097   -0.085302   -0.208063    0.070671  \n",
       "ZZEF1     -0.148368   -0.206400   -0.095965   -0.094741   -0.187813  \n",
       "ZZZ3      -0.579576   -0.486525   -0.346272   -0.222404   -0.452143  \n",
       "\n",
       "[18443 rows x 1091 columns]"
      ]
     },
     "execution_count": 17,
     "metadata": {},
     "output_type": "execute_result"
    }
   ],
   "source": [
    "from help.utility.selection import filter_crispr_by_model\n",
    "df = filter_crispr_by_model(df_orig, df_map, minlines=10, line_group='OncotreeLineage')\n",
    "df"
   ]
  },
  {
   "cell_type": "markdown",
   "metadata": {},
   "source": [
    "### labelling EGs across tissues\n",
    "In this example we compute common EGs by applying the labelling algorithm within each tissue-specufic cell lines. Then the common essentiality label is computed by making the mode of previously-computed labels across tissue.\n",
    "In order to do that, we with need to select cell-lines form the `Model.csv` as a nested list of lists of cell-lines. THis is \n",
    "obtained by properly calling the `select-cell-Lines` function.\n"
   ]
  },
  {
   "cell_type": "code",
   "execution_count": 42,
   "metadata": {},
   "outputs": [
    {
     "name": "stdout",
     "output_type": "stream",
     "text": [
      "Selecting 24 tissue for a total of 1091 cell-lines\n"
     ]
    }
   ],
   "source": [
    "from help.utility.selection import select_cell_lines, delrows_with_nan_percentage\n",
    "from help.models.labelling import labelling\n",
    "cell_lines = select_cell_lines(df, df_map, tissue_list='all', nested=True)\n",
    "print(f\"Selecting {len(cell_lines)} tissue for a total of {sum([len(x) for x in cell_lines])} cell-lines\")"
   ]
  },
  {
   "cell_type": "markdown",
   "metadata": {},
   "source": [
    "Once selected the tissues as a nested list of cell-lines, we can apply the labelling algorithm with the following coee. Note that we remove from the CRIPSR matrix those genes with a percentage of missing values greater than 80%."
   ]
  },
  {
   "cell_type": "code",
   "execution_count": 35,
   "metadata": {
    "execution": {
     "iopub.execute_input": "2024-02-13T13:09:13.243023Z",
     "iopub.status.busy": "2024-02-13T13:09:13.242652Z",
     "iopub.status.idle": "2024-02-13T13:10:22.102305Z",
     "shell.execute_reply": "2024-02-13T13:10:22.101421Z",
     "shell.execute_reply.started": "2024-02-13T13:09:13.242992Z"
    }
   },
   "outputs": [
    {
     "name": "stdout",
     "output_type": "stream",
     "text": [
      "Removed 512 rows from 18443 with at least 80% NaN\n"
     ]
    },
    {
     "name": "stderr",
     "output_type": "stream",
     "text": [
      "100%|██████████| 34/34 [00:00<00:00, 536.51it/s]\n",
      "100%|██████████| 32/32 [00:00<00:00, 735.38it/s]\n",
      "100%|██████████| 37/37 [00:00<00:00, 732.73it/s]\n",
      "100%|██████████| 59/59 [00:00<00:00, 727.16it/s]\n",
      "100%|██████████| 48/48 [00:00<00:00, 749.96it/s]\n",
      "100%|██████████| 86/86 [00:00<00:00, 747.68it/s]\n",
      "100%|██████████| 18/18 [00:00<00:00, 729.10it/s]\n",
      "100%|██████████| 65/65 [00:00<00:00, 737.15it/s]\n",
      "100%|██████████| 15/15 [00:00<00:00, 675.03it/s]\n",
      "100%|██████████| 72/72 [00:00<00:00, 736.44it/s]\n",
      "100%|██████████| 37/37 [00:00<00:00, 685.08it/s]\n",
      "100%|██████████| 24/24 [00:00<00:00, 744.16it/s]\n",
      "100%|██████████| 119/119 [00:00<00:00, 713.84it/s]\n",
      "100%|██████████| 81/81 [00:00<00:00, 715.60it/s]\n",
      "100%|██████████| 37/37 [00:00<00:00, 739.63it/s]\n",
      "100%|██████████| 59/59 [00:00<00:00, 757.11it/s]\n",
      "100%|██████████| 47/47 [00:00<00:00, 752.14it/s]\n",
      "100%|██████████| 41/41 [00:00<00:00, 730.64it/s]\n",
      "100%|██████████| 19/19 [00:00<00:00, 736.97it/s]\n",
      "100%|██████████| 10/10 [00:00<00:00, 649.65it/s]\n",
      "100%|██████████| 71/71 [00:00<00:00, 754.01it/s]\n",
      "100%|██████████| 36/36 [00:00<00:00, 741.70it/s]\n",
      "100%|██████████| 11/11 [00:00<00:00, 725.30it/s]\n",
      "100%|██████████| 33/33 [00:00<00:00, 711.01it/s]\n"
     ]
    },
    {
     "data": {
      "text/plain": [
       "(label\n",
       " NE       16681\n",
       " E         1250\n",
       " Name: count, dtype: int64,\n",
       " 'Nan: 0')"
      ]
     },
     "execution_count": 35,
     "metadata": {},
     "output_type": "execute_result"
    }
   ],
   "source": [
    "from help.utility.selection import delrows_with_nan_percentage\n",
    "from help.models.labelling import labelling\n",
    "# remove rows with all nans\n",
    "df_nonan = delrows_with_nan_percentage(df, perc=80)\n",
    "df_label = labelling(df_nonan, columns=cell_lines, n_classes=2, labelnames={1: 'NE', 0: 'E'}, \n",
    "                     mode='flat-multi', algorithm='otsu')\n",
    "df_label.to_csv(os.path.join(datapath, \"label_PanTissue_group.csv\"))\n",
    "df_label.value_counts(), f\"Nan: {df_label['label'].isna().sum()}\""
   ]
  },
  {
   "cell_type": "markdown",
   "metadata": {},
   "source": [
    "For comparison, let's compute the common EGs by applying the labelling to all tissue in a flat way. In this case all cell-lines contribute in the same way to the labelling criterium regardless of the related tissue."
   ]
  },
  {
   "cell_type": "code",
   "execution_count": 37,
   "metadata": {},
   "outputs": [
    {
     "name": "stdout",
     "output_type": "stream",
     "text": [
      "Selecting 1091 cell-lines\n"
     ]
    }
   ],
   "source": [
    "from help.utility.selection import select_cell_lines, delrows_with_nan_percentage\n",
    "from help.models.labelling import labelling\n",
    "cell_lines = select_cell_lines(df, df_map, tissue_list='all', nested=False)\n",
    "print(f\"Selecting {len([len(x) for x in cell_lines])} cell-lines\")"
   ]
  },
  {
   "cell_type": "markdown",
   "metadata": {},
   "source": [
    "Once selected all cell-lines as a flat list of identifiers, we can apply the labelling algorithm with the following code. Also in this case we remove from the CRIPSR matrix those genes with a percentage of missing values greater than 80%."
   ]
  },
  {
   "cell_type": "code",
   "execution_count": 38,
   "metadata": {},
   "outputs": [
    {
     "name": "stdout",
     "output_type": "stream",
     "text": [
      "Removed 512 rows from 18443 with at least 80% NaN\n"
     ]
    },
    {
     "name": "stderr",
     "output_type": "stream",
     "text": [
      "100%|██████████| 1091/1091 [00:01<00:00, 690.96it/s]\n"
     ]
    },
    {
     "data": {
      "text/plain": [
       "(label\n",
       " NE       16668\n",
       " E         1263\n",
       " Name: count, dtype: int64,\n",
       " 'Nan: 0')"
      ]
     },
     "execution_count": 38,
     "metadata": {},
     "output_type": "execute_result"
    }
   ],
   "source": [
    "from help.utility.selection import delrows_with_nan_percentage\n",
    "from help.models.labelling import labelling\n",
    "# remove rows with all nans\n",
    "df_nonan = delrows_with_nan_percentage(df, perc=80)\n",
    "df_label = labelling(df_nonan, columns=cell_lines, n_classes=2, labelnames={1: 'NE', 0: 'E'}, \n",
    "                     mode='flat-multi', algorithm='otsu')\n",
    "df_label.to_csv(os.path.join(datapath, \"label_PanTissue.csv\"))\n",
    "df_label.value_counts(), f\"Nan: {df_label['label'].isna().sum()}\""
   ]
  },
  {
   "cell_type": "markdown",
   "metadata": {},
   "source": [
    "# Context specific EGs\n",
    "In this section we make the difference between pan-tissue EGs (common EGs) and tissue EGs to get the context-specific EGs for the tissue (csEGs). The EGs for Kidney and Lung tissues (previously generated) are loade from csv data files.\n",
    "In this forst code/plot we show the csEGs of Lung and Kidney by subtracting the common EGs computed by grouping tissue cell-lines (`label_PanTissue_group.csv`). In the second code/plot we show the csEGs of the two tissues by subtracting the common EGs computed on all cell-lines in flat mode (`label_PanTissue.csv`)"
   ]
  },
  {
   "cell_type": "code",
   "execution_count": 5,
   "metadata": {
    "execution": {
     "iopub.execute_input": "2024-02-13T13:10:34.494068Z",
     "iopub.status.busy": "2024-02-13T13:10:34.493702Z",
     "iopub.status.idle": "2024-02-13T13:10:34.871432Z",
     "shell.execute_reply": "2024-02-13T13:10:34.870181Z",
     "shell.execute_reply.started": "2024-02-13T13:10:34.494040Z"
    }
   },
   "outputs": [
    {
     "name": "stdout",
     "output_type": "stream",
     "text": [
      "Subtracting 1250 common EGs...\n",
      "Overlapping of 5 genes between ['Kidney', 'Lung']\n",
      "55 genes only in Kidney\n",
      "23 genes only in Lung\n"
     ]
    },
    {
     "data": {
      "image/png": "[encoded data removed]",
      "text/plain": [
       "<Figure size 1000x400 with 3 Axes>"
      ]
     },
     "metadata": {},
     "output_type": "display_data"
    }
   ],
   "source": [
    "from help.utility.selection import EG_tissues_intersect\n",
    "csEGs, overlap, diffs = EG_tissues_intersect(tissues = {'Kidney': pd.read_csv(os.path.join(datapath, \"Kidney_HELP.csv\"), index_col=0),\n",
    "                                                        'Lung': pd.read_csv(os.path.join(datapath, \"Lung_HELP.csv\"), index_col=0)\n",
    "                                                       }, \n",
    "                        common_df = pd.read_csv(os.path.join(datapath, \"PanTissue_group_HELP.csv\"), index_col=0),\n",
    "                        display=True, verbose=True)"
   ]
  },
  {
   "cell_type": "code",
   "execution_count": 35,
   "metadata": {},
   "outputs": [
    {
     "name": "stdout",
     "output_type": "stream",
     "text": [
      "Overlapping of 1168 genes between ['Kidney', 'Lung']\n",
      "85 genes only in Kidney\n",
      "67 genes only in Lung\n"
     ]
    },
    {
     "data": {
      "image/png": "[encoded data removed]",
      "text/plain": [
       "<Figure size 720x288 with 3 Axes>"
      ]
     },
     "metadata": {
      "needs_background": "light"
     },
     "output_type": "display_data"
    }
   ],
   "source": [
    "from help.utility.selection import EG_tissues_intersect\n",
    "csEGs, overlap, diffs = EG_tissues_intersect(tissues = {'Kidney': pd.read_csv(os.path.join(datapath, \"Kidney_HELP.csv\"), index_col=0),\n",
    "                                                        'Lung': pd.read_csv(os.path.join(datapath, \"Lung_HELP.csv\"), index_col=0)\n",
    "                                                       }, \n",
    "                        #common_df = pd.read_csv(os.path.join(datapath, \"PanTissue_HELP.csv\"), index_col=0),\n",
    "                        display=True, verbose=True)"
   ]
  },
  {
   "cell_type": "markdown",
   "metadata": {},
   "source": [
    "As we ca see, the overlapping of cdEgs between the two tissues differs in two genes. Then we save the csEGs into a file (the last one)."
   ]
  },
  {
   "cell_type": "code",
   "execution_count": 9,
   "metadata": {
    "execution": {
     "iopub.execute_input": "2024-02-13T13:10:34.873660Z",
     "iopub.status.busy": "2024-02-13T13:10:34.873301Z",
     "iopub.status.idle": "2024-02-13T13:10:34.881598Z",
     "shell.execute_reply": "2024-02-13T13:10:34.879904Z",
     "shell.execute_reply.started": "2024-02-13T13:10:34.873632Z"
    }
   },
   "outputs": [],
   "source": [
    "with open(os.path.join(datapath, \"csEG_Kidney.txt\"), 'w', encoding='utf-8') as f:\n",
    "    f.write('\\n'.join(list(csEGs['Kidney'])))\n",
    "with open(os.path.join(datapath, \"csEG_Lung.txt\"), 'w', encoding='utf-8') as f:\n",
    "    f.write('\\n'.join(list(csEGs['Lung'])))"
   ]
  },
  {
   "cell_type": "code",
   "execution_count": 10,
   "metadata": {},
   "outputs": [
    {
     "data": {
      "image/png": "[encoded data removed]",
      "text/plain": [
       "<Figure size 2000x500 with 1 Axes>"
      ]
     },
     "metadata": {},
     "output_type": "display_data"
    }
   ],
   "source": [
    "import os\n",
    "import pandas as pd\n",
    "import matplotlib.pyplot as plt\n",
    "from supervenn import supervenn\n",
    "from matplotlib_venn import venn2\n",
    "\n",
    "df_k = pd.read_csv(os.path.join(datapath, \"Kidney_HELP.csv\"), index_col=0)\n",
    "df_l = pd.read_csv(os.path.join(datapath, \"Lung_HELP.csv\"), index_col=0)\n",
    "df_p = pd.read_csv(os.path.join(datapath, \"PanTissue_group_HELP.csv\"), index_col=0)\n",
    "E_kidney = set(df_k[df_k['label']=='E'].index) - set(df_p[df_p['label']=='E'].index)\n",
    "E_lung = set(df_l[df_l['label']=='E'].index) - set(df_p[df_p['label']=='E'].index)\n",
    "plt.figure(figsize=(20, 5))\n",
    "color_cycle = plt.rcParams['axes.prop_cycle'].by_key()['color']\n",
    "color_cycle[0] = '#009ACD'\n",
    "#supervenn([E_kidney, E_lung], ['Kidney', 'Lung'], widths_minmax_ratio=0.05, side_plots='right', fontsize=18)\n",
    "venn2([E_kidney, E_lung], ['Kidney', 'Lung'])\n",
    "plt.ylabel('Tissue  csEGs', fontsize = 18)\n",
    "plt.xlabel('no. Genes', fontsize = 18)\n",
    "(E_kidney, E_lung, E_kidney.intersection(E_lung))\n",
    "with open(os.path.join(datapath, \"csEG_Kidney.txt\"), 'w', encoding='utf-8') as f:\n",
    "    f.write('\\n'.join(list(E_kidney)))\n",
    "with open(os.path.join(datapath, \"csEG_Lung.txt\"), 'w', encoding='utf-8') as f:\n",
    "    f.write('\\n'.join(list(E_lung)))"
   ]
  },
  {
   "cell_type": "code",
   "execution_count": 34,
   "metadata": {},
   "outputs": [
    {
     "data": {
      "text/plain": [
       "0.4444444444444444"
      ]
     },
     "execution_count": 34,
     "metadata": {},
     "output_type": "execute_result"
    }
   ],
   "source": [
    "import numpy as np\n",
    "tissue = \"kidney\"\n",
    "pred = pd.read_csv(os.path.join(datapath,f\"pred_{tissue}_nospl.csv\"), index_col=0)\n",
    "labels = pred.loc[pred.index.isin(list(E_lung))]\n",
    "len(labels[labels['prediction'] == 0]) / float(len(labels))"
   ]
  }
 ],
 "metadata": {
  "kaggle": {
   "accelerator": "none",
   "dataSources": [
    {
     "datasetId": 4375833,
     "sourceId": 7595933,
     "sourceType": "datasetVersion"
    }
   ],
   "isGpuEnabled": false,
   "isInternetEnabled": true,
   "language": "python",
   "sourceType": "notebook"
  },
  "kernelspec": {
   "display_name": "Python 3",
   "language": "python",
   "name": "python3"
  },
  "language_info": {
   "codemirror_mode": {
    "name": "ipython",
    "version": 3
   },
   "file_extension": ".py",
   "mimetype": "text/x-python",
   "name": "python",
   "nbconvert_exporter": "python",
   "pygments_lexer": "ipython3",
   "version": "3.10.13"
  }
 },
 "nbformat": 4,
 "nbformat_minor": 4
}
