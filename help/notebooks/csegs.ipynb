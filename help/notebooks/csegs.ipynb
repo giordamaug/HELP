{
 "cells": [
  {
   "cell_type": "markdown",
   "metadata": {
    "id": "OMT-BHCL6CiM"
   },
   "source": [
    "<a target=\"_blank\" href=\"https://colab.research.google.com/github/giordamaug/HELP/blob/main/help/notebooks/csegs.ipynb\">\n",
    "  <img src=\"https://colab.research.google.com/assets/colab-badge.svg\" alt=\"Open In Colab\"/>\n",
    "</a>\n",
    "<a target=\"_blank\" href=\"https://www.kaggle.com/notebooks/welcome?src=https://github.com/giordamaug/HELP/blob/main/help/notebooks/csegs.ipynb\">\n",
    "  <img src=\"https://kaggle.com/static/images/open-in-kaggle.svg\" alt=\"Open In Colab\"/>\n",
    "</a>"
   ]
  },
  {
   "cell_type": "markdown",
   "metadata": {
    "id": "62SCv3Bw6CiN"
   },
   "source": [
    "### 1. Install HELP from GitHub\n",
    "Skip this cell if you alread have installed HELP."
   ]
  },
  {
   "cell_type": "code",
   "execution_count": null,
   "metadata": {
    "colab": {
     "base_uri": "https://localhost:8080/",
     "height": 1000
    },
    "id": "0Or-XdAV6CiN",
    "outputId": "8252289d-261f-4503-8acd-c59b1a48ca5a"
   },
   "outputs": [],
   "source": [
    "!pip install git+https://github.com/giordamaug/HELP.git"
   ]
  },
  {
   "cell_type": "markdown",
   "metadata": {
    "id": "oC0PpWv86CiO"
   },
   "source": [
    "### 2. Download the input files\n",
    "Download from the DepMap portal the gene deletion expression scores (`CRISPRGeneEffect.csv`) and the map between cell-lines and tissues (`Model.csv`).\n",
    "Skip this step if you already have these input files locally."
   ]
  },
  {
   "cell_type": "code",
   "execution_count": null,
   "metadata": {
    "colab": {
     "base_uri": "https://localhost:8080/"
    },
    "id": "PgFhEZD96CiO",
    "outputId": "d5d9cea7-0b9d-403e-ca4c-c6731c7555a6"
   },
   "outputs": [],
   "source": [
    "!wget -c https://figshare.com/ndownloader/files/43346616 -O CRISPRGeneEffect.csv\n",
    "!wget -c https://figshare.com/ndownloader/files/43746708 -O Model.csv"
   ]
  },
  {
   "cell_type": "markdown",
   "metadata": {
    "id": "i2FH68tq6CiO"
   },
   "source": [
    "### 3. Load the input file\n",
    "Load the CRISPR data and show the content."
   ]
  },
  {
   "cell_type": "code",
   "execution_count": 5,
   "metadata": {
    "colab": {
     "base_uri": "https://localhost:8080/",
     "height": 442
    },
    "id": "Gvkwrgau6CiO",
    "outputId": "72ed9d3a-8d2d-4845-a5b4-866e25ac268f"
   },
   "outputs": [
    {
     "name": "stdout",
     "output_type": "stream",
     "text": [
      "739493 NaNs over 20287300 values\n"
     ]
    },
    {
     "data": {
      "text/html": [
       "<div>\n",
       "<style scoped>\n",
       "    .dataframe tbody tr th:only-of-type {\n",
       "        vertical-align: middle;\n",
       "    }\n",
       "\n",
       "    .dataframe tbody tr th {\n",
       "        vertical-align: top;\n",
       "    }\n",
       "\n",
       "    .dataframe thead th {\n",
       "        text-align: right;\n",
       "    }\n",
       "</style>\n",
       "<table border=\"1\" class=\"dataframe\">\n",
       "  <thead>\n",
       "    <tr style=\"text-align: right;\">\n",
       "      <th>gene</th>\n",
       "      <th>ACH-000001</th>\n",
       "      <th>ACH-000004</th>\n",
       "      <th>ACH-000005</th>\n",
       "      <th>ACH-000007</th>\n",
       "      <th>ACH-000009</th>\n",
       "      <th>...</th>\n",
       "      <th>ACH-002834</th>\n",
       "      <th>ACH-002847</th>\n",
       "      <th>ACH-002922</th>\n",
       "      <th>ACH-002925</th>\n",
       "      <th>ACH-002926</th>\n",
       "    </tr>\n",
       "  </thead>\n",
       "  <tbody>\n",
       "    <tr>\n",
       "      <th>A1BG</th>\n",
       "      <td>-0.122637</td>\n",
       "      <td>0.019756</td>\n",
       "      <td>-0.107208</td>\n",
       "      <td>-0.031027</td>\n",
       "      <td>0.008888</td>\n",
       "      <td>...</td>\n",
       "      <td>-0.055721</td>\n",
       "      <td>-0.009973</td>\n",
       "      <td>-0.025991</td>\n",
       "      <td>-0.127639</td>\n",
       "      <td>-0.068666</td>\n",
       "    </tr>\n",
       "    <tr>\n",
       "      <th>A1CF</th>\n",
       "      <td>0.025881</td>\n",
       "      <td>-0.083640</td>\n",
       "      <td>-0.023211</td>\n",
       "      <td>-0.137850</td>\n",
       "      <td>-0.146566</td>\n",
       "      <td>...</td>\n",
       "      <td>-0.121228</td>\n",
       "      <td>-0.119813</td>\n",
       "      <td>-0.007706</td>\n",
       "      <td>-0.040705</td>\n",
       "      <td>-0.107530</td>\n",
       "    </tr>\n",
       "    <tr>\n",
       "      <th>A2M</th>\n",
       "      <td>0.034217</td>\n",
       "      <td>-0.060118</td>\n",
       "      <td>0.200204</td>\n",
       "      <td>0.067704</td>\n",
       "      <td>0.084471</td>\n",
       "      <td>...</td>\n",
       "      <td>0.072790</td>\n",
       "      <td>0.044097</td>\n",
       "      <td>-0.038468</td>\n",
       "      <td>0.134556</td>\n",
       "      <td>0.067806</td>\n",
       "    </tr>\n",
       "    <tr>\n",
       "      <th>A2ML1</th>\n",
       "      <td>-0.128082</td>\n",
       "      <td>-0.027417</td>\n",
       "      <td>0.116039</td>\n",
       "      <td>0.107988</td>\n",
       "      <td>0.089419</td>\n",
       "      <td>...</td>\n",
       "      <td>0.021916</td>\n",
       "      <td>0.041358</td>\n",
       "      <td>0.236576</td>\n",
       "      <td>-0.047984</td>\n",
       "      <td>0.112071</td>\n",
       "    </tr>\n",
       "    <tr>\n",
       "      <th>A3GALT2</th>\n",
       "      <td>-0.031285</td>\n",
       "      <td>-0.036116</td>\n",
       "      <td>-0.172227</td>\n",
       "      <td>0.007992</td>\n",
       "      <td>0.065109</td>\n",
       "      <td>...</td>\n",
       "      <td>-0.221940</td>\n",
       "      <td>-0.146565</td>\n",
       "      <td>-0.239690</td>\n",
       "      <td>-0.116114</td>\n",
       "      <td>-0.149897</td>\n",
       "    </tr>\n",
       "    <tr>\n",
       "      <th>...</th>\n",
       "      <td>...</td>\n",
       "      <td>...</td>\n",
       "      <td>...</td>\n",
       "      <td>...</td>\n",
       "      <td>...</td>\n",
       "      <td>...</td>\n",
       "      <td>...</td>\n",
       "      <td>...</td>\n",
       "      <td>...</td>\n",
       "      <td>...</td>\n",
       "      <td>...</td>\n",
       "    </tr>\n",
       "    <tr>\n",
       "      <th>ZYG11A</th>\n",
       "      <td>-0.289724</td>\n",
       "      <td>0.032983</td>\n",
       "      <td>-0.201273</td>\n",
       "      <td>-0.100344</td>\n",
       "      <td>-0.112703</td>\n",
       "      <td>...</td>\n",
       "      <td>0.024959</td>\n",
       "      <td>-0.119911</td>\n",
       "      <td>-0.079342</td>\n",
       "      <td>-0.043555</td>\n",
       "      <td>-0.045115</td>\n",
       "    </tr>\n",
       "    <tr>\n",
       "      <th>ZYG11B</th>\n",
       "      <td>-0.062972</td>\n",
       "      <td>-0.410392</td>\n",
       "      <td>-0.178877</td>\n",
       "      <td>-0.462160</td>\n",
       "      <td>-0.598698</td>\n",
       "      <td>...</td>\n",
       "      <td>0.015259</td>\n",
       "      <td>-0.289412</td>\n",
       "      <td>-0.347484</td>\n",
       "      <td>-0.335270</td>\n",
       "      <td>-0.307900</td>\n",
       "    </tr>\n",
       "    <tr>\n",
       "      <th>ZYX</th>\n",
       "      <td>0.074180</td>\n",
       "      <td>0.113156</td>\n",
       "      <td>-0.055349</td>\n",
       "      <td>-0.001555</td>\n",
       "      <td>0.095877</td>\n",
       "      <td>...</td>\n",
       "      <td>-0.306562</td>\n",
       "      <td>-0.195097</td>\n",
       "      <td>-0.085302</td>\n",
       "      <td>-0.208063</td>\n",
       "      <td>0.070671</td>\n",
       "    </tr>\n",
       "    <tr>\n",
       "      <th>ZZEF1</th>\n",
       "      <td>0.111244</td>\n",
       "      <td>0.234388</td>\n",
       "      <td>-0.002161</td>\n",
       "      <td>-0.325964</td>\n",
       "      <td>-0.026742</td>\n",
       "      <td>...</td>\n",
       "      <td>-0.148368</td>\n",
       "      <td>-0.206400</td>\n",
       "      <td>-0.095965</td>\n",
       "      <td>-0.094741</td>\n",
       "      <td>-0.187813</td>\n",
       "    </tr>\n",
       "    <tr>\n",
       "      <th>ZZZ3</th>\n",
       "      <td>-0.467908</td>\n",
       "      <td>-0.088306</td>\n",
       "      <td>-0.186842</td>\n",
       "      <td>-0.486660</td>\n",
       "      <td>-0.320759</td>\n",
       "      <td>...</td>\n",
       "      <td>-0.579576</td>\n",
       "      <td>-0.486525</td>\n",
       "      <td>-0.346272</td>\n",
       "      <td>-0.222404</td>\n",
       "      <td>-0.452143</td>\n",
       "    </tr>\n",
       "  </tbody>\n",
       "</table>\n",
       "<p>18443 rows × 1100 columns</p>\n",
       "</div>"
      ],
      "text/plain": [
       "gene     ACH-000001  ACH-000004  ACH-000005  ACH-000007  ACH-000009  ...  \\\n",
       "A1BG      -0.122637    0.019756   -0.107208   -0.031027    0.008888  ...   \n",
       "A1CF       0.025881   -0.083640   -0.023211   -0.137850   -0.146566  ...   \n",
       "A2M        0.034217   -0.060118    0.200204    0.067704    0.084471  ...   \n",
       "A2ML1     -0.128082   -0.027417    0.116039    0.107988    0.089419  ...   \n",
       "A3GALT2   -0.031285   -0.036116   -0.172227    0.007992    0.065109  ...   \n",
       "...             ...         ...         ...         ...         ...  ...   \n",
       "ZYG11A    -0.289724    0.032983   -0.201273   -0.100344   -0.112703  ...   \n",
       "ZYG11B    -0.062972   -0.410392   -0.178877   -0.462160   -0.598698  ...   \n",
       "ZYX        0.074180    0.113156   -0.055349   -0.001555    0.095877  ...   \n",
       "ZZEF1      0.111244    0.234388   -0.002161   -0.325964   -0.026742  ...   \n",
       "ZZZ3      -0.467908   -0.088306   -0.186842   -0.486660   -0.320759  ...   \n",
       "\n",
       "gene     ACH-002834  ACH-002847  ACH-002922  ACH-002925  ACH-002926  \n",
       "A1BG      -0.055721   -0.009973   -0.025991   -0.127639   -0.068666  \n",
       "A1CF      -0.121228   -0.119813   -0.007706   -0.040705   -0.107530  \n",
       "A2M        0.072790    0.044097   -0.038468    0.134556    0.067806  \n",
       "A2ML1      0.021916    0.041358    0.236576   -0.047984    0.112071  \n",
       "A3GALT2   -0.221940   -0.146565   -0.239690   -0.116114   -0.149897  \n",
       "...             ...         ...         ...         ...         ...  \n",
       "ZYG11A     0.024959   -0.119911   -0.079342   -0.043555   -0.045115  \n",
       "ZYG11B     0.015259   -0.289412   -0.347484   -0.335270   -0.307900  \n",
       "ZYX       -0.306562   -0.195097   -0.085302   -0.208063    0.070671  \n",
       "ZZEF1     -0.148368   -0.206400   -0.095965   -0.094741   -0.187813  \n",
       "ZZZ3      -0.579576   -0.486525   -0.346272   -0.222404   -0.452143  \n",
       "\n",
       "[18443 rows x 1100 columns]"
      ]
     },
     "execution_count": 5,
     "metadata": {},
     "output_type": "execute_result"
    }
   ],
   "source": [
    "import pandas as pd\n",
    "import os\n",
    "df_orig = pd.read_csv(\"CRISPRGeneEffect.csv\").rename(columns={'Unnamed: 0': 'gene'}).rename(columns=lambda x: x.split(' ')[0]).set_index('gene').T\n",
    "print(f'{df_orig.isna().sum().sum()} NaNs over {len(df_orig)*len(df_orig.columns)} values')\n",
    "df_orig"
   ]
  },
  {
   "cell_type": "markdown",
   "metadata": {
    "id": "PdLipe1U6CiO"
   },
   "source": [
    "Then load the mapping information and show the content."
   ]
  },
  {
   "cell_type": "code",
   "execution_count": 6,
   "metadata": {
    "colab": {
     "base_uri": "https://localhost:8080/",
     "height": 1000
    },
    "id": "FZBOL5oP6CiO",
    "outputId": "d65871bd-5391-4625-910b-0ed974028149"
   },
   "outputs": [
    {
     "name": "stdout",
     "output_type": "stream",
     "text": [
      "         ModelID  PatientID CellLineName StrippedCellLineName DepmapModelType  \\\n",
      "0     ACH-000001  PT-gj46wT  NIH:OVCAR-3            NIHOVCAR3           HGSOC   \n",
      "1     ACH-000002  PT-5qa3uk        HL-60                 HL60             AML   \n",
      "2     ACH-000003  PT-puKIyc        CACO2                CACO2            COAD   \n",
      "3     ACH-000004  PT-q4K2cp          HEL                  HEL             AML   \n",
      "4     ACH-000005  PT-q4K2cp   HEL 92.1.7              HEL9217             AML   \n",
      "...          ...        ...          ...                  ...             ...   \n",
      "1916  ACH-003157  PT-QDEP9D    ABM-T0822             ABMT0822        ZIMMMPLC   \n",
      "1917  ACH-003158  PT-nszsxG    ABM-T9220             ABMT9220        ZIMMSMCI   \n",
      "1918  ACH-003159  PT-AUxVvV    ABM-T9233             ABMT9233        ZIMMRSCH   \n",
      "1919  ACH-003160  PT-AUxVvV    ABM-T9249             ABMT9249        ZIMMGMCH   \n",
      "1920  ACH-003161  PT-or1hkT    ABM-T9430             ABMT9430         ZIMMPSC   \n",
      "\n",
      "      ... PublicComments WTSIMasterCellID SangerModelID  COSMICID  \\\n",
      "0     ...            NaN           2201.0     SIDM00105  905933.0   \n",
      "1     ...            NaN             55.0     SIDM00829  905938.0   \n",
      "2     ...            NaN              NaN     SIDM00891       NaN   \n",
      "3     ...            NaN            783.0     SIDM00594  907053.0   \n",
      "4     ...            NaN              NaN     SIDM00593       NaN   \n",
      "...   ...            ...              ...           ...       ...   \n",
      "1916  ...            NaN              NaN           NaN       NaN   \n",
      "1917  ...            NaN              NaN           NaN       NaN   \n",
      "1918  ...            NaN              NaN           NaN       NaN   \n",
      "1919  ...            NaN              NaN           NaN       NaN   \n",
      "1920  ...            NaN              NaN           NaN       NaN   \n",
      "\n",
      "       LegacySubSubtype  \n",
      "0     high_grade_serous  \n",
      "1                    M3  \n",
      "2                   NaN  \n",
      "3                    M6  \n",
      "4                    M6  \n",
      "...                 ...  \n",
      "1916                NaN  \n",
      "1917                NaN  \n",
      "1918                NaN  \n",
      "1919                NaN  \n",
      "1920                NaN  \n",
      "\n",
      "[1921 rows x 36 columns]\n"
     ]
    }
   ],
   "source": [
    "df_map = pd.read_csv(\"Model.csv\")\n",
    "print(df_map)"
   ]
  },
  {
   "cell_type": "markdown",
   "metadata": {},
   "source": [
    "### 4. Filter the information to be exploited\n",
    "Filter the genes mapped to tissues (`OncotreeLineage` column in the mapping file) having less than `minlines` cell-lines:"
   ]
  },
  {
   "cell_type": "code",
   "execution_count": 7,
   "metadata": {},
   "outputs": [
    {
     "data": {
      "text/html": [
       "<div>\n",
       "<style scoped>\n",
       "    .dataframe tbody tr th:only-of-type {\n",
       "        vertical-align: middle;\n",
       "    }\n",
       "\n",
       "    .dataframe tbody tr th {\n",
       "        vertical-align: top;\n",
       "    }\n",
       "\n",
       "    .dataframe thead th {\n",
       "        text-align: right;\n",
       "    }\n",
       "</style>\n",
       "<table border=\"1\" class=\"dataframe\">\n",
       "  <thead>\n",
       "    <tr style=\"text-align: right;\">\n",
       "      <th>gene</th>\n",
       "      <th>ACH-000001</th>\n",
       "      <th>ACH-000004</th>\n",
       "      <th>ACH-000005</th>\n",
       "      <th>ACH-000007</th>\n",
       "      <th>ACH-000009</th>\n",
       "      <th>...</th>\n",
       "      <th>ACH-002834</th>\n",
       "      <th>ACH-002847</th>\n",
       "      <th>ACH-002922</th>\n",
       "      <th>ACH-002925</th>\n",
       "      <th>ACH-002926</th>\n",
       "    </tr>\n",
       "  </thead>\n",
       "  <tbody>\n",
       "    <tr>\n",
       "      <th>A1BG</th>\n",
       "      <td>-0.122637</td>\n",
       "      <td>0.019756</td>\n",
       "      <td>-0.107208</td>\n",
       "      <td>-0.031027</td>\n",
       "      <td>0.008888</td>\n",
       "      <td>...</td>\n",
       "      <td>-0.055721</td>\n",
       "      <td>-0.009973</td>\n",
       "      <td>-0.025991</td>\n",
       "      <td>-0.127639</td>\n",
       "      <td>-0.068666</td>\n",
       "    </tr>\n",
       "    <tr>\n",
       "      <th>A1CF</th>\n",
       "      <td>0.025881</td>\n",
       "      <td>-0.083640</td>\n",
       "      <td>-0.023211</td>\n",
       "      <td>-0.137850</td>\n",
       "      <td>-0.146566</td>\n",
       "      <td>...</td>\n",
       "      <td>-0.121228</td>\n",
       "      <td>-0.119813</td>\n",
       "      <td>-0.007706</td>\n",
       "      <td>-0.040705</td>\n",
       "      <td>-0.107530</td>\n",
       "    </tr>\n",
       "    <tr>\n",
       "      <th>A2M</th>\n",
       "      <td>0.034217</td>\n",
       "      <td>-0.060118</td>\n",
       "      <td>0.200204</td>\n",
       "      <td>0.067704</td>\n",
       "      <td>0.084471</td>\n",
       "      <td>...</td>\n",
       "      <td>0.072790</td>\n",
       "      <td>0.044097</td>\n",
       "      <td>-0.038468</td>\n",
       "      <td>0.134556</td>\n",
       "      <td>0.067806</td>\n",
       "    </tr>\n",
       "    <tr>\n",
       "      <th>A2ML1</th>\n",
       "      <td>-0.128082</td>\n",
       "      <td>-0.027417</td>\n",
       "      <td>0.116039</td>\n",
       "      <td>0.107988</td>\n",
       "      <td>0.089419</td>\n",
       "      <td>...</td>\n",
       "      <td>0.021916</td>\n",
       "      <td>0.041358</td>\n",
       "      <td>0.236576</td>\n",
       "      <td>-0.047984</td>\n",
       "      <td>0.112071</td>\n",
       "    </tr>\n",
       "    <tr>\n",
       "      <th>A3GALT2</th>\n",
       "      <td>-0.031285</td>\n",
       "      <td>-0.036116</td>\n",
       "      <td>-0.172227</td>\n",
       "      <td>0.007992</td>\n",
       "      <td>0.065109</td>\n",
       "      <td>...</td>\n",
       "      <td>-0.221940</td>\n",
       "      <td>-0.146565</td>\n",
       "      <td>-0.239690</td>\n",
       "      <td>-0.116114</td>\n",
       "      <td>-0.149897</td>\n",
       "    </tr>\n",
       "    <tr>\n",
       "      <th>...</th>\n",
       "      <td>...</td>\n",
       "      <td>...</td>\n",
       "      <td>...</td>\n",
       "      <td>...</td>\n",
       "      <td>...</td>\n",
       "      <td>...</td>\n",
       "      <td>...</td>\n",
       "      <td>...</td>\n",
       "      <td>...</td>\n",
       "      <td>...</td>\n",
       "      <td>...</td>\n",
       "    </tr>\n",
       "    <tr>\n",
       "      <th>ZYG11A</th>\n",
       "      <td>-0.289724</td>\n",
       "      <td>0.032983</td>\n",
       "      <td>-0.201273</td>\n",
       "      <td>-0.100344</td>\n",
       "      <td>-0.112703</td>\n",
       "      <td>...</td>\n",
       "      <td>0.024959</td>\n",
       "      <td>-0.119911</td>\n",
       "      <td>-0.079342</td>\n",
       "      <td>-0.043555</td>\n",
       "      <td>-0.045115</td>\n",
       "    </tr>\n",
       "    <tr>\n",
       "      <th>ZYG11B</th>\n",
       "      <td>-0.062972</td>\n",
       "      <td>-0.410392</td>\n",
       "      <td>-0.178877</td>\n",
       "      <td>-0.462160</td>\n",
       "      <td>-0.598698</td>\n",
       "      <td>...</td>\n",
       "      <td>0.015259</td>\n",
       "      <td>-0.289412</td>\n",
       "      <td>-0.347484</td>\n",
       "      <td>-0.335270</td>\n",
       "      <td>-0.307900</td>\n",
       "    </tr>\n",
       "    <tr>\n",
       "      <th>ZYX</th>\n",
       "      <td>0.074180</td>\n",
       "      <td>0.113156</td>\n",
       "      <td>-0.055349</td>\n",
       "      <td>-0.001555</td>\n",
       "      <td>0.095877</td>\n",
       "      <td>...</td>\n",
       "      <td>-0.306562</td>\n",
       "      <td>-0.195097</td>\n",
       "      <td>-0.085302</td>\n",
       "      <td>-0.208063</td>\n",
       "      <td>0.070671</td>\n",
       "    </tr>\n",
       "    <tr>\n",
       "      <th>ZZEF1</th>\n",
       "      <td>0.111244</td>\n",
       "      <td>0.234388</td>\n",
       "      <td>-0.002161</td>\n",
       "      <td>-0.325964</td>\n",
       "      <td>-0.026742</td>\n",
       "      <td>...</td>\n",
       "      <td>-0.148368</td>\n",
       "      <td>-0.206400</td>\n",
       "      <td>-0.095965</td>\n",
       "      <td>-0.094741</td>\n",
       "      <td>-0.187813</td>\n",
       "    </tr>\n",
       "    <tr>\n",
       "      <th>ZZZ3</th>\n",
       "      <td>-0.467908</td>\n",
       "      <td>-0.088306</td>\n",
       "      <td>-0.186842</td>\n",
       "      <td>-0.486660</td>\n",
       "      <td>-0.320759</td>\n",
       "      <td>...</td>\n",
       "      <td>-0.579576</td>\n",
       "      <td>-0.486525</td>\n",
       "      <td>-0.346272</td>\n",
       "      <td>-0.222404</td>\n",
       "      <td>-0.452143</td>\n",
       "    </tr>\n",
       "  </tbody>\n",
       "</table>\n",
       "<p>18443 rows × 1091 columns</p>\n",
       "</div>"
      ],
      "text/plain": [
       "gene     ACH-000001  ACH-000004  ACH-000005  ACH-000007  ACH-000009  ...  \\\n",
       "A1BG      -0.122637    0.019756   -0.107208   -0.031027    0.008888  ...   \n",
       "A1CF       0.025881   -0.083640   -0.023211   -0.137850   -0.146566  ...   \n",
       "A2M        0.034217   -0.060118    0.200204    0.067704    0.084471  ...   \n",
       "A2ML1     -0.128082   -0.027417    0.116039    0.107988    0.089419  ...   \n",
       "A3GALT2   -0.031285   -0.036116   -0.172227    0.007992    0.065109  ...   \n",
       "...             ...         ...         ...         ...         ...  ...   \n",
       "ZYG11A    -0.289724    0.032983   -0.201273   -0.100344   -0.112703  ...   \n",
       "ZYG11B    -0.062972   -0.410392   -0.178877   -0.462160   -0.598698  ...   \n",
       "ZYX        0.074180    0.113156   -0.055349   -0.001555    0.095877  ...   \n",
       "ZZEF1      0.111244    0.234388   -0.002161   -0.325964   -0.026742  ...   \n",
       "ZZZ3      -0.467908   -0.088306   -0.186842   -0.486660   -0.320759  ...   \n",
       "\n",
       "gene     ACH-002834  ACH-002847  ACH-002922  ACH-002925  ACH-002926  \n",
       "A1BG      -0.055721   -0.009973   -0.025991   -0.127639   -0.068666  \n",
       "A1CF      -0.121228   -0.119813   -0.007706   -0.040705   -0.107530  \n",
       "A2M        0.072790    0.044097   -0.038468    0.134556    0.067806  \n",
       "A2ML1      0.021916    0.041358    0.236576   -0.047984    0.112071  \n",
       "A3GALT2   -0.221940   -0.146565   -0.239690   -0.116114   -0.149897  \n",
       "...             ...         ...         ...         ...         ...  \n",
       "ZYG11A     0.024959   -0.119911   -0.079342   -0.043555   -0.045115  \n",
       "ZYG11B     0.015259   -0.289412   -0.347484   -0.335270   -0.307900  \n",
       "ZYX       -0.306562   -0.195097   -0.085302   -0.208063    0.070671  \n",
       "ZZEF1     -0.148368   -0.206400   -0.095965   -0.094741   -0.187813  \n",
       "ZZZ3      -0.579576   -0.486525   -0.346272   -0.222404   -0.452143  \n",
       "\n",
       "[18443 rows x 1091 columns]"
      ]
     },
     "execution_count": 7,
     "metadata": {},
     "output_type": "execute_result"
    }
   ],
   "source": [
    "from help.utility.selection import filter_crispr_by_model\n",
    "df = filter_crispr_by_model(df_orig, df_map, minlines=10, line_group='OncotreeLineage')\n",
    "df"
   ]
  },
  {
   "cell_type": "markdown",
   "metadata": {},
   "source": [
    "and remove also those having more than a certain percentage of NaN values (here 80%):"
   ]
  },
  {
   "cell_type": "code",
   "execution_count": 8,
   "metadata": {},
   "outputs": [
    {
     "name": "stdout",
     "output_type": "stream",
     "text": [
      "Removed 512 rows from 18443 with at least 80% NaN\n"
     ]
    }
   ],
   "source": [
    "from help.utility.selection import delrows_with_nan_percentage\n",
    "# remove rows with more than perc NaNs\n",
    "df_nonan = delrows_with_nan_percentage(df, perc=80)"
   ]
  },
  {
   "cell_type": "markdown",
   "metadata": {},
   "source": [
    "### 5. Compute EGs common to all tissues (pan-tissue labeling)\n",
    "Here, pan-tissue EGs are obtained by \n",
    "1. identifying EGs in all tissue-specific cell-lines and \n",
    "2. computing the label of each gene as the mode of the obtained labels. \n",
    "\n",
    "In order to do that, we need to select from the mapping file all cell-lines (`tissue_list='all'`) as a nested list of cell-lines (lists of lists for each tissue, obtained with `'nested=True'`): "
   ]
  },
  {
   "cell_type": "markdown",
   "metadata": {
    "id": "zzMk0HMl6CiP"
   },
   "source": [
    "##### labelling EGs across tissues\n",
    "In this example we compute common EGs by applying the labelling algorithm within each tissue-specufic cell lines. Then the common essentiality label is computed by making the mode of previously-computed labels across tissue.\n",
    "In order to do that, we with need to select cell-lines form the `Model.csv` as a nested list of lists of cell-lines. THis is\n",
    "obtained by properly calling the `select-cell-Lines` function.\n"
   ]
  },
  {
   "cell_type": "code",
   "execution_count": 10,
   "metadata": {
    "colab": {
     "base_uri": "https://localhost:8080/"
    },
    "id": "uPdlnlmu6CiP",
    "outputId": "639fb6d0-c261-4378-fc66-bd0f944c7148"
   },
   "outputs": [
    {
     "name": "stdout",
     "output_type": "stream",
     "text": [
      "Selecting 24 tissues for a total of 1091 cell-lines\n"
     ]
    }
   ],
   "source": [
    "from help.utility.selection import select_cell_lines\n",
    "cell_lines = select_cell_lines(df_nonan, df_map, tissue_list='all', nested=True)\n",
    "print(f\"Selecting {len(cell_lines)} tissues for a total of {sum([len(x) for x in cell_lines])} cell-lines\")"
   ]
  },
  {
   "cell_type": "markdown",
   "metadata": {
    "id": "-lxu0uxZ6CiP"
   },
   "source": [
    "Then, we compute the two-class labeling (`mode='flat-multi'`) using the Otsu algorithm (`algorithm='otsu'`), returning the mode of the labels (due to the input nested list of cell-lines), save the results in a csv file (`'PanTissue_group_HELP.csv'`) and print their summary:"
   ]
  },
  {
   "cell_type": "code",
   "execution_count": 12,
   "metadata": {
    "colab": {
     "base_uri": "https://localhost:8080/"
    },
    "execution": {
     "iopub.execute_input": "2024-02-13T13:09:13.243023Z",
     "iopub.status.busy": "2024-02-13T13:09:13.242652Z",
     "iopub.status.idle": "2024-02-13T13:10:22.102305Z",
     "shell.execute_reply": "2024-02-13T13:10:22.101421Z",
     "shell.execute_reply.started": "2024-02-13T13:09:13.242992Z"
    },
    "id": "5wbqJhkv6CiP",
    "outputId": "c12ff809-bd49-451d-8076-c55e09ba092d"
   },
   "outputs": [
    {
     "name": "stderr",
     "output_type": "stream",
     "text": [
      "  0%|          | 0/34 [00:00<?, ?it/s]100%|██████████| 34/34 [00:00<00:00, 158.93it/s]\n",
      "/Users/maurizio/opt/anaconda3/lib/python3.8/site-packages/help/models/labelling.py:249: UserWarning: There are rows with all NaNs, please remove them using the function 'rows_with_all_nan()' and re-apply the labelling. Otherwise you will have NaN labels in your output.\n",
      "  warnings.warn(\"There are rows with all NaNs, please remove them using the function 'rows_with_all_nan()' and re-apply the labelling. Otherwise you will have NaN labels in your output.\")\n",
      "100%|██████████| 32/32 [00:00<00:00, 227.62it/s]\n",
      "100%|██████████| 37/37 [00:00<00:00, 241.00it/s]\n",
      "100%|██████████| 59/59 [00:00<00:00, 148.71it/s]\n",
      "100%|██████████| 48/48 [00:00<00:00, 206.04it/s]\n",
      "100%|██████████| 86/86 [00:00<00:00, 245.78it/s]\n",
      "100%|██████████| 18/18 [00:00<00:00, 244.79it/s]\n",
      "100%|██████████| 65/65 [00:00<00:00, 251.14it/s]\n",
      "100%|██████████| 15/15 [00:00<00:00, 170.63it/s]\n",
      "100%|██████████| 72/72 [00:00<00:00, 165.18it/s]\n",
      "100%|██████████| 37/37 [00:00<00:00, 159.06it/s]\n",
      "100%|██████████| 24/24 [00:00<00:00, 84.81it/s]\n",
      "100%|██████████| 119/119 [00:00<00:00, 171.15it/s]\n",
      "100%|██████████| 81/81 [00:00<00:00, 115.81it/s]\n",
      "100%|██████████| 37/37 [00:00<00:00, 158.80it/s]\n",
      "100%|██████████| 59/59 [00:00<00:00, 146.91it/s]\n",
      "100%|██████████| 47/47 [00:00<00:00, 136.58it/s]\n",
      "100%|██████████| 41/41 [00:00<00:00, 159.62it/s]\n",
      "100%|██████████| 19/19 [00:00<00:00, 145.02it/s]\n",
      "100%|██████████| 10/10 [00:00<00:00, 129.34it/s]\n",
      "100%|██████████| 71/71 [00:00<00:00, 129.70it/s]\n",
      "100%|██████████| 36/36 [00:00<00:00, 147.09it/s]\n",
      "100%|██████████| 11/11 [00:00<00:00, 183.88it/s]\n",
      "100%|██████████| 33/33 [00:00<00:00, 133.39it/s]\n"
     ]
    },
    {
     "data": {
      "text/plain": [
       "label\n",
       "NE       16677\n",
       "E         1254\n",
       "dtype: int64"
      ]
     },
     "execution_count": 12,
     "metadata": {},
     "output_type": "execute_result"
    }
   ],
   "source": [
    "from help.models.labelling import labelling\n",
    "# remove rows with all nans\n",
    "df_common = labelling(df_nonan, columns=cell_lines, n_classes=2, labelnames={0:'E', 1: 'NE'}, mode='flat-multi', algorithm='otsu')\n",
    "df_common.to_csv(\"PanTissue_group_HELP.csv\")\n",
    "df_common.value_counts()"
   ]
  },
  {
   "cell_type": "markdown",
   "metadata": {
    "id": "knIcs1QX6CiP"
   },
   "source": [
    "An alternative way for computing pan-tissue EGs could be to select all cell-lines as a flat list of identifiers (`'nested=False'`), so disregarding their mapping to tissues, and compute the EG labeling:"
   ]
  },
  {
   "cell_type": "code",
   "execution_count": 16,
   "metadata": {
    "colab": {
     "base_uri": "https://localhost:8080/"
    },
    "id": "v6KNfMuO6CiP",
    "outputId": "250e74ee-a48d-4945-a178-b4f445c69550"
   },
   "outputs": [
    {
     "name": "stdout",
     "output_type": "stream",
     "text": [
      "Selecting 24 tissues for a total of 10910 cell-lines\n"
     ]
    },
    {
     "name": "stderr",
     "output_type": "stream",
     "text": [
      "100%|██████████| 1091/1091 [00:06<00:00, 163.52it/s]\n"
     ]
    },
    {
     "data": {
      "text/plain": [
       "label\n",
       "NE       16664\n",
       "E         1267\n",
       "dtype: int64"
      ]
     },
     "execution_count": 16,
     "metadata": {},
     "output_type": "execute_result"
    }
   ],
   "source": [
    "from help.utility.selection import select_cell_lines\n",
    "cell_lines_un = select_cell_lines(df_nonan, df_map, tissue_list='all', nested=False)\n",
    "print(f\"Selecting {len(cell_lines)} tissues for a total of {sum([len(x) for x in cell_lines_un])} cell-lines\")\n",
    "df_common_flat = labelling(df_nonan, columns=cell_lines_un, n_classes=2, labelnames={0:'E', 1: 'NE'}, mode='flat-multi', algorithm='otsu')\n",
    "#df_common_flat.to_csv(\"PanTissue.csv\")\n",
    "df_common_flat.value_counts()"
   ]
  },
  {
   "cell_type": "markdown",
   "metadata": {},
   "source": [
    "In this case, the cell-lines contribute in the same way to the labelling criterion regardless of the related tissue, thus providing a different, less stringent labelling."
   ]
  },
  {
   "cell_type": "markdown",
   "metadata": {
    "id": "QC1EQHaG6CiP"
   },
   "source": [
    "### 6. Subtract pan-tissue EGs from those of the chosen tissue\n",
    "Context-specific EGs (csEGs) for a chosen tissue (here `tissueK = 'Kidney'`) are obtained by subtracting the \n",
    "pan-tissue EGs computed in the previous step (`df_common`) by the EGs identified for the chosen tissue."
   ]
  },
  {
   "cell_type": "code",
   "execution_count": 17,
   "metadata": {},
   "outputs": [
    {
     "name": "stdout",
     "output_type": "stream",
     "text": [
      "Selecting 37 cell-lines\n"
     ]
    },
    {
     "name": "stderr",
     "output_type": "stream",
     "text": [
      "100%|██████████| 37/37 [00:00<00:00, 178.92it/s]\n"
     ]
    },
    {
     "name": "stdout",
     "output_type": "stream",
     "text": [
      "['ACTB' 'ACTG1' 'ACTR6' 'ARF4' 'ARFRP1' 'ARPC4' 'CDK6' 'CFLAR' 'CHMP7'\n",
      " 'COG1' 'COPS3' 'CTU2' 'DCTN3' 'DDX11' 'DDX52' 'EMC3' 'EXOSC1' 'FERMT2'\n",
      " 'GEMIN7' 'GET3' 'HGS' 'HNF1B' 'ITGAV' 'KIF4A' 'MCM10' 'MDM2' 'METAP2'\n",
      " 'MLST8' 'NCAPH2' 'NDOR1' 'NHLRC2' 'OXA1L' 'PAX8' 'PFN1' 'PIK3C3' 'PPIE'\n",
      " 'PPP1CA' 'PPP4R2' 'PTK2' 'RAB7A' 'RAD1' 'RBM42' 'RBMX2' 'RTEL1' 'SEPHS2'\n",
      " 'SNAP23' 'SNRPB2' 'SPTLC1' 'SRSF10' 'TAF1D' 'TMED10' 'TMED2' 'TRIM37'\n",
      " 'TTF2' 'UBA5' 'UBC' 'UBE2D3' 'URM1' 'USP10' 'VPS33A' 'VPS52' 'WDR25'\n",
      " 'YWHAZ' 'ZNF335' 'ZNG1B']\n"
     ]
    }
   ],
   "source": [
    "import pandas as pd\n",
    "\n",
    "#Identification of EGs in Kidney tissue (as in Example 1)\n",
    "tissueK = 'Kidney'\n",
    "from help.utility.selection import select_cell_lines\n",
    "from help.models.labelling import labelling\n",
    "cell_linesK = select_cell_lines(df_nonan, df_map, [tissueK])\n",
    "print(f\"Selecting {len(cell_linesK)} cell-lines\")\n",
    "df_labelK = labelling(df_nonan, columns = cell_linesK, n_classes=2,\n",
    "                      labelnames={0: 'E', 1: 'NE'},\n",
    "                      mode='flat-multi', algorithm='otsu')\n",
    "df_labelK.to_csv(f\"{tissueK}_HELP_twoClasses.csv\")\n",
    "#Alternatively, you can download the Kidney labels already computed:\n",
    "#!wget https://raw.githubusercontent.com/giordamaug/HELP/main/help/datafinal/Kidney_HELP.csv\n",
    "\n",
    "#Identification of Kidney context-specific EGs\n",
    "import numpy as np\n",
    "import sys\n",
    "np.set_printoptions(threshold=sys.maxsize)\n",
    "EG_kidney = df_labelK[df_labelK['label'] == 'E'].index.values\n",
    "cEG = df_common[df_common['label']=='E'].index.values\n",
    "cs_EG_kidney = np.setdiff1d(EG_kidney, cEG)\n",
    "print(cs_EG_kidney)\n",
    "with open(\"csEG_Kidney.txt\", 'w', encoding='utf-8') as f:\n",
    "    f.write('\\n'.join(list(cs_EG_kidney)))"
   ]
  },
  {
   "cell_type": "markdown",
   "metadata": {},
   "source": [
    "##### Visualizing the obtained results\n",
    "Show the supervenn plot of pan-tissue EGs, Kidney EGs and Kidney csEGs."
   ]
  },
  {
   "cell_type": "code",
   "execution_count": 18,
   "metadata": {},
   "outputs": [
    {
     "data": {
      "image/png": "[encoded data removed]",
      "text/plain": [
       "<Figure size 576x288 with 3 Axes>"
      ]
     },
     "metadata": {
      "needs_background": "light"
     },
     "output_type": "display_data"
    }
   ],
   "source": [
    "from help.visualization.plot import svenn_intesect\n",
    "svenn_intesect([set(cs_EG_kidney),set(EG_kidney), set(cEG)], labels=['kidney csEGs', 'kidney EGs', 'common EGs'], ylabel='EGs', figsize=(8,4))"
   ]
  },
  {
   "cell_type": "markdown",
   "metadata": {},
   "source": [
    "The plot shows that the Kidney tissue shares 1193 EGs with all the other tissues (over a total of 1250 cEGs) and has 60 csEGs.\n",
    "\n",
    "Show the supervenn plot of Kidney csEGs against Lung csEGs."
   ]
  },
  {
   "cell_type": "code",
   "execution_count": 19,
   "metadata": {},
   "outputs": [
    {
     "name": "stdout",
     "output_type": "stream",
     "text": [
      "Selecting 119 cell-lines\n"
     ]
    },
    {
     "name": "stderr",
     "output_type": "stream",
     "text": [
      "100%|██████████| 119/119 [00:00<00:00, 229.57it/s]\n"
     ]
    },
    {
     "name": "stdout",
     "output_type": "stream",
     "text": [
      "['ACO2' 'AP2M1' 'ATP5F1D' 'BORA' 'CCDC86' 'CDK2' 'CKS1B' 'COPS3' 'CYCS'\n",
      " 'DCTN3' 'DDX11' 'DDX39B' 'DGCR8' 'GEMIN7' 'NCAPH2' 'NFYB' 'NUMA1'\n",
      " 'NUP153' 'OXA1L' 'PI4KA' 'PPAT' 'PTCD3' 'SCD' 'SLBP' 'SLC25A3' 'TFRC'\n",
      " 'TRPM7' 'YPEL5' 'YTHDC1' 'ZNF335' 'ZNF407']\n"
     ]
    },
    {
     "data": {
      "image/png": "[encoded data removed]",
      "text/plain": [
       "<Figure size 576x288 with 3 Axes>"
      ]
     },
     "metadata": {
      "needs_background": "light"
     },
     "output_type": "display_data"
    }
   ],
   "source": [
    "from help.visualization.plot import svenn_intesect\n",
    "from help.utility.selection import select_cell_lines\n",
    "from help.models.labelling import labelling\n",
    "tissueL = 'Lung'\n",
    "#a) Identify Lung EGs (as in Example 1)\n",
    "cell_linesL = select_cell_lines(df_nonan, df_map, [tissueL])\n",
    "print(f\"Selecting {len(cell_linesL)} cell-lines\")\n",
    "df_labelL = labelling(df_nonan, columns = cell_linesL, n_classes=2,\n",
    "                      labelnames={0: 'E', 1: 'NE'},\n",
    "                      mode='flat-multi', algorithm='otsu')\n",
    "\n",
    "#b) Compute Lung csEGs\n",
    "np.set_printoptions(threshold=sys.maxsize)\n",
    "EG_lung = df_labelL[df_labelL['label'] == 'E'].index.values\n",
    "cs_EG_lung = np.setdiff1d(EG_lung, cEG)\n",
    "print(cs_EG_lung)\n",
    "#with open(\"csEG_Lung.txt\", 'w', encoding='utf-8') as f:\n",
    "#    f.write('\\n'.join(list(cs_EG_lung)))\n",
    "\n",
    "#Show the supervenn plot\n",
    "svenn_intesect([set(cs_EG_kidney), set(cs_EG_lung)], labels=['kidney', 'lung'], ylabel='csEGs', figsize=(8,4))"
   ]
  }
 ],
 "metadata": {
  "colab": {
   "provenance": []
  },
  "kaggle": {
   "accelerator": "none",
   "dataSources": [
    {
     "datasetId": 4375833,
     "sourceId": 7595933,
     "sourceType": "datasetVersion"
    }
   ],
   "isGpuEnabled": false,
   "isInternetEnabled": true,
   "language": "python",
   "sourceType": "notebook"
  },
  "kernelspec": {
   "display_name": "Python 3",
   "language": "python",
   "name": "python3"
  },
  "language_info": {
   "codemirror_mode": {
    "name": "ipython",
    "version": 3
   },
   "file_extension": ".py",
   "mimetype": "text/x-python",
   "name": "python",
   "nbconvert_exporter": "python",
   "pygments_lexer": "ipython3",
   "version": "3.8.3"
  }
 },
 "nbformat": 4,
 "nbformat_minor": 4
}
