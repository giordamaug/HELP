{
 "cells": [
  {
   "cell_type": "markdown",
   "metadata": {
    "id": "OMT-BHCL6CiM"
   },
   "source": [
    "<a target=\"_blank\" href=\"https://colab.research.google.com/github/giordamaug/HELP/blob/main/help/notebooks/csegs.ipynb\">\n",
    "  <img src=\"https://colab.research.google.com/assets/colab-badge.svg\" alt=\"Open In Colab\"/>\n",
    "</a>\n",
    "<a target=\"_blank\" href=\"https://www.kaggle.com/notebooks/welcome?src=https://github.com/giordamaug/HELP/blob/main/help/notebooks/csegs.ipynb\">\n",
    "  <img src=\"https://kaggle.com/static/images/open-in-kaggle.svg\" alt=\"Open In Colab\"/>\n",
    "</a>"
   ]
  },
  {
   "cell_type": "markdown",
   "metadata": {
    "id": "62SCv3Bw6CiN"
   },
   "source": [
    "### 2.1 Install HELP from GitHub\n",
    "Skip this cell if you alread have installed HELP."
   ]
  },
  {
   "cell_type": "code",
   "execution_count": null,
   "metadata": {
    "colab": {
     "base_uri": "https://localhost:8080/",
     "height": 1000
    },
    "id": "0Or-XdAV6CiN",
    "outputId": "8252289d-261f-4503-8acd-c59b1a48ca5a"
   },
   "outputs": [],
   "source": [
    "!pip install git+https://github.com/giordamaug/HELP.git"
   ]
  },
  {
   "cell_type": "markdown",
   "metadata": {
    "id": "oC0PpWv86CiO"
   },
   "source": [
    "### 2.2 Download the input files\n",
    "In this cell we download from GitHub repository the label file and the attribute files. Skip this step if you already have these input files locally."
   ]
  },
  {
   "cell_type": "code",
   "execution_count": null,
   "metadata": {
    "colab": {
     "base_uri": "https://localhost:8080/"
    },
    "id": "PgFhEZD96CiO",
    "outputId": "d5d9cea7-0b9d-403e-ca4c-c6731c7555a6"
   },
   "outputs": [],
   "source": [
    "!wget -c https://figshare.com/ndownloader/files/43346616 -O CRISPRGeneEffect.csv\n",
    "!wget -c https://figshare.com/ndownloader/files/43746708 -O Model.csv"
   ]
  },
  {
   "cell_type": "code",
   "execution_count": 3,
   "metadata": {},
   "outputs": [
    {
     "name": "stdout",
     "output_type": "stream",
     "text": [
      "/Users/maurizio/HELP/help/datafinal\n"
     ]
    }
   ],
   "source": [
    "%cd ../datafinal"
   ]
  },
  {
   "cell_type": "markdown",
   "metadata": {
    "id": "i2FH68tq6CiO"
   },
   "source": [
    "### 2.3 Load the input file"
   ]
  },
  {
   "cell_type": "code",
   "execution_count": 4,
   "metadata": {
    "colab": {
     "base_uri": "https://localhost:8080/",
     "height": 442
    },
    "id": "Gvkwrgau6CiO",
    "outputId": "72ed9d3a-8d2d-4845-a5b4-866e25ac268f"
   },
   "outputs": [
    {
     "name": "stdout",
     "output_type": "stream",
     "text": [
      "739493 NaN over 20287300 values\n"
     ]
    },
    {
     "data": {
      "text/html": [
       "<div>\n",
       "<style scoped>\n",
       "    .dataframe tbody tr th:only-of-type {\n",
       "        vertical-align: middle;\n",
       "    }\n",
       "\n",
       "    .dataframe tbody tr th {\n",
       "        vertical-align: top;\n",
       "    }\n",
       "\n",
       "    .dataframe thead th {\n",
       "        text-align: right;\n",
       "    }\n",
       "</style>\n",
       "<table border=\"1\" class=\"dataframe\">\n",
       "  <thead>\n",
       "    <tr style=\"text-align: right;\">\n",
       "      <th>gene</th>\n",
       "      <th>ACH-000001</th>\n",
       "      <th>ACH-000004</th>\n",
       "      <th>ACH-000005</th>\n",
       "      <th>ACH-000007</th>\n",
       "      <th>ACH-000009</th>\n",
       "      <th>...</th>\n",
       "      <th>ACH-002834</th>\n",
       "      <th>ACH-002847</th>\n",
       "      <th>ACH-002922</th>\n",
       "      <th>ACH-002925</th>\n",
       "      <th>ACH-002926</th>\n",
       "    </tr>\n",
       "  </thead>\n",
       "  <tbody>\n",
       "    <tr>\n",
       "      <th>A1BG</th>\n",
       "      <td>-0.122637</td>\n",
       "      <td>0.019756</td>\n",
       "      <td>-0.107208</td>\n",
       "      <td>-0.031027</td>\n",
       "      <td>0.008888</td>\n",
       "      <td>...</td>\n",
       "      <td>-0.055721</td>\n",
       "      <td>-0.009973</td>\n",
       "      <td>-0.025991</td>\n",
       "      <td>-0.127639</td>\n",
       "      <td>-0.068666</td>\n",
       "    </tr>\n",
       "    <tr>\n",
       "      <th>A1CF</th>\n",
       "      <td>0.025881</td>\n",
       "      <td>-0.083640</td>\n",
       "      <td>-0.023211</td>\n",
       "      <td>-0.137850</td>\n",
       "      <td>-0.146566</td>\n",
       "      <td>...</td>\n",
       "      <td>-0.121228</td>\n",
       "      <td>-0.119813</td>\n",
       "      <td>-0.007706</td>\n",
       "      <td>-0.040705</td>\n",
       "      <td>-0.107530</td>\n",
       "    </tr>\n",
       "    <tr>\n",
       "      <th>A2M</th>\n",
       "      <td>0.034217</td>\n",
       "      <td>-0.060118</td>\n",
       "      <td>0.200204</td>\n",
       "      <td>0.067704</td>\n",
       "      <td>0.084471</td>\n",
       "      <td>...</td>\n",
       "      <td>0.072790</td>\n",
       "      <td>0.044097</td>\n",
       "      <td>-0.038468</td>\n",
       "      <td>0.134556</td>\n",
       "      <td>0.067806</td>\n",
       "    </tr>\n",
       "    <tr>\n",
       "      <th>A2ML1</th>\n",
       "      <td>-0.128082</td>\n",
       "      <td>-0.027417</td>\n",
       "      <td>0.116039</td>\n",
       "      <td>0.107988</td>\n",
       "      <td>0.089419</td>\n",
       "      <td>...</td>\n",
       "      <td>0.021916</td>\n",
       "      <td>0.041358</td>\n",
       "      <td>0.236576</td>\n",
       "      <td>-0.047984</td>\n",
       "      <td>0.112071</td>\n",
       "    </tr>\n",
       "    <tr>\n",
       "      <th>A3GALT2</th>\n",
       "      <td>-0.031285</td>\n",
       "      <td>-0.036116</td>\n",
       "      <td>-0.172227</td>\n",
       "      <td>0.007992</td>\n",
       "      <td>0.065109</td>\n",
       "      <td>...</td>\n",
       "      <td>-0.221940</td>\n",
       "      <td>-0.146565</td>\n",
       "      <td>-0.239690</td>\n",
       "      <td>-0.116114</td>\n",
       "      <td>-0.149897</td>\n",
       "    </tr>\n",
       "    <tr>\n",
       "      <th>...</th>\n",
       "      <td>...</td>\n",
       "      <td>...</td>\n",
       "      <td>...</td>\n",
       "      <td>...</td>\n",
       "      <td>...</td>\n",
       "      <td>...</td>\n",
       "      <td>...</td>\n",
       "      <td>...</td>\n",
       "      <td>...</td>\n",
       "      <td>...</td>\n",
       "      <td>...</td>\n",
       "    </tr>\n",
       "    <tr>\n",
       "      <th>ZYG11A</th>\n",
       "      <td>-0.289724</td>\n",
       "      <td>0.032983</td>\n",
       "      <td>-0.201273</td>\n",
       "      <td>-0.100344</td>\n",
       "      <td>-0.112703</td>\n",
       "      <td>...</td>\n",
       "      <td>0.024959</td>\n",
       "      <td>-0.119911</td>\n",
       "      <td>-0.079342</td>\n",
       "      <td>-0.043555</td>\n",
       "      <td>-0.045115</td>\n",
       "    </tr>\n",
       "    <tr>\n",
       "      <th>ZYG11B</th>\n",
       "      <td>-0.062972</td>\n",
       "      <td>-0.410392</td>\n",
       "      <td>-0.178877</td>\n",
       "      <td>-0.462160</td>\n",
       "      <td>-0.598698</td>\n",
       "      <td>...</td>\n",
       "      <td>0.015259</td>\n",
       "      <td>-0.289412</td>\n",
       "      <td>-0.347484</td>\n",
       "      <td>-0.335270</td>\n",
       "      <td>-0.307900</td>\n",
       "    </tr>\n",
       "    <tr>\n",
       "      <th>ZYX</th>\n",
       "      <td>0.074180</td>\n",
       "      <td>0.113156</td>\n",
       "      <td>-0.055349</td>\n",
       "      <td>-0.001555</td>\n",
       "      <td>0.095877</td>\n",
       "      <td>...</td>\n",
       "      <td>-0.306562</td>\n",
       "      <td>-0.195097</td>\n",
       "      <td>-0.085302</td>\n",
       "      <td>-0.208063</td>\n",
       "      <td>0.070671</td>\n",
       "    </tr>\n",
       "    <tr>\n",
       "      <th>ZZEF1</th>\n",
       "      <td>0.111244</td>\n",
       "      <td>0.234388</td>\n",
       "      <td>-0.002161</td>\n",
       "      <td>-0.325964</td>\n",
       "      <td>-0.026742</td>\n",
       "      <td>...</td>\n",
       "      <td>-0.148368</td>\n",
       "      <td>-0.206400</td>\n",
       "      <td>-0.095965</td>\n",
       "      <td>-0.094741</td>\n",
       "      <td>-0.187813</td>\n",
       "    </tr>\n",
       "    <tr>\n",
       "      <th>ZZZ3</th>\n",
       "      <td>-0.467908</td>\n",
       "      <td>-0.088306</td>\n",
       "      <td>-0.186842</td>\n",
       "      <td>-0.486660</td>\n",
       "      <td>-0.320759</td>\n",
       "      <td>...</td>\n",
       "      <td>-0.579576</td>\n",
       "      <td>-0.486525</td>\n",
       "      <td>-0.346272</td>\n",
       "      <td>-0.222404</td>\n",
       "      <td>-0.452143</td>\n",
       "    </tr>\n",
       "  </tbody>\n",
       "</table>\n",
       "<p>18443 rows × 1100 columns</p>\n",
       "</div>"
      ],
      "text/plain": [
       "gene     ACH-000001  ACH-000004  ACH-000005  ACH-000007  ACH-000009  ...  \\\n",
       "A1BG      -0.122637    0.019756   -0.107208   -0.031027    0.008888  ...   \n",
       "A1CF       0.025881   -0.083640   -0.023211   -0.137850   -0.146566  ...   \n",
       "A2M        0.034217   -0.060118    0.200204    0.067704    0.084471  ...   \n",
       "A2ML1     -0.128082   -0.027417    0.116039    0.107988    0.089419  ...   \n",
       "A3GALT2   -0.031285   -0.036116   -0.172227    0.007992    0.065109  ...   \n",
       "...             ...         ...         ...         ...         ...  ...   \n",
       "ZYG11A    -0.289724    0.032983   -0.201273   -0.100344   -0.112703  ...   \n",
       "ZYG11B    -0.062972   -0.410392   -0.178877   -0.462160   -0.598698  ...   \n",
       "ZYX        0.074180    0.113156   -0.055349   -0.001555    0.095877  ...   \n",
       "ZZEF1      0.111244    0.234388   -0.002161   -0.325964   -0.026742  ...   \n",
       "ZZZ3      -0.467908   -0.088306   -0.186842   -0.486660   -0.320759  ...   \n",
       "\n",
       "gene     ACH-002834  ACH-002847  ACH-002922  ACH-002925  ACH-002926  \n",
       "A1BG      -0.055721   -0.009973   -0.025991   -0.127639   -0.068666  \n",
       "A1CF      -0.121228   -0.119813   -0.007706   -0.040705   -0.107530  \n",
       "A2M        0.072790    0.044097   -0.038468    0.134556    0.067806  \n",
       "A2ML1      0.021916    0.041358    0.236576   -0.047984    0.112071  \n",
       "A3GALT2   -0.221940   -0.146565   -0.239690   -0.116114   -0.149897  \n",
       "...             ...         ...         ...         ...         ...  \n",
       "ZYG11A     0.024959   -0.119911   -0.079342   -0.043555   -0.045115  \n",
       "ZYG11B     0.015259   -0.289412   -0.347484   -0.335270   -0.307900  \n",
       "ZYX       -0.306562   -0.195097   -0.085302   -0.208063    0.070671  \n",
       "ZZEF1     -0.148368   -0.206400   -0.095965   -0.094741   -0.187813  \n",
       "ZZZ3      -0.579576   -0.486525   -0.346272   -0.222404   -0.452143  \n",
       "\n",
       "[18443 rows x 1100 columns]"
      ]
     },
     "execution_count": 4,
     "metadata": {},
     "output_type": "execute_result"
    }
   ],
   "source": [
    "import pandas as pd\n",
    "pd.set_option('display.max_columns', 10)\n",
    "import os\n",
    "df_orig = pd.read_csv(\"CRISPRGeneEffect.csv\").rename(columns={'Unnamed: 0': 'gene'}).rename(columns=lambda x: x.split(' ')[0]).set_index('gene').T\n",
    "print(f'{df_orig.isna().sum().sum()} NaN over {len(df_orig)*len(df_orig.columns)} values')\n",
    "df_orig"
   ]
  },
  {
   "cell_type": "markdown",
   "metadata": {
    "id": "PdLipe1U6CiO"
   },
   "source": [
    "# Load the map between cell lines and tissues"
   ]
  },
  {
   "cell_type": "markdown",
   "metadata": {
    "id": "HZjb_SXR6CiO"
   },
   "source": [
    "In this code we load the file that maps cell-lines identifiers (column `ModelID`) to tissue, disease or tumor type (respectively: `OncotreeLineage`,  `OncotreePrimaryDisease`,\t`OncotreeSubtype`). As a second step, we print the counts of lines for each tissue."
   ]
  },
  {
   "cell_type": "code",
   "execution_count": 6,
   "metadata": {
    "colab": {
     "base_uri": "https://localhost:8080/",
     "height": 1000
    },
    "id": "FZBOL5oP6CiO",
    "outputId": "d65871bd-5391-4625-910b-0ed974028149"
   },
   "outputs": [
    {
     "name": "stdout",
     "output_type": "stream",
     "text": [
      "OncotreeLineage          \n",
      "Lung                         249\n",
      "Lymphoid                     211\n",
      "CNS/Brain                    122\n",
      "Skin                         120\n",
      "Esophagus/Stomach             95\n",
      "Breast                        94\n",
      "Bowel                         89\n",
      "Head and Neck                 84\n",
      "Bone                          77\n",
      "Myeloid                       77\n",
      "Ovary/Fallopian Tube          75\n",
      "Kidney                        73\n",
      "Pancreas                      66\n",
      "Peripheral Nervous System     56\n",
      "Soft Tissue                   55\n",
      "Biliary Tract                 44\n",
      "Uterus                        41\n",
      "Fibroblast                    41\n",
      "Bladder/Urinary Tract         39\n",
      "Normal                        39\n",
      "Pleura                        35\n",
      "Liver                         29\n",
      "Cervix                        25\n",
      "Eye                           21\n",
      "Thyroid                       18\n",
      "Prostate                      15\n",
      "Testis                         7\n",
      "Vulva/Vagina                   5\n",
      "Muscle                         5\n",
      "Ampulla of Vater               4\n",
      "Hair                           2\n",
      "Other                          1\n",
      "Embryonal                      1\n",
      "Adrenal Gland                  1\n",
      "dtype: int64\n"
     ]
    }
   ],
   "source": [
    "df_map = pd.read_csv(\"Model.csv\")\n",
    "print(df_map[['OncotreeLineage']].value_counts())"
   ]
  },
  {
   "cell_type": "markdown",
   "metadata": {
    "id": "h0inqRC56CiO"
   },
   "source": [
    "### Example 2.1 Common Egs computation (pan-tissue labelling)\n",
    "We can apply the labelling algorithm to all cell lines present in the CRISPR data file to compute the common essential genes, i.e. the *pan-tissue* (or pan-cancer, pan-disease, etc). This set of labels will be used in the following to get the context-specific essential genes for single tissue."
   ]
  },
  {
   "cell_type": "markdown",
   "metadata": {
    "id": "HMTIYtr16CiO"
   },
   "source": [
    "##### Ignoring in Model tissue with few cell-lines\n",
    "in this code we select in the CRISPR data file only cell lines belonging to tissue reported in the Model such that the number of lines is greater (or equal) to a specific amount."
   ]
  },
  {
   "cell_type": "code",
   "execution_count": 7,
   "metadata": {
    "colab": {
     "base_uri": "https://localhost:8080/",
     "height": 424
    },
    "execution": {
     "iopub.execute_input": "2024-02-13T13:08:27.481208Z",
     "iopub.status.busy": "2024-02-13T13:08:27.479657Z",
     "iopub.status.idle": "2024-02-13T13:08:27.670698Z",
     "shell.execute_reply": "2024-02-13T13:08:27.669469Z",
     "shell.execute_reply.started": "2024-02-13T13:08:27.481156Z"
    },
    "id": "HcTQMRkq6CiO",
    "outputId": "efac449a-ee6c-4cb1-c0cb-64027dc6d497"
   },
   "outputs": [
    {
     "data": {
      "text/html": [
       "<div>\n",
       "<style scoped>\n",
       "    .dataframe tbody tr th:only-of-type {\n",
       "        vertical-align: middle;\n",
       "    }\n",
       "\n",
       "    .dataframe tbody tr th {\n",
       "        vertical-align: top;\n",
       "    }\n",
       "\n",
       "    .dataframe thead th {\n",
       "        text-align: right;\n",
       "    }\n",
       "</style>\n",
       "<table border=\"1\" class=\"dataframe\">\n",
       "  <thead>\n",
       "    <tr style=\"text-align: right;\">\n",
       "      <th>gene</th>\n",
       "      <th>ACH-000001</th>\n",
       "      <th>ACH-000004</th>\n",
       "      <th>ACH-000005</th>\n",
       "      <th>ACH-000007</th>\n",
       "      <th>ACH-000009</th>\n",
       "      <th>...</th>\n",
       "      <th>ACH-002834</th>\n",
       "      <th>ACH-002847</th>\n",
       "      <th>ACH-002922</th>\n",
       "      <th>ACH-002925</th>\n",
       "      <th>ACH-002926</th>\n",
       "    </tr>\n",
       "  </thead>\n",
       "  <tbody>\n",
       "    <tr>\n",
       "      <th>A1BG</th>\n",
       "      <td>-0.122637</td>\n",
       "      <td>0.019756</td>\n",
       "      <td>-0.107208</td>\n",
       "      <td>-0.031027</td>\n",
       "      <td>0.008888</td>\n",
       "      <td>...</td>\n",
       "      <td>-0.055721</td>\n",
       "      <td>-0.009973</td>\n",
       "      <td>-0.025991</td>\n",
       "      <td>-0.127639</td>\n",
       "      <td>-0.068666</td>\n",
       "    </tr>\n",
       "    <tr>\n",
       "      <th>A1CF</th>\n",
       "      <td>0.025881</td>\n",
       "      <td>-0.083640</td>\n",
       "      <td>-0.023211</td>\n",
       "      <td>-0.137850</td>\n",
       "      <td>-0.146566</td>\n",
       "      <td>...</td>\n",
       "      <td>-0.121228</td>\n",
       "      <td>-0.119813</td>\n",
       "      <td>-0.007706</td>\n",
       "      <td>-0.040705</td>\n",
       "      <td>-0.107530</td>\n",
       "    </tr>\n",
       "    <tr>\n",
       "      <th>A2M</th>\n",
       "      <td>0.034217</td>\n",
       "      <td>-0.060118</td>\n",
       "      <td>0.200204</td>\n",
       "      <td>0.067704</td>\n",
       "      <td>0.084471</td>\n",
       "      <td>...</td>\n",
       "      <td>0.072790</td>\n",
       "      <td>0.044097</td>\n",
       "      <td>-0.038468</td>\n",
       "      <td>0.134556</td>\n",
       "      <td>0.067806</td>\n",
       "    </tr>\n",
       "    <tr>\n",
       "      <th>A2ML1</th>\n",
       "      <td>-0.128082</td>\n",
       "      <td>-0.027417</td>\n",
       "      <td>0.116039</td>\n",
       "      <td>0.107988</td>\n",
       "      <td>0.089419</td>\n",
       "      <td>...</td>\n",
       "      <td>0.021916</td>\n",
       "      <td>0.041358</td>\n",
       "      <td>0.236576</td>\n",
       "      <td>-0.047984</td>\n",
       "      <td>0.112071</td>\n",
       "    </tr>\n",
       "    <tr>\n",
       "      <th>A3GALT2</th>\n",
       "      <td>-0.031285</td>\n",
       "      <td>-0.036116</td>\n",
       "      <td>-0.172227</td>\n",
       "      <td>0.007992</td>\n",
       "      <td>0.065109</td>\n",
       "      <td>...</td>\n",
       "      <td>-0.221940</td>\n",
       "      <td>-0.146565</td>\n",
       "      <td>-0.239690</td>\n",
       "      <td>-0.116114</td>\n",
       "      <td>-0.149897</td>\n",
       "    </tr>\n",
       "    <tr>\n",
       "      <th>...</th>\n",
       "      <td>...</td>\n",
       "      <td>...</td>\n",
       "      <td>...</td>\n",
       "      <td>...</td>\n",
       "      <td>...</td>\n",
       "      <td>...</td>\n",
       "      <td>...</td>\n",
       "      <td>...</td>\n",
       "      <td>...</td>\n",
       "      <td>...</td>\n",
       "      <td>...</td>\n",
       "    </tr>\n",
       "    <tr>\n",
       "      <th>ZYG11A</th>\n",
       "      <td>-0.289724</td>\n",
       "      <td>0.032983</td>\n",
       "      <td>-0.201273</td>\n",
       "      <td>-0.100344</td>\n",
       "      <td>-0.112703</td>\n",
       "      <td>...</td>\n",
       "      <td>0.024959</td>\n",
       "      <td>-0.119911</td>\n",
       "      <td>-0.079342</td>\n",
       "      <td>-0.043555</td>\n",
       "      <td>-0.045115</td>\n",
       "    </tr>\n",
       "    <tr>\n",
       "      <th>ZYG11B</th>\n",
       "      <td>-0.062972</td>\n",
       "      <td>-0.410392</td>\n",
       "      <td>-0.178877</td>\n",
       "      <td>-0.462160</td>\n",
       "      <td>-0.598698</td>\n",
       "      <td>...</td>\n",
       "      <td>0.015259</td>\n",
       "      <td>-0.289412</td>\n",
       "      <td>-0.347484</td>\n",
       "      <td>-0.335270</td>\n",
       "      <td>-0.307900</td>\n",
       "    </tr>\n",
       "    <tr>\n",
       "      <th>ZYX</th>\n",
       "      <td>0.074180</td>\n",
       "      <td>0.113156</td>\n",
       "      <td>-0.055349</td>\n",
       "      <td>-0.001555</td>\n",
       "      <td>0.095877</td>\n",
       "      <td>...</td>\n",
       "      <td>-0.306562</td>\n",
       "      <td>-0.195097</td>\n",
       "      <td>-0.085302</td>\n",
       "      <td>-0.208063</td>\n",
       "      <td>0.070671</td>\n",
       "    </tr>\n",
       "    <tr>\n",
       "      <th>ZZEF1</th>\n",
       "      <td>0.111244</td>\n",
       "      <td>0.234388</td>\n",
       "      <td>-0.002161</td>\n",
       "      <td>-0.325964</td>\n",
       "      <td>-0.026742</td>\n",
       "      <td>...</td>\n",
       "      <td>-0.148368</td>\n",
       "      <td>-0.206400</td>\n",
       "      <td>-0.095965</td>\n",
       "      <td>-0.094741</td>\n",
       "      <td>-0.187813</td>\n",
       "    </tr>\n",
       "    <tr>\n",
       "      <th>ZZZ3</th>\n",
       "      <td>-0.467908</td>\n",
       "      <td>-0.088306</td>\n",
       "      <td>-0.186842</td>\n",
       "      <td>-0.486660</td>\n",
       "      <td>-0.320759</td>\n",
       "      <td>...</td>\n",
       "      <td>-0.579576</td>\n",
       "      <td>-0.486525</td>\n",
       "      <td>-0.346272</td>\n",
       "      <td>-0.222404</td>\n",
       "      <td>-0.452143</td>\n",
       "    </tr>\n",
       "  </tbody>\n",
       "</table>\n",
       "<p>18443 rows × 1091 columns</p>\n",
       "</div>"
      ],
      "text/plain": [
       "gene     ACH-000001  ACH-000004  ACH-000005  ACH-000007  ACH-000009  ...  \\\n",
       "A1BG      -0.122637    0.019756   -0.107208   -0.031027    0.008888  ...   \n",
       "A1CF       0.025881   -0.083640   -0.023211   -0.137850   -0.146566  ...   \n",
       "A2M        0.034217   -0.060118    0.200204    0.067704    0.084471  ...   \n",
       "A2ML1     -0.128082   -0.027417    0.116039    0.107988    0.089419  ...   \n",
       "A3GALT2   -0.031285   -0.036116   -0.172227    0.007992    0.065109  ...   \n",
       "...             ...         ...         ...         ...         ...  ...   \n",
       "ZYG11A    -0.289724    0.032983   -0.201273   -0.100344   -0.112703  ...   \n",
       "ZYG11B    -0.062972   -0.410392   -0.178877   -0.462160   -0.598698  ...   \n",
       "ZYX        0.074180    0.113156   -0.055349   -0.001555    0.095877  ...   \n",
       "ZZEF1      0.111244    0.234388   -0.002161   -0.325964   -0.026742  ...   \n",
       "ZZZ3      -0.467908   -0.088306   -0.186842   -0.486660   -0.320759  ...   \n",
       "\n",
       "gene     ACH-002834  ACH-002847  ACH-002922  ACH-002925  ACH-002926  \n",
       "A1BG      -0.055721   -0.009973   -0.025991   -0.127639   -0.068666  \n",
       "A1CF      -0.121228   -0.119813   -0.007706   -0.040705   -0.107530  \n",
       "A2M        0.072790    0.044097   -0.038468    0.134556    0.067806  \n",
       "A2ML1      0.021916    0.041358    0.236576   -0.047984    0.112071  \n",
       "A3GALT2   -0.221940   -0.146565   -0.239690   -0.116114   -0.149897  \n",
       "...             ...         ...         ...         ...         ...  \n",
       "ZYG11A     0.024959   -0.119911   -0.079342   -0.043555   -0.045115  \n",
       "ZYG11B     0.015259   -0.289412   -0.347484   -0.335270   -0.307900  \n",
       "ZYX       -0.306562   -0.195097   -0.085302   -0.208063    0.070671  \n",
       "ZZEF1     -0.148368   -0.206400   -0.095965   -0.094741   -0.187813  \n",
       "ZZZ3      -0.579576   -0.486525   -0.346272   -0.222404   -0.452143  \n",
       "\n",
       "[18443 rows x 1091 columns]"
      ]
     },
     "execution_count": 7,
     "metadata": {},
     "output_type": "execute_result"
    }
   ],
   "source": [
    "from help.utility.selection import filter_crispr_by_model\n",
    "df = filter_crispr_by_model(df_orig, df_map, minlines=10, line_group='OncotreeLineage')\n",
    "df"
   ]
  },
  {
   "cell_type": "markdown",
   "metadata": {
    "id": "zzMk0HMl6CiP"
   },
   "source": [
    "##### labelling EGs across tissues\n",
    "In this example we compute common EGs by applying the labelling algorithm within each tissue-specufic cell lines. Then the common essentiality label is computed by making the mode of previously-computed labels across tissue.\n",
    "In order to do that, we with need to select cell-lines form the `Model.csv` as a nested list of lists of cell-lines. THis is\n",
    "obtained by properly calling the `select-cell-Lines` function.\n"
   ]
  },
  {
   "cell_type": "code",
   "execution_count": 8,
   "metadata": {
    "colab": {
     "base_uri": "https://localhost:8080/"
    },
    "id": "uPdlnlmu6CiP",
    "outputId": "639fb6d0-c261-4378-fc66-bd0f944c7148"
   },
   "outputs": [
    {
     "name": "stdout",
     "output_type": "stream",
     "text": [
      "Selecting 24 tissue for a total of 1091 cell-lines\n"
     ]
    }
   ],
   "source": [
    "from help.utility.selection import select_cell_lines, delrows_with_nan_percentage\n",
    "from help.models.labelling import labelling\n",
    "cell_lines = select_cell_lines(df, df_map, tissue_list='all', nested=True)\n",
    "print(f\"Selecting {len(cell_lines)} tissue for a total of {sum([len(x) for x in cell_lines])} cell-lines\")"
   ]
  },
  {
   "cell_type": "markdown",
   "metadata": {
    "id": "-lxu0uxZ6CiP"
   },
   "source": [
    "Once selected the tissues as a nested list of cell-lines, we can apply the labelling algorithm with the following coee. Note that we remove from the CRIPSR matrix those genes with a percentage of missing values greater than 80%."
   ]
  },
  {
   "cell_type": "code",
   "execution_count": 9,
   "metadata": {
    "colab": {
     "base_uri": "https://localhost:8080/"
    },
    "execution": {
     "iopub.execute_input": "2024-02-13T13:09:13.243023Z",
     "iopub.status.busy": "2024-02-13T13:09:13.242652Z",
     "iopub.status.idle": "2024-02-13T13:10:22.102305Z",
     "shell.execute_reply": "2024-02-13T13:10:22.101421Z",
     "shell.execute_reply.started": "2024-02-13T13:09:13.242992Z"
    },
    "id": "5wbqJhkv6CiP",
    "outputId": "c12ff809-bd49-451d-8076-c55e09ba092d"
   },
   "outputs": [
    {
     "name": "stdout",
     "output_type": "stream",
     "text": [
      "Removed 512 rows from 18443 with at least 80% NaN\n"
     ]
    },
    {
     "name": "stderr",
     "output_type": "stream",
     "text": [
      "100%|██████████| 34/34 [00:00<00:00, 185.99it/s]\n",
      "/Users/maurizio/opt/anaconda3/lib/python3.8/site-packages/help/models/labelling.py:249: UserWarning: There are rows with all NaNs, please remove them using the function 'rows_with_all_nan()' and re-apply the labelling. Otherwise you will have NaN labels in your output.\n",
      "  warnings.warn(\"There are rows with all NaNs, please remove them using the function 'rows_with_all_nan()' and re-apply the labelling. Otherwise you will have NaN labels in your output.\")\n",
      "100%|██████████| 32/32 [00:00<00:00, 224.35it/s]\n",
      "100%|██████████| 37/37 [00:00<00:00, 229.09it/s]\n",
      "100%|██████████| 59/59 [00:00<00:00, 244.14it/s]\n",
      "100%|██████████| 48/48 [00:00<00:00, 161.69it/s]\n",
      "100%|██████████| 86/86 [00:00<00:00, 152.90it/s]\n",
      "100%|██████████| 18/18 [00:00<00:00, 182.53it/s]\n",
      "100%|██████████| 65/65 [00:00<00:00, 179.77it/s]\n",
      "100%|██████████| 15/15 [00:00<00:00, 162.50it/s]\n",
      "100%|██████████| 72/72 [00:00<00:00, 173.52it/s]\n",
      "100%|██████████| 37/37 [00:00<00:00, 53.74it/s]\n",
      "100%|██████████| 24/24 [00:00<00:00, 165.72it/s]\n",
      "100%|██████████| 119/119 [00:00<00:00, 212.27it/s]\n",
      "100%|██████████| 81/81 [00:00<00:00, 211.44it/s]\n",
      "100%|██████████| 37/37 [00:00<00:00, 155.95it/s]\n",
      "100%|██████████| 59/59 [00:00<00:00, 167.45it/s]\n",
      "100%|██████████| 47/47 [00:00<00:00, 204.69it/s]\n",
      "100%|██████████| 41/41 [00:00<00:00, 208.53it/s]\n",
      "100%|██████████| 19/19 [00:00<00:00, 194.36it/s]\n",
      "100%|██████████| 10/10 [00:00<00:00, 205.33it/s]\n",
      "100%|██████████| 71/71 [00:00<00:00, 179.48it/s]\n",
      "100%|██████████| 36/36 [00:00<00:00, 217.98it/s]\n",
      "100%|██████████| 11/11 [00:00<00:00, 210.12it/s]\n",
      "100%|██████████| 33/33 [00:00<00:00, 204.18it/s]\n"
     ]
    },
    {
     "data": {
      "text/plain": [
       "label\n",
       "NE       16677\n",
       "E         1254\n",
       "dtype: int64"
      ]
     },
     "execution_count": 9,
     "metadata": {},
     "output_type": "execute_result"
    }
   ],
   "source": [
    "from help.utility.selection import delrows_with_nan_percentage\n",
    "from help.models.labelling import labelling\n",
    "# remove rows with all nans\n",
    "df_nonan = delrows_with_nan_percentage(df, perc=80)\n",
    "df_common = labelling(df_nonan, columns=cell_lines, n_classes=2, labelnames={1: 'NE', 0: 'E'},\n",
    "                     mode='flat-multi', algorithm='otsu')\n",
    "#df_common.to_csv(\"PanTissue_group_HELP.csv\")\n",
    "df_common.value_counts()"
   ]
  },
  {
   "cell_type": "markdown",
   "metadata": {
    "id": "knIcs1QX6CiP"
   },
   "source": [
    "For comparison, let's compute the common EGs by applying the labelling to all tissue in a flat way. In this case all cell-lines contribute in the same way to the labelling criterium regardless of the related tissue."
   ]
  },
  {
   "cell_type": "code",
   "execution_count": 10,
   "metadata": {
    "colab": {
     "base_uri": "https://localhost:8080/"
    },
    "id": "v6KNfMuO6CiP",
    "outputId": "250e74ee-a48d-4945-a178-b4f445c69550"
   },
   "outputs": [
    {
     "name": "stdout",
     "output_type": "stream",
     "text": [
      "Selecting 1091 cell-lines\n"
     ]
    }
   ],
   "source": [
    "from help.utility.selection import select_cell_lines\n",
    "from help.models.labelling import labelling\n",
    "cell_lines = select_cell_lines(df, df_map, tissue_list='all', nested=False)\n",
    "print(f\"Selecting {len([len(x) for x in cell_lines])} cell-lines\")"
   ]
  },
  {
   "cell_type": "markdown",
   "metadata": {
    "id": "2P1mzqaL6CiP"
   },
   "source": [
    "Once selected all cell-lines as a flat list of identifiers, we can apply the labelling algorithm with the following code. Also in this case we remove from the CRIPSR matrix those genes with a percentage of missing values greater than 80%."
   ]
  },
  {
   "cell_type": "code",
   "execution_count": 11,
   "metadata": {
    "colab": {
     "base_uri": "https://localhost:8080/"
    },
    "id": "HaiyI77_6CiP",
    "outputId": "ee7e04b9-c782-4151-c9de-311f7fcfe63f"
   },
   "outputs": [
    {
     "name": "stdout",
     "output_type": "stream",
     "text": [
      "Removed 512 rows from 18443 with at least 80% NaN\n"
     ]
    },
    {
     "name": "stderr",
     "output_type": "stream",
     "text": [
      "100%|██████████| 1091/1091 [00:05<00:00, 192.97it/s]\n"
     ]
    },
    {
     "data": {
      "text/plain": [
       "(label\n",
       " NE       16664\n",
       " E         1267\n",
       " dtype: int64,\n",
       " 'Nan: 0')"
      ]
     },
     "execution_count": 11,
     "metadata": {},
     "output_type": "execute_result"
    }
   ],
   "source": [
    "from help.utility.selection import delrows_with_nan_percentage\n",
    "from help.models.labelling import labelling\n",
    "# remove rows with all nans\n",
    "df_nonan = delrows_with_nan_percentage(df, perc=80)\n",
    "df_common_flat = labelling(df_nonan, columns=cell_lines, n_classes=2,\n",
    "                     labelnames={1: 'NE', 0: 'E'},\n",
    "                     mode='flat-multi', algorithm='otsu')\n",
    "#df_common_flat.to_csv(\"label_PanTissue.csv\")\n",
    "df_common_flat.value_counts(), f\"Nan: {df_common_flat['label'].isna().sum()}\""
   ]
  },
  {
   "cell_type": "markdown",
   "metadata": {
    "id": "QC1EQHaG6CiP"
   },
   "source": [
    "### Example 2.2 Context specific EGs\n",
    "In this section we make the difference between pan-tissue EGs (common EGs) and tissue EGs to get the context-specific EGs for the tissue (csEGs). The EGs for Kidney and Lung tissues (previously generated) are loaded from csv data files (downloaded from the GitHub repository).\n",
    "In this forst code/plot we show the csEGs of Lung and Kidney by subtracting the common EGs computed by grouping tissue cell-lines (`label_PanTissue_group.csv`). In the second code/plot we show the csEGs of the two tissues by subtracting the common EGs computed on all cell-lines in flat mode (`label_PanTissue.csv`)"
   ]
  },
  {
   "cell_type": "code",
   "execution_count": 13,
   "metadata": {
    "colab": {
     "base_uri": "https://localhost:8080/"
    },
    "id": "68P94Ux-8K3b",
    "outputId": "d9b4fec1-a9c7-4928-8fd2-28f79706ce57"
   },
   "outputs": [
    {
     "name": "stdout",
     "output_type": "stream",
     "text": [
      "--2024-03-08 12:02:24--  https://raw.githubusercontent.com/giordamaug/HELP/main/help/datafinal/Kidney_HELP.csv\n",
      "Resolving raw.githubusercontent.com (raw.githubusercontent.com)... 185.199.108.133, 185.199.109.133, 185.199.110.133, ...\n",
      "Connecting to raw.githubusercontent.com (raw.githubusercontent.com)|185.199.108.133|:443... connected.\n",
      "HTTP request sent, awaiting response... 200 OK\n",
      "Length: 180249 (176K) [text/plain]\n",
      "Saving to: ‘Kidney_HELP.csv.1’\n",
      "\n",
      "\r\n",
      "Kidney_HELP.csv.1     0%[                    ]       0  --.-KB/s               \r\n",
      "Kidney_HELP.csv.1   100%[===================>] 176.02K  --.-KB/s    in 0.03s   \n",
      "\n",
      "2024-03-08 12:02:24 (6.74 MB/s) - ‘Kidney_HELP.csv.1’ saved [180249/180249]\n",
      "\n",
      "--2024-03-08 12:02:24--  https://raw.githubusercontent.com/giordamaug/HELP/main/help/datafinal/Lung_HELP.csv\n",
      "Resolving raw.githubusercontent.com (raw.githubusercontent.com)... 185.199.108.133, 185.199.109.133, 185.199.110.133, ...\n",
      "Connecting to raw.githubusercontent.com (raw.githubusercontent.com)|185.199.108.133|:443... connected.\n",
      "HTTP request sent, awaiting response... 200 OK\n",
      "Length: 180657 (176K) [text/plain]\n",
      "Saving to: ‘Lung_HELP.csv’\n",
      "\n",
      "Lung_HELP.csv       100%[===================>] 176.42K  --.-KB/s    in 0.02s   \n",
      "\n",
      "2024-03-08 12:02:25 (6.93 MB/s) - ‘Lung_HELP.csv’ saved [180657/180657]\n",
      "\n"
     ]
    }
   ],
   "source": [
    "!wget https://raw.githubusercontent.com/giordamaug/HELP/main/help/datafinal/Kidney_HELP.csv\n",
    "!wget https://raw.githubusercontent.com/giordamaug/HELP/main/help/datafinal/Lung_HELP.csv"
   ]
  },
  {
   "cell_type": "markdown",
   "metadata": {},
   "source": [
    "##### Kidney csEGs"
   ]
  },
  {
   "cell_type": "code",
   "execution_count": 13,
   "metadata": {},
   "outputs": [
    {
     "name": "stdout",
     "output_type": "stream",
     "text": [
      "['ACTG1' 'ACTR6' 'ARF4' 'ARFRP1' 'ARPC4' 'CDK6' 'CFLAR' 'CHMP7' 'COPS3'\n",
      " 'DCTN3' 'DDX11' 'DDX52' 'EMC3' 'EXOSC1' 'FERMT2' 'GEMIN7' 'GET3' 'HGS'\n",
      " 'HNF1B' 'ITGAV' 'KIF4A' 'MCM10' 'MDM2' 'METAP2' 'MLST8' 'NCAPH2' 'NDOR1'\n",
      " 'NHLRC2' 'OXA1L' 'PAX8' 'PFN1' 'PIK3C3' 'PPIE' 'PPP1CA' 'PPP4R2' 'PTK2'\n",
      " 'RAB7A' 'RAD1' 'RBM42' 'RBMX2' 'RTEL1' 'SEPHS2' 'SNAP23' 'SNRPB2'\n",
      " 'SPTLC1' 'SRSF10' 'TAF1D' 'TMED10' 'TMED2' 'TRIM37' 'UBA5' 'UBC' 'UBE2D3'\n",
      " 'USP10' 'VPS33A' 'VPS52' 'WDR25' 'YWHAZ' 'ZNG1B']\n"
     ]
    }
   ],
   "source": [
    "import numpy as np\n",
    "import sys\n",
    "np.set_printoptions(threshold=sys.maxsize)\n",
    "df = pd.read_csv(\"Kidney_HELP.csv\", index_col=0)\n",
    "EG_kidney = df[df['label'] == 'E'].index.values\n",
    "cEG = df_common[df_common['label']=='E'].index.values\n",
    "cs_EG_kidney = np.setdiff1d(EG_kidney, cEG)\n",
    "print(cs_EG_kidney)"
   ]
  },
  {
   "cell_type": "markdown",
   "metadata": {},
   "source": [
    "##### Lung csEGs"
   ]
  },
  {
   "cell_type": "code",
   "execution_count": 14,
   "metadata": {},
   "outputs": [
    {
     "name": "stdout",
     "output_type": "stream",
     "text": [
      "['ACO2' 'AP2M1' 'ATP5F1D' 'BORA' 'CCDC86' 'CDK2' 'CKS1B' 'DCTN3' 'DDX11'\n",
      " 'DDX39B' 'DGCR8' 'GEMIN7' 'NCAPH2' 'NFYB' 'NUMA1' 'NUP153' 'OXA1L'\n",
      " 'PI4KA' 'PPAT' 'PTCD3' 'SCD' 'SLBP' 'SLC25A3' 'TFRC' 'TRPM7' 'YPEL5'\n",
      " 'YTHDC1' 'ZNF407']\n"
     ]
    }
   ],
   "source": [
    "import numpy as np\n",
    "import sys\n",
    "np.set_printoptions(threshold=sys.maxsize)\n",
    "df = pd.read_csv(\"Lung_HELP.csv\", index_col=0)\n",
    "EG_lung = df[df['label'] == 'E'].index.values\n",
    "cEG = df_common[df_common['label']=='E'].index.values\n",
    "cs_EG_lung = np.setdiff1d(EG_lung, cEG)\n",
    "print(cs_EG_lung)"
   ]
  },
  {
   "cell_type": "markdown",
   "metadata": {},
   "source": [
    "### Example 2.3 intersection of csEGs between tissues"
   ]
  },
  {
   "cell_type": "code",
   "execution_count": 17,
   "metadata": {},
   "outputs": [
    {
     "data": {
      "image/png": "[encoded data removed]",
      "text/plain": [
       "<Figure size 576x288 with 3 Axes>"
      ]
     },
     "metadata": {
      "needs_background": "light"
     },
     "output_type": "display_data"
    },
    {
     "data": {
      "image/png": "[encoded data removed]",
      "text/plain": [
       "<Figure size 576x288 with 3 Axes>"
      ]
     },
     "metadata": {
      "needs_background": "light"
     },
     "output_type": "display_data"
    }
   ],
   "source": [
    "from help.visualization.plot import svenn_intesect\n",
    "svenn_intesect([set(EG_kidney), set(EG_lung), set(cEG)], labels=['kidney', 'lung', 'common'], ylabel='EGs', figsize=(8,4))\n",
    "svenn_intesect([set(cs_EG_kidney), set(cs_EG_lung)], labels=['kidney', 'lung'], ylabel='csEGs', figsize=(8,4))"
   ]
  },
  {
   "cell_type": "markdown",
   "metadata": {},
   "source": [
    "##### Save csEG "
   ]
  },
  {
   "cell_type": "code",
   "execution_count": 16,
   "metadata": {
    "execution": {
     "iopub.execute_input": "2024-02-13T13:10:34.873660Z",
     "iopub.status.busy": "2024-02-13T13:10:34.873301Z",
     "iopub.status.idle": "2024-02-13T13:10:34.881598Z",
     "shell.execute_reply": "2024-02-13T13:10:34.879904Z",
     "shell.execute_reply.started": "2024-02-13T13:10:34.873632Z"
    },
    "id": "Y5cqD_c86CiQ"
   },
   "outputs": [],
   "source": [
    "with open(\"csEG_Kidney.txt\", 'w', encoding='utf-8') as f:\n",
    "    f.write('\\n'.join(list(cs_EG_kidney)))\n",
    "with open(\"csEG_Lung.txt\", 'w', encoding='utf-8') as f:\n",
    "    f.write('\\n'.join(list(cs_EG_lung)))"
   ]
  }
 ],
 "metadata": {
  "colab": {
   "provenance": []
  },
  "kaggle": {
   "accelerator": "none",
   "dataSources": [
    {
     "datasetId": 4375833,
     "sourceId": 7595933,
     "sourceType": "datasetVersion"
    }
   ],
   "isGpuEnabled": false,
   "isInternetEnabled": true,
   "language": "python",
   "sourceType": "notebook"
  },
  "kernelspec": {
   "display_name": "Python 3 (ipykernel)",
   "language": "python",
   "name": "python3"
  },
  "language_info": {
   "codemirror_mode": {
    "name": "ipython",
    "version": 3
   },
   "file_extension": ".py",
   "mimetype": "text/x-python",
   "name": "python",
   "nbconvert_exporter": "python",
   "pygments_lexer": "ipython3",
   "version": "3.8.3"
  }
 },
 "nbformat": 4,
 "nbformat_minor": 4
}
