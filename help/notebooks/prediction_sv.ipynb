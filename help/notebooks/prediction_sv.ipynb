{
  "cells": [
    {
      "cell_type": "markdown",
      "metadata": {
        "id": "lavaILXgTTl0"
      },
      "source": [
        "<a target=\"_blank\" href=\"https://colab.research.google.com/github/giordamaug/HELP/blob/main/help/notebooks/prediction.ipynb\">\n",
        "  <img src=\"https://colab.research.google.com/assets/colab-badge.svg\" alt=\"Open In Colab\"/>\n",
        "</a>\n",
        "<a target=\"_blank\" href=\"https://www.kaggle.com/notebooks/welcome?src=https://github.com/giordamaug/HELP/blob/main/help/notebooks/prediction.ipynb\">\n",
        "  <img src=\"https://kaggle.com/static/images/open-in-kaggle.svg\" alt=\"Open In Colab\"/>\n",
        "</a>"
      ]
    },
    {
      "cell_type": "markdown",
      "metadata": {
        "id": "joeFb6T-TTl3"
      },
      "source": [
        "# Install HELP from GitHub\n",
        "Skip this cell if you already have installed HELP."
      ]
    },
    {
      "cell_type": "code",
      "execution_count": null,
      "metadata": {
        "colab": {
          "base_uri": "https://localhost:8080/",
          "height": 1000
        },
        "id": "tuF0S73STTl4",
        "outputId": "e6d33ca9-a106-46fe-df06-3f8c3075441f"
      },
      "outputs": [],
      "source": [
        "!pip install git+https://github.com/giordamaug/HELP.git"
      ]
    },
    {
      "cell_type": "markdown",
      "metadata": {
        "id": "EFrBvM5ErPN4"
      },
      "source": [
        "# Download the input files\n",
        "In this cell we download from GitHub repository the label file and the attribute files. Skip this step if you already have these input files locally."
      ]
    },
    {
      "cell_type": "code",
      "execution_count": null,
      "metadata": {
        "colab": {
          "base_uri": "https://localhost:8080/"
        },
        "id": "1wbcOjf7TTl5",
        "outputId": "350746d3-7293-4f67-cc3a-7295acbfa022"
      },
      "outputs": [],
      "source": [
        "tissue='Kidney'\n",
        "!wget https://raw.githubusercontent.com/giordamaug/HELP/main/help/datafinal/{tissue}_HELP.csv\n",
        "!wget https://raw.githubusercontent.com/giordamaug/HELP/main/help/datafinal/{tissue}_BIO.csv\n",
        "for i in range(5):\n",
        "  !wget https://raw.githubusercontent.com/giordamaug/HELP/main/help/datafinal/{tissue}_CCcfs_{i}.csv\n",
        "!wget https://raw.githubusercontent.com/giordamaug/HELP/main/help/datafinal/{tissue}_EmbN2V_128.csv"
      ]
    },
    {
      "cell_type": "code",
      "execution_count": 3,
      "metadata": {},
      "outputs": [
        {
          "name": "stdout",
          "output_type": "stream",
          "text": [
            "/Users/maurizio/HELP/help/datafinal\n"
          ]
        }
      ],
      "source": [
        "%cd ../datafinal"
      ]
    },
    {
      "cell_type": "markdown",
      "metadata": {
        "id": "yqSGGzfNTTl6"
      },
      "source": [
        "# Process the tissue attributes\n",
        "In this code we load tissue gene attributes by several datafiles. We apply missing values fixing and data scaling with `sklearn.preprocessing.StandardScaler` on the `BIO` and `CCcfs` attributes, while no normalization and fixing on embedding attributes (`EmbN2V_128`). The attributes are all merged in one matrix by the `feature_assemble` function as input for the prediction model building."
      ]
    },
    {
      "cell_type": "code",
      "execution_count": 4,
      "metadata": {
        "colab": {
          "base_uri": "https://localhost:8080/",
          "height": 728
        },
        "execution": {
          "iopub.execute_input": "2024-02-13T11:09:02.545717Z",
          "iopub.status.busy": "2024-02-13T11:09:02.545238Z",
          "iopub.status.idle": "2024-02-13T11:09:16.557744Z",
          "shell.execute_reply": "2024-02-13T11:09:16.556982Z",
          "shell.execute_reply.started": "2024-02-13T11:09:02.545678Z"
        },
        "id": "toAayH83TTl7",
        "outputId": "25f23ce9-ac16-4ecc-95ee-8153c74656d2"
      },
      "outputs": [
        {
          "name": "stdout",
          "output_type": "stream",
          "text": [
            "label\n",
            "NE       16678\n",
            "E         1253\n",
            "Name: count, dtype: int64\n",
            "Majority NE 16678 minority E 1253\n",
            "[Kidney_BIO.csv] found 52532 Nan...\n",
            "[Kidney_BIO.csv] Normalization with std ...\n"
          ]
        },
        {
          "name": "stderr",
          "output_type": "stream",
          "text": [
            "Loading file in chunks: 100%|██████████| 5/5 [00:02<00:00,  1.97it/s]\n"
          ]
        },
        {
          "name": "stdout",
          "output_type": "stream",
          "text": [
            "[Kidney_CCcfs.csv] found 6676644 Nan...\n",
            "[Kidney_CCcfs.csv] Normalization with std ...\n",
            "[Kidney_EmbN2V_128.csv] found 0 Nan...\n",
            "[Kidney_EmbN2V_128.csv] No normalization...\n",
            "17236 labeled genes over a total of 17931\n",
            "(17236, 3456) data input\n"
          ]
        }
      ],
      "source": [
        "tissue='Kidney'\n",
        "import pandas as pd\n",
        "from help.preprocess.loaders import feature_assemble_df\n",
        "import os\n",
        "df_y = pd.read_csv(f\"{tissue}_HELP.csv\", index_col=0)\n",
        "df_y = df_y.replace({'aE': 'NE', 'sNE': 'NE'})\n",
        "print(df_y.value_counts(normalize=False))\n",
        "features = [{'fname': f'{tissue}_BIO.csv', 'fixna' : False, 'normalize': 'std'},\n",
        "            {'fname': f'{tissue}_CCcfs.csv', 'fixna' : False, 'normalize': 'std', 'nchunks' : 5},\n",
        "            {'fname': f'{tissue}_EmbN2V_128.csv', 'fixna' : False, 'normalize': None}]\n",
        "df_X, df_y = feature_assemble_df(df_y, features=features, saveflag=False, verbose=True)"
      ]
    },
    {
      "cell_type": "markdown",
      "metadata": {},
      "source": [
        "# Prediction with Soft Voting"
      ]
    },
    {
      "cell_type": "code",
      "execution_count": 6,
      "metadata": {},
      "outputs": [
        {
          "name": "stderr",
          "output_type": "stream",
          "text": [
            "/Users/maurizio/miniconda3/lib/python3.10/site-packages/numpy/core/fromnumeric.py:59: FutureWarning: 'DataFrame.swapaxes' is deprecated and will be removed in a future version. Please use 'DataFrame.transpose' instead.\n",
            "  return bound(*args, **kwds)\n"
          ]
        },
        {
          "name": "stdout",
          "output_type": "stream",
          "text": [
            "{'E': 0, 'NE': 1}\n",
            "label\n",
            "NE       1600\n",
            "E        1242\n",
            "Name: count, dtype: int64\n",
            "Classification with LGBM...\n"
          ]
        },
        {
          "name": "stderr",
          "output_type": "stream",
          "text": [
            "5-fold: 100%|██████████| 5/5 [00:14<00:00,  2.98s/it]\n"
          ]
        },
        {
          "name": "stdout",
          "output_type": "stream",
          "text": [
            "{'E': 0, 'NE': 1}\n",
            "label\n",
            "NE       1600\n",
            "E        1242\n",
            "Name: count, dtype: int64\n",
            "Classification with LGBM...\n"
          ]
        },
        {
          "name": "stderr",
          "output_type": "stream",
          "text": [
            "5-fold: 100%|██████████| 5/5 [00:16<00:00,  3.21s/it]\n"
          ]
        },
        {
          "name": "stdout",
          "output_type": "stream",
          "text": [
            "{'E': 0, 'NE': 1}\n",
            "label\n",
            "NE       1600\n",
            "E        1242\n",
            "Name: count, dtype: int64\n",
            "Classification with LGBM...\n"
          ]
        },
        {
          "name": "stderr",
          "output_type": "stream",
          "text": [
            "5-fold: 100%|██████████| 5/5 [00:15<00:00,  3.12s/it]\n"
          ]
        },
        {
          "name": "stdout",
          "output_type": "stream",
          "text": [
            "{'E': 0, 'NE': 1}\n",
            "label\n",
            "NE       1600\n",
            "E        1242\n",
            "Name: count, dtype: int64\n",
            "Classification with LGBM...\n"
          ]
        },
        {
          "name": "stderr",
          "output_type": "stream",
          "text": [
            "5-fold: 100%|██████████| 5/5 [00:15<00:00,  3.18s/it]\n"
          ]
        },
        {
          "name": "stdout",
          "output_type": "stream",
          "text": [
            "{'E': 0, 'NE': 1}\n",
            "label\n",
            "NE       1599\n",
            "E        1242\n",
            "Name: count, dtype: int64\n",
            "Classification with LGBM...\n"
          ]
        },
        {
          "name": "stderr",
          "output_type": "stream",
          "text": [
            "5-fold: 100%|██████████| 5/5 [00:14<00:00,  2.91s/it]\n"
          ]
        },
        {
          "name": "stdout",
          "output_type": "stream",
          "text": [
            "{'E': 0, 'NE': 1}\n",
            "label\n",
            "NE       1599\n",
            "E        1242\n",
            "Name: count, dtype: int64\n",
            "Classification with LGBM...\n"
          ]
        },
        {
          "name": "stderr",
          "output_type": "stream",
          "text": [
            "5-fold: 100%|██████████| 5/5 [00:14<00:00,  2.96s/it]\n"
          ]
        },
        {
          "name": "stdout",
          "output_type": "stream",
          "text": [
            "{'E': 0, 'NE': 1}\n",
            "label\n",
            "NE       1599\n",
            "E        1242\n",
            "Name: count, dtype: int64\n",
            "Classification with LGBM...\n"
          ]
        },
        {
          "name": "stderr",
          "output_type": "stream",
          "text": [
            "5-fold: 100%|██████████| 5/5 [00:15<00:00,  3.07s/it]\n"
          ]
        },
        {
          "name": "stdout",
          "output_type": "stream",
          "text": [
            "{'E': 0, 'NE': 1}\n",
            "label\n",
            "NE       1599\n",
            "E        1242\n",
            "Name: count, dtype: int64\n",
            "Classification with LGBM...\n"
          ]
        },
        {
          "name": "stderr",
          "output_type": "stream",
          "text": [
            "5-fold: 100%|██████████| 5/5 [00:15<00:00,  3.03s/it]\n"
          ]
        },
        {
          "name": "stdout",
          "output_type": "stream",
          "text": [
            "{'E': 0, 'NE': 1}\n",
            "label\n",
            "NE       1599\n",
            "E        1242\n",
            "Name: count, dtype: int64\n",
            "Classification with LGBM...\n"
          ]
        },
        {
          "name": "stderr",
          "output_type": "stream",
          "text": [
            "5-fold: 100%|██████████| 5/5 [00:13<00:00,  2.74s/it]\n"
          ]
        },
        {
          "name": "stdout",
          "output_type": "stream",
          "text": [
            "{'E': 0, 'NE': 1}\n",
            "label\n",
            "NE       1599\n",
            "E        1242\n",
            "Name: count, dtype: int64\n",
            "Classification with LGBM...\n"
          ]
        },
        {
          "name": "stderr",
          "output_type": "stream",
          "text": [
            "5-fold: 100%|██████████| 5/5 [00:13<00:00,  2.63s/it]\n"
          ]
        }
      ],
      "source": [
        "import numpy as np\n",
        "from help.models.prediction import predict_cv\n",
        "seed=42\n",
        "df_y_ne = df_y[df_y['label']=='NE']\n",
        "df_y_e = df_y[df_y['label']=='E']\n",
        "#df_y_ne = df_y_ne.sample(frac=1, random_state=seed)\n",
        "n_voters = 10\n",
        "splits = np.array_split(df_y_ne, n_voters) \n",
        "predictions_ne = pd.DataFrame()\n",
        "predictions_e = pd.DataFrame(index=df_y_e.index)\n",
        "d=np.empty((len(df_y_e.index),),object)\n",
        "d[...]=[list() for _ in range(len(df_y_e.index))]\n",
        "predictions_e['probabilities'] = d\n",
        "predictions_e['label'] = np.array([0 for idx in df_y_e.index])\n",
        "predictions_e['prediction'] = np.array([np.nan for idx in df_y_e.index])\n",
        "for df_index_ne in splits:\n",
        "    df_x = pd.concat([df_X.loc[df_index_ne.index], df_X.loc[df_y_e.index]])\n",
        "    df_yy = pd.concat([df_y.loc[df_index_ne.index], df_y_e])\n",
        "    _, _, preds = predict_cv(df_x, df_yy, n_splits=5, method='LGBM', balanced=True, verbose=True, seed=seed)\n",
        "    predictions_ne = pd.concat([predictions_ne, preds.loc[df_index_ne.index]])\n",
        "    r = np.empty((len(df_y_e.index),),object)\n",
        "    r[...]=[predictions_e.loc[idx]['probabilities'] + [preds.loc[idx]['probabilities']]  for idx in df_y_e.index]\n",
        "    predictions_e['probabilities'] = r\n",
        "predictions_e['prediction'] = predictions_e['probabilities'].map(lambda x: 0 if sum(x)/n_voters > 0.5 else 1)\n",
        "predictions_e['probabilities'] = predictions_e['probabilities'].map(lambda x: sum(x)/n_voters)\n",
        "predictions = pd.concat([predictions_ne, predictions_e])\n",
        "predictions.to_csv(f\"pred_Kidney_SV_{n_voters}.csv\", index=True)"
      ]
    },
    {
      "cell_type": "code",
      "execution_count": 113,
      "metadata": {},
      "outputs": [],
      "source": [
        "predictions_e.to_csv(\"pred_Kidney_SV.csv\", index=True)"
      ]
    }
  ],
  "metadata": {
    "colab": {
      "provenance": []
    },
    "kaggle": {
      "accelerator": "none",
      "dataSources": [
        {
          "datasetId": 4375833,
          "sourceId": 7595933,
          "sourceType": "datasetVersion"
        }
      ],
      "dockerImageVersionId": 30646,
      "isGpuEnabled": false,
      "isInternetEnabled": true,
      "language": "python",
      "sourceType": "notebook"
    },
    "kernelspec": {
      "display_name": "Python 3 (ipykernel)",
      "language": "python",
      "name": "python3"
    },
    "language_info": {
      "codemirror_mode": {
        "name": "ipython",
        "version": 3
      },
      "file_extension": ".py",
      "mimetype": "text/x-python",
      "name": "python",
      "nbconvert_exporter": "python",
      "pygments_lexer": "ipython3",
      "version": "3.10.13"
    }
  },
  "nbformat": 4,
  "nbformat_minor": 0
}
